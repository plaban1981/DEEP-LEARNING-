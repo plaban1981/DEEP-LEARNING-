{
  "nbformat": 4,
  "nbformat_minor": 0,
  "metadata": {
    "colab": {
      "name": "MNIST_Classification_using CNN.ipynb",
      "version": "0.3.2",
      "provenance": [],
      "include_colab_link": true
    },
    "kernelspec": {
      "name": "python3",
      "display_name": "Python 3"
    },
    "accelerator": "GPU"
  },
  "cells": [
    {
      "cell_type": "markdown",
      "metadata": {
        "id": "view-in-github",
        "colab_type": "text"
      },
      "source": [
        "<a href=\"https://colab.research.google.com/github/plaban1981/DEEP-LEARNING-/blob/master/MNIST_Classification_using_CNN.ipynb\" target=\"_parent\"><img src=\"https://colab.research.google.com/assets/colab-badge.svg\" alt=\"Open In Colab\"/></a>"
      ]
    },
    {
      "metadata": {
        "id": "khfq5cHDYRK4",
        "colab_type": "text"
      },
      "cell_type": "markdown",
      "source": [
        "**MNIST Classification**\n",
        " Introductory CNN Model: MNIST Digits\n",
        " In this example, we will download the MNIST handwritten digits and create a simple CNN network to predict the digit category (0-9)"
      ]
    },
    {
      "metadata": {
        "id": "Qk5TUiE6XwQF",
        "colab_type": "code",
        "colab": {}
      },
      "cell_type": "code",
      "source": [
        "import matplotlib.pyplot as plt\n",
        "import numpy as np\n",
        "import tensorflow as tf\n",
        "from tensorflow.contrib.learn.python.learn.datasets.mnist import read_data_sets\n",
        "from tensorflow.python.framework import ops\n",
        "ops.reset_default_graph()"
      ],
      "execution_count": 0,
      "outputs": []
    },
    {
      "metadata": {
        "id": "ktxxzJCBZqPY",
        "colab_type": "text"
      },
      "cell_type": "markdown",
      "source": [
        "*Start a graph Session*"
      ]
    },
    {
      "metadata": {
        "id": "_7r8m3hQZn_x",
        "colab_type": "code",
        "colab": {}
      },
      "cell_type": "code",
      "source": [
        "sess = tf.Session()"
      ],
      "execution_count": 0,
      "outputs": []
    },
    {
      "metadata": {
        "id": "l_KVLx7pZwC_",
        "colab_type": "text"
      },
      "cell_type": "markdown",
      "source": [
        "*Load Data*"
      ]
    },
    {
      "metadata": {
        "id": "nq3B9yKwZznI",
        "colab_type": "code",
        "outputId": "318e7874-1d54-43c4-a863-5b8a4cc9a46b",
        "colab": {
          "base_uri": "https://localhost:8080/",
          "height": 479
        }
      },
      "cell_type": "code",
      "source": [
        "data_dir = 'temp'\n",
        "mnist = read_data_sets(data_dir)"
      ],
      "execution_count": 0,
      "outputs": [
        {
          "output_type": "stream",
          "text": [
            "WARNING:tensorflow:From <ipython-input-4-75ddb4cc757c>:2: read_data_sets (from tensorflow.contrib.learn.python.learn.datasets.mnist) is deprecated and will be removed in a future version.\n",
            "Instructions for updating:\n",
            "Please use alternatives such as official/mnist/dataset.py from tensorflow/models.\n",
            "WARNING:tensorflow:From /usr/local/lib/python3.6/dist-packages/tensorflow/contrib/learn/python/learn/datasets/mnist.py:260: maybe_download (from tensorflow.contrib.learn.python.learn.datasets.base) is deprecated and will be removed in a future version.\n",
            "Instructions for updating:\n",
            "Please write your own downloading logic.\n",
            "WARNING:tensorflow:From /usr/local/lib/python3.6/dist-packages/tensorflow/contrib/learn/python/learn/datasets/base.py:252: _internal_retry.<locals>.wrap.<locals>.wrapped_fn (from tensorflow.contrib.learn.python.learn.datasets.base) is deprecated and will be removed in a future version.\n",
            "Instructions for updating:\n",
            "Please use urllib or similar directly.\n",
            "Successfully downloaded train-images-idx3-ubyte.gz 9912422 bytes.\n",
            "WARNING:tensorflow:From /usr/local/lib/python3.6/dist-packages/tensorflow/contrib/learn/python/learn/datasets/mnist.py:262: extract_images (from tensorflow.contrib.learn.python.learn.datasets.mnist) is deprecated and will be removed in a future version.\n",
            "Instructions for updating:\n",
            "Please use tf.data to implement this functionality.\n",
            "Extracting temp/train-images-idx3-ubyte.gz\n",
            "Successfully downloaded train-labels-idx1-ubyte.gz 28881 bytes.\n",
            "WARNING:tensorflow:From /usr/local/lib/python3.6/dist-packages/tensorflow/contrib/learn/python/learn/datasets/mnist.py:267: extract_labels (from tensorflow.contrib.learn.python.learn.datasets.mnist) is deprecated and will be removed in a future version.\n",
            "Instructions for updating:\n",
            "Please use tf.data to implement this functionality.\n",
            "Extracting temp/train-labels-idx1-ubyte.gz\n",
            "Successfully downloaded t10k-images-idx3-ubyte.gz 1648877 bytes.\n",
            "Extracting temp/t10k-images-idx3-ubyte.gz\n",
            "Successfully downloaded t10k-labels-idx1-ubyte.gz 4542 bytes.\n",
            "Extracting temp/t10k-labels-idx1-ubyte.gz\n",
            "WARNING:tensorflow:From /usr/local/lib/python3.6/dist-packages/tensorflow/contrib/learn/python/learn/datasets/mnist.py:290: DataSet.__init__ (from tensorflow.contrib.learn.python.learn.datasets.mnist) is deprecated and will be removed in a future version.\n",
            "Instructions for updating:\n",
            "Please use alternatives such as official/mnist/dataset.py from tensorflow/models.\n"
          ],
          "name": "stdout"
        }
      ]
    },
    {
      "metadata": {
        "id": "lKWtjU3ebdCI",
        "colab_type": "code",
        "outputId": "e68e068b-eed9-4f09-e95e-5b4dfbc10b10",
        "colab": {
          "base_uri": "https://localhost:8080/",
          "height": 34
        }
      },
      "cell_type": "code",
      "source": [
        "mnist.train.images.shape"
      ],
      "execution_count": 0,
      "outputs": [
        {
          "output_type": "execute_result",
          "data": {
            "text/plain": [
              "(55000, 784)"
            ]
          },
          "metadata": {
            "tags": []
          },
          "execution_count": 8
        }
      ]
    },
    {
      "metadata": {
        "id": "xMY4EuP4cVkp",
        "colab_type": "text"
      },
      "cell_type": "markdown",
      "source": [
        "*Convert images into 28x28 (they are downloaded as 1x784)*"
      ]
    },
    {
      "metadata": {
        "id": "nvRYhy4ma0ki",
        "colab_type": "code",
        "colab": {}
      },
      "cell_type": "code",
      "source": [
        "x_train = []\n",
        "for i in mnist.train.images:\n",
        "  x_train.append(np.array(i).reshape(28,28))\n",
        "x_test = []\n",
        "for i in mnist.test.images:\n",
        "  x_test.append(np.array(i).reshape(28,28))"
      ],
      "execution_count": 0,
      "outputs": []
    },
    {
      "metadata": {
        "id": "mCIvD941bhKB",
        "colab_type": "code",
        "outputId": "6cc9be2f-9378-4ac6-b236-53cc2145e621",
        "colab": {
          "base_uri": "https://localhost:8080/",
          "height": 34
        }
      },
      "cell_type": "code",
      "source": [
        "len(x_train),x_train[0].shape"
      ],
      "execution_count": 0,
      "outputs": [
        {
          "output_type": "execute_result",
          "data": {
            "text/plain": [
              "(55000, (28, 28))"
            ]
          },
          "metadata": {
            "tags": []
          },
          "execution_count": 16
        }
      ]
    },
    {
      "metadata": {
        "id": "_p8d1xg3btS5",
        "colab_type": "code",
        "outputId": "c6dbc61c-830c-4ec4-ddb9-e5be3c3b8e1a",
        "colab": {
          "base_uri": "https://localhost:8080/",
          "height": 34
        }
      },
      "cell_type": "code",
      "source": [
        "x_train = np.array(x_train)\n",
        "x_train.shape"
      ],
      "execution_count": 0,
      "outputs": [
        {
          "output_type": "execute_result",
          "data": {
            "text/plain": [
              "(55000, 28, 28)"
            ]
          },
          "metadata": {
            "tags": []
          },
          "execution_count": 17
        }
      ]
    },
    {
      "metadata": {
        "id": "ruOPM7UTcTDL",
        "colab_type": "code",
        "outputId": "d2e94771-ac0b-4a6e-843a-20cd39ed593a",
        "colab": {
          "base_uri": "https://localhost:8080/",
          "height": 34
        }
      },
      "cell_type": "code",
      "source": [
        "x_test = np.array(x_test)\n",
        "x_test.shape"
      ],
      "execution_count": 0,
      "outputs": [
        {
          "output_type": "execute_result",
          "data": {
            "text/plain": [
              "(10000, 28, 28)"
            ]
          },
          "metadata": {
            "tags": []
          },
          "execution_count": 18
        }
      ]
    },
    {
      "metadata": {
        "id": "628VmVsbayLY",
        "colab_type": "code",
        "colab": {}
      },
      "cell_type": "code",
      "source": [
        "# Convert images into 28x28 (they are downloaded as 1x784)\n",
        "train_xdata = np.array([np.reshape(x, (28,28)) for x in mnist.train.images])\n",
        "test_xdata = np.array([np.reshape(x, (28,28)) for x in mnist.test.images])"
      ],
      "execution_count": 0,
      "outputs": []
    },
    {
      "metadata": {
        "id": "8e19nztHb0rx",
        "colab_type": "code",
        "outputId": "0d1bbf7b-a2ee-4c81-b687-ac9bc5719478",
        "colab": {
          "base_uri": "https://localhost:8080/",
          "height": 34
        }
      },
      "cell_type": "code",
      "source": [
        "train_xdata.shape,test_xdata.shape"
      ],
      "execution_count": 0,
      "outputs": [
        {
          "output_type": "execute_result",
          "data": {
            "text/plain": [
              "((55000, 28, 28), (10000, 28, 28))"
            ]
          },
          "metadata": {
            "tags": []
          },
          "execution_count": 14
        }
      ]
    },
    {
      "metadata": {
        "id": "p1KvqpMscgWw",
        "colab_type": "text"
      },
      "cell_type": "markdown",
      "source": [
        "* Convert labels into one-hot encoded vectors*"
      ]
    },
    {
      "metadata": {
        "id": "iZWrVQN8cbux",
        "colab_type": "code",
        "colab": {}
      },
      "cell_type": "code",
      "source": [
        "\n",
        "train_labels = mnist.train.labels\n",
        "test_labels = mnist.test.labels"
      ],
      "execution_count": 0,
      "outputs": []
    },
    {
      "metadata": {
        "id": "VhE9YlGdckXx",
        "colab_type": "code",
        "outputId": "fdf02529-593d-4268-a62f-6a53233f1a49",
        "colab": {
          "base_uri": "https://localhost:8080/",
          "height": 34
        }
      },
      "cell_type": "code",
      "source": [
        "train_labels[0]"
      ],
      "execution_count": 0,
      "outputs": [
        {
          "output_type": "execute_result",
          "data": {
            "text/plain": [
              "7"
            ]
          },
          "metadata": {
            "tags": []
          },
          "execution_count": 20
        }
      ]
    },
    {
      "metadata": {
        "id": "Y6zPyiRlepMq",
        "colab_type": "text"
      },
      "cell_type": "markdown",
      "source": [
        "*Set Model Parameters*"
      ]
    },
    {
      "metadata": {
        "id": "UcCY3l3SeoCC",
        "colab_type": "code",
        "outputId": "3bc6e2ac-af15-4a08-f69d-509923608a55",
        "colab": {
          "base_uri": "https://localhost:8080/",
          "height": 34
        }
      },
      "cell_type": "code",
      "source": [
        "batch_size = 100\n",
        "#learning_rate = 0.005\n",
        "learning_rate = 0.001\n",
        "evaluation_size = 500\n",
        "image_width = train_xdata[0].shape[0]\n",
        "image_height = train_xdata[0].shape[1]\n",
        "target_size = max(train_labels) + 1\n",
        "print(image_width,target_size,target_size)\n",
        "num_channels = 1 # greyscale = 1 channel\n",
        "generations = 500\n",
        "eval_every = 5\n",
        "#\n",
        "conv1_features = 25 #number of neurons in conv layer 1\n",
        "conv2_features = 50  #number of neurons in conv layer 2\n",
        "conv3_features = 75  #number of neurons in conv layer 3\n",
        "#\n",
        "max_pool_size1 = 2 # NxN window for 1st max pool layer\n",
        "max_pool_size2 = 2 # NxN window for 2nd max pool layer\n",
        "max_pool_size3 = 2 # NxN window for 3rd max pool layer\n",
        "#\n",
        "fully_connected_size1 = 100"
      ],
      "execution_count": 0,
      "outputs": [
        {
          "output_type": "stream",
          "text": [
            "28 10 10\n"
          ],
          "name": "stdout"
        }
      ]
    },
    {
      "metadata": {
        "id": "uGYQy7VyfNBZ",
        "colab_type": "text"
      },
      "cell_type": "markdown",
      "source": [
        "*Declare model placeholders*"
      ]
    },
    {
      "metadata": {
        "id": "m9UwEhsBfMcy",
        "colab_type": "code",
        "colab": {}
      },
      "cell_type": "code",
      "source": [
        "x_input_shape = (batch_size, image_width, image_height, num_channels)\n",
        "#\n",
        "x_input = tf.placeholder(tf.float32, shape=x_input_shape)\n",
        "y_target = tf.placeholder(tf.int32, shape=(batch_size))\n",
        "#\n",
        "eval_input_shape = (evaluation_size, image_width, image_height, num_channels)\n",
        "#\n",
        "eval_input = tf.placeholder(tf.float32, shape=eval_input_shape)\n",
        "eval_target = tf.placeholder(tf.int32, shape=(evaluation_size))\n"
      ],
      "execution_count": 0,
      "outputs": []
    },
    {
      "metadata": {
        "id": "B6msB47VhzCL",
        "colab_type": "text"
      },
      "cell_type": "markdown",
      "source": [
        "*Declare Model Parameters*"
      ]
    },
    {
      "metadata": {
        "id": "dBj-01y2h3jb",
        "colab_type": "code",
        "colab": {}
      },
      "cell_type": "code",
      "source": [
        "conv1_weight = tf.Variable(tf.truncated_normal([4, 4, num_channels, conv1_features],stddev=0.1, dtype=tf.float32))\n",
        "conv1_bias = tf.Variable(tf.zeros([conv1_features], dtype=tf.float32))\n",
        "\n",
        "conv2_weight = tf.Variable(tf.truncated_normal([4, 4, conv1_features, conv2_features],stddev=0.1, dtype=tf.float32))\n",
        "conv2_bias = tf.Variable(tf.zeros([conv2_features], dtype=tf.float32))\n",
        "\n",
        "conv3_weight = tf.Variable(tf.truncated_normal([4, 4, conv2_features, conv3_features],stddev=0.1, dtype=tf.float32))\n",
        "conv3_bias = tf.Variable(tf.zeros([conv3_features], dtype=tf.float32))"
      ],
      "execution_count": 0,
      "outputs": []
    },
    {
      "metadata": {
        "id": "fQNzBALwiqI9",
        "colab_type": "text"
      },
      "cell_type": "markdown",
      "source": [
        "*fully connected variables*"
      ]
    },
    {
      "metadata": {
        "id": "Wzt-O_cbivw8",
        "colab_type": "code",
        "colab": {}
      },
      "cell_type": "code",
      "source": [
        "resulting_width = image_width // (max_pool_size1 * max_pool_size2)\n",
        "resulting_height = image_height // (max_pool_size1 * max_pool_size2)\n",
        "#\n",
        "full1_input_size = resulting_width * resulting_height * conv2_features\n",
        "#\n",
        "full1_weight = tf.Variable(tf.truncated_normal([full1_input_size, fully_connected_size1],stddev=0.1, dtype=tf.float32))\n",
        "full1_bias = tf.Variable(tf.truncated_normal([fully_connected_size1], stddev=0.1, dtype=tf.float32))\n",
        "#\n",
        "full2_weight = tf.Variable(tf.truncated_normal([fully_connected_size1, target_size],stddev=0.1, dtype=tf.float32))\n",
        "full2_bias = tf.Variable(tf.truncated_normal([target_size], stddev=0.1, dtype=tf.float32))\n"
      ],
      "execution_count": 0,
      "outputs": []
    },
    {
      "metadata": {
        "id": "I6vugctBkdGO",
        "colab_type": "text"
      },
      "cell_type": "markdown",
      "source": [
        "*Initialize Model Operations*"
      ]
    },
    {
      "metadata": {
        "id": "5pdtLc3Dkea_",
        "colab_type": "code",
        "colab": {}
      },
      "cell_type": "code",
      "source": [
        "def my_conv_net(input_data):\n",
        "    # First Conv-ReLU-MaxPool Layer\n",
        "    conv1 = tf.nn.conv2d(input_data, conv1_weight, strides=[1, 1, 1, 1], padding='SAME')\n",
        "    relu1 = tf.nn.relu(tf.nn.bias_add(conv1, conv1_bias))\n",
        "    max_pool1 = tf.nn.max_pool(relu1, ksize=[1, max_pool_size1, max_pool_size1, 1],strides=[1, max_pool_size1, max_pool_size1, 1], padding='SAME')\n",
        "\n",
        "    # Second Conv-ReLU-MaxPool Layer\n",
        "    conv2 = tf.nn.conv2d(max_pool1, conv2_weight, strides=[1, 1, 1, 1], padding='SAME')\n",
        "    relu2 = tf.nn.relu(tf.nn.bias_add(conv2, conv2_bias))\n",
        "    max_pool2 = tf.nn.max_pool(relu2, ksize=[1, max_pool_size2, max_pool_size2, 1],strides=[1, max_pool_size2, max_pool_size2, 1], padding='SAME')\n",
        "    \n",
        "    \n",
        "    # Third Conv-ReLU-MaxPool Layer\n",
        "    conv3 = tf.nn.conv2d(max_pool2, conv3_weight, strides=[1, 1, 1, 1], padding='SAME')\n",
        "    relu3 = tf.nn.relu(tf.nn.bias_add(conv3, conv3_bias))\n",
        "    max_pool3 = tf.nn.max_pool(relu2, ksize=[1, max_pool_size3, max_pool_size3, 1],strides=[1, max_pool_size3, max_pool_size3, 1], padding='SAME')\n",
        "\n",
        "    # Transform Output into a 1xN layer for next fully connected layer\n",
        "    final_conv_shape = max_pool3.get_shape().as_list()\n",
        "    #             HEIGHT                 WIDTH                 CHANNEL\n",
        "    final_shape = final_conv_shape[1] * final_conv_shape[2] * final_conv_shape[3]\n",
        "    flat_output = tf.reshape(max_pool2, [final_conv_shape[0], final_shape])\n",
        "\n",
        "    # First Fully Connected Layer\n",
        "    fully_connected1 = tf.nn.relu(tf.add(tf.matmul(flat_output, full1_weight), full1_bias))\n",
        "\n",
        "    # Second Fully Connected Layer\n",
        "    final_model_output = tf.add(tf.matmul(fully_connected1, full2_weight), full2_bias)\n",
        "    \n",
        "    return(final_model_output)"
      ],
      "execution_count": 0,
      "outputs": []
    },
    {
      "metadata": {
        "id": "nsR0VlMxoaQe",
        "colab_type": "text"
      },
      "cell_type": "markdown",
      "source": [
        "*Instantiating the model*"
      ]
    },
    {
      "metadata": {
        "id": "POUPuZWuofrH",
        "colab_type": "code",
        "colab": {}
      },
      "cell_type": "code",
      "source": [
        "model_output = my_conv_net(x_input)\n",
        "test_model_output = my_conv_net(eval_input)"
      ],
      "execution_count": 0,
      "outputs": []
    },
    {
      "metadata": {
        "id": "lJ8eBrDdphyw",
        "colab_type": "text"
      },
      "cell_type": "markdown",
      "source": [
        "*Declare Loss Function (softmax cross entropy)*"
      ]
    },
    {
      "metadata": {
        "id": "RT_z9fsJpiwX",
        "colab_type": "code",
        "colab": {}
      },
      "cell_type": "code",
      "source": [
        "loss = tf.reduce_mean(tf.nn.sparse_softmax_cross_entropy_with_logits(logits = model_output,labels = y_target))"
      ],
      "execution_count": 0,
      "outputs": []
    },
    {
      "metadata": {
        "id": "ghTtD78fqfRw",
        "colab_type": "text"
      },
      "cell_type": "markdown",
      "source": [
        "*Optimizer Function*"
      ]
    },
    {
      "metadata": {
        "id": "57BhHX_Aqid0",
        "colab_type": "code",
        "colab": {}
      },
      "cell_type": "code",
      "source": [
        "# Create an optimizer\n",
        "my_optimizer = tf.train.MomentumOptimizer(learning_rate, 0.9)\n",
        "train_step = my_optimizer.minimize(loss)\n"
      ],
      "execution_count": 0,
      "outputs": []
    },
    {
      "metadata": {
        "id": "d5ZwTCh1qFwY",
        "colab_type": "text"
      },
      "cell_type": "markdown",
      "source": [
        "*Create Prediction Function*"
      ]
    },
    {
      "metadata": {
        "id": "fYX2V4wMqIQX",
        "colab_type": "code",
        "colab": {}
      },
      "cell_type": "code",
      "source": [
        "prediction = tf.nn.softmax(model_output)\n",
        "test_prediction = tf.nn.softmax(test_model_output)"
      ],
      "execution_count": 0,
      "outputs": []
    },
    {
      "metadata": {
        "id": "nY1qxLC3qPI2",
        "colab_type": "text"
      },
      "cell_type": "markdown",
      "source": [
        "*Create Accuracy Function*"
      ]
    },
    {
      "metadata": {
        "id": "KRaadq1FqSiH",
        "colab_type": "code",
        "colab": {}
      },
      "cell_type": "code",
      "source": [
        "def get_accuracy(logits, targets):\n",
        "    batch_predictions = np.argmax(logits, axis=1)\n",
        "    num_correct = np.sum(np.equal(batch_predictions, targets))\n",
        "    return(100. * num_correct/batch_predictions.shape[0])"
      ],
      "execution_count": 0,
      "outputs": []
    },
    {
      "metadata": {
        "id": "JlZjrBN9q2ax",
        "colab_type": "text"
      },
      "cell_type": "markdown",
      "source": [
        "*Initialize variables*"
      ]
    },
    {
      "metadata": {
        "id": "oItsVsb7q4nJ",
        "colab_type": "code",
        "colab": {}
      },
      "cell_type": "code",
      "source": [
        "init = tf.global_variables_initializer()\n",
        "sess.run(init)"
      ],
      "execution_count": 0,
      "outputs": []
    },
    {
      "metadata": {
        "id": "Cd7PJZetrAmj",
        "colab_type": "text"
      },
      "cell_type": "markdown",
      "source": [
        "*Train the model*"
      ]
    },
    {
      "metadata": {
        "id": "CV-HB86yrDUQ",
        "colab_type": "code",
        "outputId": "c7ebf01e-c8d8-4674-f80f-91f5e47f7000",
        "colab": {
          "base_uri": "https://localhost:8080/",
          "height": 1717
        }
      },
      "cell_type": "code",
      "source": [
        "train_loss = []\n",
        "train_acc = []\n",
        "test_acc = []\n",
        "for i in range(generations):\n",
        "    rand_index = np.random.choice(len(train_xdata), size=batch_size)\n",
        "    rand_x = train_xdata[rand_index]\n",
        "    rand_x = np.expand_dims(rand_x, 3)\n",
        "    rand_y = train_labels[rand_index]\n",
        "    train_dict = {x_input: rand_x, y_target: rand_y}\n",
        "    \n",
        "    sess.run(train_step, feed_dict=train_dict)\n",
        "    temp_train_loss, temp_train_preds = sess.run([loss, prediction], feed_dict=train_dict)\n",
        "    temp_train_acc = get_accuracy(temp_train_preds, rand_y)\n",
        "    \n",
        "    if (i+1) % eval_every == 0:\n",
        "        eval_index = np.random.choice(len(test_xdata), size=evaluation_size)\n",
        "        eval_x = test_xdata[eval_index]\n",
        "        eval_x = np.expand_dims(eval_x, 3)\n",
        "        eval_y = test_labels[eval_index]\n",
        "        test_dict = {eval_input: eval_x, eval_target: eval_y}\n",
        "        test_preds = sess.run(test_prediction, feed_dict=test_dict)\n",
        "        temp_test_acc = get_accuracy(test_preds, eval_y)\n",
        "        \n",
        "        # Record and print results\n",
        "        train_loss.append(temp_train_loss)\n",
        "        train_acc.append(temp_train_acc)\n",
        "        test_acc.append(temp_test_acc)\n",
        "        acc_and_loss = [(i+1), temp_train_loss, temp_train_acc, temp_test_acc]\n",
        "        acc_and_loss = [np.round(x,2) for x in acc_and_loss]\n",
        "        print('Generation # {}. Train Loss: {:.2f}. Train Acc (Test Acc): {:.2f} ({:.2f})'.format(*acc_and_loss))"
      ],
      "execution_count": 0,
      "outputs": [
        {
          "output_type": "stream",
          "text": [
            "Generation # 5. Train Loss: 2.38. Train Acc (Test Acc): 5.00 (10.40)\n",
            "Generation # 10. Train Loss: 2.35. Train Acc (Test Acc): 8.00 (8.60)\n",
            "Generation # 15. Train Loss: 2.25. Train Acc (Test Acc): 10.00 (7.40)\n",
            "Generation # 20. Train Loss: 2.25. Train Acc (Test Acc): 13.00 (12.40)\n",
            "Generation # 25. Train Loss: 2.22. Train Acc (Test Acc): 14.00 (16.40)\n",
            "Generation # 30. Train Loss: 2.22. Train Acc (Test Acc): 18.00 (23.40)\n",
            "Generation # 35. Train Loss: 2.16. Train Acc (Test Acc): 29.00 (30.00)\n",
            "Generation # 40. Train Loss: 2.20. Train Acc (Test Acc): 17.00 (26.20)\n",
            "Generation # 45. Train Loss: 2.12. Train Acc (Test Acc): 32.00 (27.80)\n",
            "Generation # 50. Train Loss: 2.13. Train Acc (Test Acc): 30.00 (35.80)\n",
            "Generation # 55. Train Loss: 2.10. Train Acc (Test Acc): 34.00 (38.60)\n",
            "Generation # 60. Train Loss: 2.05. Train Acc (Test Acc): 37.00 (42.40)\n",
            "Generation # 65. Train Loss: 2.00. Train Acc (Test Acc): 44.00 (45.40)\n",
            "Generation # 70. Train Loss: 1.99. Train Acc (Test Acc): 51.00 (51.40)\n",
            "Generation # 75. Train Loss: 1.99. Train Acc (Test Acc): 40.00 (48.80)\n",
            "Generation # 80. Train Loss: 1.88. Train Acc (Test Acc): 52.00 (54.40)\n",
            "Generation # 85. Train Loss: 1.85. Train Acc (Test Acc): 48.00 (53.40)\n",
            "Generation # 90. Train Loss: 1.68. Train Acc (Test Acc): 61.00 (54.20)\n",
            "Generation # 95. Train Loss: 1.71. Train Acc (Test Acc): 60.00 (58.20)\n",
            "Generation # 100. Train Loss: 1.61. Train Acc (Test Acc): 67.00 (60.20)\n",
            "Generation # 105. Train Loss: 1.54. Train Acc (Test Acc): 63.00 (66.80)\n",
            "Generation # 110. Train Loss: 1.53. Train Acc (Test Acc): 66.00 (63.00)\n",
            "Generation # 115. Train Loss: 1.40. Train Acc (Test Acc): 69.00 (68.80)\n",
            "Generation # 120. Train Loss: 1.31. Train Acc (Test Acc): 70.00 (68.80)\n",
            "Generation # 125. Train Loss: 1.29. Train Acc (Test Acc): 69.00 (72.80)\n",
            "Generation # 130. Train Loss: 1.21. Train Acc (Test Acc): 72.00 (75.00)\n",
            "Generation # 135. Train Loss: 1.20. Train Acc (Test Acc): 71.00 (75.80)\n",
            "Generation # 140. Train Loss: 1.15. Train Acc (Test Acc): 75.00 (73.20)\n",
            "Generation # 145. Train Loss: 1.03. Train Acc (Test Acc): 76.00 (76.80)\n",
            "Generation # 150. Train Loss: 1.09. Train Acc (Test Acc): 66.00 (78.60)\n",
            "Generation # 155. Train Loss: 0.87. Train Acc (Test Acc): 76.00 (79.80)\n",
            "Generation # 160. Train Loss: 0.88. Train Acc (Test Acc): 77.00 (76.80)\n",
            "Generation # 165. Train Loss: 0.85. Train Acc (Test Acc): 75.00 (77.60)\n",
            "Generation # 170. Train Loss: 0.77. Train Acc (Test Acc): 77.00 (78.40)\n",
            "Generation # 175. Train Loss: 0.73. Train Acc (Test Acc): 78.00 (80.00)\n",
            "Generation # 180. Train Loss: 0.75. Train Acc (Test Acc): 83.00 (82.00)\n",
            "Generation # 185. Train Loss: 0.63. Train Acc (Test Acc): 83.00 (82.80)\n",
            "Generation # 190. Train Loss: 0.68. Train Acc (Test Acc): 84.00 (80.40)\n",
            "Generation # 195. Train Loss: 0.59. Train Acc (Test Acc): 82.00 (81.00)\n",
            "Generation # 200. Train Loss: 0.73. Train Acc (Test Acc): 78.00 (82.20)\n",
            "Generation # 205. Train Loss: 0.54. Train Acc (Test Acc): 87.00 (84.20)\n",
            "Generation # 210. Train Loss: 0.48. Train Acc (Test Acc): 88.00 (85.80)\n",
            "Generation # 215. Train Loss: 0.60. Train Acc (Test Acc): 85.00 (82.60)\n",
            "Generation # 220. Train Loss: 0.58. Train Acc (Test Acc): 82.00 (83.60)\n",
            "Generation # 225. Train Loss: 0.46. Train Acc (Test Acc): 85.00 (82.00)\n",
            "Generation # 230. Train Loss: 0.57. Train Acc (Test Acc): 85.00 (87.20)\n",
            "Generation # 235. Train Loss: 0.39. Train Acc (Test Acc): 94.00 (87.80)\n",
            "Generation # 240. Train Loss: 0.39. Train Acc (Test Acc): 92.00 (85.00)\n",
            "Generation # 245. Train Loss: 0.48. Train Acc (Test Acc): 88.00 (87.20)\n",
            "Generation # 250. Train Loss: 0.49. Train Acc (Test Acc): 85.00 (87.00)\n",
            "Generation # 255. Train Loss: 0.45. Train Acc (Test Acc): 87.00 (89.00)\n",
            "Generation # 260. Train Loss: 0.59. Train Acc (Test Acc): 84.00 (87.80)\n",
            "Generation # 265. Train Loss: 0.42. Train Acc (Test Acc): 92.00 (88.40)\n",
            "Generation # 270. Train Loss: 0.40. Train Acc (Test Acc): 88.00 (89.20)\n",
            "Generation # 275. Train Loss: 0.44. Train Acc (Test Acc): 84.00 (85.40)\n",
            "Generation # 280. Train Loss: 0.52. Train Acc (Test Acc): 82.00 (87.20)\n",
            "Generation # 285. Train Loss: 0.36. Train Acc (Test Acc): 90.00 (89.60)\n",
            "Generation # 290. Train Loss: 0.58. Train Acc (Test Acc): 85.00 (90.60)\n",
            "Generation # 295. Train Loss: 0.41. Train Acc (Test Acc): 85.00 (89.00)\n",
            "Generation # 300. Train Loss: 0.29. Train Acc (Test Acc): 93.00 (87.60)\n",
            "Generation # 305. Train Loss: 0.54. Train Acc (Test Acc): 86.00 (88.80)\n",
            "Generation # 310. Train Loss: 0.29. Train Acc (Test Acc): 91.00 (91.60)\n",
            "Generation # 315. Train Loss: 0.26. Train Acc (Test Acc): 93.00 (90.20)\n",
            "Generation # 320. Train Loss: 0.38. Train Acc (Test Acc): 87.00 (89.00)\n",
            "Generation # 325. Train Loss: 0.33. Train Acc (Test Acc): 88.00 (90.20)\n",
            "Generation # 330. Train Loss: 0.37. Train Acc (Test Acc): 90.00 (89.80)\n",
            "Generation # 335. Train Loss: 0.29. Train Acc (Test Acc): 92.00 (91.40)\n",
            "Generation # 340. Train Loss: 0.25. Train Acc (Test Acc): 90.00 (92.20)\n",
            "Generation # 345. Train Loss: 0.42. Train Acc (Test Acc): 87.00 (87.80)\n",
            "Generation # 350. Train Loss: 0.34. Train Acc (Test Acc): 91.00 (89.40)\n",
            "Generation # 355. Train Loss: 0.38. Train Acc (Test Acc): 87.00 (89.80)\n",
            "Generation # 360. Train Loss: 0.27. Train Acc (Test Acc): 90.00 (91.00)\n",
            "Generation # 365. Train Loss: 0.44. Train Acc (Test Acc): 90.00 (91.40)\n",
            "Generation # 370. Train Loss: 0.27. Train Acc (Test Acc): 92.00 (91.20)\n",
            "Generation # 375. Train Loss: 0.39. Train Acc (Test Acc): 87.00 (88.60)\n",
            "Generation # 380. Train Loss: 0.33. Train Acc (Test Acc): 92.00 (92.00)\n",
            "Generation # 385. Train Loss: 0.53. Train Acc (Test Acc): 83.00 (90.60)\n",
            "Generation # 390. Train Loss: 0.24. Train Acc (Test Acc): 94.00 (92.80)\n",
            "Generation # 395. Train Loss: 0.44. Train Acc (Test Acc): 88.00 (92.00)\n",
            "Generation # 400. Train Loss: 0.34. Train Acc (Test Acc): 91.00 (92.00)\n",
            "Generation # 405. Train Loss: 0.29. Train Acc (Test Acc): 92.00 (89.80)\n",
            "Generation # 410. Train Loss: 0.35. Train Acc (Test Acc): 88.00 (91.00)\n",
            "Generation # 415. Train Loss: 0.33. Train Acc (Test Acc): 91.00 (91.40)\n",
            "Generation # 420. Train Loss: 0.25. Train Acc (Test Acc): 92.00 (92.00)\n",
            "Generation # 425. Train Loss: 0.38. Train Acc (Test Acc): 91.00 (91.60)\n",
            "Generation # 430. Train Loss: 0.29. Train Acc (Test Acc): 92.00 (91.60)\n",
            "Generation # 435. Train Loss: 0.26. Train Acc (Test Acc): 92.00 (91.60)\n",
            "Generation # 440. Train Loss: 0.29. Train Acc (Test Acc): 88.00 (90.40)\n",
            "Generation # 445. Train Loss: 0.28. Train Acc (Test Acc): 92.00 (89.80)\n",
            "Generation # 450. Train Loss: 0.37. Train Acc (Test Acc): 86.00 (91.60)\n",
            "Generation # 455. Train Loss: 0.47. Train Acc (Test Acc): 90.00 (92.20)\n",
            "Generation # 460. Train Loss: 0.40. Train Acc (Test Acc): 85.00 (90.80)\n",
            "Generation # 465. Train Loss: 0.26. Train Acc (Test Acc): 92.00 (90.80)\n",
            "Generation # 470. Train Loss: 0.27. Train Acc (Test Acc): 91.00 (91.60)\n",
            "Generation # 475. Train Loss: 0.34. Train Acc (Test Acc): 90.00 (92.00)\n",
            "Generation # 480. Train Loss: 0.24. Train Acc (Test Acc): 92.00 (92.60)\n",
            "Generation # 485. Train Loss: 0.25. Train Acc (Test Acc): 91.00 (91.20)\n",
            "Generation # 490. Train Loss: 0.45. Train Acc (Test Acc): 90.00 (92.40)\n",
            "Generation # 495. Train Loss: 0.23. Train Acc (Test Acc): 95.00 (93.00)\n",
            "Generation # 500. Train Loss: 0.21. Train Acc (Test Acc): 95.00 (91.40)\n"
          ],
          "name": "stdout"
        }
      ]
    },
    {
      "metadata": {
        "id": "2vsz69ENr2s-",
        "colab_type": "text"
      },
      "cell_type": "markdown",
      "source": [
        "**# Matlotlib code to plot the loss and accuracies**"
      ]
    },
    {
      "metadata": {
        "id": "GoDQljHsrsOK",
        "colab_type": "text"
      },
      "cell_type": "markdown",
      "source": [
        "Plot loss over time"
      ]
    },
    {
      "metadata": {
        "id": "GduXmxq5sDyK",
        "colab_type": "code",
        "colab": {}
      },
      "cell_type": "code",
      "source": [
        "eval_indices = range(0, generations, eval_every)"
      ],
      "execution_count": 0,
      "outputs": []
    },
    {
      "metadata": {
        "id": "mIX9HOgTr8jy",
        "colab_type": "code",
        "outputId": "0f8153f8-daf2-437d-edc2-a8fc9957bba6",
        "colab": {
          "base_uri": "https://localhost:8080/",
          "height": 295
        }
      },
      "cell_type": "code",
      "source": [
        "plt.plot(eval_indices, train_loss, 'k-')\n",
        "plt.title('Softmax Loss per Generation')\n",
        "plt.xlabel('Generation')\n",
        "plt.ylabel('Softmax Loss')\n",
        "plt.show()"
      ],
      "execution_count": 0,
      "outputs": [
        {
          "output_type": "display_data",
          "data": {
            "image/png": "[encoded data removed]",
            "text/plain": [
              "<Figure size 432x288 with 1 Axes>"
            ]
          },
          "metadata": {
            "tags": []
          }
        }
      ]
    },
    {
      "metadata": {
        "id": "VSUAN2aOsn9H",
        "colab_type": "text"
      },
      "cell_type": "markdown",
      "source": [
        "* Plot train and test accuracy*"
      ]
    },
    {
      "metadata": {
        "id": "QblcTMbvso1b",
        "colab_type": "code",
        "outputId": "2993ecc0-70d8-48a0-928e-44e1da93ac96",
        "colab": {
          "base_uri": "https://localhost:8080/",
          "height": 295
        }
      },
      "cell_type": "code",
      "source": [
        "plt.plot(eval_indices, train_acc, 'k-', label='Train Set Accuracy')\n",
        "plt.plot(eval_indices, test_acc, 'r--', label='Test Set Accuracy')\n",
        "plt.title('Train and Test Accuracy')\n",
        "plt.xlabel('Generation')\n",
        "plt.ylabel('Accuracy')\n",
        "plt.legend(loc='lower right')\n",
        "plt.show()"
      ],
      "execution_count": 0,
      "outputs": [
        {
          "output_type": "display_data",
          "data": {
            "image/png": "[encoded data removed]",
            "text/plain": [
              "<Figure size 432x288 with 1 Axes>"
            ]
          },
          "metadata": {
            "tags": []
          }
        }
      ]
    },
    {
      "metadata": {
        "id": "ba63q4E2tFJ1",
        "colab_type": "text"
      },
      "cell_type": "markdown",
      "source": [
        "*Plot some samples*"
      ]
    },
    {
      "metadata": {
        "id": "uPSedRsQtGPH",
        "colab_type": "code",
        "outputId": "98ee1f44-8f4c-4462-ffaf-56287626f604",
        "colab": {
          "base_uri": "https://localhost:8080/",
          "height": 262
        }
      },
      "cell_type": "code",
      "source": [
        "actuals = rand_y[0:6]\n",
        "predictions = np.argmax(temp_train_preds,axis=1)[0:6]\n",
        "images = np.squeeze(rand_x[0:6])\n",
        "\n",
        "Nrows = 2\n",
        "Ncols = 3\n",
        "for i in range(6):\n",
        "    plt.subplot(Nrows, Ncols, i+1)\n",
        "    plt.imshow(np.reshape(images[i], [28,28]), cmap='Greys_r')\n",
        "    plt.title('Actual: ' + str(actuals[i]) + ' Pred: ' + str(predictions[i]),\n",
        "                               fontsize=10)\n",
        "    frame = plt.gca()\n",
        "    frame.axes.get_xaxis().set_visible(False)\n",
        "    frame.axes.get_yaxis().set_visible(False)"
      ],
      "execution_count": 0,
      "outputs": [
        {
          "output_type": "display_data",
          "data": {
            "image/png": "[encoded data removed]",
            "text/plain": [
              "<Figure size 432x288 with 6 Axes>"
            ]
          },
          "metadata": {
            "tags": []
          }
        }
      ]
    },
    {
      "metadata": {
        "id": "fY-uiB7ctfWC",
        "colab_type": "text"
      },
      "cell_type": "markdown",
      "source": [
        "*Training and test accuracy for learning rate = 0.001*"
      ]
    },
    {
      "metadata": {
        "id": "v5TTFcmDuIvr",
        "colab_type": "code",
        "outputId": "52afcc9d-b886-4ac5-cff0-359ba692d5ae",
        "colab": {
          "base_uri": "https://localhost:8080/",
          "height": 295
        }
      },
      "cell_type": "code",
      "source": [
        "plt.plot(eval_indices, train_loss, 'k-')\n",
        "plt.title('Softmax Loss per Generation')\n",
        "plt.xlabel('Generation')\n",
        "plt.ylabel('Softmax Loss')\n",
        "plt.show()"
      ],
      "execution_count": 0,
      "outputs": [
        {
          "output_type": "display_data",
          "data": {
            "image/png": "[encoded data removed]",
            "text/plain": [
              "<Figure size 432x288 with 1 Axes>"
            ]
          },
          "metadata": {
            "tags": []
          }
        }
      ]
    },
    {
      "metadata": {
        "id": "Us4VVrdmtqQC",
        "colab_type": "code",
        "outputId": "c1f07f05-d319-4b79-a05e-ca29dd463221",
        "colab": {
          "base_uri": "https://localhost:8080/",
          "height": 295
        }
      },
      "cell_type": "code",
      "source": [
        "eval_indices = range(0, generations, eval_every)\n",
        "plt.plot(eval_indices, train_acc, 'k-', label='Train Set Accuracy')\n",
        "plt.plot(eval_indices, test_acc, 'r--', label='Test Set Accuracy')\n",
        "plt.title('Train and Test Accuracy')\n",
        "plt.xlabel('Generation')\n",
        "plt.ylabel('Accuracy')\n",
        "plt.legend(loc='lower right')\n",
        "plt.show()"
      ],
      "execution_count": 0,
      "outputs": [
        {
          "output_type": "display_data",
          "data": {
            "image/png": "[encoded data removed]",
            "text/plain": [
              "<Figure size 432x288 with 1 Axes>"
            ]
          },
          "metadata": {
            "tags": []
          }
        }
      ]
    },
    {
      "metadata": {
        "id": "NnUe06juuPnH",
        "colab_type": "text"
      },
      "cell_type": "markdown",
      "source": [
        "*Plot some sub samples for the predictions for leraning rate =0.001*"
      ]
    },
    {
      "metadata": {
        "id": "meD4Ul4AuZZF",
        "colab_type": "code",
        "outputId": "4e603aa4-c169-46ac-c9b2-4457b7a83b5e",
        "colab": {
          "base_uri": "https://localhost:8080/",
          "height": 262
        }
      },
      "cell_type": "code",
      "source": [
        "actuals = rand_y[0:6]\n",
        "predictions = np.argmax(temp_train_preds,axis=1)[0:6]\n",
        "images = np.squeeze(rand_x[0:6])\n",
        "\n",
        "Nrows = 2\n",
        "Ncols = 3\n",
        "for i in range(6):\n",
        "    plt.subplot(Nrows, Ncols, i+1)\n",
        "    plt.imshow(np.reshape(images[i], [28,28]), cmap='Greys_r')\n",
        "    plt.title('Actual: ' + str(actuals[i]) + ' Pred: ' + str(predictions[i]),\n",
        "                               fontsize=10)\n",
        "    frame = plt.gca()\n",
        "    frame.axes.get_xaxis().set_visible(False)\n",
        "    frame.axes.get_yaxis().set_visible(False)"
      ],
      "execution_count": 0,
      "outputs": [
        {
          "output_type": "display_data",
          "data": {
            "image/png": "[encoded data removed]",
            "text/plain": [
              "<Figure size 432x288 with 6 Axes>"
            ]
          },
          "metadata": {
            "tags": []
          }
        }
      ]
    }
  ]
}