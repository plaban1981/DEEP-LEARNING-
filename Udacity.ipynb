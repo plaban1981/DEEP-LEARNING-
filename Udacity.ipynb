{
  "nbformat": 4,
  "nbformat_minor": 0,
  "metadata": {
    "colab": {
      "name": "Udacity.ipynb",
      "version": "0.3.2",
      "provenance": [],
      "include_colab_link": true
    },
    "kernelspec": {
      "name": "python3",
      "display_name": "Python 3"
    },
    "accelerator": "GPU"
  },
  "cells": [
    {
      "cell_type": "markdown",
      "metadata": {
        "id": "view-in-github",
        "colab_type": "text"
      },
      "source": [
        "<a href=\"https://colab.research.google.com/github/plaban1981/DEEP-LEARNING-/blob/master/Udacity.ipynb\" target=\"_parent\"><img src=\"https://colab.research.google.com/assets/colab-badge.svg\" alt=\"Open In Colab\"/></a>"
      ]
    },
    {
      "metadata": {
        "id": "nya-0HQjaqff",
        "colab_type": "text"
      },
      "cell_type": "markdown",
      "source": [
        "**Converting Celsius to Fahrenheit**"
      ]
    },
    {
      "metadata": {
        "id": "rLLRe0muaLMN",
        "colab_type": "code",
        "colab": {}
      },
      "cell_type": "code",
      "source": [
        "import tensorflow as tf\n",
        "tf.logging.set_verbosity(tf.logging.ERROR)\n",
        "import numpy as np"
      ],
      "execution_count": 0,
      "outputs": []
    },
    {
      "metadata": {
        "id": "UNqVvKVAazwm",
        "colab_type": "text"
      },
      "cell_type": "markdown",
      "source": [
        "seting up training data"
      ]
    },
    {
      "metadata": {
        "id": "Yl8YyUkHawbV",
        "colab_type": "code",
        "colab": {}
      },
      "cell_type": "code",
      "source": [
        "celsius_q = np.array([-40,-10,0,18,15,22,38],dtype=float)\n",
        "fahrenheit_a = np.array([-40,14,32,46,59,72,100],dtype=float)"
      ],
      "execution_count": 0,
      "outputs": []
    },
    {
      "metadata": {
        "id": "NOybYKdBbeRQ",
        "colab_type": "code",
        "colab": {
          "base_uri": "https://localhost:8080/",
          "height": 136
        },
        "outputId": "be3bc63a-beeb-42a6-8eb1-01cc708ec7dd"
      },
      "cell_type": "code",
      "source": [
        "for i, j in enumerate(celsius_q):\n",
        "  print(\"{} degree celsius = {} degree fahrenheit\".format(j,fahrenheit_a[i]))"
      ],
      "execution_count": 5,
      "outputs": [
        {
          "output_type": "stream",
          "text": [
            "-40.0 degree celsius = -40.0 degree fahrenheit\n",
            "-10.0 degree celsius = 14.0 degree fahrenheit\n",
            "0.0 degree celsius = 32.0 degree fahrenheit\n",
            "18.0 degree celsius = 46.0 degree fahrenheit\n",
            "15.0 degree celsius = 59.0 degree fahrenheit\n",
            "22.0 degree celsius = 72.0 degree fahrenheit\n",
            "38.0 degree celsius = 100.0 degree fahrenheit\n"
          ],
          "name": "stdout"
        }
      ]
    },
    {
      "metadata": {
        "id": "lQtu57G3c6CI",
        "colab_type": "text"
      },
      "cell_type": "markdown",
      "source": [
        "**Build The Model**"
      ]
    },
    {
      "metadata": {
        "id": "e8EPyQy4cGBu",
        "colab_type": "code",
        "colab": {}
      },
      "cell_type": "code",
      "source": [
        "model = tf.keras.Sequential([tf.keras.layers.Dense(units=1,input_shape=[1])])"
      ],
      "execution_count": 0,
      "outputs": []
    },
    {
      "metadata": {
        "id": "hD8vD4vGc8oo",
        "colab_type": "text"
      },
      "cell_type": "markdown",
      "source": [
        "**Compile the Model**"
      ]
    },
    {
      "metadata": {
        "id": "VKxIwS6Rcn5Y",
        "colab_type": "code",
        "colab": {}
      },
      "cell_type": "code",
      "source": [
        "model.compile(loss='mean_squared_error',optimizer=tf.keras.optimizers.Adam(0.1))"
      ],
      "execution_count": 0,
      "outputs": []
    },
    {
      "metadata": {
        "id": "KFPe1y8Nc_XR",
        "colab_type": "text"
      },
      "cell_type": "markdown",
      "source": [
        "**Train the model**"
      ]
    },
    {
      "metadata": {
        "id": "w5nLhMO0dBmA",
        "colab_type": "code",
        "colab": {}
      },
      "cell_type": "code",
      "source": [
        "history = model.fit(celsius_q,fahrenheit_a,epochs=500,verbose=False)"
      ],
      "execution_count": 0,
      "outputs": []
    },
    {
      "metadata": {
        "id": "FxeaW_WmdYp-",
        "colab_type": "text"
      },
      "cell_type": "markdown",
      "source": [
        "**Display Training Statistsics**"
      ]
    },
    {
      "metadata": {
        "id": "nwui3Zgndwn2",
        "colab_type": "code",
        "colab": {
          "base_uri": "https://localhost:8080/",
          "height": 300
        },
        "outputId": "98d52826-347a-4a03-ed90-db808cd097ba"
      },
      "cell_type": "code",
      "source": [
        "import matplotlib.pyplot as plt\n",
        "%matplotlib inline\n",
        "plt.xlabel('Epoch Number')\n",
        "plt.ylabel('Loss Magnitude')\n",
        "plt.plot(history.history['loss'])"
      ],
      "execution_count": 16,
      "outputs": [
        {
          "output_type": "execute_result",
          "data": {
            "text/plain": [
              "[<matplotlib.lines.Line2D at 0x7fe352508e48>]"
            ]
          },
          "metadata": {
            "tags": []
          },
          "execution_count": 16
        },
        {
          "output_type": "display_data",
          "data": {
            "image/png": "[encoded data removed]",
            "text/plain": [
              "<Figure size 432x288 with 1 Axes>"
            ]
          },
          "metadata": {
            "tags": []
          }
        }
      ]
    },
    {
      "metadata": {
        "id": "kNcuMdlwhvtv",
        "colab_type": "text"
      },
      "cell_type": "markdown",
      "source": [
        "**Use the model to predict value**"
      ]
    },
    {
      "metadata": {
        "id": "xpRlKb8qh0YX",
        "colab_type": "code",
        "colab": {
          "base_uri": "https://localhost:8080/",
          "height": 34
        },
        "outputId": "088739a9-ce6a-4dca-848a-1add596068bc"
      },
      "cell_type": "code",
      "source": [
        "model.predict([100.0])"
      ],
      "execution_count": 18,
      "outputs": [
        {
          "output_type": "execute_result",
          "data": {
            "text/plain": [
              "array([[204.00664]], dtype=float32)"
            ]
          },
          "metadata": {
            "tags": []
          },
          "execution_count": 18
        }
      ]
    },
    {
      "metadata": {
        "id": "X-HWelqfjvyo",
        "colab_type": "text"
      },
      "cell_type": "markdown",
      "source": [
        "**Model Final Weights**"
      ]
    },
    {
      "metadata": {
        "id": "zfe4vBQ3jfdX",
        "colab_type": "code",
        "colab": {
          "base_uri": "https://localhost:8080/",
          "height": 34
        },
        "outputId": "d5fcdfa8-3358-46bb-fba0-8f3ef0918918"
      },
      "cell_type": "code",
      "source": [
        "model.get_weights()"
      ],
      "execution_count": 19,
      "outputs": [
        {
          "output_type": "execute_result",
          "data": {
            "text/plain": [
              "[array([[1.7501005]], dtype=float32), array([28.996578], dtype=float32)]"
            ]
          },
          "metadata": {
            "tags": []
          },
          "execution_count": 19
        }
      ]
    },
    {
      "metadata": {
        "id": "nFcGEc51kRzR",
        "colab_type": "text"
      },
      "cell_type": "markdown",
      "source": [
        "\n",
        "\n",
        "Layer: A collection of nodes connected together within a neural network.\n",
        "\n",
        "Model: The representation of your neural network\n",
        "\n",
        "Dense and Fully Connected (FC): Each node in one layer is connected to each node in the previous layer.\n",
        "\n",
        "Weights and biases: The internal variables of model\n",
        "\n",
        "Loss: The discrepancy between the desired output and the actual output\n",
        "\n",
        "MSE: Mean squared error, a type of loss function that counts a small number of large discrepancies as worse than a large number of small ones.\n",
        "\n",
        "Gradient Descent: An algorithm that changes the internal variables a bit at a time to gradually reduce the loss function.\n",
        "\n",
        "Optimizer: A specific implementation of the gradient descent algorithm. (There are many algorithms for this. In this course we will only use the “Adam” Optimizer, which stands for ADAptive with Momentum. It is considered the best-practice optimizer.)\n",
        "\n",
        "Learning rate: The “step size” for loss improvement during gradient descent.\n",
        "\n",
        "Batch: The set of examples used during training of the neural network\n",
        "\n",
        "Epoch: A full pass over the entire training dataset\n",
        "\n",
        "Forward pass: The computation of output values from input\n",
        "\n",
        "Backward pass (backpropagation): The calculation of internal variable adjustments according to the optimizer algorithm, starting from the output layer and working back through each layer to the input.\n",
        "\n"
      ]
    },
    {
      "metadata": {
        "id": "D6k1DY4IkwTS",
        "colab_type": "code",
        "colab": {}
      },
      "cell_type": "code",
      "source": [
        "l0 = tf.keras.layers.Dense(units=1,input_shape=[1])\n",
        "l1 = tf.keras.layers.Dense(units=1)\n",
        "l2 = tf.keras.layers.Dense(units=1)\n",
        "\n",
        "model = tf.keras.Sequential([l0,l1,l2])\n",
        "\n",
        "model.compile(loss='mean_squared_error',optimizer=tf.keras.optimizers.Adam(0.1))\n",
        "history = model.fit(celsius_q,fahrenheit_a,epochs=500,verbose=False)"
      ],
      "execution_count": 0,
      "outputs": []
    },
    {
      "metadata": {
        "id": "oJWQLjyBl8YD",
        "colab_type": "code",
        "colab": {
          "base_uri": "https://localhost:8080/",
          "height": 300
        },
        "outputId": "2a0ed986-a199-4fcb-ecfb-36f2a3ebcc8c"
      },
      "cell_type": "code",
      "source": [
        "import matplotlib.pyplot as plt\n",
        "%matplotlib inline\n",
        "plt.xlabel('Epoch Number')\n",
        "plt.ylabel('Loss Magnitude')\n",
        "plt.plot(history.history['loss'])"
      ],
      "execution_count": 21,
      "outputs": [
        {
          "output_type": "execute_result",
          "data": {
            "text/plain": [
              "[<matplotlib.lines.Line2D at 0x7fe351fac710>]"
            ]
          },
          "metadata": {
            "tags": []
          },
          "execution_count": 21
        },
        {
          "output_type": "display_data",
          "data": {
            "image/png": "[encoded data removed]",
            "text/plain": [
              "<Figure size 432x288 with 1 Axes>"
            ]
          },
          "metadata": {
            "tags": []
          }
        }
      ]
    },
    {
      "metadata": {
        "id": "jXEDE0MAmBdX",
        "colab_type": "code",
        "colab": {
          "base_uri": "https://localhost:8080/",
          "height": 34
        },
        "outputId": "f119cbb0-c0c8-47d2-897b-bbfb41ed8eb4"
      },
      "cell_type": "code",
      "source": [
        "model.predict([100.0])"
      ],
      "execution_count": 22,
      "outputs": [
        {
          "output_type": "execute_result",
          "data": {
            "text/plain": [
              "array([[203.98465]], dtype=float32)"
            ]
          },
          "metadata": {
            "tags": []
          },
          "execution_count": 22
        }
      ]
    },
    {
      "metadata": {
        "id": "vYGewqmImEXy",
        "colab_type": "code",
        "colab": {
          "base_uri": "https://localhost:8080/",
          "height": 34
        },
        "outputId": "b8490a0f-a92e-4911-ea9c-7aeeb50b1881"
      },
      "cell_type": "code",
      "source": [
        "l0.get_weights()"
      ],
      "execution_count": 24,
      "outputs": [
        {
          "output_type": "execute_result",
          "data": {
            "text/plain": [
              "[array([[-0.60471165]], dtype=float32), array([-5.501078], dtype=float32)]"
            ]
          },
          "metadata": {
            "tags": []
          },
          "execution_count": 24
        }
      ]
    },
    {
      "metadata": {
        "id": "zz2VCgvsmOl6",
        "colab_type": "code",
        "colab": {
          "base_uri": "https://localhost:8080/",
          "height": 34
        },
        "outputId": "f1ef6ade-2107-4306-d20c-9edb7879fa1c"
      },
      "cell_type": "code",
      "source": [
        "l1.get_weights()"
      ],
      "execution_count": 26,
      "outputs": [
        {
          "output_type": "execute_result",
          "data": {
            "text/plain": [
              "[array([[1.7976025]], dtype=float32), array([-5.504159], dtype=float32)]"
            ]
          },
          "metadata": {
            "tags": []
          },
          "execution_count": 26
        }
      ]
    },
    {
      "metadata": {
        "id": "eVY3nFPImTmo",
        "colab_type": "code",
        "colab": {
          "base_uri": "https://localhost:8080/",
          "height": 34
        },
        "outputId": "f192fa68-c0e4-44ed-ac9d-b8ef9f04e630"
      },
      "cell_type": "code",
      "source": [
        "l2.get_weights()"
      ],
      "execution_count": 27,
      "outputs": [
        {
          "output_type": "execute_result",
          "data": {
            "text/plain": [
              "[array([[-1.603088]], dtype=float32), array([5.0477977], dtype=float32)]"
            ]
          },
          "metadata": {
            "tags": []
          },
          "execution_count": 27
        }
      ]
    }
  ]
}