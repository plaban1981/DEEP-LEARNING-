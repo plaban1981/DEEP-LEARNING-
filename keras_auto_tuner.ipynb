{
  "nbformat": 4,
  "nbformat_minor": 0,
  "metadata": {
    "colab": {
      "name": "keras_auto_tuner.ipynb",
      "provenance": [],
      "private_outputs": true,
      "collapsed_sections": [],
      "authorship_tag": "ABX9TyMvHuqi6Mcn7fmOz2PGnKyt",
      "include_colab_link": true
    },
    "kernelspec": {
      "name": "python3",
      "display_name": "Python 3"
    },
    "accelerator": "GPU"
  },
  "cells": [
    {
      "cell_type": "markdown",
      "metadata": {
        "id": "view-in-github",
        "colab_type": "text"
      },
      "source": [
        "<a href=\"https://colab.research.google.com/github/plaban1981/DEEP-LEARNING-/blob/master/keras_auto_tuner.ipynb\" target=\"_parent\"><img src=\"https://colab.research.google.com/assets/colab-badge.svg\" alt=\"Open In Colab\"/></a>"
      ]
    },
    {
      "cell_type": "markdown",
      "metadata": {
        "id": "tCbbWP18q16w",
        "colab_type": "text"
      },
      "source": [
        "# Automatic hyperparameter tuning with Keras Tuner and Tensorflow 2.0 to boost accuracy on a computer vision problem."
      ]
    },
    {
      "cell_type": "markdown",
      "metadata": {
        "id": "nfuk2dHn_NWA",
        "colab_type": "text"
      },
      "source": [
        "https://www.sicara.ai/blog/hyperparameter-tuning-keras-tuner"
      ]
    },
    {
      "cell_type": "code",
      "metadata": {
        "id": "awNuvHBZt8O1",
        "colab_type": "code",
        "colab": {}
      },
      "source": [
        "pip install keras-tuner"
      ],
      "execution_count": 0,
      "outputs": []
    },
    {
      "cell_type": "markdown",
      "metadata": {
        "id": "nZxQI72XuZON",
        "colab_type": "text"
      },
      "source": [
        "# Import Libraries"
      ]
    },
    {
      "cell_type": "code",
      "metadata": {
        "id": "fbFkunVGuRrD",
        "colab_type": "code",
        "colab": {}
      },
      "source": [
        "import tensorflow as tf\n",
        "from tensorflow import keras\n",
        "from tensorflow.keras.datasets import fashion_mnist\n",
        "print(tf.__version__)"
      ],
      "execution_count": 0,
      "outputs": []
    },
    {
      "cell_type": "markdown",
      "metadata": {
        "id": "XwWBomLZ43wt",
        "colab_type": "text"
      },
      "source": [
        "# Load Data"
      ]
    },
    {
      "cell_type": "code",
      "metadata": {
        "id": "bUw924DeuWTP",
        "colab_type": "code",
        "colab": {}
      },
      "source": [
        "(train_images,train_labels),(test_images,test_labels) =fashion_mnist.load_data()"
      ],
      "execution_count": 0,
      "outputs": []
    },
    {
      "cell_type": "markdown",
      "metadata": {
        "id": "r4XmLU7l6fLs",
        "colab_type": "text"
      },
      "source": [
        "# Preprocess- Rescale pixels"
      ]
    },
    {
      "cell_type": "code",
      "metadata": {
        "id": "muHOs7_6utrl",
        "colab_type": "code",
        "colab": {}
      },
      "source": [
        "train_images = train_images /255.0\n",
        "test_images = test_images / 255.0"
      ],
      "execution_count": 0,
      "outputs": []
    },
    {
      "cell_type": "code",
      "metadata": {
        "id": "IuBZ0jxN0mG-",
        "colab_type": "code",
        "colab": {}
      },
      "source": [
        "train_images.shape"
      ],
      "execution_count": 0,
      "outputs": []
    },
    {
      "cell_type": "markdown",
      "metadata": {
        "id": "xb79ZT0p8Pi7",
        "colab_type": "text"
      },
      "source": [
        "# Reshape images"
      ]
    },
    {
      "cell_type": "code",
      "metadata": {
        "id": "U7SKeG566yz1",
        "colab_type": "code",
        "colab": {}
      },
      "source": [
        "train_images=train_images.reshape(len(train_images),28,28,1)\n",
        "test_images=test_images.reshape(len(test_images),28,28,1)"
      ],
      "execution_count": 0,
      "outputs": []
    },
    {
      "cell_type": "code",
      "metadata": {
        "id": "-jgmJL1C8Y6O",
        "colab_type": "code",
        "colab": {}
      },
      "source": [
        "train_images.shape"
      ],
      "execution_count": 0,
      "outputs": []
    },
    {
      "cell_type": "code",
      "metadata": {
        "id": "-zgfvaY-87Hi",
        "colab_type": "code",
        "colab": {}
      },
      "source": [
        "train_images[0].shape"
      ],
      "execution_count": 0,
      "outputs": []
    },
    {
      "cell_type": "markdown",
      "metadata": {
        "id": "NPlu31Q99hlW",
        "colab_type": "text"
      },
      "source": [
        "# Build Model - Hyperparameters"
      ]
    },
    {
      "cell_type": "code",
      "metadata": {
        "id": "iKHlaUyw8ZY-",
        "colab_type": "code",
        "colab": {}
      },
      "source": [
        "def build_model(hp):  \n",
        "  model = keras.Sequential([\n",
        "    keras.layers.Conv2D(\n",
        "        filters=hp.Int('conv_1_filter', min_value=32, max_value=128, step=16),\n",
        "        kernel_size=hp.Choice('conv_1_kernel', values = [3,5]),\n",
        "        activation='relu',\n",
        "        input_shape=(28,28,1)\n",
        "    ),\n",
        "    keras.layers.Conv2D(\n",
        "        filters=hp.Int('conv_2_filter', min_value=32, max_value=64, step=16),\n",
        "        kernel_size=hp.Choice('conv_2_kernel', values = [3,5]),\n",
        "        activation='relu'\n",
        "    ),\n",
        "    keras.layers.Flatten(),\n",
        "    keras.layers.Dense(\n",
        "        units=hp.Int('dense_1_units', min_value=32, max_value=128, step=16),\n",
        "        activation='relu'\n",
        "    ),\n",
        "    keras.layers.Dense(10, activation='softmax')\n",
        "  ])\n",
        "  model.compile(optimizer=keras.optimizers.Adam(hp.Choice('learning_rate', values=[1e-2, 1e-3])),\n",
        "              loss='sparse_categorical_crossentropy',\n",
        "              metrics=['accuracy'])\n",
        "  \n",
        "  return model"
      ],
      "execution_count": 0,
      "outputs": []
    },
    {
      "cell_type": "markdown",
      "metadata": {
        "id": "LO0LHf3V9v8A",
        "colab_type": "text"
      },
      "source": [
        "# Random Search to find best hyperparameters"
      ]
    },
    {
      "cell_type": "code",
      "metadata": {
        "id": "jyrMoTIq9qf_",
        "colab_type": "code",
        "colab": {}
      },
      "source": [
        "from kerastuner import RandomSearch\n",
        "from kerastuner.engine.hyperparameters import HyperParameters\n",
        "tuner_search=RandomSearch(build_model,\n",
        "                          objective='val_accuracy',\n",
        "                          max_trials=5,directory='output',project_name=\"Mnist Fashion\")"
      ],
      "execution_count": 0,
      "outputs": []
    },
    {
      "cell_type": "markdown",
      "metadata": {
        "id": "vGZS4IOmACC5",
        "colab_type": "text"
      },
      "source": [
        "# Hyperparameter tuning"
      ]
    },
    {
      "cell_type": "code",
      "metadata": {
        "id": "kqF2bskr_lI5",
        "colab_type": "code",
        "colab": {}
      },
      "source": [
        "tuner_search.search(train_images,train_labels,epochs=10,validation_split=0.1)"
      ],
      "execution_count": 0,
      "outputs": []
    },
    {
      "cell_type": "markdown",
      "metadata": {
        "id": "nRMxRD11C_pa",
        "colab_type": "text"
      },
      "source": [
        "# Best Hyperparameter evaluated"
      ]
    },
    {
      "cell_type": "code",
      "metadata": {
        "id": "_nv6l06bAFsA",
        "colab_type": "code",
        "colab": {}
      },
      "source": [
        "model=tuner_search.get_best_models(num_models=1)[0]\n",
        "model.summary()"
      ],
      "execution_count": 0,
      "outputs": []
    },
    {
      "cell_type": "markdown",
      "metadata": {
        "id": "ba7J9Jnx0ZdO",
        "colab_type": "text"
      },
      "source": [
        "# Retraining images considering the best model hyperparameters"
      ]
    },
    {
      "cell_type": "code",
      "metadata": {
        "id": "UcSbpcfsBXPZ",
        "colab_type": "code",
        "colab": {}
      },
      "source": [
        "history = model.fit(train_images, train_labels, epochs=10, validation_split=0.1, initial_epoch=3)"
      ],
      "execution_count": 0,
      "outputs": []
    },
    {
      "cell_type": "markdown",
      "metadata": {
        "id": "rVY3vwvRCORp",
        "colab_type": "text"
      },
      "source": [
        "# Make Predictions"
      ]
    },
    {
      "cell_type": "code",
      "metadata": {
        "id": "sw0XWHse5LXx",
        "colab_type": "code",
        "colab": {}
      },
      "source": [
        "predictions= model.predict(test_images)"
      ],
      "execution_count": 0,
      "outputs": []
    },
    {
      "cell_type": "markdown",
      "metadata": {
        "id": "KqE8jyNqDex1",
        "colab_type": "text"
      },
      "source": [
        "# Visualize the predictions"
      ]
    },
    {
      "cell_type": "code",
      "metadata": {
        "id": "_elt4fsgAsWA",
        "colab_type": "code",
        "colab": {}
      },
      "source": [
        "import matplotlib.pyplot as plt\n",
        "import numpy as np\n",
        "plt.imshow(test_images[0].reshape(28,28))\n",
        "print('actual label :',test_labels[0])\n",
        "print('predicted label :',np.argmax(predictions[0]))"
      ],
      "execution_count": 0,
      "outputs": []
    },
    {
      "cell_type": "code",
      "metadata": {
        "id": "k90Hq78gA2ZH",
        "colab_type": "code",
        "colab": {}
      },
      "source": [
        "plt.imshow(test_images[10].reshape(28,28))\n",
        "print('actual label :',test_labels[10])\n",
        "print('predicted label :',np.argmax(predictions[10]))"
      ],
      "execution_count": 0,
      "outputs": []
    }
  ]
}