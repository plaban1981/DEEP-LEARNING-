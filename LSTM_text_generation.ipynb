{
  "nbformat": 4,
  "nbformat_minor": 0,
  "metadata": {
    "colab": {
      "name": "LSTM_text_generation.ipynb",
      "version": "0.3.2",
      "provenance": [],
      "collapsed_sections": [],
      "include_colab_link": true
    },
    "kernelspec": {
      "name": "python3",
      "display_name": "Python 3"
    },
    "accelerator": "GPU"
  },
  "cells": [
    {
      "cell_type": "markdown",
      "metadata": {
        "id": "view-in-github",
        "colab_type": "text"
      },
      "source": [
        "<a href=\"https://colab.research.google.com/github/plaban1981/DEEP-LEARNING-/blob/master/LSTM_text_generation.ipynb\" target=\"_parent\"><img src=\"https://colab.research.google.com/assets/colab-badge.svg\" alt=\"Open In Colab\"/></a>"
      ]
    },
    {
      "metadata": {
        "id": "J0DGjeTnty8h",
        "colab_type": "text"
      },
      "cell_type": "markdown",
      "source": [
        "**How to create a generative model for text using LSTM recurrent neural networks in Python with Keras**"
      ]
    },
    {
      "metadata": {
        "id": "Y2Db3xxkwG2d",
        "colab_type": "text"
      },
      "cell_type": "markdown",
      "source": [
        "*Text Generation is a type of Language Modelling problem. *\n",
        "\n",
        "**Language Modelling** is the core problem for a number of of natural language processing tasks such as speech to text, conversational system, and text summarization.\n",
        "\n",
        "A trained language model learns the likelihood of occurrence of a word based on the previous sequence of words used in the text.\n",
        "\n",
        "\n",
        " Language models can be operated at character level, n-gram level, sentence level or even paragraph level.\n"
      ]
    },
    {
      "metadata": {
        "id": "fhtm4e79wr-9",
        "colab_type": "text"
      },
      "cell_type": "markdown",
      "source": [
        "**The objective of this model is to generate new text, given that some input text is present. **"
      ]
    },
    {
      "metadata": {
        "id": "ktBK1zRHwyZs",
        "colab_type": "text"
      },
      "cell_type": "markdown",
      "source": [
        "*Import Libraries*"
      ]
    },
    {
      "metadata": {
        "id": "4YIvGUaWtc46",
        "colab_type": "code",
        "colab": {}
      },
      "cell_type": "code",
      "source": [
        "from keras.preprocessing.sequence import pad_sequences\n",
        "from keras.layers import Embedding,LSTM,Dense,Dropout\n",
        "from keras.preprocessing.text import Tokenizer\n",
        "from keras.callbacks import EarlyStopping\n",
        "from keras.models import Sequential\n",
        "import keras.utils as ku\n",
        "import numpy as np"
      ],
      "execution_count": 0,
      "outputs": []
    },
    {
      "metadata": {
        "id": "kYOcrV8ayuSc",
        "colab_type": "text"
      },
      "cell_type": "markdown",
      "source": [
        "*Lets use a popular nursery rhyme — “Cat and Her Kittens” as our corpus. A corpus is defined as the collection of text documents.*"
      ]
    },
    {
      "metadata": {
        "id": "q9lOtpi7yvN-",
        "colab_type": "code",
        "colab": {
          "resources": {
            "http://localhost:8080/nbextensions/google.colab/files.js": {
              "data": "Ly8gQ29weXJpZ2h0IDIwMTcgR29vZ2xlIExMQwovLwovLyBMaWNlbnNlZCB1bmRlciB0aGUgQXBhY2hlIExpY2Vuc2UsIFZlcnNpb24gMi4wICh0aGUgIkxpY2Vuc2UiKTsKLy8geW91IG1heSBub3QgdXNlIHRoaXMgZmlsZSBleGNlcHQgaW4gY29tcGxpYW5jZSB3aXRoIHRoZSBMaWNlbnNlLgovLyBZb3UgbWF5IG9idGFpbiBhIGNvcHkgb2YgdGhlIExpY2Vuc2UgYXQKLy8KLy8gICAgICBodHRwOi8vd3d3LmFwYWNoZS5vcmcvbGljZW5zZXMvTElDRU5TRS0yLjAKLy8KLy8gVW5sZXNzIHJlcXVpcmVkIGJ5IGFwcGxpY2FibGUgbGF3IG9yIGFncmVlZCB0byBpbiB3cml0aW5nLCBzb2Z0d2FyZQovLyBkaXN0cmlidXRlZCB1bmRlciB0aGUgTGljZW5zZSBpcyBkaXN0cmlidXRlZCBvbiBhbiAiQVMgSVMiIEJBU0lTLAovLyBXSVRIT1VUIFdBUlJBTlRJRVMgT1IgQ09ORElUSU9OUyBPRiBBTlkgS0lORCwgZWl0aGVyIGV4cHJlc3Mgb3IgaW1wbGllZC4KLy8gU2VlIHRoZSBMaWNlbnNlIGZvciB0aGUgc3BlY2lmaWMgbGFuZ3VhZ2UgZ292ZXJuaW5nIHBlcm1pc3Npb25zIGFuZAovLyBsaW1pdGF0aW9ucyB1bmRlciB0aGUgTGljZW5zZS4KCi8qKgogKiBAZmlsZW92ZXJ2aWV3IEhlbHBlcnMgZm9yIGdvb2dsZS5jb2xhYiBQeXRob24gbW9kdWxlLgogKi8KKGZ1bmN0aW9uKHNjb3BlKSB7CmZ1bmN0aW9uIHNwYW4odGV4dCwgc3R5bGVBdHRyaWJ1dGVzID0ge30pIHsKICBjb25zdCBlbGVtZW50ID0gZG9jdW1lbnQuY3JlYXRlRWxlbWVudCgnc3BhbicpOwogIGVsZW1lbnQudGV4dENvbnRlbnQgPSB0ZXh0OwogIGZvciAoY29uc3Qga2V5IG9mIE9iamVjdC5rZXlzKHN0eWxlQXR0cmlidXRlcykpIHsKICAgIGVsZW1lbnQuc3R5bGVba2V5XSA9IHN0eWxlQXR0cmlidXRlc1trZXldOwogIH0KICByZXR1cm4gZWxlbWVudDsKfQoKLy8gTWF4IG51bWJlciBvZiBieXRlcyB3aGljaCB3aWxsIGJlIHVwbG9hZGVkIGF0IGEgdGltZS4KY29uc3QgTUFYX1BBWUxPQURfU0laRSA9IDEwMCAqIDEwMjQ7Ci8vIE1heCBhbW91bnQgb2YgdGltZSB0byBibG9jayB3YWl0aW5nIGZvciB0aGUgdXNlci4KY29uc3QgRklMRV9DSEFOR0VfVElNRU9VVF9NUyA9IDMwICogMTAwMDsKCmZ1bmN0aW9uIF91cGxvYWRGaWxlcyhpbnB1dElkLCBvdXRwdXRJZCkgewogIGNvbnN0IHN0ZXBzID0gdXBsb2FkRmlsZXNTdGVwKGlucHV0SWQsIG91dHB1dElkKTsKICBjb25zdCBvdXRwdXRFbGVtZW50ID0gZG9jdW1lbnQuZ2V0RWxlbWVudEJ5SWQob3V0cHV0SWQpOwogIC8vIENhY2hlIHN0ZXBzIG9uIHRoZSBvdXRwdXRFbGVtZW50IHRvIG1ha2UgaXQgYXZhaWxhYmxlIGZvciB0aGUgbmV4dCBjYWxsCiAgLy8gdG8gdXBsb2FkRmlsZXNDb250aW51ZSBmcm9tIFB5dGhvbi4KICBvdXRwdXRFbGVtZW50LnN0ZXBzID0gc3RlcHM7CgogIHJldHVybiBfdXBsb2FkRmlsZXNDb250aW51ZShvdXRwdXRJZCk7Cn0KCi8vIFRoaXMgaXMgcm91Z2hseSBhbiBhc3luYyBnZW5lcmF0b3IgKG5vdCBzdXBwb3J0ZWQgaW4gdGhlIGJyb3dzZXIgeWV0KSwKLy8gd2hlcmUgdGhlcmUgYXJlIG11bHRpcGxlIGFzeW5jaHJvbm91cyBzdGVwcyBhbmQgdGhlIFB5dGhvbiBzaWRlIGlzIGdvaW5nCi8vIHRvIHBvbGwgZm9yIGNvbXBsZXRpb24gb2YgZWFjaCBzdGVwLgovLyBUaGlzIHVzZXMgYSBQcm9taXNlIHRvIGJsb2NrIHRoZSBweXRob24gc2lkZSBvbiBjb21wbGV0aW9uIG9mIGVhY2ggc3RlcCwKLy8gdGhlbiBwYXNzZXMgdGhlIHJlc3VsdCBvZiB0aGUgcHJldmlvdXMgc3RlcCBhcyB0aGUgaW5wdXQgdG8gdGhlIG5leHQgc3RlcC4KZnVuY3Rpb24gX3VwbG9hZEZpbGVzQ29udGludWUob3V0cHV0SWQpIHsKICBjb25zdCBvdXRwdXRFbGVtZW50ID0gZG9jdW1lbnQuZ2V0RWxlbWVudEJ5SWQob3V0cHV0SWQpOwogIGNvbnN0IHN0ZXBzID0gb3V0cHV0RWxlbWVudC5zdGVwczsKCiAgY29uc3QgbmV4dCA9IHN0ZXBzLm5leHQob3V0cHV0RWxlbWVudC5sYXN0UHJvbWlzZVZhbHVlKTsKICByZXR1cm4gUHJvbWlzZS5yZXNvbHZlKG5leHQudmFsdWUucHJvbWlzZSkudGhlbigodmFsdWUpID0+IHsKICAgIC8vIENhY2hlIHRoZSBsYXN0IHByb21pc2UgdmFsdWUgdG8gbWFrZSBpdCBhdmFpbGFibGUgdG8gdGhlIG5leHQKICAgIC8vIHN0ZXAgb2YgdGhlIGdlbmVyYXRvci4KICAgIG91dHB1dEVsZW1lbnQubGFzdFByb21pc2VWYWx1ZSA9IHZhbHVlOwogICAgcmV0dXJuIG5leHQudmFsdWUucmVzcG9uc2U7CiAgfSk7Cn0KCi8qKgogKiBHZW5lcmF0b3IgZnVuY3Rpb24gd2hpY2ggaXMgY2FsbGVkIGJldHdlZW4gZWFjaCBhc3luYyBzdGVwIG9mIHRoZSB1cGxvYWQKICogcHJvY2Vzcy4KICogQHBhcmFtIHtzdHJpbmd9IGlucHV0SWQgRWxlbWVudCBJRCBvZiB0aGUgaW5wdXQgZmlsZSBwaWNrZXIgZWxlbWVudC4KICogQHBhcmFtIHtzdHJpbmd9IG91dHB1dElkIEVsZW1lbnQgSUQgb2YgdGhlIG91dHB1dCBkaXNwbGF5LgogKiBAcmV0dXJuIHshSXRlcmFibGU8IU9iamVjdD59IEl0ZXJhYmxlIG9mIG5leHQgc3RlcHMuCiAqLwpmdW5jdGlvbiogdXBsb2FkRmlsZXNTdGVwKGlucHV0SWQsIG91dHB1dElkKSB7CiAgY29uc3QgaW5wdXRFbGVtZW50ID0gZG9jdW1lbnQuZ2V0RWxlbWVudEJ5SWQoaW5wdXRJZCk7CiAgaW5wdXRFbGVtZW50LmRpc2FibGVkID0gZmFsc2U7CgogIGNvbnN0IG91dHB1dEVsZW1lbnQgPSBkb2N1bWVudC5nZXRFbGVtZW50QnlJZChvdXRwdXRJZCk7CiAgb3V0cHV0RWxlbWVudC5pbm5lckhUTUwgPSAnJzsKCiAgY29uc3QgcGlja2VkUHJvbWlzZSA9IG5ldyBQcm9taXNlKChyZXNvbHZlKSA9PiB7CiAgICBpbnB1dEVsZW1lbnQuYWRkRXZlbnRMaXN0ZW5lcignY2hhbmdlJywgKGUpID0+IHsKICAgICAgcmVzb2x2ZShlLnRhcmdldC5maWxlcyk7CiAgICB9KTsKICB9KTsKCiAgY29uc3QgY2FuY2VsID0gZG9jdW1lbnQuY3JlYXRlRWxlbWVudCgnYnV0dG9uJyk7CiAgaW5wdXRFbGVtZW50LnBhcmVudEVsZW1lbnQuYXBwZW5kQ2hpbGQoY2FuY2VsKTsKICBjYW5jZWwudGV4dENvbnRlbnQgPSAnQ2FuY2VsIHVwbG9hZCc7CiAgY29uc3QgY2FuY2VsUHJvbWlzZSA9IG5ldyBQcm9taXNlKChyZXNvbHZlKSA9PiB7CiAgICBjYW5jZWwub25jbGljayA9ICgpID0+IHsKICAgICAgcmVzb2x2ZShudWxsKTsKICAgIH07CiAgfSk7CgogIC8vIENhbmNlbCB1cGxvYWQgaWYgdXNlciBoYXNuJ3QgcGlja2VkIGFueXRoaW5nIGluIHRpbWVvdXQuCiAgY29uc3QgdGltZW91dFByb21pc2UgPSBuZXcgUHJvbWlzZSgocmVzb2x2ZSkgPT4gewogICAgc2V0VGltZW91dCgoKSA9PiB7CiAgICAgIHJlc29sdmUobnVsbCk7CiAgICB9LCBGSUxFX0NIQU5HRV9USU1FT1VUX01TKTsKICB9KTsKCiAgLy8gV2FpdCBmb3IgdGhlIHVzZXIgdG8gcGljayB0aGUgZmlsZXMuCiAgY29uc3QgZmlsZXMgPSB5aWVsZCB7CiAgICBwcm9taXNlOiBQcm9taXNlLnJhY2UoW3BpY2tlZFByb21pc2UsIHRpbWVvdXRQcm9taXNlLCBjYW5jZWxQcm9taXNlXSksCiAgICByZXNwb25zZTogewogICAgICBhY3Rpb246ICdzdGFydGluZycsCiAgICB9CiAgfTsKCiAgaWYgKCFmaWxlcykgewogICAgcmV0dXJuIHsKICAgICAgcmVzcG9uc2U6IHsKICAgICAgICBhY3Rpb246ICdjb21wbGV0ZScsCiAgICAgIH0KICAgIH07CiAgfQoKICBjYW5jZWwucmVtb3ZlKCk7CgogIC8vIERpc2FibGUgdGhlIGlucHV0IGVsZW1lbnQgc2luY2UgZnVydGhlciBwaWNrcyBhcmUgbm90IGFsbG93ZWQuCiAgaW5wdXRFbGVtZW50LmRpc2FibGVkID0gdHJ1ZTsKCiAgZm9yIChjb25zdCBmaWxlIG9mIGZpbGVzKSB7CiAgICBjb25zdCBsaSA9IGRvY3VtZW50LmNyZWF0ZUVsZW1lbnQoJ2xpJyk7CiAgICBsaS5hcHBlbmQoc3BhbihmaWxlLm5hbWUsIHtmb250V2VpZ2h0OiAnYm9sZCd9KSk7CiAgICBsaS5hcHBlbmQoc3BhbigKICAgICAgICBgKCR7ZmlsZS50eXBlIHx8ICduL2EnfSkgLSAke2ZpbGUuc2l6ZX0gYnl0ZXMsIGAgKwogICAgICAgIGBsYXN0IG1vZGlmaWVkOiAkewogICAgICAgICAgICBmaWxlLmxhc3RNb2RpZmllZERhdGUgPyBmaWxlLmxhc3RNb2RpZmllZERhdGUudG9Mb2NhbGVEYXRlU3RyaW5nKCkgOgogICAgICAgICAgICAgICAgICAgICAgICAgICAgICAgICAgICAnbi9hJ30gLSBgKSk7CiAgICBjb25zdCBwZXJjZW50ID0gc3BhbignMCUgZG9uZScpOwogICAgbGkuYXBwZW5kQ2hpbGQocGVyY2VudCk7CgogICAgb3V0cHV0RWxlbWVudC5hcHBlbmRDaGlsZChsaSk7CgogICAgY29uc3QgZmlsZURhdGFQcm9taXNlID0gbmV3IFByb21pc2UoKHJlc29sdmUpID0+IHsKICAgICAgY29uc3QgcmVhZGVyID0gbmV3IEZpbGVSZWFkZXIoKTsKICAgICAgcmVhZGVyLm9ubG9hZCA9IChlKSA9PiB7CiAgICAgICAgcmVzb2x2ZShlLnRhcmdldC5yZXN1bHQpOwogICAgICB9OwogICAgICByZWFkZXIucmVhZEFzQXJyYXlCdWZmZXIoZmlsZSk7CiAgICB9KTsKICAgIC8vIFdhaXQgZm9yIHRoZSBkYXRhIHRvIGJlIHJlYWR5LgogICAgbGV0IGZpbGVEYXRhID0geWllbGQgewogICAgICBwcm9taXNlOiBmaWxlRGF0YVByb21pc2UsCiAgICAgIHJlc3BvbnNlOiB7CiAgICAgICAgYWN0aW9uOiAnY29udGludWUnLAogICAgICB9CiAgICB9OwoKICAgIC8vIFVzZSBhIGNodW5rZWQgc2VuZGluZyB0byBhdm9pZCBtZXNzYWdlIHNpemUgbGltaXRzLiBTZWUgYi82MjExNTY2MC4KICAgIGxldCBwb3NpdGlvbiA9IDA7CiAgICB3aGlsZSAocG9zaXRpb24gPCBmaWxlRGF0YS5ieXRlTGVuZ3RoKSB7CiAgICAgIGNvbnN0IGxlbmd0aCA9IE1hdGgubWluKGZpbGVEYXRhLmJ5dGVMZW5ndGggLSBwb3NpdGlvbiwgTUFYX1BBWUxPQURfU0laRSk7CiAgICAgIGNvbnN0IGNodW5rID0gbmV3IFVpbnQ4QXJyYXkoZmlsZURhdGEsIHBvc2l0aW9uLCBsZW5ndGgpOwogICAgICBwb3NpdGlvbiArPSBsZW5ndGg7CgogICAgICBjb25zdCBiYXNlNjQgPSBidG9hKFN0cmluZy5mcm9tQ2hhckNvZGUuYXBwbHkobnVsbCwgY2h1bmspKTsKICAgICAgeWllbGQgewogICAgICAgIHJlc3BvbnNlOiB7CiAgICAgICAgICBhY3Rpb246ICdhcHBlbmQnLAogICAgICAgICAgZmlsZTogZmlsZS5uYW1lLAogICAgICAgICAgZGF0YTogYmFzZTY0LAogICAgICAgIH0sCiAgICAgIH07CiAgICAgIHBlcmNlbnQudGV4dENvbnRlbnQgPQogICAgICAgICAgYCR7TWF0aC5yb3VuZCgocG9zaXRpb24gLyBmaWxlRGF0YS5ieXRlTGVuZ3RoKSAqIDEwMCl9JSBkb25lYDsKICAgIH0KICB9CgogIC8vIEFsbCBkb25lLgogIHlpZWxkIHsKICAgIHJlc3BvbnNlOiB7CiAgICAgIGFjdGlvbjogJ2NvbXBsZXRlJywKICAgIH0KICB9Owp9CgpzY29wZS5nb29nbGUgPSBzY29wZS5nb29nbGUgfHwge307CnNjb3BlLmdvb2dsZS5jb2xhYiA9IHNjb3BlLmdvb2dsZS5jb2xhYiB8fCB7fTsKc2NvcGUuZ29vZ2xlLmNvbGFiLl9maWxlcyA9IHsKICBfdXBsb2FkRmlsZXMsCiAgX3VwbG9hZEZpbGVzQ29udGludWUsCn07Cn0pKHNlbGYpOwo=",
              "ok": true,
              "headers": [
                [
                  "content-type",
                  "application/javascript"
                ]
              ],
              "status": 200,
              "status_text": ""
            }
          },
          "base_uri": "https://localhost:8080/",
          "height": 111
        },
        "outputId": "9163c27b-6d1a-47fc-901d-23513a73a772"
      },
      "cell_type": "code",
      "source": [
        "from google.colab import files\n",
        "files.upload()"
      ],
      "execution_count": 11,
      "outputs": [
        {
          "output_type": "display_data",
          "data": {
            "text/html": [
              "\n",
              "     <input type=\"file\" id=\"files-6eb7fa60-f4c0-4196-b65a-38bedeaf7edf\" name=\"files[]\" multiple disabled />\n",
              "     <output id=\"result-6eb7fa60-f4c0-4196-b65a-38bedeaf7edf\">\n",
              "      Upload widget is only available when the cell has been executed in the\n",
              "      current browser session. Please rerun this cell to enable.\n",
              "      </output>\n",
              "      <script src=\"/nbextensions/google.colab/files.js\"></script> "
            ],
            "text/plain": [
              "<IPython.core.display.HTML object>"
            ]
          },
          "metadata": {
            "tags": []
          }
        },
        {
          "output_type": "stream",
          "text": [
            "Saving data.txt to data.txt\n"
          ],
          "name": "stdout"
        },
        {
          "output_type": "execute_result",
          "data": {
            "text/plain": [
              "{'data.txt': b'The cat and her kittens\\r\\nThey put on their mittens\\r\\nTo eat a christmas pie\\r\\nThe poor little kittens\\r\\nThey lost their mittens\\r\\nAnd then they began to cry.\\r\\n\\r\\nO mother dear, we sadly fear\\r\\nWe cannot go to-day,\\r\\nFor we have lost our mittens\\r\\nIf it be so, ye shall not go\\r\\nFor ye are naughty kittens'}"
            ]
          },
          "metadata": {
            "tags": []
          },
          "execution_count": 11
        }
      ]
    },
    {
      "metadata": {
        "id": "h4_yeBkXy9LU",
        "colab_type": "text"
      },
      "cell_type": "markdown",
      "source": [
        "There will be three main parts of the code: \n",
        "\n",
        "* dataset preparation, \n",
        "\n",
        "* model training, and \n",
        "\n",
        "* generating prediction. "
      ]
    },
    {
      "metadata": {
        "id": "Ly3JrEqWzKDt",
        "colab_type": "text"
      },
      "cell_type": "markdown",
      "source": [
        "**dataset preparation step:**\n",
        "\n",
        "1. Tokenization -  Tokenization is a process of extracting tokens (terms / words) from a corpus.\n",
        "\n",
        "2.  Convert the corpus into a flat dataset of sentence sequences.\n",
        "\n",
        "3. As  different sequences have different lengths, so we need to pad  the sequences and make their lengths equal using pad_sequence function of Kears.\n",
        "\n",
        "4. To input this data into a learning model, we need to create predictors and label."
      ]
    },
    {
      "metadata": {
        "id": "aj6_S_wW17Fl",
        "colab_type": "text"
      },
      "cell_type": "markdown",
      "source": [
        "We will create N-grams sequence as predictors and the next word of the N-gram as label. For example:\n",
        "\n",
        "\"\"\"\n",
        "\n",
        "Sentence: \"they are learning data science\"\n",
        "\n",
        "PREDICTORS                | LABEL\n",
        "\n",
        "they                                | are\n",
        "\n",
        "they are                         | learning\n",
        "\n",
        "they are learning          | data\n",
        "\n",
        "they are learning data | science\n",
        "\n",
        "\n",
        "\"\"\""
      ]
    },
    {
      "metadata": {
        "id": "ntdpqM5g6JRe",
        "colab_type": "code",
        "colab": {}
      },
      "cell_type": "code",
      "source": [
        "data = open('data.txt').read()"
      ],
      "execution_count": 0,
      "outputs": []
    },
    {
      "metadata": {
        "id": "JCbcqEvC6YVE",
        "colab_type": "code",
        "colab": {
          "base_uri": "https://localhost:8080/",
          "height": 54
        },
        "outputId": "c302768c-6693-49e0-85b0-78815086db23"
      },
      "cell_type": "code",
      "source": [
        "data"
      ],
      "execution_count": 13,
      "outputs": [
        {
          "output_type": "execute_result",
          "data": {
            "text/plain": [
              "'The cat and her kittens\\nThey put on their mittens\\nTo eat a christmas pie\\nThe poor little kittens\\nThey lost their mittens\\nAnd then they began to cry.\\n\\nO mother dear, we sadly fear\\nWe cannot go to-day,\\nFor we have lost our mittens\\nIf it be so, ye shall not go\\nFor ye are naughty kittens'"
            ]
          },
          "metadata": {
            "tags": []
          },
          "execution_count": 13
        }
      ]
    },
    {
      "metadata": {
        "id": "x-b9wgw941xj",
        "colab_type": "code",
        "colab": {
          "base_uri": "https://localhost:8080/",
          "height": 462
        },
        "outputId": "53e959b1-a952-47b2-d6aa-e728a10a0b07"
      },
      "cell_type": "code",
      "source": [
        "tokenizer = Tokenizer()\n",
        "corpus = data.lower().split(\"\\n\") \n",
        "print(corpus)\n",
        "for line in corpus:\n",
        "  print(line)\n",
        "  token_list = tokenizer.texts_to_sequences([line])[0]\n",
        "  print(token_list)"
      ],
      "execution_count": 18,
      "outputs": [
        {
          "output_type": "stream",
          "text": [
            "['the cat and her kittens', 'they put on their mittens', 'to eat a christmas pie', 'the poor little kittens', 'they lost their mittens', 'and then they began to cry.', '', 'o mother dear, we sadly fear', 'we cannot go to-day,', 'for we have lost our mittens', 'if it be so, ye shall not go', 'for ye are naughty kittens']\n",
            "the cat and her kittens\n",
            "[]\n",
            "they put on their mittens\n",
            "[]\n",
            "to eat a christmas pie\n",
            "[]\n",
            "the poor little kittens\n",
            "[]\n",
            "they lost their mittens\n",
            "[]\n",
            "and then they began to cry.\n",
            "[]\n",
            "\n",
            "[]\n",
            "o mother dear, we sadly fear\n",
            "[]\n",
            "we cannot go to-day,\n",
            "[]\n",
            "for we have lost our mittens\n",
            "[]\n",
            "if it be so, ye shall not go\n",
            "[]\n",
            "for ye are naughty kittens\n",
            "[]\n"
          ],
          "name": "stdout"
        }
      ]
    },
    {
      "metadata": {
        "id": "l5KhxgOI2PkE",
        "colab_type": "code",
        "colab": {}
      },
      "cell_type": "code",
      "source": [
        "tokenizer = Tokenizer()\n",
        "def dataset_preparation(data):\n",
        "\n",
        "\t# basic cleanup\n",
        "\tcorpus = data.lower().split(\"\\n\")\n",
        "\n",
        "\t# tokenization\t\n",
        "\ttokenizer.fit_on_texts(corpus)\n",
        "\ttotal_words = len(tokenizer.word_index) + 1\n",
        "\n",
        "\t# create input sequences using list of tokens\n",
        "\tinput_sequences = []\n",
        "\tfor line in corpus:\n",
        "\t\ttoken_list = tokenizer.texts_to_sequences([line])[0]\n",
        "\t\tfor i in range(1, len(token_list)):\n",
        "\t\t\tn_gram_sequence = token_list[:i+1]\n",
        "\t\t\tinput_sequences.append(n_gram_sequence)\n",
        "\n",
        "\t# pad sequences \n",
        "\tmax_sequence_len = max([len(x) for x in input_sequences])\n",
        "\tinput_sequences = np.array(pad_sequences(input_sequences, maxlen=max_sequence_len, padding='pre'))\n",
        "  \n",
        "\n",
        "\t# create predictors and label\n",
        "\tpredictors, label = input_sequences[:,:-1],input_sequences[:,-1]\n",
        "\tlabel = ku.to_categorical(label, num_classes=total_words)\n",
        "\t#print(input_sequences)\n",
        "\treturn predictors, label, max_sequence_len, total_words"
      ],
      "execution_count": 0,
      "outputs": []
    },
    {
      "metadata": {
        "id": "d7SWGEsz7qp0",
        "colab_type": "code",
        "colab": {}
      },
      "cell_type": "code",
      "source": [
        "predictors, label, max_sequence_len, total_words = dataset_preparation(data)"
      ],
      "execution_count": 0,
      "outputs": []
    },
    {
      "metadata": {
        "id": "QFc0aL957vVk",
        "colab_type": "code",
        "colab": {
          "base_uri": "https://localhost:8080/",
          "height": 833
        },
        "outputId": "f6c197c6-149b-4edc-c5b3-fc3761cdfcad"
      },
      "cell_type": "code",
      "source": [
        "predictors "
      ],
      "execution_count": 37,
      "outputs": [
        {
          "output_type": "execute_result",
          "data": {
            "text/plain": [
              "array([[ 0,  0,  0,  0,  0,  0,  6],\n",
              "       [ 0,  0,  0,  0,  0,  6, 13],\n",
              "       [ 0,  0,  0,  0,  6, 13,  7],\n",
              "       [ 0,  0,  0,  6, 13,  7, 14],\n",
              "       [ 0,  0,  0,  0,  0,  0,  2],\n",
              "       [ 0,  0,  0,  0,  0,  2, 15],\n",
              "       [ 0,  0,  0,  0,  2, 15, 16],\n",
              "       [ 0,  0,  0,  2, 15, 16,  8],\n",
              "       [ 0,  0,  0,  0,  0,  0,  4],\n",
              "       [ 0,  0,  0,  0,  0,  4, 17],\n",
              "       [ 0,  0,  0,  0,  4, 17, 18],\n",
              "       [ 0,  0,  0,  4, 17, 18, 19],\n",
              "       [ 0,  0,  0,  0,  0,  0,  6],\n",
              "       [ 0,  0,  0,  0,  0,  6, 21],\n",
              "       [ 0,  0,  0,  0,  6, 21, 22],\n",
              "       [ 0,  0,  0,  0,  0,  0,  2],\n",
              "       [ 0,  0,  0,  0,  0,  2,  9],\n",
              "       [ 0,  0,  0,  0,  2,  9,  8],\n",
              "       [ 0,  0,  0,  0,  0,  0,  7],\n",
              "       [ 0,  0,  0,  0,  0,  7, 23],\n",
              "       [ 0,  0,  0,  0,  7, 23,  2],\n",
              "       [ 0,  0,  0,  7, 23,  2, 24],\n",
              "       [ 0,  0,  7, 23,  2, 24,  4],\n",
              "       [ 0,  0,  0,  0,  0,  0, 26],\n",
              "       [ 0,  0,  0,  0,  0, 26, 27],\n",
              "       [ 0,  0,  0,  0, 26, 27, 28],\n",
              "       [ 0,  0,  0, 26, 27, 28,  5],\n",
              "       [ 0,  0, 26, 27, 28,  5, 29],\n",
              "       [ 0,  0,  0,  0,  0,  0,  5],\n",
              "       [ 0,  0,  0,  0,  0,  5, 31],\n",
              "       [ 0,  0,  0,  0,  5, 31, 10],\n",
              "       [ 0,  0,  0,  5, 31, 10,  4],\n",
              "       [ 0,  0,  0,  0,  0,  0, 11],\n",
              "       [ 0,  0,  0,  0,  0, 11,  5],\n",
              "       [ 0,  0,  0,  0, 11,  5, 33],\n",
              "       [ 0,  0,  0, 11,  5, 33,  9],\n",
              "       [ 0,  0, 11,  5, 33,  9, 34],\n",
              "       [ 0,  0,  0,  0,  0,  0, 35],\n",
              "       [ 0,  0,  0,  0,  0, 35, 36],\n",
              "       [ 0,  0,  0,  0, 35, 36, 37],\n",
              "       [ 0,  0,  0, 35, 36, 37, 38],\n",
              "       [ 0,  0, 35, 36, 37, 38, 12],\n",
              "       [ 0, 35, 36, 37, 38, 12, 39],\n",
              "       [35, 36, 37, 38, 12, 39, 40],\n",
              "       [ 0,  0,  0,  0,  0,  0, 11],\n",
              "       [ 0,  0,  0,  0,  0, 11, 12],\n",
              "       [ 0,  0,  0,  0, 11, 12, 41],\n",
              "       [ 0,  0,  0, 11, 12, 41, 42]], dtype=int32)"
            ]
          },
          "metadata": {
            "tags": []
          },
          "execution_count": 37
        }
      ]
    },
    {
      "metadata": {
        "id": "LXEZrVDL7xzl",
        "colab_type": "code",
        "colab": {
          "base_uri": "https://localhost:8080/",
          "height": 34
        },
        "outputId": "5120e1e3-7146-40f3-fb1e-82d537d7640e"
      },
      "cell_type": "code",
      "source": [
        "label.shape,np.argmax(label[0])"
      ],
      "execution_count": 33,
      "outputs": [
        {
          "output_type": "execute_result",
          "data": {
            "text/plain": [
              "((48, 43), 13)"
            ]
          },
          "metadata": {
            "tags": []
          },
          "execution_count": 33
        }
      ]
    },
    {
      "metadata": {
        "id": "CoDFJ1pB716O",
        "colab_type": "code",
        "colab": {
          "base_uri": "https://localhost:8080/",
          "height": 34
        },
        "outputId": "5b884a13-6f5d-4448-8179-a909e5845fbf"
      },
      "cell_type": "code",
      "source": [
        "max_sequence_len"
      ],
      "execution_count": 24,
      "outputs": [
        {
          "output_type": "execute_result",
          "data": {
            "text/plain": [
              "8"
            ]
          },
          "metadata": {
            "tags": []
          },
          "execution_count": 24
        }
      ]
    },
    {
      "metadata": {
        "id": "iJmaDYBK77dZ",
        "colab_type": "code",
        "colab": {
          "base_uri": "https://localhost:8080/",
          "height": 34
        },
        "outputId": "221f6933-d367-45d6-cf07-7d754c339cfc"
      },
      "cell_type": "code",
      "source": [
        "total_words "
      ],
      "execution_count": 25,
      "outputs": [
        {
          "output_type": "execute_result",
          "data": {
            "text/plain": [
              "43"
            ]
          },
          "metadata": {
            "tags": []
          },
          "execution_count": 25
        }
      ]
    },
    {
      "metadata": {
        "id": "SwcjxTWnBnlu",
        "colab_type": "text"
      },
      "cell_type": "markdown",
      "source": [
        "**Recurrent Neural Networks**\n",
        "\n",
        "Unlike Feed-forward neural networks in which activation outputs are propagated only in one direction, the activation outputs from neurons propagate in both directions (from inputs to outputs and from outputs to inputs) in Recurrent Neural Networks. This creates loops in the neural network architecture which acts as a ‘memory state’ of the neurons. This state allows the neurons an ability to remember what have been learned so far.\n",
        "\n",
        "The memory state in RNNs gives an advantage over traditional neural networks .\n",
        "\n",
        "**Disadvantage **\n",
        "  A problem called Vanishing Gradient is associated with them.\n",
        "  \n",
        " In this problem, while learning with a large number of layers, it becomes really hard for the network to learn and tune the parameters of the earlier layers. \n",
        " \n",
        " To address this problem, A new type of RNNs called LSTMs (Long Short Term Memory) Models have been developed."
      ]
    },
    {
      "metadata": {
        "id": "m1n7KbzeCQN1",
        "colab_type": "text"
      },
      "cell_type": "markdown",
      "source": [
        "**LSTM**\n",
        "\n",
        "LSTMs have an additional state called ‘cell state’ through which the network makes adjustments in the information flow. \n",
        "\n",
        "The advantage of this state is that the model can remember or forget the leanings more selectively.\n",
        "\n",
        "\n",
        "Lets architecture a LSTM model in our code. I have added total three layers in the model.\n",
        "\n",
        "* Input Layer : Takes the sequence of words as input\n",
        "\n",
        "* LSTM Layer : Computes the output using LSTM units. I have added 100 units in the layer, but this number can be fine tuned later.\n",
        "\n",
        "* Dropout Layer : A regularisation layer which randomly turns-off the activations of some neurons in the LSTM layer. It helps in preventing over fitting.\n",
        "\n",
        "* Output Layer : Computes the probability of the best possible next word as output"
      ]
    },
    {
      "metadata": {
        "id": "m9l65zMxVEUt",
        "colab_type": "code",
        "colab": {}
      },
      "cell_type": "code",
      "source": [
        "def create_model(predictors, label, max_sequence_len, total_words):\n",
        "\t\n",
        "\tmodel = Sequential()\n",
        "\tmodel.add(Embedding(total_words, 10, input_length=max_sequence_len-1))\n",
        "\tmodel.add(LSTM(256, return_sequences = True))\n",
        "\t#model.add(Dropout(0.1))\n",
        "\tmodel.add(LSTM(124, return_sequences = True))\n",
        "\t#model.add(Dropout(0.1))\n",
        "\tmodel.add(LSTM(100))\n",
        "\tmodel.add(Dense(total_words, activation='softmax'))\n",
        "\n",
        "\tmodel.compile(loss='categorical_crossentropy', optimizer='adam', metrics=['accuracy'])\n",
        "\tearlystop = EarlyStopping(monitor='val_loss', min_delta=0, patience=5, verbose=0, mode='auto')\n",
        "\tmodel.fit(predictors, label, epochs=200, verbose=1, callbacks=[earlystop])\n",
        "\tprint(model.summary())\n",
        "\treturn model "
      ],
      "execution_count": 0,
      "outputs": []
    },
    {
      "metadata": {
        "id": "Xt7PhW0QVqjl",
        "colab_type": "text"
      },
      "cell_type": "markdown",
      "source": [
        "**Function to predict the next word based on the input words **\n",
        "\n",
        "* first tokenize the seed text\n",
        "\n",
        "* pad the sequences and pass into the trained model to get predicted word.\n",
        "\n",
        "The multiple predicted words can be appended together to get predicted sequence."
      ]
    },
    {
      "metadata": {
        "id": "TU1Sa2sTVB9X",
        "colab_type": "code",
        "colab": {}
      },
      "cell_type": "code",
      "source": [
        "def generate_text(seed_text, next_words, max_sequence_len,model):\n",
        "\tfor _ in range(next_words):\n",
        "\t\ttoken_list = tokenizer.texts_to_sequences([seed_text])[0]\n",
        "\t\ttoken_list = pad_sequences([token_list], maxlen=max_sequence_len-1, padding='pre')\n",
        "\t\tpredicted = model.predict_classes(token_list, verbose=0)\n",
        "\t\t\n",
        "\t\toutput_word = \"\"\n",
        "\t\tfor word, index in tokenizer.word_index.items():\n",
        "\t\t\tif index == predicted:\n",
        "\t\t\t\toutput_word = word\n",
        "\t\t\t\tbreak\n",
        "\t\tseed_text += \" \" + output_word\n",
        "\treturn seed_text\n"
      ],
      "execution_count": 0,
      "outputs": []
    },
    {
      "metadata": {
        "id": "3yjCxbhPWb3l",
        "colab_type": "text"
      },
      "cell_type": "markdown",
      "source": [
        "**Lets train our model using the Cat and Her Kitten rhyme.**"
      ]
    },
    {
      "metadata": {
        "id": "eNJ2AOcGWhYX",
        "colab_type": "code",
        "colab": {}
      },
      "cell_type": "code",
      "source": [
        "X, Y, max_len, total_words = dataset_preparation(data)"
      ],
      "execution_count": 0,
      "outputs": []
    },
    {
      "metadata": {
        "id": "erDapOu-Wk8l",
        "colab_type": "code",
        "colab": {
          "base_uri": "https://localhost:8080/",
          "height": 7177
        },
        "outputId": "4933bdd5-ba30-4b5b-8b06-68198df4f252"
      },
      "cell_type": "code",
      "source": [
        "model = create_model(X, Y, max_len, total_words)"
      ],
      "execution_count": 64,
      "outputs": [
        {
          "output_type": "stream",
          "text": [
            "Epoch 1/200\n",
            "48/48 [==============================] - 3s 57ms/step - loss: 3.7621 - acc: 0.0000e+00\n",
            "Epoch 2/200\n",
            "48/48 [==============================] - 0s 2ms/step - loss: 3.7591 - acc: 0.0625\n",
            "Epoch 3/200\n",
            "48/48 [==============================] - 0s 2ms/step - loss: 3.7569 - acc: 0.0625\n",
            "Epoch 4/200\n"
          ],
          "name": "stdout"
        },
        {
          "output_type": "stream",
          "text": [
            "/usr/local/lib/python3.6/dist-packages/keras/callbacks.py:569: RuntimeWarning: Early stopping conditioned on metric `val_loss` which is not available. Available metrics are: loss,acc\n",
            "  (self.monitor, ','.join(list(logs.keys()))), RuntimeWarning\n"
          ],
          "name": "stderr"
        },
        {
          "output_type": "stream",
          "text": [
            "48/48 [==============================] - 0s 2ms/step - loss: 3.7538 - acc: 0.0625\n",
            "Epoch 5/200\n",
            "48/48 [==============================] - 0s 2ms/step - loss: 3.7494 - acc: 0.0625\n",
            "Epoch 6/200\n",
            "48/48 [==============================] - 0s 2ms/step - loss: 3.7434 - acc: 0.0625\n",
            "Epoch 7/200\n",
            "48/48 [==============================] - 0s 2ms/step - loss: 3.7348 - acc: 0.0625\n",
            "Epoch 8/200\n",
            "48/48 [==============================] - 0s 2ms/step - loss: 3.7157 - acc: 0.0625\n",
            "Epoch 9/200\n",
            "48/48 [==============================] - 0s 2ms/step - loss: 3.6866 - acc: 0.0625\n",
            "Epoch 10/200\n",
            "48/48 [==============================] - 0s 2ms/step - loss: 3.6594 - acc: 0.0625\n",
            "Epoch 11/200\n",
            "48/48 [==============================] - 0s 2ms/step - loss: 3.6571 - acc: 0.0625\n",
            "Epoch 12/200\n",
            "48/48 [==============================] - 0s 2ms/step - loss: 3.6503 - acc: 0.0625\n",
            "Epoch 13/200\n",
            "48/48 [==============================] - 0s 2ms/step - loss: 3.6319 - acc: 0.0833\n",
            "Epoch 14/200\n",
            "48/48 [==============================] - 0s 2ms/step - loss: 3.6223 - acc: 0.0625\n",
            "Epoch 15/200\n",
            "48/48 [==============================] - 0s 2ms/step - loss: 3.6146 - acc: 0.0625\n",
            "Epoch 16/200\n",
            "48/48 [==============================] - 0s 2ms/step - loss: 3.6056 - acc: 0.0625\n",
            "Epoch 17/200\n",
            "48/48 [==============================] - 0s 2ms/step - loss: 3.6037 - acc: 0.0625\n",
            "Epoch 18/200\n",
            "48/48 [==============================] - 0s 2ms/step - loss: 3.6001 - acc: 0.0625\n",
            "Epoch 19/200\n",
            "48/48 [==============================] - 0s 2ms/step - loss: 3.5963 - acc: 0.0417\n",
            "Epoch 20/200\n",
            "48/48 [==============================] - 0s 2ms/step - loss: 3.5926 - acc: 0.0625\n",
            "Epoch 21/200\n",
            "48/48 [==============================] - 0s 2ms/step - loss: 3.5896 - acc: 0.0625\n",
            "Epoch 22/200\n",
            "48/48 [==============================] - 0s 2ms/step - loss: 3.5860 - acc: 0.0625\n",
            "Epoch 23/200\n",
            "48/48 [==============================] - 0s 2ms/step - loss: 3.5861 - acc: 0.0625\n",
            "Epoch 24/200\n",
            "48/48 [==============================] - 0s 2ms/step - loss: 3.5795 - acc: 0.0833\n",
            "Epoch 25/200\n",
            "48/48 [==============================] - 0s 2ms/step - loss: 3.5769 - acc: 0.0208\n",
            "Epoch 26/200\n",
            "48/48 [==============================] - 0s 2ms/step - loss: 3.5757 - acc: 0.0625\n",
            "Epoch 27/200\n",
            "48/48 [==============================] - 0s 2ms/step - loss: 3.5738 - acc: 0.0625\n",
            "Epoch 28/200\n",
            "48/48 [==============================] - 0s 2ms/step - loss: 3.5738 - acc: 0.0625\n",
            "Epoch 29/200\n",
            "48/48 [==============================] - 0s 2ms/step - loss: 3.5725 - acc: 0.0625\n",
            "Epoch 30/200\n",
            "48/48 [==============================] - 0s 2ms/step - loss: 3.5655 - acc: 0.0625\n",
            "Epoch 31/200\n",
            "48/48 [==============================] - 0s 2ms/step - loss: 3.5645 - acc: 0.0625\n",
            "Epoch 32/200\n",
            "48/48 [==============================] - 0s 2ms/step - loss: 3.5626 - acc: 0.0625\n",
            "Epoch 33/200\n",
            "48/48 [==============================] - 0s 2ms/step - loss: 3.5584 - acc: 0.0625\n",
            "Epoch 34/200\n",
            "48/48 [==============================] - 0s 2ms/step - loss: 3.5532 - acc: 0.0625\n",
            "Epoch 35/200\n",
            "48/48 [==============================] - 0s 2ms/step - loss: 3.5442 - acc: 0.0625\n",
            "Epoch 36/200\n",
            "48/48 [==============================] - 0s 2ms/step - loss: 3.5407 - acc: 0.0625\n",
            "Epoch 37/200\n",
            "48/48 [==============================] - 0s 2ms/step - loss: 3.5292 - acc: 0.0625\n",
            "Epoch 38/200\n",
            "48/48 [==============================] - 0s 2ms/step - loss: 3.5240 - acc: 0.0625\n",
            "Epoch 39/200\n",
            "48/48 [==============================] - 0s 2ms/step - loss: 3.5078 - acc: 0.1042\n",
            "Epoch 40/200\n",
            "48/48 [==============================] - 0s 2ms/step - loss: 3.5008 - acc: 0.0833\n",
            "Epoch 41/200\n",
            "48/48 [==============================] - 0s 2ms/step - loss: 3.4750 - acc: 0.1250\n",
            "Epoch 42/200\n",
            "48/48 [==============================] - 0s 2ms/step - loss: 3.4599 - acc: 0.0833\n",
            "Epoch 43/200\n",
            "48/48 [==============================] - 0s 2ms/step - loss: 3.4205 - acc: 0.1042\n",
            "Epoch 44/200\n",
            "48/48 [==============================] - 0s 2ms/step - loss: 3.3990 - acc: 0.1250\n",
            "Epoch 45/200\n",
            "48/48 [==============================] - 0s 2ms/step - loss: 3.3510 - acc: 0.1250\n",
            "Epoch 46/200\n",
            "48/48 [==============================] - 0s 2ms/step - loss: 3.3123 - acc: 0.1250\n",
            "Epoch 47/200\n",
            "48/48 [==============================] - 0s 2ms/step - loss: 3.2734 - acc: 0.1250\n",
            "Epoch 48/200\n",
            "48/48 [==============================] - 0s 2ms/step - loss: 3.2195 - acc: 0.1250\n",
            "Epoch 49/200\n",
            "48/48 [==============================] - 0s 2ms/step - loss: 3.2176 - acc: 0.1667\n",
            "Epoch 50/200\n",
            "48/48 [==============================] - 0s 2ms/step - loss: 3.3178 - acc: 0.1042\n",
            "Epoch 51/200\n",
            "48/48 [==============================] - 0s 2ms/step - loss: 3.2259 - acc: 0.1250\n",
            "Epoch 52/200\n",
            "48/48 [==============================] - 0s 2ms/step - loss: 3.1109 - acc: 0.1042\n",
            "Epoch 53/200\n",
            "48/48 [==============================] - 0s 2ms/step - loss: 3.0897 - acc: 0.1042\n",
            "Epoch 54/200\n",
            "48/48 [==============================] - 0s 2ms/step - loss: 3.0279 - acc: 0.1667\n",
            "Epoch 55/200\n",
            "48/48 [==============================] - 0s 2ms/step - loss: 3.1688 - acc: 0.1250\n",
            "Epoch 56/200\n",
            "48/48 [==============================] - 0s 2ms/step - loss: 3.0817 - acc: 0.1875\n",
            "Epoch 57/200\n",
            "48/48 [==============================] - 0s 2ms/step - loss: 3.0486 - acc: 0.1875\n",
            "Epoch 58/200\n",
            "48/48 [==============================] - 0s 2ms/step - loss: 2.9746 - acc: 0.1875\n",
            "Epoch 59/200\n",
            "48/48 [==============================] - 0s 2ms/step - loss: 2.9490 - acc: 0.2083\n",
            "Epoch 60/200\n",
            "48/48 [==============================] - 0s 2ms/step - loss: 2.9086 - acc: 0.1875\n",
            "Epoch 61/200\n",
            "48/48 [==============================] - 0s 2ms/step - loss: 2.9041 - acc: 0.1667\n",
            "Epoch 62/200\n",
            "48/48 [==============================] - 0s 2ms/step - loss: 2.8357 - acc: 0.1875\n",
            "Epoch 63/200\n",
            "48/48 [==============================] - 0s 2ms/step - loss: 2.8373 - acc: 0.1667\n",
            "Epoch 64/200\n",
            "48/48 [==============================] - 0s 2ms/step - loss: 2.7760 - acc: 0.1875\n",
            "Epoch 65/200\n",
            "48/48 [==============================] - 0s 2ms/step - loss: 2.7565 - acc: 0.2292\n",
            "Epoch 66/200\n",
            "48/48 [==============================] - 0s 2ms/step - loss: 2.7303 - acc: 0.1875\n",
            "Epoch 67/200\n",
            "48/48 [==============================] - 0s 2ms/step - loss: 2.7052 - acc: 0.2083\n",
            "Epoch 68/200\n",
            "48/48 [==============================] - 0s 2ms/step - loss: 2.6839 - acc: 0.2292\n",
            "Epoch 69/200\n",
            "48/48 [==============================] - 0s 2ms/step - loss: 2.6534 - acc: 0.2083\n",
            "Epoch 70/200\n",
            "48/48 [==============================] - 0s 2ms/step - loss: 2.6363 - acc: 0.2292\n",
            "Epoch 71/200\n",
            "48/48 [==============================] - 0s 2ms/step - loss: 2.5976 - acc: 0.2083\n",
            "Epoch 72/200\n",
            "48/48 [==============================] - 0s 2ms/step - loss: 2.6003 - acc: 0.2500\n",
            "Epoch 73/200\n",
            "48/48 [==============================] - 0s 2ms/step - loss: 2.5659 - acc: 0.2500\n",
            "Epoch 74/200\n",
            "48/48 [==============================] - 0s 2ms/step - loss: 2.5602 - acc: 0.2292\n",
            "Epoch 75/200\n",
            "48/48 [==============================] - 0s 2ms/step - loss: 2.5164 - acc: 0.2708\n",
            "Epoch 76/200\n",
            "48/48 [==============================] - 0s 2ms/step - loss: 2.5157 - acc: 0.2708\n",
            "Epoch 77/200\n",
            "48/48 [==============================] - 0s 2ms/step - loss: 2.4617 - acc: 0.2708\n",
            "Epoch 78/200\n",
            "48/48 [==============================] - 0s 2ms/step - loss: 2.4461 - acc: 0.2917\n",
            "Epoch 79/200\n",
            "48/48 [==============================] - 0s 2ms/step - loss: 2.4382 - acc: 0.2500\n",
            "Epoch 80/200\n",
            "48/48 [==============================] - 0s 2ms/step - loss: 2.4319 - acc: 0.2500\n",
            "Epoch 81/200\n",
            "48/48 [==============================] - 0s 2ms/step - loss: 2.4115 - acc: 0.2917\n",
            "Epoch 82/200\n",
            "48/48 [==============================] - 0s 2ms/step - loss: 2.3855 - acc: 0.3542\n",
            "Epoch 83/200\n",
            "48/48 [==============================] - 0s 2ms/step - loss: 2.3359 - acc: 0.3333\n",
            "Epoch 84/200\n",
            "48/48 [==============================] - 0s 2ms/step - loss: 2.3329 - acc: 0.3542\n",
            "Epoch 85/200\n",
            "48/48 [==============================] - 0s 2ms/step - loss: 2.3279 - acc: 0.3125\n",
            "Epoch 86/200\n",
            "48/48 [==============================] - 0s 2ms/step - loss: 2.3013 - acc: 0.2708\n",
            "Epoch 87/200\n",
            "48/48 [==============================] - 0s 2ms/step - loss: 2.3298 - acc: 0.2917\n",
            "Epoch 88/200\n",
            "48/48 [==============================] - 0s 2ms/step - loss: 2.3071 - acc: 0.2917\n",
            "Epoch 89/200\n",
            "48/48 [==============================] - 0s 2ms/step - loss: 2.2691 - acc: 0.3333\n",
            "Epoch 90/200\n",
            "48/48 [==============================] - 0s 2ms/step - loss: 2.2562 - acc: 0.3542\n",
            "Epoch 91/200\n",
            "48/48 [==============================] - 0s 2ms/step - loss: 2.3182 - acc: 0.3125\n",
            "Epoch 92/200\n",
            "48/48 [==============================] - 0s 2ms/step - loss: 2.2890 - acc: 0.2917\n",
            "Epoch 93/200\n",
            "48/48 [==============================] - 0s 2ms/step - loss: 2.1997 - acc: 0.2708\n",
            "Epoch 94/200\n",
            "48/48 [==============================] - 0s 2ms/step - loss: 2.2388 - acc: 0.3125\n",
            "Epoch 95/200\n",
            "48/48 [==============================] - 0s 2ms/step - loss: 2.1997 - acc: 0.3125\n",
            "Epoch 96/200\n",
            "48/48 [==============================] - 0s 2ms/step - loss: 2.1527 - acc: 0.3333\n",
            "Epoch 97/200\n",
            "48/48 [==============================] - 0s 2ms/step - loss: 2.1878 - acc: 0.3125\n",
            "Epoch 98/200\n",
            "48/48 [==============================] - 0s 2ms/step - loss: 2.1200 - acc: 0.3333\n",
            "Epoch 99/200\n",
            "48/48 [==============================] - 0s 2ms/step - loss: 2.1205 - acc: 0.3333\n",
            "Epoch 100/200\n",
            "48/48 [==============================] - 0s 2ms/step - loss: 2.0761 - acc: 0.3750\n",
            "Epoch 101/200\n",
            "48/48 [==============================] - 0s 2ms/step - loss: 2.0586 - acc: 0.4167\n",
            "Epoch 102/200\n",
            "48/48 [==============================] - 0s 2ms/step - loss: 2.0553 - acc: 0.4583\n",
            "Epoch 103/200\n",
            "48/48 [==============================] - 0s 2ms/step - loss: 2.0377 - acc: 0.4375\n",
            "Epoch 104/200\n",
            "48/48 [==============================] - 0s 2ms/step - loss: 2.0015 - acc: 0.4792\n",
            "Epoch 105/200\n",
            "48/48 [==============================] - 0s 2ms/step - loss: 2.0080 - acc: 0.4375\n",
            "Epoch 106/200\n",
            "48/48 [==============================] - 0s 2ms/step - loss: 1.9988 - acc: 0.3958\n",
            "Epoch 107/200\n",
            "48/48 [==============================] - 0s 2ms/step - loss: 1.9755 - acc: 0.4375\n",
            "Epoch 108/200\n",
            "48/48 [==============================] - 0s 2ms/step - loss: 1.9498 - acc: 0.4167\n",
            "Epoch 109/200\n",
            "48/48 [==============================] - 0s 2ms/step - loss: 1.9423 - acc: 0.3958\n",
            "Epoch 110/200\n",
            "48/48 [==============================] - 0s 2ms/step - loss: 1.9131 - acc: 0.4792\n",
            "Epoch 111/200\n",
            "48/48 [==============================] - 0s 2ms/step - loss: 1.9090 - acc: 0.4792\n",
            "Epoch 112/200\n",
            "48/48 [==============================] - 0s 2ms/step - loss: 1.8921 - acc: 0.3958\n",
            "Epoch 113/200\n",
            "48/48 [==============================] - 0s 2ms/step - loss: 1.8869 - acc: 0.3958\n",
            "Epoch 114/200\n",
            "48/48 [==============================] - 0s 2ms/step - loss: 1.9020 - acc: 0.3958\n",
            "Epoch 115/200\n",
            "48/48 [==============================] - 0s 2ms/step - loss: 1.8650 - acc: 0.4583\n",
            "Epoch 116/200\n",
            "48/48 [==============================] - 0s 2ms/step - loss: 1.8396 - acc: 0.4583\n",
            "Epoch 117/200\n",
            "48/48 [==============================] - 0s 2ms/step - loss: 1.8256 - acc: 0.4375\n",
            "Epoch 118/200\n",
            "48/48 [==============================] - 0s 2ms/step - loss: 1.8233 - acc: 0.4583\n",
            "Epoch 119/200\n",
            "48/48 [==============================] - 0s 2ms/step - loss: 1.7993 - acc: 0.4375\n",
            "Epoch 120/200\n",
            "48/48 [==============================] - 0s 2ms/step - loss: 1.7760 - acc: 0.4583\n",
            "Epoch 121/200\n",
            "48/48 [==============================] - 0s 2ms/step - loss: 1.7841 - acc: 0.4375\n",
            "Epoch 122/200\n",
            "48/48 [==============================] - 0s 2ms/step - loss: 1.7921 - acc: 0.5208\n",
            "Epoch 123/200\n",
            "48/48 [==============================] - 0s 2ms/step - loss: 1.7927 - acc: 0.4792\n",
            "Epoch 124/200\n",
            "48/48 [==============================] - 0s 2ms/step - loss: 1.7598 - acc: 0.4792\n",
            "Epoch 125/200\n",
            "48/48 [==============================] - 0s 2ms/step - loss: 1.7582 - acc: 0.5208\n",
            "Epoch 126/200\n",
            "48/48 [==============================] - 0s 2ms/step - loss: 1.7237 - acc: 0.5417\n",
            "Epoch 127/200\n",
            "48/48 [==============================] - 0s 2ms/step - loss: 1.7642 - acc: 0.4792\n",
            "Epoch 128/200\n",
            "48/48 [==============================] - 0s 2ms/step - loss: 1.8162 - acc: 0.3958\n",
            "Epoch 129/200\n",
            "48/48 [==============================] - 0s 2ms/step - loss: 1.7651 - acc: 0.5000\n",
            "Epoch 130/200\n",
            "48/48 [==============================] - 0s 2ms/step - loss: 1.7205 - acc: 0.5000\n",
            "Epoch 131/200\n",
            "48/48 [==============================] - 0s 2ms/step - loss: 1.6774 - acc: 0.5000\n",
            "Epoch 132/200\n",
            "48/48 [==============================] - 0s 2ms/step - loss: 1.7033 - acc: 0.5000\n",
            "Epoch 133/200\n",
            "48/48 [==============================] - 0s 2ms/step - loss: 1.6744 - acc: 0.5000\n",
            "Epoch 134/200\n",
            "48/48 [==============================] - 0s 2ms/step - loss: 1.6581 - acc: 0.5833\n",
            "Epoch 135/200\n",
            "48/48 [==============================] - 0s 2ms/step - loss: 1.6343 - acc: 0.5625\n",
            "Epoch 136/200\n",
            "48/48 [==============================] - 0s 2ms/step - loss: 1.6185 - acc: 0.5625\n",
            "Epoch 137/200\n",
            "48/48 [==============================] - 0s 2ms/step - loss: 1.6013 - acc: 0.5833\n",
            "Epoch 138/200\n",
            "48/48 [==============================] - 0s 2ms/step - loss: 1.5975 - acc: 0.5417\n",
            "Epoch 139/200\n",
            "48/48 [==============================] - 0s 2ms/step - loss: 1.5787 - acc: 0.5833\n",
            "Epoch 140/200\n",
            "48/48 [==============================] - 0s 2ms/step - loss: 1.5675 - acc: 0.6042\n",
            "Epoch 141/200\n",
            "48/48 [==============================] - 0s 2ms/step - loss: 1.5609 - acc: 0.6042\n",
            "Epoch 142/200\n",
            "48/48 [==============================] - 0s 2ms/step - loss: 1.5459 - acc: 0.6042\n",
            "Epoch 143/200\n",
            "48/48 [==============================] - 0s 2ms/step - loss: 1.5397 - acc: 0.6250\n",
            "Epoch 144/200\n",
            "48/48 [==============================] - 0s 2ms/step - loss: 1.5338 - acc: 0.6250\n",
            "Epoch 145/200\n",
            "48/48 [==============================] - 0s 2ms/step - loss: 1.5248 - acc: 0.6042\n",
            "Epoch 146/200\n",
            "48/48 [==============================] - 0s 2ms/step - loss: 1.5136 - acc: 0.6250\n",
            "Epoch 147/200\n",
            "48/48 [==============================] - 0s 2ms/step - loss: 1.5028 - acc: 0.6042\n",
            "Epoch 148/200\n",
            "48/48 [==============================] - 0s 2ms/step - loss: 1.4965 - acc: 0.6250\n",
            "Epoch 149/200\n",
            "48/48 [==============================] - 0s 2ms/step - loss: 1.4940 - acc: 0.5833\n",
            "Epoch 150/200\n",
            "48/48 [==============================] - 0s 2ms/step - loss: 1.4802 - acc: 0.6250\n",
            "Epoch 151/200\n",
            "48/48 [==============================] - 0s 2ms/step - loss: 1.4779 - acc: 0.5833\n",
            "Epoch 152/200\n",
            "48/48 [==============================] - 0s 2ms/step - loss: 1.4771 - acc: 0.6250\n",
            "Epoch 153/200\n",
            "48/48 [==============================] - 0s 2ms/step - loss: 1.4621 - acc: 0.6042\n",
            "Epoch 154/200\n",
            "48/48 [==============================] - 0s 2ms/step - loss: 1.4548 - acc: 0.6250\n",
            "Epoch 155/200\n",
            "48/48 [==============================] - 0s 2ms/step - loss: 1.4381 - acc: 0.6250\n",
            "Epoch 156/200\n",
            "48/48 [==============================] - 0s 2ms/step - loss: 1.4402 - acc: 0.6250\n",
            "Epoch 157/200\n",
            "48/48 [==============================] - 0s 2ms/step - loss: 1.4479 - acc: 0.5208\n",
            "Epoch 158/200\n",
            "48/48 [==============================] - 0s 2ms/step - loss: 1.4295 - acc: 0.6042\n",
            "Epoch 159/200\n",
            "48/48 [==============================] - 0s 2ms/step - loss: 1.4062 - acc: 0.6042\n",
            "Epoch 160/200\n",
            "48/48 [==============================] - 0s 2ms/step - loss: 1.4016 - acc: 0.6250\n",
            "Epoch 161/200\n",
            "48/48 [==============================] - 0s 2ms/step - loss: 1.3916 - acc: 0.6042\n",
            "Epoch 162/200\n",
            "48/48 [==============================] - 0s 2ms/step - loss: 1.3769 - acc: 0.6250\n",
            "Epoch 163/200\n",
            "48/48 [==============================] - 0s 2ms/step - loss: 1.3660 - acc: 0.6042\n",
            "Epoch 164/200\n",
            "48/48 [==============================] - 0s 2ms/step - loss: 1.3614 - acc: 0.6458\n",
            "Epoch 165/200\n",
            "48/48 [==============================] - 0s 2ms/step - loss: 1.3621 - acc: 0.6458\n",
            "Epoch 166/200\n",
            "48/48 [==============================] - 0s 2ms/step - loss: 1.3793 - acc: 0.5208\n",
            "Epoch 167/200\n",
            "48/48 [==============================] - 0s 2ms/step - loss: 1.3721 - acc: 0.6042\n",
            "Epoch 168/200\n",
            "48/48 [==============================] - 0s 2ms/step - loss: 1.3458 - acc: 0.6042\n",
            "Epoch 169/200\n",
            "48/48 [==============================] - 0s 2ms/step - loss: 1.3197 - acc: 0.6458\n",
            "Epoch 170/200\n",
            "48/48 [==============================] - 0s 2ms/step - loss: 1.3206 - acc: 0.6250\n",
            "Epoch 171/200\n",
            "48/48 [==============================] - 0s 2ms/step - loss: 1.3119 - acc: 0.6042\n",
            "Epoch 172/200\n",
            "48/48 [==============================] - 0s 2ms/step - loss: 1.2975 - acc: 0.6458\n",
            "Epoch 173/200\n",
            "48/48 [==============================] - 0s 2ms/step - loss: 1.2949 - acc: 0.6250\n",
            "Epoch 174/200\n",
            "48/48 [==============================] - 0s 2ms/step - loss: 1.2925 - acc: 0.6250\n",
            "Epoch 175/200\n",
            "48/48 [==============================] - 0s 2ms/step - loss: 1.3249 - acc: 0.6250\n",
            "Epoch 176/200\n",
            "48/48 [==============================] - 0s 2ms/step - loss: 1.3511 - acc: 0.5417\n",
            "Epoch 177/200\n",
            "48/48 [==============================] - 0s 2ms/step - loss: 1.3102 - acc: 0.6250\n",
            "Epoch 178/200\n",
            "48/48 [==============================] - 0s 2ms/step - loss: 1.2912 - acc: 0.5625\n",
            "Epoch 179/200\n",
            "48/48 [==============================] - 0s 2ms/step - loss: 1.2610 - acc: 0.6250\n",
            "Epoch 180/200\n",
            "48/48 [==============================] - 0s 2ms/step - loss: 1.2367 - acc: 0.6667\n",
            "Epoch 181/200\n",
            "48/48 [==============================] - 0s 2ms/step - loss: 1.2249 - acc: 0.6458\n",
            "Epoch 182/200\n",
            "48/48 [==============================] - 0s 2ms/step - loss: 1.2151 - acc: 0.6250\n",
            "Epoch 183/200\n",
            "48/48 [==============================] - 0s 2ms/step - loss: 1.2061 - acc: 0.6250\n",
            "Epoch 184/200\n",
            "48/48 [==============================] - 0s 2ms/step - loss: 1.2031 - acc: 0.6458\n",
            "Epoch 185/200\n",
            "48/48 [==============================] - 0s 2ms/step - loss: 1.1964 - acc: 0.6667\n",
            "Epoch 186/200\n",
            "48/48 [==============================] - 0s 2ms/step - loss: 1.1836 - acc: 0.6667\n",
            "Epoch 187/200\n",
            "48/48 [==============================] - 0s 2ms/step - loss: 1.1783 - acc: 0.6875\n",
            "Epoch 188/200\n",
            "48/48 [==============================] - 0s 2ms/step - loss: 1.1668 - acc: 0.6667\n",
            "Epoch 189/200\n",
            "48/48 [==============================] - 0s 2ms/step - loss: 1.1637 - acc: 0.6875\n",
            "Epoch 190/200\n",
            "48/48 [==============================] - 0s 2ms/step - loss: 1.1591 - acc: 0.7083\n",
            "Epoch 191/200\n",
            "48/48 [==============================] - 0s 2ms/step - loss: 1.1469 - acc: 0.6875\n",
            "Epoch 192/200\n",
            "48/48 [==============================] - 0s 2ms/step - loss: 1.1374 - acc: 0.6667\n",
            "Epoch 193/200\n",
            "48/48 [==============================] - 0s 2ms/step - loss: 1.1376 - acc: 0.6458\n",
            "Epoch 194/200\n",
            "48/48 [==============================] - 0s 2ms/step - loss: 1.1191 - acc: 0.7083\n",
            "Epoch 195/200\n",
            "48/48 [==============================] - 0s 2ms/step - loss: 1.1102 - acc: 0.7083\n",
            "Epoch 196/200\n",
            "48/48 [==============================] - 0s 2ms/step - loss: 1.0994 - acc: 0.7500\n",
            "Epoch 197/200\n",
            "48/48 [==============================] - 0s 2ms/step - loss: 1.0971 - acc: 0.7500\n",
            "Epoch 198/200\n",
            "48/48 [==============================] - 0s 2ms/step - loss: 1.0931 - acc: 0.7083\n",
            "Epoch 199/200\n",
            "48/48 [==============================] - 0s 2ms/step - loss: 1.0954 - acc: 0.6667\n",
            "Epoch 200/200\n",
            "48/48 [==============================] - 0s 2ms/step - loss: 1.1405 - acc: 0.6667\n",
            "_________________________________________________________________\n",
            "Layer (type)                 Output Shape              Param #   \n",
            "=================================================================\n",
            "embedding_5 (Embedding)      (None, 7, 10)             430       \n",
            "_________________________________________________________________\n",
            "lstm_10 (LSTM)               (None, 7, 256)            273408    \n",
            "_________________________________________________________________\n",
            "lstm_11 (LSTM)               (None, 7, 124)            188976    \n",
            "_________________________________________________________________\n",
            "lstm_12 (LSTM)               (None, 100)               90000     \n",
            "_________________________________________________________________\n",
            "dense_4 (Dense)              (None, 43)                4343      \n",
            "=================================================================\n",
            "Total params: 557,157\n",
            "Trainable params: 557,157\n",
            "Non-trainable params: 0\n",
            "_________________________________________________________________\n",
            "None\n"
          ],
          "name": "stdout"
        }
      ]
    },
    {
      "metadata": {
        "id": "FPp13YSqW7Tq",
        "colab_type": "text"
      },
      "cell_type": "markdown",
      "source": [
        "**Model’s Output when the the above model was trained on 100 epochs.**"
      ]
    },
    {
      "metadata": {
        "id": "5mq_Hv13W8Ix",
        "colab_type": "code",
        "colab": {
          "base_uri": "https://localhost:8080/",
          "height": 34
        },
        "outputId": "917ace00-e911-42c1-a6f6-1bdc877f342f"
      },
      "cell_type": "code",
      "source": [
        "text = generate_text(\"cat and\", 3,  max_sequence_len,model)\n",
        "print(text)"
      ],
      "execution_count": 65,
      "outputs": [
        {
          "output_type": "stream",
          "text": [
            "cat and have lost on\n"
          ],
          "name": "stdout"
        }
      ]
    },
    {
      "metadata": {
        "id": "e3s8X4HsW6br",
        "colab_type": "code",
        "colab": {
          "base_uri": "https://localhost:8080/",
          "height": 34
        },
        "outputId": "0289a3dd-a3a5-4a5f-8667-ae68fd882167"
      },
      "cell_type": "code",
      "source": [
        "text = generate_text(\"you and\", 3,  max_sequence_len,model)\n",
        "print(text)"
      ],
      "execution_count": 66,
      "outputs": [
        {
          "output_type": "stream",
          "text": [
            "you and then they began\n"
          ],
          "name": "stdout"
        }
      ]
    },
    {
      "metadata": {
        "id": "95_3ESVXX11l",
        "colab_type": "code",
        "colab": {
          "base_uri": "https://localhost:8080/",
          "height": 34
        },
        "outputId": "d36e121a-c4d0-47cf-b38e-73d1c4853093"
      },
      "cell_type": "code",
      "source": [
        "text = generate_text(\"i we\", 3,  max_sequence_len,model)\n",
        "print(text)"
      ],
      "execution_count": 67,
      "outputs": [
        {
          "output_type": "stream",
          "text": [
            "i we then they began\n"
          ],
          "name": "stdout"
        }
      ]
    }
  ]
}