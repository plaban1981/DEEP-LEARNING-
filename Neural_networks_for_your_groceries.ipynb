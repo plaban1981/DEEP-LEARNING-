{
  "nbformat": 4,
  "nbformat_minor": 0,
  "metadata": {
    "colab": {
      "name": "Neural networks for your groceries.ipynb",
      "version": "0.3.2",
      "provenance": [],
      "collapsed_sections": [],
      "toc_visible": true,
      "include_colab_link": true
    },
    "language_info": {
      "codemirror_mode": {
        "name": "ipython",
        "version": 3
      },
      "file_extension": ".py",
      "mimetype": "text/x-python",
      "name": "python",
      "nbconvert_exporter": "python",
      "pygments_lexer": "ipython3",
      "version": "3.7.1"
    },
    "kernelspec": {
      "name": "python3",
      "display_name": "Python 3"
    },
    "accelerator": "GPU"
  },
  "cells": [
    {
      "cell_type": "markdown",
      "metadata": {
        "id": "view-in-github",
        "colab_type": "text"
      },
      "source": [
        "<a href=\"https://colab.research.google.com/github/plaban1981/DEEP-LEARNING-/blob/master/Neural_networks_for_your_groceries.ipynb\" target=\"_parent\"><img src=\"https://colab.research.google.com/assets/colab-badge.svg\" alt=\"Open In Colab\"/></a>"
      ]
    },
    {
      "metadata": {
        "id": "bJ7kjISfXCW2",
        "colab_type": "text"
      },
      "cell_type": "markdown",
      "source": [
        "# Introduction \n",
        "Instacart is an on-demand grocery delivery app that allows a user to browse and pick out products they want from a virtual catalog from local grocery stores. A personal shopper receives your order, and then does the in-store shopping and delivery for you. To improve the grocery shopping experience, it would be advantageous if Instacart could predict what products a customer will purchase again. This will allow Instacart to generate personalized experiences for every user, helping them easily rediscover their favorite products. Creating an efficient and convenient shopping experience for customers will help more users adopt this new format of grocery shopping."
      ]
    },
    {
      "metadata": {
        "id": "SXoJvZzQXCW5",
        "colab_type": "text"
      },
      "cell_type": "markdown",
      "source": [
        "# Problem statement:\n",
        "    \n",
        "To build a neural network in Keras to predict whether a user will reorder an item."
      ]
    },
    {
      "metadata": {
        "id": "j7jSmCPCXCW8",
        "colab_type": "text"
      },
      "cell_type": "markdown",
      "source": [
        "# Data\n",
        "\n",
        "It contains over 3 million orders from more than 200,000 users, and there is data about the user's orders, the sequence of products purchased, and when it was ordered.\n",
        "\n",
        "#### Link : https://www.instacart.com/datasets/grocery-shopping-2017\n",
        "\n",
        "The dataset comes in a set of 6 csv files:\n",
        "\n",
        "* 3 files contain data about the product, aisle and department.\n",
        "\n",
        "* 3 files contain data with prior purchase history, recent purchase history and complete order history."
      ]
    },
    {
      "metadata": {
        "id": "m92CNMcYXCW_",
        "colab_type": "text"
      },
      "cell_type": "markdown",
      "source": [
        "# Referrrences :-\n",
        "\n",
        "    https://towardsdatascience.com/neural-networks-for-your-groceries-f0a643eb411\n",
        "\n",
        "    https://nbviewer.jupyter.org/github/stevhliu/instacart-neural-network/blob/master/instacart%20neural%20network.ipynb\n"
      ]
    },
    {
      "metadata": {
        "id": "L2mQ4vpt8gmb",
        "colab_type": "code",
        "colab": {
          "base_uri": "https://localhost:8080/",
          "height": 122
        },
        "outputId": "9d0e880b-e763-4326-d95a-22ce676dfad8"
      },
      "cell_type": "code",
      "source": [
        "from google.colab import drive\n",
        "drive.mount('/content/drive')"
      ],
      "execution_count": 1,
      "outputs": [
        {
          "output_type": "stream",
          "text": [
            "Go to this URL in a browser: https://accounts.google.com/o/oauth2/auth?client_id=947318989803-6bn6qk8qdgf4n4g3pfee6491hc0brc4i.apps.googleusercontent.com&redirect_uri=urn%3Aietf%3Awg%3Aoauth%3A2.0%3Aoob&scope=email%20https%3A%2F%2Fwww.googleapis.com%2Fauth%2Fdocs.test%20https%3A%2F%2Fwww.googleapis.com%2Fauth%2Fdrive%20https%3A%2F%2Fwww.googleapis.com%2Fauth%2Fdrive.photos.readonly%20https%3A%2F%2Fwww.googleapis.com%2Fauth%2Fpeopleapi.readonly&response_type=code\n",
            "\n",
            "Enter your authorization code:\n",
            "··········\n",
            "Mounted at /content/drive\n"
          ],
          "name": "stdout"
        }
      ]
    },
    {
      "metadata": {
        "id": "dBh7kl09XCXF",
        "colab_type": "text"
      },
      "cell_type": "markdown",
      "source": [
        "# Import Libraries"
      ]
    },
    {
      "metadata": {
        "id": "ogp_soZOXCXH",
        "colab_type": "code",
        "colab": {}
      },
      "cell_type": "code",
      "source": [
        "import pandas as pd\n",
        "import numpy as np\n",
        "import matplotlib.pyplot as plt\n",
        "import seaborn as sns\n",
        "import warnings\n",
        "warnings.filterwarnings(action='ignore')\n",
        "\n",
        "%matplotlib inline\n",
        "plt.style.use('seaborn')\n",
        "\n"
      ],
      "execution_count": 0,
      "outputs": []
    },
    {
      "metadata": {
        "id": "vpryJmK7XCXR",
        "colab_type": "code",
        "colab": {}
      },
      "cell_type": "code",
      "source": [
        "# load the data\n",
        "p = pd.read_csv('drive/My Drive/instacart/products.csv')\n",
        "d = pd.read_csv('drive/My Drive/instacart/departments.csv')\n",
        "a = pd.read_csv('drive/My Drive/instacart/aisles.csv')"
      ],
      "execution_count": 0,
      "outputs": []
    },
    {
      "metadata": {
        "id": "Z_tMMoPOXCXb",
        "colab_type": "code",
        "colab": {
          "base_uri": "https://localhost:8080/",
          "height": 34
        },
        "outputId": "80ce9b1d-4b70-4eb1-f923-119dfdb90b81"
      },
      "cell_type": "code",
      "source": [
        "p.columns"
      ],
      "execution_count": 4,
      "outputs": [
        {
          "output_type": "execute_result",
          "data": {
            "text/plain": [
              "Index(['product_id', 'product_name', 'aisle_id', 'department_id'], dtype='object')"
            ]
          },
          "metadata": {
            "tags": []
          },
          "execution_count": 4
        }
      ]
    },
    {
      "metadata": {
        "id": "68ULOfcZXCXo",
        "colab_type": "code",
        "colab": {
          "base_uri": "https://localhost:8080/",
          "height": 34
        },
        "outputId": "fd8d2b5f-bdd3-410d-c3a2-fdae34b0dde6"
      },
      "cell_type": "code",
      "source": [
        "d.columns"
      ],
      "execution_count": 5,
      "outputs": [
        {
          "output_type": "execute_result",
          "data": {
            "text/plain": [
              "Index(['department_id', 'department'], dtype='object')"
            ]
          },
          "metadata": {
            "tags": []
          },
          "execution_count": 5
        }
      ]
    },
    {
      "metadata": {
        "id": "wFIzGdNOXCX4",
        "colab_type": "code",
        "colab": {
          "base_uri": "https://localhost:8080/",
          "height": 34
        },
        "outputId": "df4ccd27-8639-4286-df88-c4ed800cd803"
      },
      "cell_type": "code",
      "source": [
        "a.columns"
      ],
      "execution_count": 6,
      "outputs": [
        {
          "output_type": "execute_result",
          "data": {
            "text/plain": [
              "Index(['aisle_id', 'aisle'], dtype='object')"
            ]
          },
          "metadata": {
            "tags": []
          },
          "execution_count": 6
        }
      ]
    },
    {
      "metadata": {
        "id": "YDoJXkKxXCYE",
        "colab_type": "code",
        "colab": {
          "base_uri": "https://localhost:8080/",
          "height": 204
        },
        "outputId": "999a97d4-155a-42ae-fc91-f6dff4f13829"
      },
      "cell_type": "code",
      "source": [
        "# right join to merge the dataframes on department and aisle id\n",
        "catalog = pd.merge(p,d,how='right',on='department_id')\n",
        "catalog = pd.merge(catalog,a,how='right',on='aisle_id')\n",
        "catalog.head()"
      ],
      "execution_count": 7,
      "outputs": [
        {
          "output_type": "execute_result",
          "data": {
            "text/html": [
              "<div>\n",
              "<style scoped>\n",
              "    .dataframe tbody tr th:only-of-type {\n",
              "        vertical-align: middle;\n",
              "    }\n",
              "\n",
              "    .dataframe tbody tr th {\n",
              "        vertical-align: top;\n",
              "    }\n",
              "\n",
              "    .dataframe thead th {\n",
              "        text-align: right;\n",
              "    }\n",
              "</style>\n",
              "<table border=\"1\" class=\"dataframe\">\n",
              "  <thead>\n",
              "    <tr style=\"text-align: right;\">\n",
              "      <th></th>\n",
              "      <th>product_id</th>\n",
              "      <th>product_name</th>\n",
              "      <th>aisle_id</th>\n",
              "      <th>department_id</th>\n",
              "      <th>department</th>\n",
              "      <th>aisle</th>\n",
              "    </tr>\n",
              "  </thead>\n",
              "  <tbody>\n",
              "    <tr>\n",
              "      <th>0</th>\n",
              "      <td>1</td>\n",
              "      <td>Chocolate Sandwich Cookies</td>\n",
              "      <td>61</td>\n",
              "      <td>19</td>\n",
              "      <td>snacks</td>\n",
              "      <td>cookies cakes</td>\n",
              "    </tr>\n",
              "    <tr>\n",
              "      <th>1</th>\n",
              "      <td>78</td>\n",
              "      <td>Nutter Butter Cookie Bites Go-Pak</td>\n",
              "      <td>61</td>\n",
              "      <td>19</td>\n",
              "      <td>snacks</td>\n",
              "      <td>cookies cakes</td>\n",
              "    </tr>\n",
              "    <tr>\n",
              "      <th>2</th>\n",
              "      <td>102</td>\n",
              "      <td>Danish Butter Cookies</td>\n",
              "      <td>61</td>\n",
              "      <td>19</td>\n",
              "      <td>snacks</td>\n",
              "      <td>cookies cakes</td>\n",
              "    </tr>\n",
              "    <tr>\n",
              "      <th>3</th>\n",
              "      <td>172</td>\n",
              "      <td>Gluten Free All Natural Chocolate Chip Cookies</td>\n",
              "      <td>61</td>\n",
              "      <td>19</td>\n",
              "      <td>snacks</td>\n",
              "      <td>cookies cakes</td>\n",
              "    </tr>\n",
              "    <tr>\n",
              "      <th>4</th>\n",
              "      <td>285</td>\n",
              "      <td>Mini Nilla Wafers Munch Pack</td>\n",
              "      <td>61</td>\n",
              "      <td>19</td>\n",
              "      <td>snacks</td>\n",
              "      <td>cookies cakes</td>\n",
              "    </tr>\n",
              "  </tbody>\n",
              "</table>\n",
              "</div>"
            ],
            "text/plain": [
              "   product_id                                    product_name  aisle_id  \\\n",
              "0           1                      Chocolate Sandwich Cookies        61   \n",
              "1          78               Nutter Butter Cookie Bites Go-Pak        61   \n",
              "2         102                           Danish Butter Cookies        61   \n",
              "3         172  Gluten Free All Natural Chocolate Chip Cookies        61   \n",
              "4         285                    Mini Nilla Wafers Munch Pack        61   \n",
              "\n",
              "   department_id department          aisle  \n",
              "0             19     snacks  cookies cakes  \n",
              "1             19     snacks  cookies cakes  \n",
              "2             19     snacks  cookies cakes  \n",
              "3             19     snacks  cookies cakes  \n",
              "4             19     snacks  cookies cakes  "
            ]
          },
          "metadata": {
            "tags": []
          },
          "execution_count": 7
        }
      ]
    },
    {
      "metadata": {
        "id": "04i9FnswXCYQ",
        "colab_type": "text"
      },
      "cell_type": "markdown",
      "source": [
        "# Create a dataframe containing prior purchase history, and join with the catalog data, so we know what users are buying"
      ]
    },
    {
      "metadata": {
        "id": "WRUMo1msXCYS",
        "colab_type": "code",
        "colab": {}
      },
      "cell_type": "code",
      "source": [
        "# create dataframe with prior purchasing history\n",
        "orders = pd.read_csv('drive/My Drive/instacart/orders.csv')\n",
        "X = pd.read_csv('drive/My Drive/instacart/order_products__prior.csv')"
      ],
      "execution_count": 0,
      "outputs": []
    },
    {
      "metadata": {
        "id": "cFG02uD4XCYe",
        "colab_type": "code",
        "colab": {
          "base_uri": "https://localhost:8080/",
          "height": 68
        },
        "outputId": "1d297057-56ae-406d-d968-6b93f72ff457"
      },
      "cell_type": "code",
      "source": [
        "orders.columns"
      ],
      "execution_count": 9,
      "outputs": [
        {
          "output_type": "execute_result",
          "data": {
            "text/plain": [
              "Index(['order_id', 'user_id', 'eval_set', 'order_number', 'order_dow',\n",
              "       'order_hour_of_day', 'days_since_prior_order'],\n",
              "      dtype='object')"
            ]
          },
          "metadata": {
            "tags": []
          },
          "execution_count": 9
        }
      ]
    },
    {
      "metadata": {
        "id": "tzodgn-BXCYp",
        "colab_type": "code",
        "colab": {
          "base_uri": "https://localhost:8080/",
          "height": 34
        },
        "outputId": "9ba4c835-6e9a-4de9-8d73-acbe0403b355"
      },
      "cell_type": "code",
      "source": [
        "X.columns"
      ],
      "execution_count": 10,
      "outputs": [
        {
          "output_type": "execute_result",
          "data": {
            "text/plain": [
              "Index(['order_id', 'product_id', 'add_to_cart_order', 'reordered'], dtype='object')"
            ]
          },
          "metadata": {
            "tags": []
          },
          "execution_count": 10
        }
      ]
    },
    {
      "metadata": {
        "id": "SqfjEXt7XCY0",
        "colab_type": "code",
        "colab": {
          "base_uri": "https://localhost:8080/",
          "height": 309
        },
        "outputId": "6e27b5a1-3be5-483e-8e09-83b9d373df74"
      },
      "cell_type": "code",
      "source": [
        "X = pd.merge(X,orders,how='left',on='order_id')\n",
        "X = pd.merge(X,catalog,how='left',on = 'product_id')\n",
        "X.head()"
      ],
      "execution_count": 11,
      "outputs": [
        {
          "output_type": "execute_result",
          "data": {
            "text/html": [
              "<div>\n",
              "<style scoped>\n",
              "    .dataframe tbody tr th:only-of-type {\n",
              "        vertical-align: middle;\n",
              "    }\n",
              "\n",
              "    .dataframe tbody tr th {\n",
              "        vertical-align: top;\n",
              "    }\n",
              "\n",
              "    .dataframe thead th {\n",
              "        text-align: right;\n",
              "    }\n",
              "</style>\n",
              "<table border=\"1\" class=\"dataframe\">\n",
              "  <thead>\n",
              "    <tr style=\"text-align: right;\">\n",
              "      <th></th>\n",
              "      <th>order_id</th>\n",
              "      <th>product_id</th>\n",
              "      <th>add_to_cart_order</th>\n",
              "      <th>reordered</th>\n",
              "      <th>user_id</th>\n",
              "      <th>eval_set</th>\n",
              "      <th>order_number</th>\n",
              "      <th>order_dow</th>\n",
              "      <th>order_hour_of_day</th>\n",
              "      <th>days_since_prior_order</th>\n",
              "      <th>product_name</th>\n",
              "      <th>aisle_id</th>\n",
              "      <th>department_id</th>\n",
              "      <th>department</th>\n",
              "      <th>aisle</th>\n",
              "    </tr>\n",
              "  </thead>\n",
              "  <tbody>\n",
              "    <tr>\n",
              "      <th>0</th>\n",
              "      <td>2</td>\n",
              "      <td>33120</td>\n",
              "      <td>1</td>\n",
              "      <td>1</td>\n",
              "      <td>202279</td>\n",
              "      <td>prior</td>\n",
              "      <td>3</td>\n",
              "      <td>5</td>\n",
              "      <td>9</td>\n",
              "      <td>8.0</td>\n",
              "      <td>Organic Egg Whites</td>\n",
              "      <td>86</td>\n",
              "      <td>16</td>\n",
              "      <td>dairy eggs</td>\n",
              "      <td>eggs</td>\n",
              "    </tr>\n",
              "    <tr>\n",
              "      <th>1</th>\n",
              "      <td>2</td>\n",
              "      <td>28985</td>\n",
              "      <td>2</td>\n",
              "      <td>1</td>\n",
              "      <td>202279</td>\n",
              "      <td>prior</td>\n",
              "      <td>3</td>\n",
              "      <td>5</td>\n",
              "      <td>9</td>\n",
              "      <td>8.0</td>\n",
              "      <td>Michigan Organic Kale</td>\n",
              "      <td>83</td>\n",
              "      <td>4</td>\n",
              "      <td>produce</td>\n",
              "      <td>fresh vegetables</td>\n",
              "    </tr>\n",
              "    <tr>\n",
              "      <th>2</th>\n",
              "      <td>2</td>\n",
              "      <td>9327</td>\n",
              "      <td>3</td>\n",
              "      <td>0</td>\n",
              "      <td>202279</td>\n",
              "      <td>prior</td>\n",
              "      <td>3</td>\n",
              "      <td>5</td>\n",
              "      <td>9</td>\n",
              "      <td>8.0</td>\n",
              "      <td>Garlic Powder</td>\n",
              "      <td>104</td>\n",
              "      <td>13</td>\n",
              "      <td>pantry</td>\n",
              "      <td>spices seasonings</td>\n",
              "    </tr>\n",
              "    <tr>\n",
              "      <th>3</th>\n",
              "      <td>2</td>\n",
              "      <td>45918</td>\n",
              "      <td>4</td>\n",
              "      <td>1</td>\n",
              "      <td>202279</td>\n",
              "      <td>prior</td>\n",
              "      <td>3</td>\n",
              "      <td>5</td>\n",
              "      <td>9</td>\n",
              "      <td>8.0</td>\n",
              "      <td>Coconut Butter</td>\n",
              "      <td>19</td>\n",
              "      <td>13</td>\n",
              "      <td>pantry</td>\n",
              "      <td>oils vinegars</td>\n",
              "    </tr>\n",
              "    <tr>\n",
              "      <th>4</th>\n",
              "      <td>2</td>\n",
              "      <td>30035</td>\n",
              "      <td>5</td>\n",
              "      <td>0</td>\n",
              "      <td>202279</td>\n",
              "      <td>prior</td>\n",
              "      <td>3</td>\n",
              "      <td>5</td>\n",
              "      <td>9</td>\n",
              "      <td>8.0</td>\n",
              "      <td>Natural Sweetener</td>\n",
              "      <td>17</td>\n",
              "      <td>13</td>\n",
              "      <td>pantry</td>\n",
              "      <td>baking ingredients</td>\n",
              "    </tr>\n",
              "  </tbody>\n",
              "</table>\n",
              "</div>"
            ],
            "text/plain": [
              "   order_id  product_id  add_to_cart_order  reordered  user_id eval_set  \\\n",
              "0         2       33120                  1          1   202279    prior   \n",
              "1         2       28985                  2          1   202279    prior   \n",
              "2         2        9327                  3          0   202279    prior   \n",
              "3         2       45918                  4          1   202279    prior   \n",
              "4         2       30035                  5          0   202279    prior   \n",
              "\n",
              "   order_number  order_dow  order_hour_of_day  days_since_prior_order  \\\n",
              "0             3          5                  9                     8.0   \n",
              "1             3          5                  9                     8.0   \n",
              "2             3          5                  9                     8.0   \n",
              "3             3          5                  9                     8.0   \n",
              "4             3          5                  9                     8.0   \n",
              "\n",
              "            product_name  aisle_id  department_id  department  \\\n",
              "0     Organic Egg Whites        86             16  dairy eggs   \n",
              "1  Michigan Organic Kale        83              4     produce   \n",
              "2          Garlic Powder       104             13      pantry   \n",
              "3         Coconut Butter        19             13      pantry   \n",
              "4      Natural Sweetener        17             13      pantry   \n",
              "\n",
              "                aisle  \n",
              "0                eggs  \n",
              "1    fresh vegetables  \n",
              "2   spices seasonings  \n",
              "3       oils vinegars  \n",
              "4  baking ingredients  "
            ]
          },
          "metadata": {
            "tags": []
          },
          "execution_count": 11
        }
      ]
    },
    {
      "metadata": {
        "id": "-iPFvgduI0NA",
        "colab_type": "text"
      },
      "cell_type": "markdown",
      "source": [
        "*Because this dataset consumes a tremendous amount of memory (3.9GB+), downsample the dataset to lighten the computational load. Once we get a working model, we can come back and use the full dataset.*"
      ]
    },
    {
      "metadata": {
        "id": "hv0D4jI-I1MQ",
        "colab_type": "code",
        "colab": {}
      },
      "cell_type": "code",
      "source": [
        "# downsample the original datasets to 1 million records\n",
        "X = X.iloc[0:1000000,]"
      ],
      "execution_count": 0,
      "outputs": []
    },
    {
      "metadata": {
        "id": "RMZ8etwMI8C4",
        "colab_type": "code",
        "colab": {
          "base_uri": "https://localhost:8080/",
          "height": 34
        },
        "outputId": "e544f8ec-df88-4f42-c1d9-18694f802024"
      },
      "cell_type": "code",
      "source": [
        "X.shape"
      ],
      "execution_count": 13,
      "outputs": [
        {
          "output_type": "execute_result",
          "data": {
            "text/plain": [
              "(1000000, 15)"
            ]
          },
          "metadata": {
            "tags": []
          },
          "execution_count": 13
        }
      ]
    },
    {
      "metadata": {
        "id": "r1zRiBXsJZg4",
        "colab_type": "text"
      },
      "cell_type": "markdown",
      "source": [
        "**Check for missing Data if any**"
      ]
    },
    {
      "metadata": {
        "id": "1Uk484aEI-5Y",
        "colab_type": "code",
        "colab": {
          "base_uri": "https://localhost:8080/",
          "height": 51
        },
        "outputId": "3bcc080d-61fc-4c2c-8058-b32fdfc86484"
      },
      "cell_type": "code",
      "source": [
        "X.isnull().sum()[X.isnull().sum() !=0]"
      ],
      "execution_count": 16,
      "outputs": [
        {
          "output_type": "execute_result",
          "data": {
            "text/plain": [
              "days_since_prior_order    63884\n",
              "dtype: int64"
            ]
          },
          "metadata": {
            "tags": []
          },
          "execution_count": 16
        }
      ]
    },
    {
      "metadata": {
        "id": "i8x_B5H3KF6w",
        "colab_type": "text"
      },
      "cell_type": "markdown",
      "source": [
        "*There is some missing data here as a result of new users who have just signed up, and started using the service.\n",
        "\n",
        "As a result, Instacart does not have any previous record of these users making a prior purchase, leaving us with a null value. \n",
        "\n",
        "Replace these null values with 0.*"
      ]
    },
    {
      "metadata": {
        "id": "KFQIkuvsKKyy",
        "colab_type": "code",
        "colab": {}
      },
      "cell_type": "code",
      "source": [
        "# replace null values with 0\n",
        "X.replace(np.NaN, 0, inplace=True)"
      ],
      "execution_count": 0,
      "outputs": []
    },
    {
      "metadata": {
        "id": "ttIvBgboKUJS",
        "colab_type": "code",
        "colab": {
          "base_uri": "https://localhost:8080/",
          "height": 34
        },
        "outputId": "4856caff-5ae3-4dc1-a33b-a1c713861cc3"
      },
      "cell_type": "code",
      "source": [
        "X.isnull().sum()[X.isnull().sum() !=0]"
      ],
      "execution_count": 18,
      "outputs": [
        {
          "output_type": "execute_result",
          "data": {
            "text/plain": [
              "Series([], dtype: int64)"
            ]
          },
          "metadata": {
            "tags": []
          },
          "execution_count": 18
        }
      ]
    },
    {
      "metadata": {
        "id": "WE-Z5Nb-KZI5",
        "colab_type": "text"
      },
      "cell_type": "markdown",
      "source": [
        "**datatypes**"
      ]
    },
    {
      "metadata": {
        "id": "IXc6MQSYKaeK",
        "colab_type": "code",
        "colab": {
          "base_uri": "https://localhost:8080/",
          "height": 357
        },
        "outputId": "55da93be-2064-4f16-8e49-ed8df94d8dd7"
      },
      "cell_type": "code",
      "source": [
        "X.info()"
      ],
      "execution_count": 19,
      "outputs": [
        {
          "output_type": "stream",
          "text": [
            "<class 'pandas.core.frame.DataFrame'>\n",
            "Int64Index: 1000000 entries, 0 to 999999\n",
            "Data columns (total 15 columns):\n",
            "order_id                  1000000 non-null int64\n",
            "product_id                1000000 non-null int64\n",
            "add_to_cart_order         1000000 non-null int64\n",
            "reordered                 1000000 non-null int64\n",
            "user_id                   1000000 non-null int64\n",
            "eval_set                  1000000 non-null object\n",
            "order_number              1000000 non-null int64\n",
            "order_dow                 1000000 non-null int64\n",
            "order_hour_of_day         1000000 non-null int64\n",
            "days_since_prior_order    1000000 non-null float64\n",
            "product_name              1000000 non-null object\n",
            "aisle_id                  1000000 non-null int64\n",
            "department_id             1000000 non-null int64\n",
            "department                1000000 non-null object\n",
            "aisle                     1000000 non-null object\n",
            "dtypes: float64(1), int64(10), object(4)\n",
            "memory usage: 122.1+ MB\n"
          ],
          "name": "stdout"
        }
      ]
    },
    {
      "metadata": {
        "id": "pkN9wOdHKymd",
        "colab_type": "text"
      },
      "cell_type": "markdown",
      "source": [
        "Quite a few variables are numerical when they should be categorical.\n",
        "\n",
        "For example, while **aisle_id** is a number, it is really a categorical variable, because each aisle is discrete. Also, convert days_since_prior_order to an integer because it doesn't make sense for it to be a float (i.e. there aren't 8.675 days). Finally, drop user_id/eval_set because they have no predictive value, and are just unique identifiers."
      ]
    },
    {
      "metadata": {
        "id": "UvW7W1NjKyGU",
        "colab_type": "code",
        "colab": {}
      },
      "cell_type": "code",
      "source": [
        "# convert days_since_prior_order to integer first\n",
        "X['days_since_prior_order'] = X['days_since_prior_order'].astype(int)"
      ],
      "execution_count": 0,
      "outputs": []
    },
    {
      "metadata": {
        "id": "3Izq4TJWLADf",
        "colab_type": "code",
        "colab": {}
      },
      "cell_type": "code",
      "source": [
        "obj_col = []\n",
        "for i in X.columns:\n",
        "  if X[i].dtypes == 'object':\n",
        "    obj_col.append(i)"
      ],
      "execution_count": 0,
      "outputs": []
    },
    {
      "metadata": {
        "id": "N5fC1-KHLcjZ",
        "colab_type": "code",
        "colab": {
          "base_uri": "https://localhost:8080/",
          "height": 34
        },
        "outputId": "834bb4c5-52c1-4953-ed16-b95d8affb515"
      },
      "cell_type": "code",
      "source": [
        "obj_col"
      ],
      "execution_count": 23,
      "outputs": [
        {
          "output_type": "execute_result",
          "data": {
            "text/plain": [
              "['eval_set', 'product_name', 'department', 'aisle']"
            ]
          },
          "metadata": {
            "tags": []
          },
          "execution_count": 23
        }
      ]
    },
    {
      "metadata": {
        "id": "Gm8F7D3ALiTi",
        "colab_type": "code",
        "colab": {}
      },
      "cell_type": "code",
      "source": [
        "# convert integers to categorical variables\n",
        "int_to_cat = ['product_id', 'reordered', 'order_dow', \n",
        "              'order_hour_of_day', 'aisle_id', 'department_id',\n",
        "              'days_since_prior_order']\n",
        "\n",
        "for var in int_to_cat:\n",
        "    X[var] = X[var].astype('str')"
      ],
      "execution_count": 0,
      "outputs": []
    },
    {
      "metadata": {
        "id": "ZVvoDkykLzR1",
        "colab_type": "code",
        "colab": {
          "base_uri": "https://localhost:8080/",
          "height": 357
        },
        "outputId": "50917a13-57ac-4750-e8f7-2b8299ee0558"
      },
      "cell_type": "code",
      "source": [
        "X.info()"
      ],
      "execution_count": 25,
      "outputs": [
        {
          "output_type": "stream",
          "text": [
            "<class 'pandas.core.frame.DataFrame'>\n",
            "Int64Index: 1000000 entries, 0 to 999999\n",
            "Data columns (total 15 columns):\n",
            "order_id                  1000000 non-null int64\n",
            "product_id                1000000 non-null object\n",
            "add_to_cart_order         1000000 non-null int64\n",
            "reordered                 1000000 non-null object\n",
            "user_id                   1000000 non-null int64\n",
            "eval_set                  1000000 non-null object\n",
            "order_number              1000000 non-null int64\n",
            "order_dow                 1000000 non-null object\n",
            "order_hour_of_day         1000000 non-null object\n",
            "days_since_prior_order    1000000 non-null object\n",
            "product_name              1000000 non-null object\n",
            "aisle_id                  1000000 non-null object\n",
            "department_id             1000000 non-null object\n",
            "department                1000000 non-null object\n",
            "aisle                     1000000 non-null object\n",
            "dtypes: int64(4), object(11)\n",
            "memory usage: 122.1+ MB\n"
          ],
          "name": "stdout"
        }
      ]
    },
    {
      "metadata": {
        "id": "D_E7B9vPL5KN",
        "colab_type": "code",
        "colab": {}
      },
      "cell_type": "code",
      "source": [
        "# drop unnecessary variables\n",
        "X.drop(['user_id', 'eval_set'], axis=1, inplace=True)"
      ],
      "execution_count": 0,
      "outputs": []
    },
    {
      "metadata": {
        "id": "6hRX6An-L6ih",
        "colab_type": "code",
        "colab": {
          "base_uri": "https://localhost:8080/",
          "height": 309
        },
        "outputId": "54228baf-2bb6-4d9e-86d7-98bdd1e77943"
      },
      "cell_type": "code",
      "source": [
        "X.head()"
      ],
      "execution_count": 27,
      "outputs": [
        {
          "output_type": "execute_result",
          "data": {
            "text/html": [
              "<div>\n",
              "<style scoped>\n",
              "    .dataframe tbody tr th:only-of-type {\n",
              "        vertical-align: middle;\n",
              "    }\n",
              "\n",
              "    .dataframe tbody tr th {\n",
              "        vertical-align: top;\n",
              "    }\n",
              "\n",
              "    .dataframe thead th {\n",
              "        text-align: right;\n",
              "    }\n",
              "</style>\n",
              "<table border=\"1\" class=\"dataframe\">\n",
              "  <thead>\n",
              "    <tr style=\"text-align: right;\">\n",
              "      <th></th>\n",
              "      <th>order_id</th>\n",
              "      <th>product_id</th>\n",
              "      <th>add_to_cart_order</th>\n",
              "      <th>reordered</th>\n",
              "      <th>order_number</th>\n",
              "      <th>order_dow</th>\n",
              "      <th>order_hour_of_day</th>\n",
              "      <th>days_since_prior_order</th>\n",
              "      <th>product_name</th>\n",
              "      <th>aisle_id</th>\n",
              "      <th>department_id</th>\n",
              "      <th>department</th>\n",
              "      <th>aisle</th>\n",
              "    </tr>\n",
              "  </thead>\n",
              "  <tbody>\n",
              "    <tr>\n",
              "      <th>0</th>\n",
              "      <td>2</td>\n",
              "      <td>33120</td>\n",
              "      <td>1</td>\n",
              "      <td>1</td>\n",
              "      <td>3</td>\n",
              "      <td>5</td>\n",
              "      <td>9</td>\n",
              "      <td>8</td>\n",
              "      <td>Organic Egg Whites</td>\n",
              "      <td>86</td>\n",
              "      <td>16</td>\n",
              "      <td>dairy eggs</td>\n",
              "      <td>eggs</td>\n",
              "    </tr>\n",
              "    <tr>\n",
              "      <th>1</th>\n",
              "      <td>2</td>\n",
              "      <td>28985</td>\n",
              "      <td>2</td>\n",
              "      <td>1</td>\n",
              "      <td>3</td>\n",
              "      <td>5</td>\n",
              "      <td>9</td>\n",
              "      <td>8</td>\n",
              "      <td>Michigan Organic Kale</td>\n",
              "      <td>83</td>\n",
              "      <td>4</td>\n",
              "      <td>produce</td>\n",
              "      <td>fresh vegetables</td>\n",
              "    </tr>\n",
              "    <tr>\n",
              "      <th>2</th>\n",
              "      <td>2</td>\n",
              "      <td>9327</td>\n",
              "      <td>3</td>\n",
              "      <td>0</td>\n",
              "      <td>3</td>\n",
              "      <td>5</td>\n",
              "      <td>9</td>\n",
              "      <td>8</td>\n",
              "      <td>Garlic Powder</td>\n",
              "      <td>104</td>\n",
              "      <td>13</td>\n",
              "      <td>pantry</td>\n",
              "      <td>spices seasonings</td>\n",
              "    </tr>\n",
              "    <tr>\n",
              "      <th>3</th>\n",
              "      <td>2</td>\n",
              "      <td>45918</td>\n",
              "      <td>4</td>\n",
              "      <td>1</td>\n",
              "      <td>3</td>\n",
              "      <td>5</td>\n",
              "      <td>9</td>\n",
              "      <td>8</td>\n",
              "      <td>Coconut Butter</td>\n",
              "      <td>19</td>\n",
              "      <td>13</td>\n",
              "      <td>pantry</td>\n",
              "      <td>oils vinegars</td>\n",
              "    </tr>\n",
              "    <tr>\n",
              "      <th>4</th>\n",
              "      <td>2</td>\n",
              "      <td>30035</td>\n",
              "      <td>5</td>\n",
              "      <td>0</td>\n",
              "      <td>3</td>\n",
              "      <td>5</td>\n",
              "      <td>9</td>\n",
              "      <td>8</td>\n",
              "      <td>Natural Sweetener</td>\n",
              "      <td>17</td>\n",
              "      <td>13</td>\n",
              "      <td>pantry</td>\n",
              "      <td>baking ingredients</td>\n",
              "    </tr>\n",
              "  </tbody>\n",
              "</table>\n",
              "</div>"
            ],
            "text/plain": [
              "   order_id product_id  add_to_cart_order reordered  order_number order_dow  \\\n",
              "0         2      33120                  1         1             3         5   \n",
              "1         2      28985                  2         1             3         5   \n",
              "2         2       9327                  3         0             3         5   \n",
              "3         2      45918                  4         1             3         5   \n",
              "4         2      30035                  5         0             3         5   \n",
              "\n",
              "  order_hour_of_day days_since_prior_order           product_name aisle_id  \\\n",
              "0                 9                      8     Organic Egg Whites       86   \n",
              "1                 9                      8  Michigan Organic Kale       83   \n",
              "2                 9                      8          Garlic Powder      104   \n",
              "3                 9                      8         Coconut Butter       19   \n",
              "4                 9                      8      Natural Sweetener       17   \n",
              "\n",
              "  department_id  department               aisle  \n",
              "0            16  dairy eggs                eggs  \n",
              "1             4     produce    fresh vegetables  \n",
              "2            13      pantry   spices seasonings  \n",
              "3            13      pantry       oils vinegars  \n",
              "4            13      pantry  baking ingredients  "
            ]
          },
          "metadata": {
            "tags": []
          },
          "execution_count": 27
        }
      ]
    },
    {
      "metadata": {
        "id": "PDKYoJ3NMEc7",
        "colab_type": "text"
      },
      "cell_type": "markdown",
      "source": [
        "**Visualizing the catalog**"
      ]
    },
    {
      "metadata": {
        "id": "xlsEmy34MRCh",
        "colab_type": "code",
        "colab": {
          "base_uri": "https://localhost:8080/",
          "height": 105
        },
        "outputId": "a3d47d1d-f800-497a-bbf2-d0f15424044d"
      },
      "cell_type": "code",
      "source": [
        "!pip install squarify"
      ],
      "execution_count": 29,
      "outputs": [
        {
          "output_type": "stream",
          "text": [
            "Collecting squarify\n",
            "  Downloading https://files.pythonhosted.org/packages/4e/f2/1f47d7f8c34e3c5f45de8b7fad06947558964e05ce6cccc94cf2066bd22b/squarify-0.4.2-py3-none-any.whl\n",
            "Installing collected packages: squarify\n",
            "Successfully installed squarify-0.4.2\n"
          ],
          "name": "stdout"
        }
      ]
    },
    {
      "metadata": {
        "id": "uxZR1A5OMFUh",
        "colab_type": "code",
        "colab": {}
      },
      "cell_type": "code",
      "source": [
        "# import squarify to create a treemap\n",
        "import squarify\n",
        "import matplotlib\n"
      ],
      "execution_count": 0,
      "outputs": []
    },
    {
      "metadata": {
        "id": "c30QTWzLMdl8",
        "colab_type": "code",
        "colab": {}
      },
      "cell_type": "code",
      "source": [
        "# get number of products in each department\n",
        "x1 = (catalog.groupby(['department']).count().reset_index())"
      ],
      "execution_count": 0,
      "outputs": []
    },
    {
      "metadata": {
        "id": "po-G7CFXMiPS",
        "colab_type": "code",
        "colab": {
          "base_uri": "https://localhost:8080/",
          "height": 204
        },
        "outputId": "210091d1-54e9-49e3-b453-23233c82e2cf"
      },
      "cell_type": "code",
      "source": [
        "x1.head()"
      ],
      "execution_count": 33,
      "outputs": [
        {
          "output_type": "execute_result",
          "data": {
            "text/html": [
              "<div>\n",
              "<style scoped>\n",
              "    .dataframe tbody tr th:only-of-type {\n",
              "        vertical-align: middle;\n",
              "    }\n",
              "\n",
              "    .dataframe tbody tr th {\n",
              "        vertical-align: top;\n",
              "    }\n",
              "\n",
              "    .dataframe thead th {\n",
              "        text-align: right;\n",
              "    }\n",
              "</style>\n",
              "<table border=\"1\" class=\"dataframe\">\n",
              "  <thead>\n",
              "    <tr style=\"text-align: right;\">\n",
              "      <th></th>\n",
              "      <th>department</th>\n",
              "      <th>product_id</th>\n",
              "      <th>product_name</th>\n",
              "      <th>aisle_id</th>\n",
              "      <th>department_id</th>\n",
              "      <th>aisle</th>\n",
              "    </tr>\n",
              "  </thead>\n",
              "  <tbody>\n",
              "    <tr>\n",
              "      <th>0</th>\n",
              "      <td>alcohol</td>\n",
              "      <td>1054</td>\n",
              "      <td>1054</td>\n",
              "      <td>1054</td>\n",
              "      <td>1054</td>\n",
              "      <td>1054</td>\n",
              "    </tr>\n",
              "    <tr>\n",
              "      <th>1</th>\n",
              "      <td>babies</td>\n",
              "      <td>1081</td>\n",
              "      <td>1081</td>\n",
              "      <td>1081</td>\n",
              "      <td>1081</td>\n",
              "      <td>1081</td>\n",
              "    </tr>\n",
              "    <tr>\n",
              "      <th>2</th>\n",
              "      <td>bakery</td>\n",
              "      <td>1516</td>\n",
              "      <td>1516</td>\n",
              "      <td>1516</td>\n",
              "      <td>1516</td>\n",
              "      <td>1516</td>\n",
              "    </tr>\n",
              "    <tr>\n",
              "      <th>3</th>\n",
              "      <td>beverages</td>\n",
              "      <td>4365</td>\n",
              "      <td>4365</td>\n",
              "      <td>4365</td>\n",
              "      <td>4365</td>\n",
              "      <td>4365</td>\n",
              "    </tr>\n",
              "    <tr>\n",
              "      <th>4</th>\n",
              "      <td>breakfast</td>\n",
              "      <td>1115</td>\n",
              "      <td>1115</td>\n",
              "      <td>1115</td>\n",
              "      <td>1115</td>\n",
              "      <td>1115</td>\n",
              "    </tr>\n",
              "  </tbody>\n",
              "</table>\n",
              "</div>"
            ],
            "text/plain": [
              "  department  product_id  product_name  aisle_id  department_id  aisle\n",
              "0    alcohol        1054          1054      1054           1054   1054\n",
              "1     babies        1081          1081      1081           1081   1081\n",
              "2     bakery        1516          1516      1516           1516   1516\n",
              "3  beverages        4365          4365      4365           4365   4365\n",
              "4  breakfast        1115          1115      1115           1115   1115"
            ]
          },
          "metadata": {
            "tags": []
          },
          "execution_count": 33
        }
      ]
    },
    {
      "metadata": {
        "id": "C4hWmYhHMYE9",
        "colab_type": "code",
        "colab": {
          "base_uri": "https://localhost:8080/",
          "height": 119
        },
        "outputId": "a56b6670-1212-484d-c254-df8260d14f74"
      },
      "cell_type": "code",
      "source": [
        "# generate labels with number of products in each department\n",
        "labels = x1.apply(lambda x: str(x[0]) + '\\n (' + str(x[1]) + ')', axis=1)\n",
        "labels.head()"
      ],
      "execution_count": 34,
      "outputs": [
        {
          "output_type": "execute_result",
          "data": {
            "text/plain": [
              "0      alcohol\\n (1054)\n",
              "1       babies\\n (1081)\n",
              "2       bakery\\n (1516)\n",
              "3    beverages\\n (4365)\n",
              "4    breakfast\\n (1115)\n",
              "dtype: object"
            ]
          },
          "metadata": {
            "tags": []
          },
          "execution_count": 34
        }
      ]
    },
    {
      "metadata": {
        "id": "pW2lKTA4M_RS",
        "colab_type": "code",
        "colab": {
          "base_uri": "https://localhost:8080/",
          "height": 540
        },
        "outputId": "7563b1f8-92b2-4af9-d567-207ada217436"
      },
      "cell_type": "code",
      "source": [
        "# create plot\n",
        "plt.figure(figsize=(15, 8), dpi=75)\n",
        "\n",
        "# plot data and add padding around squares for better visualization\n",
        "squarify.plot(label=labels, sizes=x1.product_id, color='#43B02A',\n",
        "              text_kwargs={'fontsize':'large', 'color':'white'},\n",
        "              bar_kwargs={'edgecolor': 'w', 'linewidth':5})\n",
        "plt.title('Instacart catalog', fontsize=16)\n",
        "\n",
        "# remove axes and display plot\n",
        "plt.axis('off')\n",
        "plt.show()"
      ],
      "execution_count": 38,
      "outputs": [
        {
          "output_type": "display_data",
          "data": {
            "image/png": "[encoded data removed]",
            "text/plain": [
              "<Figure size 1125x600 with 1 Axes>"
            ]
          },
          "metadata": {
            "tags": []
          }
        }
      ]
    },
    {
      "metadata": {
        "id": "HStA0vmLSQ0k",
        "colab_type": "text"
      },
      "cell_type": "markdown",
      "source": [
        "The snack, personal care, and pantry departments contain the most products, and users probably tend to purchase more frequently from these departments. This provides some intuition about what types of items users are likely to reorder: everyday items that are rapidly consumed. Having a diverse selection of items in these departments ensure consumers will find a brand they like, and will buy time and time again.\n",
        "\n",
        "However, the quantity of items in each department is not an indicator of how likely users will purchase from that department. For example, the meat and seafood department can only offer a certain number of products. There are a finite number of cuts of meat, and types of seafood at any given time during the year. Additionally, seafood availability is heavily dependent on geography, and access to distributors. Likewise, produce is also impacted by seasonal availability. In contrast, there could be a near infinite variety of snacks or personal care products (i.e. many different types of deodorant scent).\n",
        "\n",
        "Interestingly, there is also a department of missing items, where the item is not available in-store. This is bad for shoppers who are looking for the item in-store but cannot find them, leading to wasted time, and delayed delivery. Customers aren't happy because they don't get what they want, and the suggested replacement item may not be satisfactory, leading to frustration. Finally, retail partners miss an opportunity to generate revenue on the item."
      ]
    },
    {
      "metadata": {
        "id": "XGyAIq2zSn8E",
        "colab_type": "text"
      },
      "cell_type": "markdown",
      "source": [
        "** Department purchasing traffic**\n",
        "\n",
        "Understanding time-based customer behavior is useful for generating personalized suggestions. Suppose most users order from the meat and seafood department in the evening so that it is ready for dinner. Instacart can then send a notification to users, whether it is to remind them to order their usual tri-tip, or suggest them to try the Chilean sea bass for the first time tonight."
      ]
    },
    {
      "metadata": {
        "id": "bqyt8eHFSSIc",
        "colab_type": "code",
        "colab": {
          "base_uri": "https://localhost:8080/",
          "height": 224
        },
        "outputId": "560255f8-19fc-4904-8c64-ca75a0fda143"
      },
      "cell_type": "code",
      "source": [
        "# create dataframe for number of orders per hour of day for each department\n",
        "x2 = (X.groupby(['department', 'order_hour_of_day']).count().reset_index())\n",
        "x2.head()"
      ],
      "execution_count": 39,
      "outputs": [
        {
          "output_type": "execute_result",
          "data": {
            "text/html": [
              "<div>\n",
              "<style scoped>\n",
              "    .dataframe tbody tr th:only-of-type {\n",
              "        vertical-align: middle;\n",
              "    }\n",
              "\n",
              "    .dataframe tbody tr th {\n",
              "        vertical-align: top;\n",
              "    }\n",
              "\n",
              "    .dataframe thead th {\n",
              "        text-align: right;\n",
              "    }\n",
              "</style>\n",
              "<table border=\"1\" class=\"dataframe\">\n",
              "  <thead>\n",
              "    <tr style=\"text-align: right;\">\n",
              "      <th></th>\n",
              "      <th>department</th>\n",
              "      <th>order_hour_of_day</th>\n",
              "      <th>order_id</th>\n",
              "      <th>product_id</th>\n",
              "      <th>add_to_cart_order</th>\n",
              "      <th>reordered</th>\n",
              "      <th>order_number</th>\n",
              "      <th>order_dow</th>\n",
              "      <th>days_since_prior_order</th>\n",
              "      <th>product_name</th>\n",
              "      <th>aisle_id</th>\n",
              "      <th>department_id</th>\n",
              "      <th>aisle</th>\n",
              "    </tr>\n",
              "  </thead>\n",
              "  <tbody>\n",
              "    <tr>\n",
              "      <th>0</th>\n",
              "      <td>alcohol</td>\n",
              "      <td>0</td>\n",
              "      <td>13</td>\n",
              "      <td>13</td>\n",
              "      <td>13</td>\n",
              "      <td>13</td>\n",
              "      <td>13</td>\n",
              "      <td>13</td>\n",
              "      <td>13</td>\n",
              "      <td>13</td>\n",
              "      <td>13</td>\n",
              "      <td>13</td>\n",
              "      <td>13</td>\n",
              "    </tr>\n",
              "    <tr>\n",
              "      <th>1</th>\n",
              "      <td>alcohol</td>\n",
              "      <td>1</td>\n",
              "      <td>7</td>\n",
              "      <td>7</td>\n",
              "      <td>7</td>\n",
              "      <td>7</td>\n",
              "      <td>7</td>\n",
              "      <td>7</td>\n",
              "      <td>7</td>\n",
              "      <td>7</td>\n",
              "      <td>7</td>\n",
              "      <td>7</td>\n",
              "      <td>7</td>\n",
              "    </tr>\n",
              "    <tr>\n",
              "      <th>2</th>\n",
              "      <td>alcohol</td>\n",
              "      <td>10</td>\n",
              "      <td>407</td>\n",
              "      <td>407</td>\n",
              "      <td>407</td>\n",
              "      <td>407</td>\n",
              "      <td>407</td>\n",
              "      <td>407</td>\n",
              "      <td>407</td>\n",
              "      <td>407</td>\n",
              "      <td>407</td>\n",
              "      <td>407</td>\n",
              "      <td>407</td>\n",
              "    </tr>\n",
              "    <tr>\n",
              "      <th>3</th>\n",
              "      <td>alcohol</td>\n",
              "      <td>11</td>\n",
              "      <td>464</td>\n",
              "      <td>464</td>\n",
              "      <td>464</td>\n",
              "      <td>464</td>\n",
              "      <td>464</td>\n",
              "      <td>464</td>\n",
              "      <td>464</td>\n",
              "      <td>464</td>\n",
              "      <td>464</td>\n",
              "      <td>464</td>\n",
              "      <td>464</td>\n",
              "    </tr>\n",
              "    <tr>\n",
              "      <th>4</th>\n",
              "      <td>alcohol</td>\n",
              "      <td>12</td>\n",
              "      <td>465</td>\n",
              "      <td>465</td>\n",
              "      <td>465</td>\n",
              "      <td>465</td>\n",
              "      <td>465</td>\n",
              "      <td>465</td>\n",
              "      <td>465</td>\n",
              "      <td>465</td>\n",
              "      <td>465</td>\n",
              "      <td>465</td>\n",
              "      <td>465</td>\n",
              "    </tr>\n",
              "  </tbody>\n",
              "</table>\n",
              "</div>"
            ],
            "text/plain": [
              "  department order_hour_of_day  order_id  product_id  add_to_cart_order  \\\n",
              "0    alcohol                 0        13          13                 13   \n",
              "1    alcohol                 1         7           7                  7   \n",
              "2    alcohol                10       407         407                407   \n",
              "3    alcohol                11       464         464                464   \n",
              "4    alcohol                12       465         465                465   \n",
              "\n",
              "   reordered  order_number  order_dow  days_since_prior_order  product_name  \\\n",
              "0         13            13         13                      13            13   \n",
              "1          7             7          7                       7             7   \n",
              "2        407           407        407                     407           407   \n",
              "3        464           464        464                     464           464   \n",
              "4        465           465        465                     465           465   \n",
              "\n",
              "   aisle_id  department_id  aisle  \n",
              "0        13             13     13  \n",
              "1         7              7      7  \n",
              "2       407            407    407  \n",
              "3       464            464    464  \n",
              "4       465            465    465  "
            ]
          },
          "metadata": {
            "tags": []
          },
          "execution_count": 39
        }
      ]
    },
    {
      "metadata": {
        "id": "PmWxdGyFS62b",
        "colab_type": "code",
        "colab": {}
      },
      "cell_type": "code",
      "source": [
        "x3 = x2[['department','order_hour_of_day','order_id']].rename(columns={'order_id':'number_of_orders'})"
      ],
      "execution_count": 0,
      "outputs": []
    },
    {
      "metadata": {
        "id": "MHXTV4GqS9kR",
        "colab_type": "code",
        "colab": {
          "base_uri": "https://localhost:8080/",
          "height": 204
        },
        "outputId": "4de84987-bdd2-4206-c5d9-c4a9a60c9d88"
      },
      "cell_type": "code",
      "source": [
        "x3.head()"
      ],
      "execution_count": 45,
      "outputs": [
        {
          "output_type": "execute_result",
          "data": {
            "text/html": [
              "<div>\n",
              "<style scoped>\n",
              "    .dataframe tbody tr th:only-of-type {\n",
              "        vertical-align: middle;\n",
              "    }\n",
              "\n",
              "    .dataframe tbody tr th {\n",
              "        vertical-align: top;\n",
              "    }\n",
              "\n",
              "    .dataframe thead th {\n",
              "        text-align: right;\n",
              "    }\n",
              "</style>\n",
              "<table border=\"1\" class=\"dataframe\">\n",
              "  <thead>\n",
              "    <tr style=\"text-align: right;\">\n",
              "      <th></th>\n",
              "      <th>department</th>\n",
              "      <th>order_hour_of_day</th>\n",
              "      <th>number_of_orders</th>\n",
              "    </tr>\n",
              "  </thead>\n",
              "  <tbody>\n",
              "    <tr>\n",
              "      <th>0</th>\n",
              "      <td>alcohol</td>\n",
              "      <td>0</td>\n",
              "      <td>13</td>\n",
              "    </tr>\n",
              "    <tr>\n",
              "      <th>1</th>\n",
              "      <td>alcohol</td>\n",
              "      <td>1</td>\n",
              "      <td>7</td>\n",
              "    </tr>\n",
              "    <tr>\n",
              "      <th>2</th>\n",
              "      <td>alcohol</td>\n",
              "      <td>10</td>\n",
              "      <td>407</td>\n",
              "    </tr>\n",
              "    <tr>\n",
              "      <th>3</th>\n",
              "      <td>alcohol</td>\n",
              "      <td>11</td>\n",
              "      <td>464</td>\n",
              "    </tr>\n",
              "    <tr>\n",
              "      <th>4</th>\n",
              "      <td>alcohol</td>\n",
              "      <td>12</td>\n",
              "      <td>465</td>\n",
              "    </tr>\n",
              "  </tbody>\n",
              "</table>\n",
              "</div>"
            ],
            "text/plain": [
              "  department order_hour_of_day  number_of_orders\n",
              "0    alcohol                 0                13\n",
              "1    alcohol                 1                 7\n",
              "2    alcohol                10               407\n",
              "3    alcohol                11               464\n",
              "4    alcohol                12               465"
            ]
          },
          "metadata": {
            "tags": []
          },
          "execution_count": 45
        }
      ]
    },
    {
      "metadata": {
        "id": "s-xW-PXGTc8k",
        "colab_type": "code",
        "colab": {}
      },
      "cell_type": "code",
      "source": [
        "x3.order_hour_of_day = x2.order_hour_of_day.astype('int')"
      ],
      "execution_count": 0,
      "outputs": []
    },
    {
      "metadata": {
        "id": "-_Whmp1lTe-d",
        "colab_type": "code",
        "colab": {
          "base_uri": "https://localhost:8080/",
          "height": 153
        },
        "outputId": "ddb529d5-47b4-48da-95a8-4df20e0d3855"
      },
      "cell_type": "code",
      "source": [
        "x3.info()"
      ],
      "execution_count": 47,
      "outputs": [
        {
          "output_type": "stream",
          "text": [
            "<class 'pandas.core.frame.DataFrame'>\n",
            "RangeIndex: 504 entries, 0 to 503\n",
            "Data columns (total 3 columns):\n",
            "department           504 non-null object\n",
            "order_hour_of_day    504 non-null int64\n",
            "number_of_orders     504 non-null int64\n",
            "dtypes: int64(2), object(1)\n",
            "memory usage: 11.9+ KB\n"
          ],
          "name": "stdout"
        }
      ]
    },
    {
      "metadata": {
        "id": "erapzh4QTnbD",
        "colab_type": "code",
        "colab": {
          "base_uri": "https://localhost:8080/",
          "height": 576
        },
        "outputId": "ce479cac-4c7a-460c-b81d-86b5827b0eaf"
      },
      "cell_type": "code",
      "source": [
        "# create plot\n",
        "sns.set_style('whitegrid')\n",
        "plt.figure(figsize=(15, 8), dpi=75)\n",
        "\n",
        "# plot data\n",
        "sns.lineplot(x='order_hour_of_day', y='number_of_orders',  \n",
        "             hue='department', linewidth=1.5, data=x3)\n",
        "\n",
        "# set legend outside the plot             \n",
        "plt.legend(bbox_to_anchor=(1, 1), loc=2, fontsize=12)\n",
        "plt.title('Purchasing traffic', fontsize=16)\n",
        "plt.xlabel('Hour of day', fontsize=12)\n",
        "plt.ylabel('Number of purchases', fontsize=12)"
      ],
      "execution_count": 53,
      "outputs": [
        {
          "output_type": "execute_result",
          "data": {
            "text/plain": [
              "Text(0, 0.5, 'Number of purchases')"
            ]
          },
          "metadata": {
            "tags": []
          },
          "execution_count": 53
        },
        {
          "output_type": "display_data",
          "data": {
            "image/png": "[encoded data removed]",
            "text/plain": [
              "<Figure size 1125x600 with 1 Axes>"
            ]
          },
          "metadata": {
            "tags": []
          }
        }
      ]
    },
    {
      "metadata": {
        "id": "iZ7BF6lUUftF",
        "colab_type": "text"
      },
      "cell_type": "markdown",
      "source": [
        "The majority of purchasing traffic occurs between 10am and 3pm. To beat the shopping crowd, it is best to do it before 10am when items are still widely available, or after 3pm (but risk some items being out of stock). There are also items from departments that don't really have a defined pattern. For these departments (i.e. alcohol, which is closer to the bottom of the x-axis), the number of products purchased remains constant throughout the day. This tells us that purchasing traffic is not uniform for all departments, which makes sense because not all customers shop each department with the same frequency.\n",
        "\n",
        "This plot provides an aggregate view of when items from each department are purchased, which may mask some of the underlying structure. I suspect if we peel back some more layers, and get more specific (i.e. compare when beer and milk are purchased), other time-dependent patterns may exist."
      ]
    },
    {
      "metadata": {
        "id": "G1347AeXUgtW",
        "colab_type": "code",
        "colab": {}
      },
      "cell_type": "code",
      "source": [
        ""
      ],
      "execution_count": 0,
      "outputs": []
    }
  ]
}