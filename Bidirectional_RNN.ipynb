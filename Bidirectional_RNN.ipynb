{
  "nbformat": 4,
  "nbformat_minor": 0,
  "metadata": {
    "colab": {
      "name": "Bidirectional_RNN.ipynb",
      "version": "0.3.2",
      "provenance": [],
      "collapsed_sections": [],
      "include_colab_link": true
    },
    "kernelspec": {
      "name": "python3",
      "display_name": "Python 3"
    },
    "accelerator": "GPU"
  },
  "cells": [
    {
      "cell_type": "markdown",
      "metadata": {
        "id": "view-in-github",
        "colab_type": "text"
      },
      "source": [
        "<a href=\"https://colab.research.google.com/github/plaban1981/DEEP-LEARNING-/blob/master/Bidirectional_RNN.ipynb\" target=\"_parent\"><img src=\"https://colab.research.google.com/assets/colab-badge.svg\" alt=\"Open In Colab\"/></a>"
      ]
    },
    {
      "cell_type": "markdown",
      "metadata": {
        "id": "tm9xHEyMhNHs",
        "colab_type": "text"
      },
      "source": [
        "**Bidirectional RNN for Digit Classification**\n",
        "\n",
        "In this tutorial we will learn how to write code for designing a Bidirectional Recurrent Neural Network (BRNN) in TensorFlow for classifying MNIST digits"
      ]
    },
    {
      "cell_type": "markdown",
      "metadata": {
        "id": "PpQqyElIhaTL",
        "colab_type": "text"
      },
      "source": [
        "**1. Import the required libraries:**"
      ]
    },
    {
      "cell_type": "code",
      "metadata": {
        "id": "n21BxbcVVRC-",
        "colab_type": "code",
        "colab": {}
      },
      "source": [
        "import tensorflow as tf\n",
        "import numpy as np\n",
        "import matplotlib.pyplot as plt\n",
        "from tensorflow.contrib import rnn\n"
      ],
      "execution_count": 0,
      "outputs": []
    },
    {
      "cell_type": "markdown",
      "metadata": {
        "id": "P9Az2Y91fZhB",
        "colab_type": "text"
      },
      "source": [
        "http://ataspinar.com/2018/07/05/building-recurrent-neural-networks-in-tensorflow/\n",
        "\n",
        "https://github.com/aymericdamien/TensorFlow-Examples/blob/master/examples/3_NeuralNetworks/recurrent_network.py\n",
        "\n",
        "https://medium.com/machine-learning-algorithms/mnist-using-recurrent-neural-network-2d070a5915a2\n",
        "\n",
        "https://medium.com/the-artificial-impostor/notes-understanding-tensorflow-part-2-f7e5ece849f5\n",
        "\n",
        "http://www.easy-tensorflow.com/tf-tutorials/recurrent-neural-networks/bidirectional-rnn-for-classification"
      ]
    },
    {
      "cell_type": "markdown",
      "metadata": {
        "id": "bvMhByJIiDXn",
        "colab_type": "text"
      },
      "source": [
        "**Load the MNIST data**\n",
        "\n",
        "The dataset contains 55,000 examples for training, 5,000 examples for validation and 10,000 examples for testing. The digits have been size-normalized and centered in a fixed-size image (28x28 pixels) with values from 0 to 1. For simplicity, each image has been flattened and converted to a 1-D numpy array of 784 features (28*28)."
      ]
    },
    {
      "cell_type": "markdown",
      "metadata": {
        "id": "Y-qN-hySiUDj",
        "colab_type": "text"
      },
      "source": [
        "To classify images using a recurrent neural network, we consider every image row as a sequence of pixels. Because MNIST image shape is 28x28 pixels, we will then handle 28 sequences of 28 timesteps for every sample."
      ]
    },
    {
      "cell_type": "code",
      "metadata": {
        "id": "UVfSBawRVuf-",
        "colab_type": "code",
        "colab": {
          "base_uri": "https://localhost:8080/",
          "height": 87
        },
        "outputId": "e77d9e3b-6903-4cfa-db11-9375945831e7"
      },
      "source": [
        "from tensorflow.examples.tutorials.mnist import input_data\n",
        "\n",
        "mnist = input_data.read_data_sets(\"MNIST_data/\", one_hot=True)\n",
        "x_train, y_train, x_valid, y_valid = mnist.train.images, mnist.train.labels,mnist.validation.images, mnist.validation.labels\n",
        "x_test, y_test = mnist.test.images, mnist.test.labels\n"
      ],
      "execution_count": 37,
      "outputs": [
        {
          "output_type": "stream",
          "text": [
            "Extracting MNIST_data/train-images-idx3-ubyte.gz\n",
            "Extracting MNIST_data/train-labels-idx1-ubyte.gz\n",
            "Extracting MNIST_data/t10k-images-idx3-ubyte.gz\n",
            "Extracting MNIST_data/t10k-labels-idx1-ubyte.gz\n"
          ],
          "name": "stdout"
        }
      ]
    },
    {
      "cell_type": "code",
      "metadata": {
        "id": "V3tKyzUoipRd",
        "colab_type": "code",
        "colab": {
          "base_uri": "https://localhost:8080/",
          "height": 70
        },
        "outputId": "2b9f736c-cd7f-4b59-90cf-759faab3d54b"
      },
      "source": [
        "print(x_train.shape)\n",
        "print(x_valid.shape)\n",
        "print(x_test.shape)"
      ],
      "execution_count": 39,
      "outputs": [
        {
          "output_type": "stream",
          "text": [
            "(55000, 784)\n",
            "(5000, 784)\n",
            "(10000, 784)\n"
          ],
          "name": "stdout"
        }
      ]
    },
    {
      "cell_type": "markdown",
      "metadata": {
        "id": "RkWalH43muJp",
        "colab_type": "text"
      },
      "source": [
        "**Data Dimensions**"
      ]
    },
    {
      "cell_type": "code",
      "metadata": {
        "id": "JnqAcSoemwnE",
        "colab_type": "code",
        "colab": {}
      },
      "source": [
        "# Data Dimension\n",
        "num_input = 28          # MNIST data input (image shape: 28x28)\n",
        "timesteps = 28          # Timesteps\n",
        "n_classes = 10          # Number of classes, one class per digit"
      ],
      "execution_count": 0,
      "outputs": []
    },
    {
      "cell_type": "markdown",
      "metadata": {
        "id": "HU2OHWDRjTSz",
        "colab_type": "text"
      },
      "source": [
        "**Hyperparameters**"
      ]
    },
    {
      "cell_type": "code",
      "metadata": {
        "id": "PCyIkUQ3WIFe",
        "colab_type": "code",
        "colab": {}
      },
      "source": [
        "learning_rate = 0.001 # The optimization initial learning rate\n",
        "epochs = 10           # Total number of training epochs\n",
        "batch_size = 100      # Training batch size\n",
        "display_freq = 100    # Frequency of displaying the training results\n"
      ],
      "execution_count": 0,
      "outputs": []
    },
    {
      "cell_type": "markdown",
      "metadata": {
        "id": "-xQg8NIfjd_b",
        "colab_type": "text"
      },
      "source": [
        "**Network configuration**"
      ]
    },
    {
      "cell_type": "code",
      "metadata": {
        "id": "M13q7tpeWnGe",
        "colab_type": "code",
        "colab": {}
      },
      "source": [
        "num_hidden_units = 128  # Number of hidden units of the RNN"
      ],
      "execution_count": 0,
      "outputs": []
    },
    {
      "cell_type": "markdown",
      "metadata": {
        "id": "soZc8ByKlHyD",
        "colab_type": "text"
      },
      "source": [
        "**Create network helper functions**"
      ]
    },
    {
      "cell_type": "code",
      "metadata": {
        "id": "w62fFfDGW9Im",
        "colab_type": "code",
        "colab": {}
      },
      "source": [
        "# weight and bais wrappers\n",
        "def weight_variable(shape):\n",
        "    \"\"\"\n",
        "    Create a weight variable with appropriate initialization\n",
        "    :param name: weight name\n",
        "    :param shape: weight shape\n",
        "    :return: initialized weight variable\n",
        "    \"\"\"\n",
        "    initer = tf.truncated_normal_initializer(stddev=0.01)\n",
        "    return tf.get_variable('W',\n",
        "                           dtype=tf.float32,\n",
        "                           shape=shape,\n",
        "                           initializer=initer)\n",
        "\n",
        "def bias_variable(shape):\n",
        "    \"\"\"\n",
        "    Create a bias variable with appropriate initialization\n",
        "    :param name: bias variable name\n",
        "    :param shape: bias variable shape\n",
        "    :return: initialized bias variable\n",
        "    \"\"\"\n",
        "    initial = tf.constant(0., shape=shape, dtype=tf.float32)\n",
        "    return tf.get_variable('b',\n",
        "                           dtype=tf.float32,\n",
        "                           initializer=initial)"
      ],
      "execution_count": 0,
      "outputs": []
    },
    {
      "cell_type": "markdown",
      "metadata": {
        "id": "rOuNfAxkle8r",
        "colab_type": "text"
      },
      "source": [
        "**Helper-function for creating a Bidirectional RNN**"
      ]
    },
    {
      "cell_type": "code",
      "metadata": {
        "id": "2kDAXlbDnyhN",
        "colab_type": "code",
        "colab": {}
      },
      "source": [
        "tf.reset_default_graph()"
      ],
      "execution_count": 0,
      "outputs": []
    },
    {
      "cell_type": "code",
      "metadata": {
        "id": "c821CSnGYf2m",
        "colab_type": "code",
        "colab": {}
      },
      "source": [
        "def BiRNN(x, weights, biases, timesteps, num_hidden):\n",
        "    # Prepare data shape to match `rnn` function requirements\n",
        "    # Current data input shape: (batch_size, timesteps, n_input)\n",
        "    # Required shape: 'timesteps' tensors list of shape (batch_size, num_input)\n",
        "\n",
        "    # Unstack to get a list of 'timesteps' tensors of shape (batch_size, num_input)\n",
        "    x = tf.unstack(x, timesteps, 1)\n",
        "\n",
        "    # Define lstm cells with tensorflow\n",
        "    # Forward direction cell\n",
        "    lstm_fw_cell = rnn.BasicLSTMCell(num_hidden, forget_bias=1.0)\n",
        "    # Backward direction cell\n",
        "    lstm_bw_cell = rnn.BasicLSTMCell(num_hidden, forget_bias=1.0)\n",
        "\n",
        "    # Get BiRNN cell output\n",
        "    outputs, _, _ = rnn.static_bidirectional_rnn(lstm_fw_cell, lstm_bw_cell, x,\n",
        "                                                 dtype=tf.float32)\n",
        "\n",
        "    # Linear activation, using rnn inner loop last output\n",
        "    return tf.matmul(outputs[-1], weights) + biases"
      ],
      "execution_count": 0,
      "outputs": []
    },
    {
      "cell_type": "markdown",
      "metadata": {
        "id": "gJCvc-yLmQKy",
        "colab_type": "text"
      },
      "source": [
        "**Create the network graph**"
      ]
    },
    {
      "cell_type": "code",
      "metadata": {
        "id": "0pnSMIX8YiPh",
        "colab_type": "code",
        "colab": {}
      },
      "source": [
        "# Placeholders for inputs (x) and outputs(y)\n",
        "x = tf.placeholder(tf.float32, shape=[None, timesteps, num_input], name='X')\n",
        "y = tf.placeholder(tf.float32, shape=[None, n_classes], name='Y')"
      ],
      "execution_count": 0,
      "outputs": []
    },
    {
      "cell_type": "markdown",
      "metadata": {
        "id": "wpSWHeGXm48d",
        "colab_type": "text"
      },
      "source": [
        "**Define the network**"
      ]
    },
    {
      "cell_type": "code",
      "metadata": {
        "id": "yyyNEeR1ZhFH",
        "colab_type": "code",
        "colab": {}
      },
      "source": [
        "# create weight matrix initialized randomely from N~(0, 0.01)\n",
        "W = weight_variable(shape=[2*num_hidden_units, n_classes])\n",
        "\n",
        "# create bias vector initialized as zero\n",
        "b = bias_variable(shape=[n_classes])\n",
        "\n",
        "output_logits = BiRNN(x, W, b, timesteps, num_hidden_units)\n",
        "y_pred = tf.nn.softmax(output_logits)\n",
        " "
      ],
      "execution_count": 0,
      "outputs": []
    },
    {
      "cell_type": "markdown",
      "metadata": {
        "id": "ss0fu8v-ot9Q",
        "colab_type": "text"
      },
      "source": [
        "**Define the loss function, optimizer, accuracy, and predicted class**"
      ]
    },
    {
      "cell_type": "code",
      "metadata": {
        "id": "2UppUTlDZuFf",
        "colab_type": "code",
        "colab": {}
      },
      "source": [
        "# Model predictions\n",
        "cls_prediction = tf.argmax(output_logits, axis=1, name='predictions')\n",
        "\n",
        "# Define the loss function, optimizer, and accuracy\n",
        "loss = tf.reduce_mean(tf.nn.softmax_cross_entropy_with_logits(labels=y, logits=output_logits), name='loss')\n",
        "optimizer = tf.train.AdamOptimizer(learning_rate=learning_rate, name='Adam-op').minimize(loss)\n",
        "correct_prediction = tf.equal(tf.argmax(output_logits, 1), tf.argmax(y, 1), name='correct_pred')\n",
        "accuracy = tf.reduce_mean(tf.cast(correct_prediction, tf.float32), name='accuracy')"
      ],
      "execution_count": 0,
      "outputs": []
    },
    {
      "cell_type": "markdown",
      "metadata": {
        "id": "CC3PUnlupiXN",
        "colab_type": "text"
      },
      "source": [
        "**Initialize all variables**"
      ]
    },
    {
      "cell_type": "code",
      "metadata": {
        "id": "1adbPHMopjSE",
        "colab_type": "code",
        "colab": {}
      },
      "source": [
        "# Creating the op for initializing all variables\n",
        "init = tf.global_variables_initializer()"
      ],
      "execution_count": 0,
      "outputs": []
    },
    {
      "cell_type": "code",
      "metadata": {
        "id": "VL7zjNx0qDQr",
        "colab_type": "code",
        "colab": {}
      },
      "source": [
        "def randomize(x, y):\n",
        "    \"\"\" Randomizes the order of data samples and their corresponding labels\"\"\"\n",
        "    permutation = np.random.permutation(y.shape[0])\n",
        "    shuffled_x = x[permutation, :]\n",
        "    shuffled_y = y[permutation]\n",
        "    return shuffled_x, shuffled_y\n",
        "\n",
        "def get_next_batch(x, y, start, end):\n",
        "    x_batch = x[start:end]\n",
        "    y_batch = y[start:end]\n",
        "    return x_batch, y_batch"
      ],
      "execution_count": 0,
      "outputs": []
    },
    {
      "cell_type": "markdown",
      "metadata": {
        "id": "uoFSWjrJppZi",
        "colab_type": "text"
      },
      "source": [
        "**Train**"
      ]
    },
    {
      "cell_type": "code",
      "metadata": {
        "id": "fUujQBjVpqWj",
        "colab_type": "code",
        "colab": {
          "base_uri": "https://localhost:8080/",
          "height": 1850
        },
        "outputId": "9dcd89ad-23ed-4d10-ddda-95c3558fe388"
      },
      "source": [
        "sess = tf.InteractiveSession()\n",
        "sess.run(init)\n",
        "global_step = 0\n",
        "# Number of training iterations in each epoch\n",
        "num_tr_iter = int(len(y_train) / batch_size)\n",
        "for epoch in range(epochs):\n",
        "    print('Training epoch: {}'.format(epoch + 1))\n",
        "    x_train, y_train = randomize(x_train, y_train)\n",
        "    for iteration in range(num_tr_iter):\n",
        "        global_step += 1\n",
        "        start = iteration * batch_size\n",
        "        end = (iteration + 1) * batch_size\n",
        "        x_batch, y_batch = get_next_batch(x_train, y_train, start, end)\n",
        "        x_batch = x_batch.reshape((batch_size, timesteps, num_input))\n",
        "        # Run optimization op (backprop)\n",
        "        feed_dict_batch = {x: x_batch, y: y_batch}\n",
        "        sess.run(optimizer, feed_dict=feed_dict_batch)\n",
        "\n",
        "        if iteration % display_freq == 0:\n",
        "            # Calculate and display the batch loss and accuracy\n",
        "            loss_batch, acc_batch = sess.run([loss, accuracy],\n",
        "                                             feed_dict=feed_dict_batch)\n",
        "\n",
        "            print(\"iter {0:3d}:\\t Loss={1:.2f},\\tTraining Accuracy={2:.01%}\".\n",
        "                  format(iteration, loss_batch, acc_batch))\n",
        "\n",
        "    # Run validation after every epoch\n",
        "\n",
        "    feed_dict_valid = {x: x_valid[:1000].reshape((-1, timesteps, num_input)), y: y_valid[:1000]}\n",
        "    loss_valid, acc_valid = sess.run([loss, accuracy], feed_dict=feed_dict_valid)\n",
        "    print('---------------------------------------------------------')\n",
        "    print(\"Epoch: {0}, validation loss: {1:.2f}, validation accuracy: {2:.01%}\".\n",
        "          format(epoch + 1, loss_valid, acc_valid))\n",
        "    print('---------------------------------------------------------')"
      ],
      "execution_count": 61,
      "outputs": [
        {
          "output_type": "stream",
          "text": [
            "/usr/local/lib/python3.6/dist-packages/tensorflow/python/client/session.py:1702: UserWarning: An interactive session is already active. This can cause out-of-memory errors in some cases. You must explicitly call `InteractiveSession.close()` to release resources held by the other session(s).\n",
            "  warnings.warn('An interactive session is already active. This can '\n"
          ],
          "name": "stderr"
        },
        {
          "output_type": "stream",
          "text": [
            "Training epoch: 1\n",
            "iter   0:\t Loss=2.30,\tTraining Accuracy=20.0%\n",
            "iter 100:\t Loss=0.94,\tTraining Accuracy=75.0%\n",
            "iter 200:\t Loss=0.80,\tTraining Accuracy=75.0%\n",
            "iter 300:\t Loss=0.43,\tTraining Accuracy=84.0%\n",
            "iter 400:\t Loss=0.33,\tTraining Accuracy=91.0%\n",
            "iter 500:\t Loss=0.27,\tTraining Accuracy=91.0%\n",
            "---------------------------------------------------------\n",
            "Epoch: 1, validation loss: 0.23, validation accuracy: 93.5%\n",
            "---------------------------------------------------------\n",
            "Training epoch: 2\n",
            "iter   0:\t Loss=0.22,\tTraining Accuracy=93.0%\n",
            "iter 100:\t Loss=0.29,\tTraining Accuracy=90.0%\n",
            "iter 200:\t Loss=0.15,\tTraining Accuracy=95.0%\n",
            "iter 300:\t Loss=0.25,\tTraining Accuracy=92.0%\n",
            "iter 400:\t Loss=0.22,\tTraining Accuracy=94.0%\n",
            "iter 500:\t Loss=0.11,\tTraining Accuracy=97.0%\n",
            "---------------------------------------------------------\n",
            "Epoch: 2, validation loss: 0.14, validation accuracy: 96.1%\n",
            "---------------------------------------------------------\n",
            "Training epoch: 3\n",
            "iter   0:\t Loss=0.09,\tTraining Accuracy=98.0%\n",
            "iter 100:\t Loss=0.12,\tTraining Accuracy=96.0%\n",
            "iter 200:\t Loss=0.15,\tTraining Accuracy=96.0%\n",
            "iter 300:\t Loss=0.09,\tTraining Accuracy=96.0%\n",
            "iter 400:\t Loss=0.11,\tTraining Accuracy=96.0%\n",
            "iter 500:\t Loss=0.08,\tTraining Accuracy=98.0%\n",
            "---------------------------------------------------------\n",
            "Epoch: 3, validation loss: 0.12, validation accuracy: 96.4%\n",
            "---------------------------------------------------------\n",
            "Training epoch: 4\n",
            "iter   0:\t Loss=0.06,\tTraining Accuracy=98.0%\n",
            "iter 100:\t Loss=0.15,\tTraining Accuracy=95.0%\n",
            "iter 200:\t Loss=0.03,\tTraining Accuracy=100.0%\n",
            "iter 300:\t Loss=0.09,\tTraining Accuracy=97.0%\n",
            "iter 400:\t Loss=0.05,\tTraining Accuracy=99.0%\n",
            "iter 500:\t Loss=0.07,\tTraining Accuracy=98.0%\n",
            "---------------------------------------------------------\n",
            "Epoch: 4, validation loss: 0.09, validation accuracy: 97.1%\n",
            "---------------------------------------------------------\n",
            "Training epoch: 5\n",
            "iter   0:\t Loss=0.07,\tTraining Accuracy=97.0%\n",
            "iter 100:\t Loss=0.05,\tTraining Accuracy=98.0%\n",
            "iter 200:\t Loss=0.09,\tTraining Accuracy=96.0%\n",
            "iter 300:\t Loss=0.07,\tTraining Accuracy=98.0%\n",
            "iter 400:\t Loss=0.19,\tTraining Accuracy=96.0%\n",
            "iter 500:\t Loss=0.05,\tTraining Accuracy=98.0%\n",
            "---------------------------------------------------------\n",
            "Epoch: 5, validation loss: 0.08, validation accuracy: 97.6%\n",
            "---------------------------------------------------------\n",
            "Training epoch: 6\n",
            "iter   0:\t Loss=0.01,\tTraining Accuracy=100.0%\n",
            "iter 100:\t Loss=0.05,\tTraining Accuracy=99.0%\n",
            "iter 200:\t Loss=0.06,\tTraining Accuracy=98.0%\n",
            "iter 300:\t Loss=0.07,\tTraining Accuracy=99.0%\n",
            "iter 400:\t Loss=0.02,\tTraining Accuracy=100.0%\n",
            "iter 500:\t Loss=0.05,\tTraining Accuracy=97.0%\n",
            "---------------------------------------------------------\n",
            "Epoch: 6, validation loss: 0.07, validation accuracy: 97.7%\n",
            "---------------------------------------------------------\n",
            "Training epoch: 7\n",
            "iter   0:\t Loss=0.02,\tTraining Accuracy=100.0%\n",
            "iter 100:\t Loss=0.05,\tTraining Accuracy=98.0%\n",
            "iter 200:\t Loss=0.07,\tTraining Accuracy=97.0%\n",
            "iter 300:\t Loss=0.13,\tTraining Accuracy=96.0%\n",
            "iter 400:\t Loss=0.02,\tTraining Accuracy=100.0%\n",
            "iter 500:\t Loss=0.05,\tTraining Accuracy=98.0%\n",
            "---------------------------------------------------------\n",
            "Epoch: 7, validation loss: 0.07, validation accuracy: 98.0%\n",
            "---------------------------------------------------------\n",
            "Training epoch: 8\n",
            "iter   0:\t Loss=0.01,\tTraining Accuracy=100.0%\n",
            "iter 100:\t Loss=0.03,\tTraining Accuracy=98.0%\n",
            "iter 200:\t Loss=0.01,\tTraining Accuracy=100.0%\n",
            "iter 300:\t Loss=0.04,\tTraining Accuracy=99.0%\n",
            "iter 400:\t Loss=0.03,\tTraining Accuracy=99.0%\n",
            "iter 500:\t Loss=0.02,\tTraining Accuracy=100.0%\n",
            "---------------------------------------------------------\n",
            "Epoch: 8, validation loss: 0.07, validation accuracy: 98.3%\n",
            "---------------------------------------------------------\n",
            "Training epoch: 9\n",
            "iter   0:\t Loss=0.08,\tTraining Accuracy=97.0%\n",
            "iter 100:\t Loss=0.02,\tTraining Accuracy=100.0%\n",
            "iter 200:\t Loss=0.02,\tTraining Accuracy=99.0%\n",
            "iter 300:\t Loss=0.03,\tTraining Accuracy=99.0%\n",
            "iter 400:\t Loss=0.02,\tTraining Accuracy=100.0%\n",
            "iter 500:\t Loss=0.03,\tTraining Accuracy=98.0%\n",
            "---------------------------------------------------------\n",
            "Epoch: 9, validation loss: 0.08, validation accuracy: 97.9%\n",
            "---------------------------------------------------------\n",
            "Training epoch: 10\n",
            "iter   0:\t Loss=0.02,\tTraining Accuracy=100.0%\n",
            "iter 100:\t Loss=0.01,\tTraining Accuracy=100.0%\n",
            "iter 200:\t Loss=0.00,\tTraining Accuracy=100.0%\n",
            "iter 300:\t Loss=0.00,\tTraining Accuracy=100.0%\n",
            "iter 400:\t Loss=0.07,\tTraining Accuracy=98.0%\n",
            "iter 500:\t Loss=0.01,\tTraining Accuracy=100.0%\n",
            "---------------------------------------------------------\n",
            "Epoch: 10, validation loss: 0.08, validation accuracy: 98.0%\n",
            "---------------------------------------------------------\n"
          ],
          "name": "stdout"
        }
      ]
    },
    {
      "cell_type": "markdown",
      "metadata": {
        "id": "spbPV-gkqbhF",
        "colab_type": "text"
      },
      "source": [
        "**Test**\n",
        "\n",
        " Helper functions for plotting the results"
      ]
    },
    {
      "cell_type": "code",
      "metadata": {
        "id": "TYW52Z0tqe9D",
        "colab_type": "code",
        "colab": {}
      },
      "source": [
        "def plot_images(images, cls_true, cls_pred=None, title=None):\n",
        "    \"\"\"\n",
        "    Create figure with 3x3 sub-plots.\n",
        "    :param images: array of images to be plotted, (9, img_h*img_w)\n",
        "    :param cls_true: corresponding true labels (9,)\n",
        "    :param cls_pred: corresponding true labels (9,)\n",
        "    \"\"\"\n",
        "    fig, axes = plt.subplots(3, 3, figsize=(9, 9))\n",
        "    fig.subplots_adjust(hspace=0.3, wspace=0.3)\n",
        "    for i, ax in enumerate(axes.flat):\n",
        "        # Plot image.\n",
        "        ax.imshow(np.squeeze(images[i]).reshape(28, 28), cmap='binary')\n",
        "\n",
        "        # Show true and predicted classes.\n",
        "        if cls_pred is None:\n",
        "            ax_title = \"True: {0}\".format(cls_true[i])\n",
        "        else:\n",
        "            ax_title = \"True: {0}, Pred: {1}\".format(cls_true[i], cls_pred[i])\n",
        "\n",
        "        ax.set_title(ax_title)\n",
        "\n",
        "        # Remove ticks from the plot.\n",
        "        ax.set_xticks([])\n",
        "        ax.set_yticks([])\n",
        "\n",
        "    if title:\n",
        "        plt.suptitle(title, size=20)\n",
        "    plt.show(block=False)\n",
        "\n",
        "def plot_example_errors(images, cls_true, cls_pred, title=None):\n",
        "    \"\"\"\n",
        "    Function for plotting examples of images that have been mis-classified\n",
        "    :param images: array of all images, (#imgs, img_h*img_w)\n",
        "    :param cls_true: corresponding true labels, (#imgs,)\n",
        "    :param cls_pred: corresponding predicted labels, (#imgs,)\n",
        "    \"\"\"\n",
        "    # Negate the boolean array.\n",
        "    incorrect = np.logical_not(np.equal(cls_pred, cls_true))\n",
        "\n",
        "    # Get the images from the test-set that have been\n",
        "    # incorrectly classified.\n",
        "    incorrect_images = images[incorrect]\n",
        "\n",
        "    # Get the true and predicted classes for those images.\n",
        "    cls_pred = cls_pred[incorrect]\n",
        "    cls_true = cls_true[incorrect]\n",
        "\n",
        "    # Plot the first 9 images.\n",
        "    plot_images(images=incorrect_images[0:9],\n",
        "                cls_true=cls_true[0:9],\n",
        "                cls_pred=cls_pred[0:9],\n",
        "                title=title)"
      ],
      "execution_count": 0,
      "outputs": []
    },
    {
      "cell_type": "markdown",
      "metadata": {
        "id": "oDVVZUDDqoDt",
        "colab_type": "text"
      },
      "source": [
        "**Run the test and plot some results**"
      ]
    },
    {
      "cell_type": "code",
      "metadata": {
        "id": "05wwguaDqpCy",
        "colab_type": "code",
        "colab": {
          "base_uri": "https://localhost:8080/",
          "height": 1212
        },
        "outputId": "46fc860e-eaf9-49b8-ea59-bbc3af6e370d"
      },
      "source": [
        "feed_dict_test = {x: x_test[:1000].reshape((-1, timesteps, num_input)), y: y_test[:1000]}\n",
        "loss_test, acc_test = sess.run([loss, accuracy], feed_dict=feed_dict_test)\n",
        "print('---------------------------------------------------------')\n",
        "print(\"Test loss: {0:.2f}, test accuracy: {1:.01%}\".format(loss_test, acc_test))\n",
        "print('---------------------------------------------------------')\n",
        "\n",
        "# Plot some of the correct and misclassified examples\n",
        "cls_pred = sess.run(cls_prediction, feed_dict=feed_dict_test)\n",
        "cls_true = np.argmax(y_test, axis=1)\n",
        "plot_images(x_test, cls_true, cls_pred, title='Correct Examples')\n",
        "plot_example_errors(x_test[:1000], cls_true[:1000], cls_pred, title='Misclassified Examples')\n",
        "plt.show()\n",
        " "
      ],
      "execution_count": 63,
      "outputs": [
        {
          "output_type": "stream",
          "text": [
            "---------------------------------------------------------\n",
            "Test loss: 0.07, test accuracy: 97.9%\n",
            "---------------------------------------------------------\n"
          ],
          "name": "stdout"
        },
        {
          "output_type": "display_data",
          "data": {
            "image/png": "[encoded data removed]",
            "text/plain": [
              "<Figure size 648x648 with 9 Axes>"
            ]
          },
          "metadata": {
            "tags": []
          }
        },
        {
          "output_type": "display_data",
          "data": {
            "image/png": "[encoded data removed]",
            "text/plain": [
              "<Figure size 648x648 with 9 Axes>"
            ]
          },
          "metadata": {
            "tags": []
          }
        }
      ]
    }
  ]
}