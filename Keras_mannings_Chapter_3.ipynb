{
  "nbformat": 4,
  "nbformat_minor": 0,
  "metadata": {
    "colab": {
      "name": "Keras_mannings_Chapter_3.ipynb",
      "provenance": [],
      "authorship_tag": "ABX9TyP3e7rnGM+mewwR+xNoG2W1",
      "include_colab_link": true
    },
    "kernelspec": {
      "name": "python3",
      "display_name": "Python 3"
    }
  },
  "cells": [
    {
      "cell_type": "markdown",
      "metadata": {
        "id": "view-in-github",
        "colab_type": "text"
      },
      "source": [
        "<a href=\"https://colab.research.google.com/github/plaban1981/DEEP-LEARNING-/blob/master/Keras_mannings_Chapter_3.ipynb\" target=\"_parent\"><img src=\"https://colab.research.google.com/assets/colab-badge.svg\" alt=\"Open In Colab\"/></a>"
      ]
    },
    {
      "cell_type": "markdown",
      "metadata": {
        "id": "mZZ7Y43WuelO",
        "colab_type": "text"
      },
      "source": [
        "## IMDB classification using Keras"
      ]
    },
    {
      "cell_type": "code",
      "metadata": {
        "id": "i1FRYMlluZ_I",
        "colab_type": "code",
        "colab": {
          "base_uri": "https://localhost:8080/",
          "height": 34
        },
        "outputId": "47c1ae56-2799-4215-e6af-ce1fd59ecb10"
      },
      "source": [
        "from keras.datasets import imdb\n",
        "(train_data,train_labels),(test_data,test_labels) = imdb.load_data(num_words=10000)\n",
        "print(train_data.shape, test_data.shape)"
      ],
      "execution_count": 4,
      "outputs": [
        {
          "output_type": "stream",
          "text": [
            "(25000,) (25000,)\n"
          ],
          "name": "stdout"
        }
      ]
    },
    {
      "cell_type": "code",
      "metadata": {
        "id": "xs_QcBENwWmb",
        "colab_type": "code",
        "colab": {
          "base_uri": "https://localhost:8080/",
          "height": 1000
        },
        "outputId": "1186dc46-e2f0-4c5c-d07a-13c9987cfcd5"
      },
      "source": [
        "train_data[0]"
      ],
      "execution_count": 5,
      "outputs": [
        {
          "output_type": "execute_result",
          "data": {
            "text/plain": [
              "[1,\n",
              " 14,\n",
              " 22,\n",
              " 16,\n",
              " 43,\n",
              " 530,\n",
              " 973,\n",
              " 1622,\n",
              " 1385,\n",
              " 65,\n",
              " 458,\n",
              " 4468,\n",
              " 66,\n",
              " 3941,\n",
              " 4,\n",
              " 173,\n",
              " 36,\n",
              " 256,\n",
              " 5,\n",
              " 25,\n",
              " 100,\n",
              " 43,\n",
              " 838,\n",
              " 112,\n",
              " 50,\n",
              " 670,\n",
              " 2,\n",
              " 9,\n",
              " 35,\n",
              " 480,\n",
              " 284,\n",
              " 5,\n",
              " 150,\n",
              " 4,\n",
              " 172,\n",
              " 112,\n",
              " 167,\n",
              " 2,\n",
              " 336,\n",
              " 385,\n",
              " 39,\n",
              " 4,\n",
              " 172,\n",
              " 4536,\n",
              " 1111,\n",
              " 17,\n",
              " 546,\n",
              " 38,\n",
              " 13,\n",
              " 447,\n",
              " 4,\n",
              " 192,\n",
              " 50,\n",
              " 16,\n",
              " 6,\n",
              " 147,\n",
              " 2025,\n",
              " 19,\n",
              " 14,\n",
              " 22,\n",
              " 4,\n",
              " 1920,\n",
              " 4613,\n",
              " 469,\n",
              " 4,\n",
              " 22,\n",
              " 71,\n",
              " 87,\n",
              " 12,\n",
              " 16,\n",
              " 43,\n",
              " 530,\n",
              " 38,\n",
              " 76,\n",
              " 15,\n",
              " 13,\n",
              " 1247,\n",
              " 4,\n",
              " 22,\n",
              " 17,\n",
              " 515,\n",
              " 17,\n",
              " 12,\n",
              " 16,\n",
              " 626,\n",
              " 18,\n",
              " 2,\n",
              " 5,\n",
              " 62,\n",
              " 386,\n",
              " 12,\n",
              " 8,\n",
              " 316,\n",
              " 8,\n",
              " 106,\n",
              " 5,\n",
              " 4,\n",
              " 2223,\n",
              " 5244,\n",
              " 16,\n",
              " 480,\n",
              " 66,\n",
              " 3785,\n",
              " 33,\n",
              " 4,\n",
              " 130,\n",
              " 12,\n",
              " 16,\n",
              " 38,\n",
              " 619,\n",
              " 5,\n",
              " 25,\n",
              " 124,\n",
              " 51,\n",
              " 36,\n",
              " 135,\n",
              " 48,\n",
              " 25,\n",
              " 1415,\n",
              " 33,\n",
              " 6,\n",
              " 22,\n",
              " 12,\n",
              " 215,\n",
              " 28,\n",
              " 77,\n",
              " 52,\n",
              " 5,\n",
              " 14,\n",
              " 407,\n",
              " 16,\n",
              " 82,\n",
              " 2,\n",
              " 8,\n",
              " 4,\n",
              " 107,\n",
              " 117,\n",
              " 5952,\n",
              " 15,\n",
              " 256,\n",
              " 4,\n",
              " 2,\n",
              " 7,\n",
              " 3766,\n",
              " 5,\n",
              " 723,\n",
              " 36,\n",
              " 71,\n",
              " 43,\n",
              " 530,\n",
              " 476,\n",
              " 26,\n",
              " 400,\n",
              " 317,\n",
              " 46,\n",
              " 7,\n",
              " 4,\n",
              " 2,\n",
              " 1029,\n",
              " 13,\n",
              " 104,\n",
              " 88,\n",
              " 4,\n",
              " 381,\n",
              " 15,\n",
              " 297,\n",
              " 98,\n",
              " 32,\n",
              " 2071,\n",
              " 56,\n",
              " 26,\n",
              " 141,\n",
              " 6,\n",
              " 194,\n",
              " 7486,\n",
              " 18,\n",
              " 4,\n",
              " 226,\n",
              " 22,\n",
              " 21,\n",
              " 134,\n",
              " 476,\n",
              " 26,\n",
              " 480,\n",
              " 5,\n",
              " 144,\n",
              " 30,\n",
              " 5535,\n",
              " 18,\n",
              " 51,\n",
              " 36,\n",
              " 28,\n",
              " 224,\n",
              " 92,\n",
              " 25,\n",
              " 104,\n",
              " 4,\n",
              " 226,\n",
              " 65,\n",
              " 16,\n",
              " 38,\n",
              " 1334,\n",
              " 88,\n",
              " 12,\n",
              " 16,\n",
              " 283,\n",
              " 5,\n",
              " 16,\n",
              " 4472,\n",
              " 113,\n",
              " 103,\n",
              " 32,\n",
              " 15,\n",
              " 16,\n",
              " 5345,\n",
              " 19,\n",
              " 178,\n",
              " 32]"
            ]
          },
          "metadata": {
            "tags": []
          },
          "execution_count": 5
        }
      ]
    },
    {
      "cell_type": "code",
      "metadata": {
        "id": "w3LRAGR6w4Rq",
        "colab_type": "code",
        "colab": {
          "base_uri": "https://localhost:8080/",
          "height": 34
        },
        "outputId": "8ab63bf7-69ee-4040-a2aa-7228ea6536bb"
      },
      "source": [
        "train_labels [0]"
      ],
      "execution_count": 6,
      "outputs": [
        {
          "output_type": "execute_result",
          "data": {
            "text/plain": [
              "1"
            ]
          },
          "metadata": {
            "tags": []
          },
          "execution_count": 6
        }
      ]
    },
    {
      "cell_type": "code",
      "metadata": {
        "id": "Y9avTNDuw-Hk",
        "colab_type": "code",
        "colab": {
          "base_uri": "https://localhost:8080/",
          "height": 51
        },
        "outputId": "0fed4350-a764-4279-a280-a6491de4b33d"
      },
      "source": [
        "word_index = imdb.get_word_index()"
      ],
      "execution_count": 7,
      "outputs": [
        {
          "output_type": "stream",
          "text": [
            "Downloading data from https://s3.amazonaws.com/text-datasets/imdb_word_index.json\n",
            "1646592/1641221 [==============================] - 0s 0us/step\n"
          ],
          "name": "stdout"
        }
      ]
    },
    {
      "cell_type": "code",
      "metadata": {
        "id": "bS73G40RxJOk",
        "colab_type": "code",
        "colab": {
          "base_uri": "https://localhost:8080/",
          "height": 34
        },
        "outputId": "f99c8668-dd5c-456b-cbb9-a5c567e72b26"
      },
      "source": [
        "type(word_index)"
      ],
      "execution_count": 8,
      "outputs": [
        {
          "output_type": "execute_result",
          "data": {
            "text/plain": [
              "dict"
            ]
          },
          "metadata": {
            "tags": []
          },
          "execution_count": 8
        }
      ]
    },
    {
      "cell_type": "code",
      "metadata": {
        "id": "XE4ohLUPxL55",
        "colab_type": "code",
        "colab": {
          "base_uri": "https://localhost:8080/",
          "height": 34
        },
        "outputId": "f2fe3332-c7b3-449c-d282-b34819bd8456"
      },
      "source": [
        "max([max(sequence) for sequence in train_data])"
      ],
      "execution_count": 12,
      "outputs": [
        {
          "output_type": "execute_result",
          "data": {
            "text/plain": [
              "9999"
            ]
          },
          "metadata": {
            "tags": []
          },
          "execution_count": 12
        }
      ]
    },
    {
      "cell_type": "code",
      "metadata": {
        "id": "nMbNIJeAxO35",
        "colab_type": "code",
        "colab": {}
      },
      "source": [
        "reversed_word_index  = dict([(value,key) for key,value in word_index.items()])"
      ],
      "execution_count": 0,
      "outputs": []
    },
    {
      "cell_type": "markdown",
      "metadata": {
        "id": "h-8C8Tg-yp6b",
        "colab_type": "text"
      },
      "source": [
        "offset is reduced by 3 since 0,1 and 2 is preserved for 'paddding','start of sequence', and 'unkown'"
      ]
    },
    {
      "cell_type": "code",
      "metadata": {
        "id": "RQZmfyQhxsDx",
        "colab_type": "code",
        "colab": {
          "base_uri": "https://localhost:8080/",
          "height": 54
        },
        "outputId": "ebb1c1e0-6c78-4c6d-992c-07f60982726f"
      },
      "source": [
        "\" \".join([reversed_word_index.get( i -3,'?') for i in train_data[0]])"
      ],
      "execution_count": 18,
      "outputs": [
        {
          "output_type": "execute_result",
          "data": {
            "text/plain": [
              "\"? this film was just brilliant casting location scenery story direction everyone's really suited the part they played and you could just imagine being there robert ? is an amazing actor and now the same being director ? father came from the same scottish island as myself so i loved the fact there was a real connection with this film the witty remarks throughout the film were great it was just brilliant so much that i bought the film as soon as it was released for ? and would recommend it to everyone to watch and the fly fishing was amazing really cried at the end it was so sad and you know what they say if you cry at a film it must have been good and this definitely was also ? to the two little boy's that played the ? of norman and paul they were just brilliant children are often left out of the ? list i think because the stars that play them all grown up are such a big profile for the whole film but these children are amazing and should be praised for what they have done don't you think the whole story was so lovely because it was true and was someone's life after all that was shared with us all\""
            ]
          },
          "metadata": {
            "tags": []
          },
          "execution_count": 18
        }
      ]
    },
    {
      "cell_type": "markdown",
      "metadata": {
        "id": "uJkIbnVAzDRN",
        "colab_type": "text"
      },
      "source": [
        "## prepare training data"
      ]
    },
    {
      "cell_type": "code",
      "metadata": {
        "id": "liYf0pvizMoJ",
        "colab_type": "code",
        "colab": {
          "base_uri": "https://localhost:8080/",
          "height": 34
        },
        "outputId": "0ab3eab5-db1e-4be1-e5e8-04311ea649dd"
      },
      "source": [
        "len(train_data[0]),len(train_data[1])"
      ],
      "execution_count": 21,
      "outputs": [
        {
          "output_type": "execute_result",
          "data": {
            "text/plain": [
              "(218, 189)"
            ]
          },
          "metadata": {
            "tags": []
          },
          "execution_count": 21
        }
      ]
    },
    {
      "cell_type": "markdown",
      "metadata": {
        "id": "7B8dis48zXnQ",
        "colab_type": "text"
      },
      "source": [
        "since the length of each tect is different we have to pad the lists to have the same length for each text"
      ]
    },
    {
      "cell_type": "code",
      "metadata": {
        "id": "9udkzJ22yQ55",
        "colab_type": "code",
        "colab": {}
      },
      "source": [
        "import numpy as np\n",
        "def vectorize_sequences(sequence,dimension=10000):\n",
        "  results = np.zeros((len(sequence),dimension))\n",
        "  for i,item in enumerate(sequence):\n",
        "    results[i,item] = 1.#one hot encoding\n",
        "  return results"
      ],
      "execution_count": 0,
      "outputs": []
    },
    {
      "cell_type": "code",
      "metadata": {
        "id": "pmfCi__P0Jgp",
        "colab_type": "code",
        "colab": {}
      },
      "source": [
        "X_train = vectorize_sequences(train_data)\n",
        "X_test = vectorize_sequences(test_data)"
      ],
      "execution_count": 0,
      "outputs": []
    },
    {
      "cell_type": "code",
      "metadata": {
        "id": "dVthhUw50WWY",
        "colab_type": "code",
        "colab": {
          "base_uri": "https://localhost:8080/",
          "height": 34
        },
        "outputId": "56553e68-7278-4eea-b082-b1854b16bf03"
      },
      "source": [
        "X_train.shape,X_test.shape"
      ],
      "execution_count": 27,
      "outputs": [
        {
          "output_type": "execute_result",
          "data": {
            "text/plain": [
              "((25000, 10000), (25000, 10000))"
            ]
          },
          "metadata": {
            "tags": []
          },
          "execution_count": 27
        }
      ]
    },
    {
      "cell_type": "code",
      "metadata": {
        "id": "PVENfe-K0aFZ",
        "colab_type": "code",
        "colab": {}
      },
      "source": [
        "from keras.utils import to_categorical\n",
        "y_train = to_categorical(train_labels)\n",
        "y_test = to_categorical(test_labels)"
      ],
      "execution_count": 0,
      "outputs": []
    },
    {
      "cell_type": "code",
      "metadata": {
        "id": "Gz1jXCrt0ttk",
        "colab_type": "code",
        "colab": {
          "base_uri": "https://localhost:8080/",
          "height": 34
        },
        "outputId": "cfcae860-416e-4410-df05-7fab81ded507"
      },
      "source": [
        "y_train.shape,y_test.shape"
      ],
      "execution_count": 29,
      "outputs": [
        {
          "output_type": "execute_result",
          "data": {
            "text/plain": [
              "((25000, 2), (25000, 2))"
            ]
          },
          "metadata": {
            "tags": []
          },
          "execution_count": 29
        }
      ]
    },
    {
      "cell_type": "code",
      "metadata": {
        "id": "uhcKWwEi0wfZ",
        "colab_type": "code",
        "colab": {
          "base_uri": "https://localhost:8080/",
          "height": 255
        },
        "outputId": "1fb22825-e5d6-416f-9f60-41df774678a9"
      },
      "source": [
        "from keras import models\n",
        "from keras import layers\n",
        "\n",
        "model = models.Sequential()\n",
        "model.add(layers.Dense(8,activation='relu',input_shape=(10000,)))\n",
        "model.add(layers.Dense(8,activation='relu'))\n",
        "model.add(layers.Dense(2,activation='sigmoid'))\n",
        "model.compile(loss='binary_crossentropy',optimizer='rmsprop',metrics=['acc'])\n",
        "model.summary()"
      ],
      "execution_count": 52,
      "outputs": [
        {
          "output_type": "stream",
          "text": [
            "Model: \"sequential_7\"\n",
            "_________________________________________________________________\n",
            "Layer (type)                 Output Shape              Param #   \n",
            "=================================================================\n",
            "dense_19 (Dense)             (None, 8)                 80008     \n",
            "_________________________________________________________________\n",
            "dense_20 (Dense)             (None, 8)                 72        \n",
            "_________________________________________________________________\n",
            "dense_21 (Dense)             (None, 2)                 18        \n",
            "=================================================================\n",
            "Total params: 80,098\n",
            "Trainable params: 80,098\n",
            "Non-trainable params: 0\n",
            "_________________________________________________________________\n"
          ],
          "name": "stdout"
        }
      ]
    },
    {
      "cell_type": "code",
      "metadata": {
        "id": "BaDaXWna2pvv",
        "colab_type": "code",
        "colab": {
          "base_uri": "https://localhost:8080/",
          "height": 544
        },
        "outputId": "f147baa4-9aa6-4bf7-b0a1-6221a9e65bc9"
      },
      "source": [
        "history = model.fit(X_train,y_train,epochs = 15, batch_size= 128,validation_data=(X_test,y_test))"
      ],
      "execution_count": 53,
      "outputs": [
        {
          "output_type": "stream",
          "text": [
            "Train on 25000 samples, validate on 25000 samples\n",
            "Epoch 1/15\n",
            "25000/25000 [==============================] - 3s 111us/step - loss: 0.4681 - acc: 0.8216 - val_loss: 0.3314 - val_acc: 0.8841\n",
            "Epoch 2/15\n",
            "25000/25000 [==============================] - 3s 109us/step - loss: 0.2531 - acc: 0.9112 - val_loss: 0.2942 - val_acc: 0.8810\n",
            "Epoch 3/15\n",
            "25000/25000 [==============================] - 3s 108us/step - loss: 0.1954 - acc: 0.9278 - val_loss: 0.2787 - val_acc: 0.8899\n",
            "Epoch 4/15\n",
            "25000/25000 [==============================] - 3s 105us/step - loss: 0.1648 - acc: 0.9404 - val_loss: 0.3028 - val_acc: 0.8820\n",
            "Epoch 5/15\n",
            "25000/25000 [==============================] - 3s 110us/step - loss: 0.1437 - acc: 0.9488 - val_loss: 0.3339 - val_acc: 0.8759\n",
            "Epoch 6/15\n",
            "25000/25000 [==============================] - 3s 109us/step - loss: 0.1265 - acc: 0.9559 - val_loss: 0.3417 - val_acc: 0.8772\n",
            "Epoch 7/15\n",
            "25000/25000 [==============================] - 3s 109us/step - loss: 0.1105 - acc: 0.9628 - val_loss: 0.3734 - val_acc: 0.8725\n",
            "Epoch 8/15\n",
            "25000/25000 [==============================] - 3s 107us/step - loss: 0.0967 - acc: 0.9674 - val_loss: 0.4015 - val_acc: 0.8681\n",
            "Epoch 9/15\n",
            "25000/25000 [==============================] - 3s 108us/step - loss: 0.0855 - acc: 0.9712 - val_loss: 0.4319 - val_acc: 0.8670\n",
            "Epoch 10/15\n",
            "25000/25000 [==============================] - 3s 110us/step - loss: 0.0738 - acc: 0.9758 - val_loss: 0.4710 - val_acc: 0.8635\n",
            "Epoch 11/15\n",
            "25000/25000 [==============================] - 3s 112us/step - loss: 0.0650 - acc: 0.9800 - val_loss: 0.5087 - val_acc: 0.8608\n",
            "Epoch 12/15\n",
            "25000/25000 [==============================] - 3s 109us/step - loss: 0.0570 - acc: 0.9827 - val_loss: 0.5541 - val_acc: 0.8572\n",
            "Epoch 13/15\n",
            "25000/25000 [==============================] - 3s 109us/step - loss: 0.0490 - acc: 0.9850 - val_loss: 0.5826 - val_acc: 0.8560\n",
            "Epoch 14/15\n",
            "25000/25000 [==============================] - 3s 108us/step - loss: 0.0429 - acc: 0.9873 - val_loss: 0.6341 - val_acc: 0.8549\n",
            "Epoch 15/15\n",
            "25000/25000 [==============================] - 3s 108us/step - loss: 0.0375 - acc: 0.9890 - val_loss: 0.6823 - val_acc: 0.8526\n"
          ],
          "name": "stdout"
        }
      ]
    },
    {
      "cell_type": "code",
      "metadata": {
        "id": "o9LNA6mc3b9L",
        "colab_type": "code",
        "colab": {
          "base_uri": "https://localhost:8080/",
          "height": 282
        },
        "outputId": "7edee550-67e0-4ae1-e4ef-fb1af1e5b6db"
      },
      "source": [
        "import matplotlib.pyplot as plt\n",
        "epochs = range(1,len(history.history['acc'])+ 1)\n",
        "plt.plot(epochs,history.history['loss'],'bo',label='Training_loss')\n",
        "plt.plot(epochs,history.history['val_loss'],'b',label='Validation_loss')\n",
        "plt.legend()"
      ],
      "execution_count": 54,
      "outputs": [
        {
          "output_type": "execute_result",
          "data": {
            "text/plain": [
              "<matplotlib.legend.Legend at 0x7f9091771c88>"
            ]
          },
          "metadata": {
            "tags": []
          },
          "execution_count": 54
        },
        {
          "output_type": "display_data",
          "data": {
            "image/png": "[encoded data removed]",
            "text/plain": [
              "<Figure size 432x288 with 1 Axes>"
            ]
          },
          "metadata": {
            "tags": [],
            "needs_background": "light"
          }
        }
      ]
    },
    {
      "cell_type": "code",
      "metadata": {
        "id": "CNhFx4ma4j4G",
        "colab_type": "code",
        "colab": {
          "base_uri": "https://localhost:8080/",
          "height": 282
        },
        "outputId": "e72f5481-d08a-41e2-b719-4c1ec68e0ceb"
      },
      "source": [
        "epochs = range(1,len(history.history['acc'])+ 1)\n",
        "plt.plot(epochs,history.history['acc'],'b--',label='Training_Accuracy')\n",
        "plt.plot(epochs,history.history['val_acc'],'b',label='Validation_Accuracy')\n",
        "plt.legend()"
      ],
      "execution_count": 55,
      "outputs": [
        {
          "output_type": "execute_result",
          "data": {
            "text/plain": [
              "<matplotlib.legend.Legend at 0x7f90906cd3c8>"
            ]
          },
          "metadata": {
            "tags": []
          },
          "execution_count": 55
        },
        {
          "output_type": "display_data",
          "data": {
            "image/png": "[encoded data removed]",
            "text/plain": [
              "<Figure size 432x288 with 1 Axes>"
            ]
          },
          "metadata": {
            "tags": [],
            "needs_background": "light"
          }
        }
      ]
    },
    {
      "cell_type": "markdown",
      "metadata": {
        "id": "JfQSbwOu6NMd",
        "colab_type": "text"
      },
      "source": [
        "## it is evident that the model performed well at epoch 3\n",
        "\n",
        "Retraining the model from scratch"
      ]
    },
    {
      "cell_type": "code",
      "metadata": {
        "id": "qgnTpDnz3xCh",
        "colab_type": "code",
        "colab": {
          "base_uri": "https://localhost:8080/",
          "height": 374
        },
        "outputId": "b32c5042-3070-4d9b-815a-c77f3e8aff42"
      },
      "source": [
        "\n",
        "model = models.Sequential()\n",
        "model.add(layers.Dense(8,activation='relu',input_shape=(10000,)))\n",
        "model.add(layers.Dense(8,activation='relu'))\n",
        "model.add(layers.Dense(2,activation='sigmoid'))\n",
        "model.compile(loss='binary_crossentropy',optimizer='rmsprop',metrics=['accuracy'])\n",
        "model.summary()\n",
        "history = model.fit(X_train,y_train,epochs = 3, batch_size= 128,validation_data=(X_test,y_test))"
      ],
      "execution_count": 57,
      "outputs": [
        {
          "output_type": "stream",
          "text": [
            "Model: \"sequential_8\"\n",
            "_________________________________________________________________\n",
            "Layer (type)                 Output Shape              Param #   \n",
            "=================================================================\n",
            "dense_22 (Dense)             (None, 8)                 80008     \n",
            "_________________________________________________________________\n",
            "dense_23 (Dense)             (None, 8)                 72        \n",
            "_________________________________________________________________\n",
            "dense_24 (Dense)             (None, 2)                 18        \n",
            "=================================================================\n",
            "Total params: 80,098\n",
            "Trainable params: 80,098\n",
            "Non-trainable params: 0\n",
            "_________________________________________________________________\n",
            "Train on 25000 samples, validate on 25000 samples\n",
            "Epoch 1/3\n",
            "25000/25000 [==============================] - 3s 113us/step - loss: 0.5336 - accuracy: 0.7139 - val_loss: 0.4575 - val_accuracy: 0.7322\n",
            "Epoch 2/3\n",
            "25000/25000 [==============================] - 3s 110us/step - loss: 0.3860 - accuracy: 0.7916 - val_loss: 0.3942 - val_accuracy: 0.8598\n",
            "Epoch 3/3\n",
            "25000/25000 [==============================] - 3s 111us/step - loss: 0.2957 - accuracy: 0.9227 - val_loss: 0.3544 - val_accuracy: 0.8792\n"
          ],
          "name": "stdout"
        }
      ]
    },
    {
      "cell_type": "code",
      "metadata": {
        "id": "lG1Atwaa69nn",
        "colab_type": "code",
        "colab": {}
      },
      "source": [
        "results = model.predict(X_test)"
      ],
      "execution_count": 0,
      "outputs": []
    },
    {
      "cell_type": "code",
      "metadata": {
        "id": "OsmTOUtt7D_6",
        "colab_type": "code",
        "colab": {
          "base_uri": "https://localhost:8080/",
          "height": 51
        },
        "outputId": "ef495176-fd89-4ccb-9e0c-c4ea67e1103e"
      },
      "source": [
        "res_eval = model.evaluate(X_test,y_test)\n",
        "res_eval"
      ],
      "execution_count": 59,
      "outputs": [
        {
          "output_type": "stream",
          "text": [
            "25000/25000 [==============================] - 1s 58us/step\n"
          ],
          "name": "stdout"
        },
        {
          "output_type": "execute_result",
          "data": {
            "text/plain": [
              "[0.3543961787605286, 0.8791599869728088]"
            ]
          },
          "metadata": {
            "tags": []
          },
          "execution_count": 59
        }
      ]
    },
    {
      "cell_type": "code",
      "metadata": {
        "id": "o0Vul1lN7Kpp",
        "colab_type": "code",
        "colab": {
          "base_uri": "https://localhost:8080/",
          "height": 34
        },
        "outputId": "e523f0c8-5f7e-410a-c9d6-adfef843751c"
      },
      "source": [
        "print(f'Loss : {np.around(res_eval[0] * 100.0)}% Accuracy : {np.around(res_eval[1] * 100.0)}%')"
      ],
      "execution_count": 61,
      "outputs": [
        {
          "output_type": "stream",
          "text": [
            "Loss : 35.0% Accuracy : 88.0%\n"
          ],
          "name": "stdout"
        }
      ]
    },
    {
      "cell_type": "markdown",
      "metadata": {
        "id": "9AF-HgRw8e50",
        "colab_type": "text"
      },
      "source": [
        "##Multiclass Classification using Keras"
      ]
    },
    {
      "cell_type": "code",
      "metadata": {
        "id": "WclMYJcR7cgo",
        "colab_type": "code",
        "colab": {
          "base_uri": "https://localhost:8080/",
          "height": 34
        },
        "outputId": "a85947b4-9c77-4097-a8ea-a4dbf02def91"
      },
      "source": [
        "from keras.datasets import reuters\n",
        "(train_data,train_labels),(test_data,test_labels) = reuters.load_data(num_words=10000)\n",
        "print(train_data.shape,test_data.shape)"
      ],
      "execution_count": 99,
      "outputs": [
        {
          "output_type": "stream",
          "text": [
            "(8982,) (2246,)\n"
          ],
          "name": "stdout"
        }
      ]
    },
    {
      "cell_type": "markdown",
      "metadata": {
        "id": "uWL2kdjb9gKB",
        "colab_type": "text"
      },
      "source": [
        "## Perform one hot encoding for Feature vectors"
      ]
    },
    {
      "cell_type": "code",
      "metadata": {
        "id": "8nKqusuY_Lns",
        "colab_type": "code",
        "colab": {}
      },
      "source": [
        "def vectorize_sequences(sequence,dimensions=10000):\n",
        "  results = np.zeros((len(sequence),dimensions))\n",
        "  for i,item in enumerate(sequence):\n",
        "    results[i,item] = 1.\n",
        "  return results"
      ],
      "execution_count": 0,
      "outputs": []
    },
    {
      "cell_type": "code",
      "metadata": {
        "id": "BxzT4qBG9c8a",
        "colab_type": "code",
        "colab": {
          "base_uri": "https://localhost:8080/",
          "height": 34
        },
        "outputId": "1ba3e745-b845-4e7c-f695-83329808807c"
      },
      "source": [
        "X_train = vectorize_sequences(train_data)\n",
        "X_test = vectorize_sequences(test_data)\n",
        "print(X_train.shape,X_test.shape)"
      ],
      "execution_count": 101,
      "outputs": [
        {
          "output_type": "stream",
          "text": [
            "(8982, 10000) (2246, 10000)\n"
          ],
          "name": "stdout"
        }
      ]
    },
    {
      "cell_type": "code",
      "metadata": {
        "id": "jh4AS2Rg__qG",
        "colab_type": "code",
        "colab": {}
      },
      "source": [
        "y_train = to_categorical(train_labels)\n",
        "y_test = to_categorical(test_labels)"
      ],
      "execution_count": 0,
      "outputs": []
    },
    {
      "cell_type": "code",
      "metadata": {
        "id": "lOkse3caAM78",
        "colab_type": "code",
        "colab": {
          "base_uri": "https://localhost:8080/",
          "height": 34
        },
        "outputId": "ca340dbd-e460-458b-9e6f-34e4d113264d"
      },
      "source": [
        "print(y_train.shape,y_test.shape)"
      ],
      "execution_count": 70,
      "outputs": [
        {
          "output_type": "stream",
          "text": [
            "(8982, 46) (2246, 46)\n"
          ],
          "name": "stdout"
        }
      ]
    },
    {
      "cell_type": "markdown",
      "metadata": {
        "id": "J8mYnzx_Aoro",
        "colab_type": "text"
      },
      "source": [
        "# Build Model"
      ]
    },
    {
      "cell_type": "code",
      "metadata": {
        "id": "RBwJkeL0Abk6",
        "colab_type": "code",
        "colab": {
          "base_uri": "https://localhost:8080/",
          "height": 255
        },
        "outputId": "6e6b63ef-c6ef-4d0d-c54b-0bbfa65eaaa9"
      },
      "source": [
        "model = models.Sequential()\n",
        "model.add(layers.Dense(64,activation='relu',input_shape=(10000,)))\n",
        "model.add(layers.Dense(32,activation='relu'))\n",
        "model.add(layers.Dense(46,activation='softmax'))\n",
        "model.compile(loss='categorical_crossentropy',optimizer='adam',metrics=['acc'])\n",
        "model.summary()"
      ],
      "execution_count": 74,
      "outputs": [
        {
          "output_type": "stream",
          "text": [
            "Model: \"sequential_11\"\n",
            "_________________________________________________________________\n",
            "Layer (type)                 Output Shape              Param #   \n",
            "=================================================================\n",
            "dense_31 (Dense)             (None, 64)                640064    \n",
            "_________________________________________________________________\n",
            "dense_32 (Dense)             (None, 32)                2080      \n",
            "_________________________________________________________________\n",
            "dense_33 (Dense)             (None, 46)                1518      \n",
            "=================================================================\n",
            "Total params: 643,662\n",
            "Trainable params: 643,662\n",
            "Non-trainable params: 0\n",
            "_________________________________________________________________\n"
          ],
          "name": "stdout"
        }
      ]
    },
    {
      "cell_type": "code",
      "metadata": {
        "id": "89QZ_6FGA70R",
        "colab_type": "code",
        "colab": {
          "base_uri": "https://localhost:8080/",
          "height": 884
        },
        "outputId": "e55f15ba-384e-4b96-b8b7-bce6e7ea948b"
      },
      "source": [
        "history = model.fit(X_train,y_train,epochs=25,batch_size=128,validation_data=(X_test,y_test))"
      ],
      "execution_count": 75,
      "outputs": [
        {
          "output_type": "stream",
          "text": [
            "Train on 8982 samples, validate on 2246 samples\n",
            "Epoch 1/25\n",
            "8982/8982 [==============================] - 2s 177us/step - loss: 2.4339 - acc: 0.4541 - val_loss: 1.4842 - val_acc: 0.6674\n",
            "Epoch 2/25\n",
            "8982/8982 [==============================] - 1s 159us/step - loss: 1.1438 - acc: 0.7507 - val_loss: 1.1476 - val_acc: 0.7458\n",
            "Epoch 3/25\n",
            "8982/8982 [==============================] - 1s 161us/step - loss: 0.7486 - acc: 0.8367 - val_loss: 1.0121 - val_acc: 0.7747\n",
            "Epoch 4/25\n",
            "8982/8982 [==============================] - 1s 163us/step - loss: 0.4996 - acc: 0.8938 - val_loss: 0.9598 - val_acc: 0.7854\n",
            "Epoch 5/25\n",
            "8982/8982 [==============================] - 1s 158us/step - loss: 0.3497 - acc: 0.9297 - val_loss: 0.9835 - val_acc: 0.7858\n",
            "Epoch 6/25\n",
            "8982/8982 [==============================] - 1s 163us/step - loss: 0.2631 - acc: 0.9413 - val_loss: 0.9598 - val_acc: 0.7947\n",
            "Epoch 7/25\n",
            "8982/8982 [==============================] - 1s 159us/step - loss: 0.2176 - acc: 0.9478 - val_loss: 1.0083 - val_acc: 0.7903\n",
            "Epoch 8/25\n",
            "8982/8982 [==============================] - 1s 158us/step - loss: 0.1868 - acc: 0.9507 - val_loss: 1.0217 - val_acc: 0.7983\n",
            "Epoch 9/25\n",
            "8982/8982 [==============================] - 1s 158us/step - loss: 0.1668 - acc: 0.9541 - val_loss: 1.0493 - val_acc: 0.7961\n",
            "Epoch 10/25\n",
            "8982/8982 [==============================] - 1s 160us/step - loss: 0.1594 - acc: 0.9539 - val_loss: 1.0797 - val_acc: 0.7979\n",
            "Epoch 11/25\n",
            "8982/8982 [==============================] - 1s 163us/step - loss: 0.1533 - acc: 0.9526 - val_loss: 1.0643 - val_acc: 0.7979\n",
            "Epoch 12/25\n",
            "8982/8982 [==============================] - 1s 160us/step - loss: 0.1413 - acc: 0.9557 - val_loss: 1.1091 - val_acc: 0.7898\n",
            "Epoch 13/25\n",
            "8982/8982 [==============================] - 1s 160us/step - loss: 0.1388 - acc: 0.9547 - val_loss: 1.1360 - val_acc: 0.7943\n",
            "Epoch 14/25\n",
            "8982/8982 [==============================] - 1s 161us/step - loss: 0.1366 - acc: 0.9547 - val_loss: 1.1391 - val_acc: 0.7952\n",
            "Epoch 15/25\n",
            "8982/8982 [==============================] - 1s 158us/step - loss: 0.1323 - acc: 0.9546 - val_loss: 1.1634 - val_acc: 0.7921\n",
            "Epoch 16/25\n",
            "8982/8982 [==============================] - 1s 160us/step - loss: 0.1279 - acc: 0.9557 - val_loss: 1.2005 - val_acc: 0.7863\n",
            "Epoch 17/25\n",
            "8982/8982 [==============================] - 1s 160us/step - loss: 0.1274 - acc: 0.9545 - val_loss: 1.1412 - val_acc: 0.7970\n",
            "Epoch 18/25\n",
            "8982/8982 [==============================] - 1s 159us/step - loss: 0.1310 - acc: 0.9550 - val_loss: 1.1262 - val_acc: 0.7983\n",
            "Epoch 19/25\n",
            "8982/8982 [==============================] - 1s 161us/step - loss: 0.1267 - acc: 0.9554 - val_loss: 1.1766 - val_acc: 0.7912\n",
            "Epoch 20/25\n",
            "8982/8982 [==============================] - 1s 160us/step - loss: 0.1211 - acc: 0.9552 - val_loss: 1.1406 - val_acc: 0.7947\n",
            "Epoch 21/25\n",
            "8982/8982 [==============================] - 1s 158us/step - loss: 0.1189 - acc: 0.9557 - val_loss: 1.1817 - val_acc: 0.7965\n",
            "Epoch 22/25\n",
            "8982/8982 [==============================] - 1s 159us/step - loss: 0.1143 - acc: 0.9554 - val_loss: 1.1725 - val_acc: 0.7921\n",
            "Epoch 23/25\n",
            "8982/8982 [==============================] - 1s 156us/step - loss: 0.1139 - acc: 0.9567 - val_loss: 1.1638 - val_acc: 0.7943\n",
            "Epoch 24/25\n",
            "8982/8982 [==============================] - 1s 156us/step - loss: 0.1085 - acc: 0.9559 - val_loss: 1.1795 - val_acc: 0.7947\n",
            "Epoch 25/25\n",
            "8982/8982 [==============================] - 1s 157us/step - loss: 0.1064 - acc: 0.9567 - val_loss: 1.2209 - val_acc: 0.7898\n"
          ],
          "name": "stdout"
        }
      ]
    },
    {
      "cell_type": "code",
      "metadata": {
        "id": "4vZMQix_Bqdd",
        "colab_type": "code",
        "colab": {
          "base_uri": "https://localhost:8080/",
          "height": 282
        },
        "outputId": "6e3439ef-6516-4340-8dc4-0ad079f2bd69"
      },
      "source": [
        "epochs = range(1,len(history.history['acc'])+ 1)\n",
        "plt.plot(epochs,history.history['loss'],'bo',label='Training_loss')\n",
        "plt.plot(epochs,history.history['val_loss'],'b',label='Validation_loss')\n",
        "plt.legend()"
      ],
      "execution_count": 76,
      "outputs": [
        {
          "output_type": "execute_result",
          "data": {
            "text/plain": [
              "<matplotlib.legend.Legend at 0x7f908f3875c0>"
            ]
          },
          "metadata": {
            "tags": []
          },
          "execution_count": 76
        },
        {
          "output_type": "display_data",
          "data": {
            "image/png": "[encoded data removed]",
            "text/plain": [
              "<Figure size 432x288 with 1 Axes>"
            ]
          },
          "metadata": {
            "tags": [],
            "needs_background": "light"
          }
        }
      ]
    },
    {
      "cell_type": "code",
      "metadata": {
        "id": "Te3CGZSsB1d4",
        "colab_type": "code",
        "colab": {
          "base_uri": "https://localhost:8080/",
          "height": 282
        },
        "outputId": "7e99590b-5bd1-4f6e-a140-5c2297da966e"
      },
      "source": [
        "epochs = range(1,len(history.history['acc'])+ 1)\n",
        "plt.plot(epochs,history.history['acc'],'b--',label='Training_Accuracy')\n",
        "plt.plot(epochs,history.history['val_acc'],'b',label='Validation_Accuracy')\n",
        "plt.legend()"
      ],
      "execution_count": 77,
      "outputs": [
        {
          "output_type": "execute_result",
          "data": {
            "text/plain": [
              "<matplotlib.legend.Legend at 0x7f908f5d6da0>"
            ]
          },
          "metadata": {
            "tags": []
          },
          "execution_count": 77
        },
        {
          "output_type": "display_data",
          "data": {
            "image/png": "[encoded data removed]",
            "text/plain": [
              "<Figure size 432x288 with 1 Axes>"
            ]
          },
          "metadata": {
            "tags": [],
            "needs_background": "light"
          }
        }
      ]
    },
    {
      "cell_type": "markdown",
      "metadata": {
        "id": "zGyrW4J3CHIH",
        "colab_type": "text"
      },
      "source": [
        "Retraining the model with epochs = 12, as it gives a better performance/ accuracy"
      ]
    },
    {
      "cell_type": "code",
      "metadata": {
        "id": "-aPtyXgGCP22",
        "colab_type": "code",
        "colab": {
          "base_uri": "https://localhost:8080/",
          "height": 1000
        },
        "outputId": "7bc003d7-73f7-4fe4-ead9-6b81e6557ffc"
      },
      "source": [
        "model = models.Sequential()\n",
        "model.add(layers.Dense(64,activation='relu',input_shape=(10000,)))\n",
        "model.add(layers.Dense(64,activation='relu'))\n",
        "#model.add(layers.Dense(8,activation='relu'))\n",
        "model.add(layers.Dense(46,activation='softmax'))\n",
        "model.compile(loss='categorical_crossentropy',optimizer='adam',metrics=['acc'])\n",
        "model.summary()\n",
        "history = model.fit(X_train,y_train,epochs=25,batch_size=128,validation_data=(X_test,y_test))"
      ],
      "execution_count": 85,
      "outputs": [
        {
          "output_type": "stream",
          "text": [
            "Model: \"sequential_16\"\n",
            "_________________________________________________________________\n",
            "Layer (type)                 Output Shape              Param #   \n",
            "=================================================================\n",
            "dense_48 (Dense)             (None, 64)                640064    \n",
            "_________________________________________________________________\n",
            "dense_49 (Dense)             (None, 64)                4160      \n",
            "_________________________________________________________________\n",
            "dense_50 (Dense)             (None, 46)                2990      \n",
            "=================================================================\n",
            "Total params: 647,214\n",
            "Trainable params: 647,214\n",
            "Non-trainable params: 0\n",
            "_________________________________________________________________\n",
            "Train on 8982 samples, validate on 2246 samples\n",
            "Epoch 1/25\n",
            "8982/8982 [==============================] - 1s 164us/step - loss: 2.0651 - acc: 0.5747 - val_loss: 1.3571 - val_acc: 0.6968\n",
            "Epoch 2/25\n",
            "8982/8982 [==============================] - 1s 153us/step - loss: 1.0134 - acc: 0.7772 - val_loss: 1.0643 - val_acc: 0.7667\n",
            "Epoch 3/25\n",
            "8982/8982 [==============================] - 1s 154us/step - loss: 0.6294 - acc: 0.8601 - val_loss: 0.9429 - val_acc: 0.7841\n",
            "Epoch 4/25\n",
            "8982/8982 [==============================] - 1s 156us/step - loss: 0.3952 - acc: 0.9144 - val_loss: 0.9411 - val_acc: 0.7952\n",
            "Epoch 5/25\n",
            "8982/8982 [==============================] - 1s 153us/step - loss: 0.2779 - acc: 0.9372 - val_loss: 0.9178 - val_acc: 0.8032\n",
            "Epoch 6/25\n",
            "8982/8982 [==============================] - 1s 155us/step - loss: 0.2187 - acc: 0.9472 - val_loss: 0.9762 - val_acc: 0.7943\n",
            "Epoch 7/25\n",
            "8982/8982 [==============================] - 1s 152us/step - loss: 0.1934 - acc: 0.9517 - val_loss: 0.9660 - val_acc: 0.7988\n",
            "Epoch 8/25\n",
            "8982/8982 [==============================] - 1s 152us/step - loss: 0.1658 - acc: 0.9531 - val_loss: 1.0228 - val_acc: 0.7939\n",
            "Epoch 9/25\n",
            "8982/8982 [==============================] - 1s 151us/step - loss: 0.1565 - acc: 0.9518 - val_loss: 1.0314 - val_acc: 0.7983\n",
            "Epoch 10/25\n",
            "8982/8982 [==============================] - 1s 156us/step - loss: 0.1466 - acc: 0.9539 - val_loss: 1.0192 - val_acc: 0.8032\n",
            "Epoch 11/25\n",
            "8982/8982 [==============================] - 1s 156us/step - loss: 0.1412 - acc: 0.9540 - val_loss: 1.0430 - val_acc: 0.7970\n",
            "Epoch 12/25\n",
            "8982/8982 [==============================] - 1s 157us/step - loss: 0.1284 - acc: 0.9562 - val_loss: 1.0715 - val_acc: 0.8010\n",
            "Epoch 13/25\n",
            "8982/8982 [==============================] - 1s 158us/step - loss: 0.1288 - acc: 0.9549 - val_loss: 1.0566 - val_acc: 0.8019\n",
            "Epoch 14/25\n",
            "8982/8982 [==============================] - 1s 160us/step - loss: 0.1324 - acc: 0.9549 - val_loss: 1.0811 - val_acc: 0.8005\n",
            "Epoch 15/25\n",
            "8982/8982 [==============================] - 1s 164us/step - loss: 0.1214 - acc: 0.9565 - val_loss: 1.0846 - val_acc: 0.7988\n",
            "Epoch 16/25\n",
            "8982/8982 [==============================] - 1s 156us/step - loss: 0.1210 - acc: 0.9546 - val_loss: 1.1013 - val_acc: 0.7970\n",
            "Epoch 17/25\n",
            "8982/8982 [==============================] - 1s 155us/step - loss: 0.1166 - acc: 0.9542 - val_loss: 1.0539 - val_acc: 0.7992\n",
            "Epoch 18/25\n",
            "8982/8982 [==============================] - 1s 156us/step - loss: 0.1149 - acc: 0.9557 - val_loss: 1.0947 - val_acc: 0.7939\n",
            "Epoch 19/25\n",
            "8982/8982 [==============================] - 1s 156us/step - loss: 0.1109 - acc: 0.9559 - val_loss: 1.0677 - val_acc: 0.8032\n",
            "Epoch 20/25\n",
            "8982/8982 [==============================] - 1s 158us/step - loss: 0.1080 - acc: 0.9538 - val_loss: 1.0545 - val_acc: 0.8037\n",
            "Epoch 21/25\n",
            "8982/8982 [==============================] - 1s 160us/step - loss: 0.1095 - acc: 0.9554 - val_loss: 1.1051 - val_acc: 0.7983\n",
            "Epoch 22/25\n",
            "8982/8982 [==============================] - 1s 157us/step - loss: 0.1037 - acc: 0.9571 - val_loss: 1.1504 - val_acc: 0.7943\n",
            "Epoch 23/25\n",
            "8982/8982 [==============================] - 1s 156us/step - loss: 0.1020 - acc: 0.9539 - val_loss: 1.1065 - val_acc: 0.7961\n",
            "Epoch 24/25\n",
            "8982/8982 [==============================] - 1s 157us/step - loss: 0.1042 - acc: 0.9566 - val_loss: 1.1195 - val_acc: 0.7939\n",
            "Epoch 25/25\n",
            "8982/8982 [==============================] - 1s 157us/step - loss: 0.1032 - acc: 0.9542 - val_loss: 1.0922 - val_acc: 0.8023\n"
          ],
          "name": "stdout"
        }
      ]
    },
    {
      "cell_type": "code",
      "metadata": {
        "id": "hujdxyZdCZgn",
        "colab_type": "code",
        "colab": {
          "base_uri": "https://localhost:8080/",
          "height": 51
        },
        "outputId": "a80f4482-a9b9-406a-f2df-8a1931f6c101"
      },
      "source": [
        "res_eval = model.evaluate(X_test,y_test)\n",
        "print(f'Loss : {np.round(res_eval[0] * 100.0)}% Accuracy : {np.round(res_eval[1] * 100.0)}%')\n",
        "\n"
      ],
      "execution_count": 91,
      "outputs": [
        {
          "output_type": "stream",
          "text": [
            "2246/2246 [==============================] - 0s 82us/step\n",
            "Loss : 109.0% Accuracy : 80.0%\n"
          ],
          "name": "stdout"
        }
      ]
    },
    {
      "cell_type": "code",
      "metadata": {
        "id": "DD4CUQwOC2xI",
        "colab_type": "code",
        "colab": {
          "base_uri": "https://localhost:8080/",
          "height": 34
        },
        "outputId": "bb965993-b995-4bad-c8f6-27a00843cd9e"
      },
      "source": [
        "res_eval"
      ],
      "execution_count": 89,
      "outputs": [
        {
          "output_type": "execute_result",
          "data": {
            "text/plain": [
              "[1.0921847421148476, 0.8023152351379395]"
            ]
          },
          "metadata": {
            "tags": []
          },
          "execution_count": 89
        }
      ]
    },
    {
      "cell_type": "markdown",
      "metadata": {
        "id": "_8WzkLiQEVYA",
        "colab_type": "text"
      },
      "source": [
        "## Regression Problem using Keras"
      ]
    },
    {
      "cell_type": "code",
      "metadata": {
        "id": "7RzOwNA3C3NP",
        "colab_type": "code",
        "colab": {
          "base_uri": "https://localhost:8080/",
          "height": 34
        },
        "outputId": "1865cc21-55dd-4c8b-fdfe-7b7dbaeaf188"
      },
      "source": [
        "from keras.datasets import  boston_housing\n",
        "(train_data,train_labels),(test_data,test_labels) = boston_housing.load_data()\n",
        "print(train_data.shape,test_data.shape)"
      ],
      "execution_count": 139,
      "outputs": [
        {
          "output_type": "stream",
          "text": [
            "(404, 13) (102, 13)\n"
          ],
          "name": "stdout"
        }
      ]
    },
    {
      "cell_type": "code",
      "metadata": {
        "id": "-R4aD2eKL2Yn",
        "colab_type": "code",
        "colab": {
          "base_uri": "https://localhost:8080/",
          "height": 68
        },
        "outputId": "061b06ed-2765-4559-8cd9-ca337361aea1"
      },
      "source": [
        "train_data[0]"
      ],
      "execution_count": 140,
      "outputs": [
        {
          "output_type": "execute_result",
          "data": {
            "text/plain": [
              "array([  1.23247,   0.     ,   8.14   ,   0.     ,   0.538  ,   6.142  ,\n",
              "        91.7    ,   3.9769 ,   4.     , 307.     ,  21.     , 396.9    ,\n",
              "        18.72   ])"
            ]
          },
          "metadata": {
            "tags": []
          },
          "execution_count": 140
        }
      ]
    },
    {
      "cell_type": "code",
      "metadata": {
        "id": "Zq9_FRcVL6PX",
        "colab_type": "code",
        "colab": {}
      },
      "source": [
        "from sklearn.preprocessing import StandardScaler\n",
        "sc = StandardScaler()\n",
        "sc.fit(train_data)\n",
        "X_train = sc.transform(train_data)\n",
        "X_test = sc.transform(test_data)"
      ],
      "execution_count": 0,
      "outputs": []
    },
    {
      "cell_type": "code",
      "metadata": {
        "id": "bjOS1q7pWYY7",
        "colab_type": "code",
        "colab": {
          "base_uri": "https://localhost:8080/",
          "height": 34
        },
        "outputId": "7258db24-0664-4338-e14e-62cdd0c710dd"
      },
      "source": [
        "X_train.shape"
      ],
      "execution_count": 142,
      "outputs": [
        {
          "output_type": "execute_result",
          "data": {
            "text/plain": [
              "(404, 13)"
            ]
          },
          "metadata": {
            "tags": []
          },
          "execution_count": 142
        }
      ]
    },
    {
      "cell_type": "code",
      "metadata": {
        "id": "zG7w0vjPVi9t",
        "colab_type": "code",
        "colab": {}
      },
      "source": [
        "def build_model():\n",
        "  model = models.Sequential()\n",
        "  model.add(layers.Dense(64,activation='relu',input_shape=(13,)))\n",
        "  model.add(layers.Dense(64,activation='relu'))\n",
        "  model.add(layers.Dense(1))\n",
        "  model.compile(optimizer='rmsprop',loss='mse',metrics=['mae'])\n",
        "  model.summary()\n",
        "  return model"
      ],
      "execution_count": 0,
      "outputs": []
    },
    {
      "cell_type": "code",
      "metadata": {
        "id": "ky6P36oEf1FJ",
        "colab_type": "code",
        "colab": {
          "base_uri": "https://localhost:8080/",
          "height": 1000
        },
        "outputId": "bf51234e-82af-4033-aa71-a6b63c9561b2"
      },
      "source": [
        "from sklearn.model_selection import KFold\n",
        "kf = KFold(n_splits=5)\n",
        "all_scores = []\n",
        "for train_index, test_index in kf.split(X_train):\n",
        "  train,test = X_train[train_index],X_train[test_index]\n",
        "  train_label,test_label = train_labels[train_index],train_labels[test_index]\n",
        "  model = build_model()\n",
        "  model.fit(train,train_label,epochs=100,batch_size=1,verbose=0)\n",
        "  val_mse,val_mae= model.evaluate(test,test_label)\n",
        "  all_scores.append(val_mse)"
      ],
      "execution_count": 146,
      "outputs": [
        {
          "output_type": "stream",
          "text": [
            "Model: \"sequential_8\"\n",
            "_________________________________________________________________\n",
            "Layer (type)                 Output Shape              Param #   \n",
            "=================================================================\n",
            "dense_21 (Dense)             (None, 64)                896       \n",
            "_________________________________________________________________\n",
            "dense_22 (Dense)             (None, 64)                4160      \n",
            "_________________________________________________________________\n",
            "dense_23 (Dense)             (None, 1)                 65        \n",
            "=================================================================\n",
            "Total params: 5,121\n",
            "Trainable params: 5,121\n",
            "Non-trainable params: 0\n",
            "_________________________________________________________________\n",
            "81/81 [==============================] - 0s 221us/step\n",
            "Model: \"sequential_9\"\n",
            "_________________________________________________________________\n",
            "Layer (type)                 Output Shape              Param #   \n",
            "=================================================================\n",
            "dense_24 (Dense)             (None, 64)                896       \n",
            "_________________________________________________________________\n",
            "dense_25 (Dense)             (None, 64)                4160      \n",
            "_________________________________________________________________\n",
            "dense_26 (Dense)             (None, 1)                 65        \n",
            "=================================================================\n",
            "Total params: 5,121\n",
            "Trainable params: 5,121\n",
            "Non-trainable params: 0\n",
            "_________________________________________________________________\n",
            "81/81 [==============================] - 0s 236us/step\n",
            "Model: \"sequential_10\"\n",
            "_________________________________________________________________\n",
            "Layer (type)                 Output Shape              Param #   \n",
            "=================================================================\n",
            "dense_27 (Dense)             (None, 64)                896       \n",
            "_________________________________________________________________\n",
            "dense_28 (Dense)             (None, 64)                4160      \n",
            "_________________________________________________________________\n",
            "dense_29 (Dense)             (None, 1)                 65        \n",
            "=================================================================\n",
            "Total params: 5,121\n",
            "Trainable params: 5,121\n",
            "Non-trainable params: 0\n",
            "_________________________________________________________________\n",
            "81/81 [==============================] - 0s 265us/step\n",
            "Model: \"sequential_11\"\n",
            "_________________________________________________________________\n",
            "Layer (type)                 Output Shape              Param #   \n",
            "=================================================================\n",
            "dense_30 (Dense)             (None, 64)                896       \n",
            "_________________________________________________________________\n",
            "dense_31 (Dense)             (None, 64)                4160      \n",
            "_________________________________________________________________\n",
            "dense_32 (Dense)             (None, 1)                 65        \n",
            "=================================================================\n",
            "Total params: 5,121\n",
            "Trainable params: 5,121\n",
            "Non-trainable params: 0\n",
            "_________________________________________________________________\n",
            "81/81 [==============================] - 0s 295us/step\n",
            "Model: \"sequential_12\"\n",
            "_________________________________________________________________\n",
            "Layer (type)                 Output Shape              Param #   \n",
            "=================================================================\n",
            "dense_33 (Dense)             (None, 64)                896       \n",
            "_________________________________________________________________\n",
            "dense_34 (Dense)             (None, 64)                4160      \n",
            "_________________________________________________________________\n",
            "dense_35 (Dense)             (None, 1)                 65        \n",
            "=================================================================\n",
            "Total params: 5,121\n",
            "Trainable params: 5,121\n",
            "Non-trainable params: 0\n",
            "_________________________________________________________________\n",
            "80/80 [==============================] - 0s 216us/step\n"
          ],
          "name": "stdout"
        }
      ]
    },
    {
      "cell_type": "code",
      "metadata": {
        "id": "LWAm-zvZhhZR",
        "colab_type": "code",
        "colab": {
          "base_uri": "https://localhost:8080/",
          "height": 34
        },
        "outputId": "8b95fa75-6430-425f-bac6-b68c2ff3b661"
      },
      "source": [
        "np.mean(all_scores)"
      ],
      "execution_count": 147,
      "outputs": [
        {
          "output_type": "execute_result",
          "data": {
            "text/plain": [
              "13.921545652695645"
            ]
          },
          "metadata": {
            "tags": []
          },
          "execution_count": 147
        }
      ]
    },
    {
      "cell_type": "code",
      "metadata": {
        "id": "aadcipdtiNV4",
        "colab_type": "code",
        "colab": {
          "base_uri": "https://localhost:8080/",
          "height": 34
        },
        "outputId": "72c157b8-cdd9-439e-a24b-b9b54f1af9be"
      },
      "source": [
        "results = model.evaluate(X_test,test_labels)"
      ],
      "execution_count": 149,
      "outputs": [
        {
          "output_type": "stream",
          "text": [
            "102/102 [==============================] - 0s 150us/step\n"
          ],
          "name": "stdout"
        }
      ]
    },
    {
      "cell_type": "code",
      "metadata": {
        "id": "aKU_KcEPjTwf",
        "colab_type": "code",
        "colab": {
          "base_uri": "https://localhost:8080/",
          "height": 34
        },
        "outputId": "73650205-dbcc-403b-8f29-1495c4d009f5"
      },
      "source": [
        "results "
      ],
      "execution_count": 150,
      "outputs": [
        {
          "output_type": "execute_result",
          "data": {
            "text/plain": [
              "[25.780269847196692, 2.925975799560547]"
            ]
          },
          "metadata": {
            "tags": []
          },
          "execution_count": 150
        }
      ]
    },
    {
      "cell_type": "code",
      "metadata": {
        "id": "f6lm0ivHjUUF",
        "colab_type": "code",
        "colab": {
          "base_uri": "https://localhost:8080/",
          "height": 34
        },
        "outputId": "5745ff2e-b6c2-4065-fa3c-adfd298a92cc"
      },
      "source": [
        "print(f'RMSE : {np.sqrt(results[0])} , MAE : {results[1]}')"
      ],
      "execution_count": 152,
      "outputs": [
        {
          "output_type": "stream",
          "text": [
            "RMSE : 5.077427483204136 , MAE : 2.925975799560547\n"
          ],
          "name": "stdout"
        }
      ]
    },
    {
      "cell_type": "code",
      "metadata": {
        "id": "qPWiE1yxjsS9",
        "colab_type": "code",
        "colab": {}
      },
      "source": [
        ""
      ],
      "execution_count": 0,
      "outputs": []
    }
  ]
}