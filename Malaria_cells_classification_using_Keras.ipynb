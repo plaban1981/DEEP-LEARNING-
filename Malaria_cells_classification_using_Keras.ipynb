{
  "nbformat": 4,
  "nbformat_minor": 0,
  "metadata": {
    "colab": {
      "name": "Malaria cells classification using Keras.ipynb",
      "version": "0.3.2",
      "provenance": [],
      "include_colab_link": true
    },
    "kernelspec": {
      "name": "python3",
      "display_name": "Python 3"
    },
    "accelerator": "GPU"
  },
  "cells": [
    {
      "cell_type": "markdown",
      "metadata": {
        "id": "view-in-github",
        "colab_type": "text"
      },
      "source": [
        "<a href=\"https://colab.research.google.com/github/plaban1981/DEEP-LEARNING-/blob/master/Malaria_cells_classification_using_Keras.ipynb\" target=\"_parent\"><img src=\"https://colab.research.google.com/assets/colab-badge.svg\" alt=\"Open In Colab\"/></a>"
      ]
    },
    {
      "metadata": {
        "id": "WoDbT844V31O",
        "colab_type": "code",
        "colab": {}
      },
      "cell_type": "code",
      "source": [
        "\"\"\"\n",
        "#steps to download dataset from Kaggle\n",
        "Please follow the steps below to download and use kaggle data within Google Colab:\n",
        "\n",
        "Go to your account, Scroll to API section and Click Expire API Token to remove previous tokens\n",
        "\n",
        "Click on Create New API Token - It will download kaggle.json file on your machine.\n",
        "\n",
        "Go to your Google Colab project file and run the following commands:\n",
        "\n",
        "1) ! pip install -q kaggle\n",
        "\n",
        "2) from google.colab import files\n",
        "\n",
        "files.upload()\n",
        "\n",
        "Choose the kaggle.json file that you downloaded 3) ! mkdir ~/.kaggle\n",
        "\n",
        "! cp kaggle.json ~/.kaggle/\n",
        "\n",
        "Make directory named kaggle and copy kaggle.json file there. \n",
        "\n",
        "4) ! chmod 600 ~/.kaggle/kaggle.json\n",
        "\n",
        "Change the permissions of the file. \n",
        "\n",
        "5) ! kaggle datasets list\n",
        "\n",
        "That's all ! You can check if everything's okay by running this command. Download Data \n",
        "\n",
        "! kaggle competitions download -c 'name-of-competition'\n",
        "!kaggle datasets download -d iarunava/cell-images-for-detecting-malaria\n",
        "\n",
        "Use unzip command to unzip the data:\n",
        "\n",
        "For example,\n",
        "\n",
        "Create a directory named train,\n",
        "\n",
        "! mkdir train\n",
        "\n",
        "unzip train data there,\n",
        "\n",
        "! unzip cell-images-for-detecting-malaria.zip\n",
        "\n",
        "\"\"\""
      ],
      "execution_count": 0,
      "outputs": []
    },
    {
      "metadata": {
        "id": "nL4YS9zJWrRH",
        "colab_type": "code",
        "colab": {}
      },
      "cell_type": "code",
      "source": [
        "import os\n",
        "# Directory with our Parasitized pictures\n",
        "train_para_dir = os.path.join('cell_images/Parasitized')\n",
        "\n",
        "# Directory with our uninfected pictures\n",
        "train_unin_dir = os.path.join('cell_images/Uninfected')"
      ],
      "execution_count": 0,
      "outputs": []
    },
    {
      "metadata": {
        "id": "_LgNnkoFW2iA",
        "colab_type": "text"
      },
      "cell_type": "markdown",
      "source": [
        "**Import libraries**"
      ]
    },
    {
      "metadata": {
        "id": "fRzx1y9uWzIu",
        "colab_type": "code",
        "colab": {}
      },
      "cell_type": "code",
      "source": [
        "import numpy as np\n",
        "np.random.seed(1000)\n",
        "import pandas as pd\n",
        "import matplotlib.pyplot as plt\n",
        "%matplotlib inline\n",
        "\n",
        "from sklearn.model_selection import train_test_split"
      ],
      "execution_count": 0,
      "outputs": []
    },
    {
      "metadata": {
        "id": "YOQkT6OhW82G",
        "colab_type": "code",
        "colab": {
          "base_uri": "https://localhost:8080/",
          "height": 34
        },
        "outputId": "b0499434-ae16-4864-8a7f-e8e19cfe7448"
      },
      "cell_type": "code",
      "source": [
        "import keras\n",
        "from keras.models import Sequential\n",
        "from keras.layers import Convolution2D, MaxPooling2D, Flatten, Dense, BatchNormalization, Dropout"
      ],
      "execution_count": 3,
      "outputs": [
        {
          "output_type": "stream",
          "text": [
            "Using TensorFlow backend.\n"
          ],
          "name": "stderr"
        }
      ]
    },
    {
      "metadata": {
        "id": "NEFnouZ5XSPR",
        "colab_type": "code",
        "colab": {}
      },
      "cell_type": "code",
      "source": [
        "import os\n",
        "import cv2\n",
        "from PIL import Image"
      ],
      "execution_count": 0,
      "outputs": []
    },
    {
      "metadata": {
        "id": "S_gBhProZTDh",
        "colab_type": "code",
        "colab": {}
      },
      "cell_type": "code",
      "source": [
        "dataset = []\n",
        "label = []"
      ],
      "execution_count": 0,
      "outputs": []
    },
    {
      "metadata": {
        "id": "u-h_4aETYldf",
        "colab_type": "text"
      },
      "cell_type": "markdown",
      "source": [
        "**Parasitized cell images**\n",
        "I iterate through all images in the Parasitized folder. I check if the file extension of the file being read is png. I then resize the image to 64x64 and then save it to the dataset variable as numpy array. The label for this is set as 0."
      ]
    },
    {
      "metadata": {
        "id": "5vguLO6IZod8",
        "colab_type": "code",
        "colab": {
          "base_uri": "https://localhost:8080/",
          "height": 34
        },
        "outputId": "5eb058b7-c26a-4d58-91c2-cc739b401578"
      },
      "cell_type": "code",
      "source": [
        "for i in os.listdir(train_para_dir):\n",
        "  print(i.split(\".\")[1])\n",
        "  break"
      ],
      "execution_count": 11,
      "outputs": [
        {
          "output_type": "stream",
          "text": [
            "png\n"
          ],
          "name": "stdout"
        }
      ]
    },
    {
      "metadata": {
        "id": "wgUSDEffa-w3",
        "colab_type": "code",
        "colab": {
          "base_uri": "https://localhost:8080/",
          "height": 34
        },
        "outputId": "5a2f0882-9e7d-4391-c15b-fdb4c9c99069"
      },
      "cell_type": "code",
      "source": [
        "train_para_dir"
      ],
      "execution_count": 13,
      "outputs": [
        {
          "output_type": "execute_result",
          "data": {
            "text/plain": [
              "'cell_images/Parasitized'"
            ]
          },
          "metadata": {
            "tags": []
          },
          "execution_count": 13
        }
      ]
    },
    {
      "metadata": {
        "id": "c2yVZE2bYk5E",
        "colab_type": "code",
        "colab": {}
      },
      "cell_type": "code",
      "source": [
        "parasitized_images = os.listdir(train_para_dir)\n",
        "for i, image_name in enumerate(parasitized_images):\n",
        "    try:\n",
        "        if (image_name.split('.')[1] == 'png'):\n",
        "            image = cv2.imread(train_para_dir+\"/\"+image_name)\n",
        "            image = Image.fromarray(image, 'RGB')\n",
        "            image = image.resize((64, 64))\n",
        "            dataset.append(np.array(image))\n",
        "            label.append(0)\n",
        "    except Exception:\n",
        "        print(\"Could not read image {} with name {}\".format(i, image_name))"
      ],
      "execution_count": 0,
      "outputs": []
    },
    {
      "metadata": {
        "id": "0FQSgM48cBgN",
        "colab_type": "text"
      },
      "cell_type": "markdown",
      "source": [
        "**Uninfected cell images**\n",
        "I iterate through all images in the Uninfected folder. I check if the file extension of the file being read is png. I then resize the image to 64x64 and then save it to the dataset variable as numpy array. The label for this is set as 1"
      ]
    },
    {
      "metadata": {
        "id": "zU0PAa8qcaen",
        "colab_type": "code",
        "colab": {
          "base_uri": "https://localhost:8080/",
          "height": 34
        },
        "outputId": "b281ca5f-3125-415f-ac3a-2c6315c5f970"
      },
      "cell_type": "code",
      "source": [
        "train_unin_dir"
      ],
      "execution_count": 17,
      "outputs": [
        {
          "output_type": "execute_result",
          "data": {
            "text/plain": [
              "'cell_images/Uninfected'"
            ]
          },
          "metadata": {
            "tags": []
          },
          "execution_count": 17
        }
      ]
    },
    {
      "metadata": {
        "id": "-pGHtneFbdhC",
        "colab_type": "code",
        "colab": {}
      },
      "cell_type": "code",
      "source": [
        "uninfected_images = os.listdir(train_unin_dir)\n",
        "for i, image_name in enumerate(uninfected_images):\n",
        "    try:\n",
        "        if (image_name.split('.')[1] == 'png'):\n",
        "            image = cv2.imread(train_unin_dir + '/' + image_name)\n",
        "            image = Image.fromarray(image, 'RGB')\n",
        "            image = image.resize((64, 64))\n",
        "            dataset.append(np.array(image))\n",
        "            label.append(1)\n",
        "    except Exception:\n",
        "        print(\"Could not read image {} with name {}\".format(i, image_name))"
      ],
      "execution_count": 0,
      "outputs": []
    },
    {
      "metadata": {
        "id": "P9zJQz8Ncj2w",
        "colab_type": "text"
      },
      "cell_type": "markdown",
      "source": [
        "**Visualize data**"
      ]
    },
    {
      "metadata": {
        "id": "Pih_NqVgclO3",
        "colab_type": "text"
      },
      "cell_type": "markdown",
      "source": [
        "**Parasitized images**\n",
        "Randomly select 5 values from the number of parasitized images and then display them in a row."
      ]
    },
    {
      "metadata": {
        "id": "iutGKW8OcsFs",
        "colab_type": "code",
        "colab": {
          "base_uri": "https://localhost:8080/",
          "height": 263
        },
        "outputId": "9ab0c0a0-e8a6-4a4e-e96d-54a95837cc96"
      },
      "cell_type": "code",
      "source": [
        "plt.figure(figsize = (20, 12))\n",
        "\n",
        "for i , image_index in enumerate(np.random.randint(len(parasitized_images),size=5)):\n",
        "  plt.subplot(1,5,i  + 1)\n",
        "  plt.imshow(dataset[image_index])"
      ],
      "execution_count": 20,
      "outputs": [
        {
          "output_type": "display_data",
          "data": {
            "image/png": "[encoded data removed]",
            "text/plain": [
              "<Figure size 1440x864 with 5 Axes>"
            ]
          },
          "metadata": {
            "tags": []
          }
        }
      ]
    },
    {
      "metadata": {
        "id": "QFlPMUMQd3kK",
        "colab_type": "text"
      },
      "cell_type": "markdown",
      "source": [
        "**Uninfected images**\n",
        "we randomly select 5 values from the number of uninfected images and then display them in a row. \n",
        "\n",
        "we add the count of images of parasitized images to these index such that I am now showing images with label 1."
      ]
    },
    {
      "metadata": {
        "id": "2ivGBUl9d_Bh",
        "colab_type": "code",
        "colab": {
          "base_uri": "https://localhost:8080/",
          "height": 263
        },
        "outputId": "83b8842f-8328-4e7d-838d-b5442d60b7c1"
      },
      "cell_type": "code",
      "source": [
        "plt.figure(figsize = (20, 12))\n",
        "\n",
        "for i,image_index in enumerate(np.random.randint(len(uninfected_images),size=5)):\n",
        "  plt.subplot(1,5,i+1)\n",
        "  plt.imshow(dataset[len(parasitized_images) + image_index])"
      ],
      "execution_count": 22,
      "outputs": [
        {
          "output_type": "display_data",
          "data": {
            "image/png": "[encoded data removed]",
            "text/plain": [
              "<Figure size 1440x864 with 5 Axes>"
            ]
          },
          "metadata": {
            "tags": []
          }
        }
      ]
    },
    {
      "metadata": {
        "id": "mgBZxmGCe4ki",
        "colab_type": "text"
      },
      "cell_type": "markdown",
      "source": [
        "**Applying CNN**\n",
        "\n",
        "Convolutional Neural Networks with 2 Convolutional Layers followed by 2 Dense layers."
      ]
    },
    {
      "metadata": {
        "id": "GHWj08-EfLw5",
        "colab_type": "text"
      },
      "cell_type": "markdown",
      "source": [
        "**Build the classifier**"
      ]
    },
    {
      "metadata": {
        "id": "ip7-H2nhe980",
        "colab_type": "code",
        "colab": {}
      },
      "cell_type": "code",
      "source": [
        "classifier = None\n",
        "classifier = Sequential()\n",
        "#Convolutional layer 1\n",
        "classifier.add(Convolution2D(32,(3,3),input_shape=(64,64,3),activation='relu'))\n",
        "classifier.add(MaxPooling2D(pool_size=(2,2)))\n",
        "classifier.add(BatchNormalization(axis=-1))\n",
        "classifier.add(Dropout(0.2))\n",
        "\n",
        "#Convolutional layer 2\n",
        "classifier.add(Convolution2D(32,(3,3),activation='relu'))\n",
        "classifier.add(MaxPooling2D(pool_size=(2,2)))\n",
        "classifier.add(BatchNormalization(axis=-1))\n",
        "classifier.add(Dropout(0.2))\n",
        "\n",
        "\n",
        "classifier.add(Flatten())\n",
        "\n",
        "#Dense Layer 1\n",
        "classifier.add(Dense(activation = 'relu', units=512))\n",
        "classifier.add(BatchNormalization(axis = -1))\n",
        "classifier.add(Dropout(0.2))\n",
        "\n",
        "#Dense Layer 2\n",
        "classifier.add(Dense(activation='relu',units=256))\n",
        "classifier.add(BatchNormalization(axis=-1))\n",
        "classifier.add(Dropout(0.2))\n",
        "\n",
        "#Final Output Layer\n",
        "classifier.add(Dense(activation='sigmoid',units=2))\n",
        "\n",
        "classifier.compile(optimizer='adam',loss='binary_crossentropy',metrics=['accuracy'])"
      ],
      "execution_count": 0,
      "outputs": []
    },
    {
      "metadata": {
        "id": "zhHpaY4Tkdfr",
        "colab_type": "code",
        "colab": {
          "base_uri": "https://localhost:8080/",
          "height": 680
        },
        "outputId": "5337a041-8304-4bbb-a45a-2d919eb20532"
      },
      "cell_type": "code",
      "source": [
        "classifier.summary()"
      ],
      "execution_count": 27,
      "outputs": [
        {
          "output_type": "stream",
          "text": [
            "_________________________________________________________________\n",
            "Layer (type)                 Output Shape              Param #   \n",
            "=================================================================\n",
            "conv2d_7 (Conv2D)            (None, 62, 62, 32)        896       \n",
            "_________________________________________________________________\n",
            "max_pooling2d_7 (MaxPooling2 (None, 31, 31, 32)        0         \n",
            "_________________________________________________________________\n",
            "batch_normalization_11 (Batc (None, 31, 31, 32)        128       \n",
            "_________________________________________________________________\n",
            "dropout_11 (Dropout)         (None, 31, 31, 32)        0         \n",
            "_________________________________________________________________\n",
            "conv2d_8 (Conv2D)            (None, 29, 29, 32)        9248      \n",
            "_________________________________________________________________\n",
            "max_pooling2d_8 (MaxPooling2 (None, 14, 14, 32)        0         \n",
            "_________________________________________________________________\n",
            "batch_normalization_12 (Batc (None, 14, 14, 32)        128       \n",
            "_________________________________________________________________\n",
            "dropout_12 (Dropout)         (None, 14, 14, 32)        0         \n",
            "_________________________________________________________________\n",
            "flatten_5 (Flatten)          (None, 6272)              0         \n",
            "_________________________________________________________________\n",
            "dense_6 (Dense)              (None, 512)               3211776   \n",
            "_________________________________________________________________\n",
            "batch_normalization_13 (Batc (None, 512)               2048      \n",
            "_________________________________________________________________\n",
            "dropout_13 (Dropout)         (None, 512)               0         \n",
            "_________________________________________________________________\n",
            "dense_7 (Dense)              (None, 256)               131328    \n",
            "_________________________________________________________________\n",
            "batch_normalization_14 (Batc (None, 256)               1024      \n",
            "_________________________________________________________________\n",
            "dropout_14 (Dropout)         (None, 256)               0         \n",
            "_________________________________________________________________\n",
            "dense_8 (Dense)              (None, 2)                 514       \n",
            "=================================================================\n",
            "Total params: 3,357,090\n",
            "Trainable params: 3,355,426\n",
            "Non-trainable params: 1,664\n",
            "_________________________________________________________________\n"
          ],
          "name": "stdout"
        }
      ]
    },
    {
      "metadata": {
        "id": "I2kmT6dgkm5i",
        "colab_type": "text"
      },
      "cell_type": "markdown",
      "source": [
        "**Split the dataset**\n",
        "\n",
        "I split the dataset into training and testing dataset.\n",
        "\n",
        "Training data: 80%\n",
        "Testing data: 20%\n"
      ]
    },
    {
      "metadata": {
        "id": "bia_dYgIkhcl",
        "colab_type": "code",
        "colab": {}
      },
      "cell_type": "code",
      "source": [
        "from keras.utils import to_categorical\n",
        "\n",
        "X_train,X_test,y_train,y_test = train_test_split(dataset,to_categorical(np.array(label)),test_size=0.2,random_state=1)"
      ],
      "execution_count": 0,
      "outputs": []
    },
    {
      "metadata": {
        "id": "QJMZq113lRUr",
        "colab_type": "text"
      },
      "cell_type": "markdown",
      "source": [
        "**Training the model**"
      ]
    },
    {
      "metadata": {
        "id": "-z4_pbsNlIyD",
        "colab_type": "code",
        "colab": {
          "base_uri": "https://localhost:8080/",
          "height": 1805
        },
        "outputId": "04f8541e-28e7-4b61-ac1f-18fe8d567fc1"
      },
      "cell_type": "code",
      "source": [
        "history = classifier.fit(np.array(X_train),y_train,batch_size=64,verbose=2,epochs=50,validation_split=0.1,shuffle=False)"
      ],
      "execution_count": 29,
      "outputs": [
        {
          "output_type": "stream",
          "text": [
            "WARNING:tensorflow:From /usr/local/lib/python3.6/dist-packages/tensorflow/python/ops/math_ops.py:3066: to_int32 (from tensorflow.python.ops.math_ops) is deprecated and will be removed in a future version.\n",
            "Instructions for updating:\n",
            "Use tf.cast instead.\n",
            "Train on 19841 samples, validate on 2205 samples\n",
            "Epoch 1/50\n",
            " - 11s - loss: 0.4693 - acc: 0.7825 - val_loss: 0.5758 - val_acc: 0.8565\n",
            "Epoch 2/50\n",
            " - 8s - loss: 0.2206 - acc: 0.9200 - val_loss: 0.1788 - val_acc: 0.9370\n",
            "Epoch 3/50\n",
            " - 8s - loss: 0.1888 - acc: 0.9312 - val_loss: 0.1956 - val_acc: 0.9311\n",
            "Epoch 4/50\n",
            " - 8s - loss: 0.1635 - acc: 0.9411 - val_loss: 0.1530 - val_acc: 0.9429\n",
            "Epoch 5/50\n",
            " - 8s - loss: 0.1478 - acc: 0.9450 - val_loss: 0.2277 - val_acc: 0.9041\n",
            "Epoch 6/50\n",
            " - 8s - loss: 0.1228 - acc: 0.9548 - val_loss: 0.1415 - val_acc: 0.9460\n",
            "Epoch 7/50\n",
            " - 8s - loss: 0.1050 - acc: 0.9622 - val_loss: 0.1352 - val_acc: 0.9531\n",
            "Epoch 8/50\n",
            " - 8s - loss: 0.0913 - acc: 0.9667 - val_loss: 0.1856 - val_acc: 0.9463\n",
            "Epoch 9/50\n",
            " - 8s - loss: 0.0778 - acc: 0.9712 - val_loss: 0.1632 - val_acc: 0.9449\n",
            "Epoch 10/50\n",
            " - 8s - loss: 0.0678 - acc: 0.9764 - val_loss: 0.1506 - val_acc: 0.9605\n",
            "Epoch 11/50\n",
            " - 8s - loss: 0.0510 - acc: 0.9816 - val_loss: 0.1856 - val_acc: 0.9522\n",
            "Epoch 12/50\n",
            " - 8s - loss: 0.0409 - acc: 0.9855 - val_loss: 0.2005 - val_acc: 0.9531\n",
            "Epoch 13/50\n",
            " - 8s - loss: 0.0418 - acc: 0.9848 - val_loss: 0.1877 - val_acc: 0.9488\n",
            "Epoch 14/50\n",
            " - 8s - loss: 0.0299 - acc: 0.9893 - val_loss: 0.1830 - val_acc: 0.9578\n",
            "Epoch 15/50\n",
            " - 8s - loss: 0.0285 - acc: 0.9907 - val_loss: 0.1792 - val_acc: 0.9544\n",
            "Epoch 16/50\n",
            " - 8s - loss: 0.0263 - acc: 0.9907 - val_loss: 0.1919 - val_acc: 0.9592\n",
            "Epoch 17/50\n",
            " - 8s - loss: 0.0211 - acc: 0.9921 - val_loss: 0.1827 - val_acc: 0.9590\n",
            "Epoch 18/50\n",
            " - 8s - loss: 0.0268 - acc: 0.9914 - val_loss: 0.2330 - val_acc: 0.9601\n",
            "Epoch 19/50\n",
            " - 8s - loss: 0.0155 - acc: 0.9940 - val_loss: 0.2035 - val_acc: 0.9571\n",
            "Epoch 20/50\n",
            " - 8s - loss: 0.0174 - acc: 0.9941 - val_loss: 0.1981 - val_acc: 0.9592\n",
            "Epoch 21/50\n",
            " - 8s - loss: 0.0212 - acc: 0.9930 - val_loss: 0.2952 - val_acc: 0.9245\n",
            "Epoch 22/50\n",
            " - 8s - loss: 0.0190 - acc: 0.9932 - val_loss: 0.2392 - val_acc: 0.9571\n",
            "Epoch 23/50\n",
            " - 8s - loss: 0.0153 - acc: 0.9950 - val_loss: 0.2068 - val_acc: 0.9592\n",
            "Epoch 24/50\n",
            " - 8s - loss: 0.0138 - acc: 0.9952 - val_loss: 0.3065 - val_acc: 0.9478\n",
            "Epoch 25/50\n",
            " - 8s - loss: 0.0135 - acc: 0.9954 - val_loss: 0.2615 - val_acc: 0.9528\n",
            "Epoch 26/50\n",
            " - 8s - loss: 0.0121 - acc: 0.9956 - val_loss: 0.4429 - val_acc: 0.9098\n",
            "Epoch 27/50\n",
            " - 8s - loss: 0.0386 - acc: 0.9870 - val_loss: 0.2521 - val_acc: 0.9562\n",
            "Epoch 28/50\n",
            " - 8s - loss: 0.0221 - acc: 0.9921 - val_loss: 0.1992 - val_acc: 0.9603\n",
            "Epoch 29/50\n",
            " - 8s - loss: 0.0114 - acc: 0.9960 - val_loss: 0.2358 - val_acc: 0.9628\n",
            "Epoch 30/50\n",
            " - 8s - loss: 0.0103 - acc: 0.9965 - val_loss: 0.2105 - val_acc: 0.9633\n",
            "Epoch 31/50\n",
            " - 8s - loss: 0.0109 - acc: 0.9961 - val_loss: 0.2297 - val_acc: 0.9472\n",
            "Epoch 32/50\n",
            " - 8s - loss: 0.0117 - acc: 0.9962 - val_loss: 0.2391 - val_acc: 0.9605\n",
            "Epoch 33/50\n",
            " - 8s - loss: 0.0093 - acc: 0.9971 - val_loss: 0.2253 - val_acc: 0.9571\n",
            "Epoch 34/50\n",
            " - 8s - loss: 0.0094 - acc: 0.9969 - val_loss: 0.2223 - val_acc: 0.9594\n",
            "Epoch 35/50\n",
            " - 8s - loss: 0.0111 - acc: 0.9963 - val_loss: 0.2552 - val_acc: 0.9574\n",
            "Epoch 36/50\n",
            " - 8s - loss: 0.0085 - acc: 0.9976 - val_loss: 0.2032 - val_acc: 0.9531\n",
            "Epoch 37/50\n",
            " - 8s - loss: 0.0079 - acc: 0.9973 - val_loss: 0.3055 - val_acc: 0.9492\n",
            "Epoch 38/50\n",
            " - 8s - loss: 0.0094 - acc: 0.9970 - val_loss: 0.3173 - val_acc: 0.9147\n",
            "Epoch 39/50\n",
            " - 8s - loss: 0.0071 - acc: 0.9978 - val_loss: 0.2360 - val_acc: 0.9658\n",
            "Epoch 40/50\n",
            " - 8s - loss: 0.0060 - acc: 0.9978 - val_loss: 0.2362 - val_acc: 0.9619\n",
            "Epoch 41/50\n",
            " - 8s - loss: 0.0068 - acc: 0.9976 - val_loss: 0.2367 - val_acc: 0.9626\n",
            "Epoch 42/50\n",
            " - 8s - loss: 0.0077 - acc: 0.9976 - val_loss: 0.2166 - val_acc: 0.9599\n",
            "Epoch 43/50\n",
            " - 8s - loss: 0.0067 - acc: 0.9977 - val_loss: 0.2159 - val_acc: 0.9639\n",
            "Epoch 44/50\n",
            " - 8s - loss: 0.0059 - acc: 0.9981 - val_loss: 0.2345 - val_acc: 0.9562\n",
            "Epoch 45/50\n",
            " - 8s - loss: 0.0057 - acc: 0.9981 - val_loss: 0.2454 - val_acc: 0.9615\n",
            "Epoch 46/50\n",
            " - 8s - loss: 0.0046 - acc: 0.9985 - val_loss: 0.2504 - val_acc: 0.9615\n",
            "Epoch 47/50\n",
            " - 8s - loss: 0.0056 - acc: 0.9979 - val_loss: 0.2693 - val_acc: 0.9615\n",
            "Epoch 48/50\n",
            " - 8s - loss: 0.0068 - acc: 0.9975 - val_loss: 0.2620 - val_acc: 0.9605\n",
            "Epoch 49/50\n",
            " - 8s - loss: 0.0071 - acc: 0.9980 - val_loss: 0.2640 - val_acc: 0.9601\n",
            "Epoch 50/50\n",
            " - 8s - loss: 0.0042 - acc: 0.9984 - val_loss: 0.2542 - val_acc: 0.9619\n"
          ],
          "name": "stdout"
        }
      ]
    },
    {
      "metadata": {
        "id": "QWYMjs_RnxqT",
        "colab_type": "text"
      },
      "cell_type": "markdown",
      "source": [
        "**Accuracy Calculation**"
      ]
    },
    {
      "metadata": {
        "id": "3CRPbbm_nY6z",
        "colab_type": "code",
        "colab": {
          "base_uri": "https://localhost:8080/",
          "height": 51
        },
        "outputId": "500304ff-8d0c-4f41-dce4-9a331ef887d3"
      },
      "cell_type": "code",
      "source": [
        "classifier.evaluate(np.array(X_test), np.array(y_test))[1] * 100"
      ],
      "execution_count": 34,
      "outputs": [
        {
          "output_type": "stream",
          "text": [
            "5512/5512 [==============================] - 1s 191us/step\n"
          ],
          "name": "stdout"
        },
        {
          "output_type": "execute_result",
          "data": {
            "text/plain": [
              "95.43722786647315"
            ]
          },
          "metadata": {
            "tags": []
          },
          "execution_count": 34
        }
      ]
    },
    {
      "metadata": {
        "id": "TJp9xGwKn5xK",
        "colab_type": "text"
      },
      "cell_type": "markdown",
      "source": [
        "**Improving the accuracy with Augmentation**"
      ]
    },
    {
      "metadata": {
        "id": "86fiIdcUn9VM",
        "colab_type": "code",
        "colab": {}
      },
      "cell_type": "code",
      "source": [
        "from keras.preprocessing.image import ImageDataGenerator\n",
        "train_generator = ImageDataGenerator(rescale=1/255,\n",
        "                                zoom_range = 0.3,\n",
        "                                horizontal_flip = True,\n",
        "                                rotation_range = 30)\n",
        "test_generator = ImageDataGenerator(rescale = 1/255)\n",
        "\n",
        "train_generator = train_generator.flow(np.array(X_train),\n",
        "                                       y_train,\n",
        "                                       batch_size = 64,\n",
        "                                       shuffle = False)\n",
        "test_generator = test_generator.flow(np.array(X_test),\n",
        "                                    y_test,\n",
        "                                    batch_size=64,\n",
        "                                    shuffle=False)"
      ],
      "execution_count": 0,
      "outputs": []
    },
    {
      "metadata": {
        "id": "lZwY736ro-1w",
        "colab_type": "text"
      },
      "cell_type": "markdown",
      "source": [
        "Use **fit_generator** methods to train the model and test on the validation data."
      ]
    },
    {
      "metadata": {
        "id": "uat816l9pDBj",
        "colab_type": "code",
        "colab": {
          "base_uri": "https://localhost:8080/",
          "height": 1717
        },
        "outputId": "8f0be302-a81d-4781-a408-868d544f357c"
      },
      "cell_type": "code",
      "source": [
        "history = classifier.fit_generator(train_generator,\n",
        "                                   steps_per_epoch = len(X_train)/64,\n",
        "                                   epochs = 50,\n",
        "                                   shuffle = False)"
      ],
      "execution_count": 38,
      "outputs": [
        {
          "output_type": "stream",
          "text": [
            "Epoch 1/50\n",
            "345/344 [==============================] - 31s 90ms/step - loss: 0.2529 - acc: 0.9231\n",
            "Epoch 2/50\n",
            "345/344 [==============================] - 31s 90ms/step - loss: 0.1820 - acc: 0.9382\n",
            "Epoch 3/50\n",
            "345/344 [==============================] - 31s 90ms/step - loss: 0.1758 - acc: 0.9408\n",
            "Epoch 4/50\n",
            "345/344 [==============================] - 31s 90ms/step - loss: 0.1686 - acc: 0.9431\n",
            "Epoch 5/50\n",
            "345/344 [==============================] - 31s 90ms/step - loss: 0.1614 - acc: 0.9462\n",
            "Epoch 6/50\n",
            "345/344 [==============================] - 31s 90ms/step - loss: 0.1608 - acc: 0.9458\n",
            "Epoch 7/50\n",
            "345/344 [==============================] - 31s 90ms/step - loss: 0.1537 - acc: 0.9490\n",
            "Epoch 8/50\n",
            "345/344 [==============================] - 31s 91ms/step - loss: 0.1514 - acc: 0.9491\n",
            "Epoch 9/50\n",
            "345/344 [==============================] - 31s 90ms/step - loss: 0.1518 - acc: 0.9476\n",
            "Epoch 10/50\n",
            "345/344 [==============================] - 31s 91ms/step - loss: 0.1481 - acc: 0.9494\n",
            "Epoch 11/50\n",
            "345/344 [==============================] - 31s 91ms/step - loss: 0.1479 - acc: 0.9498\n",
            "Epoch 12/50\n",
            "345/344 [==============================] - 31s 91ms/step - loss: 0.1488 - acc: 0.9498\n",
            "Epoch 13/50\n",
            "345/344 [==============================] - 31s 91ms/step - loss: 0.1488 - acc: 0.9487\n",
            "Epoch 14/50\n",
            "345/344 [==============================] - 31s 90ms/step - loss: 0.1456 - acc: 0.9497\n",
            "Epoch 15/50\n",
            "345/344 [==============================] - 31s 90ms/step - loss: 0.1397 - acc: 0.9518\n",
            "Epoch 16/50\n",
            "345/344 [==============================] - 31s 91ms/step - loss: 0.1446 - acc: 0.9496\n",
            "Epoch 17/50\n",
            "345/344 [==============================] - 31s 90ms/step - loss: 0.1416 - acc: 0.9514\n",
            "Epoch 18/50\n",
            "345/344 [==============================] - 32s 92ms/step - loss: 0.1422 - acc: 0.9515\n",
            "Epoch 19/50\n",
            "345/344 [==============================] - 31s 91ms/step - loss: 0.1411 - acc: 0.9523\n",
            "Epoch 20/50\n",
            "345/344 [==============================] - 31s 91ms/step - loss: 0.1390 - acc: 0.9530\n",
            "Epoch 21/50\n",
            "345/344 [==============================] - 31s 90ms/step - loss: 0.1326 - acc: 0.9548\n",
            "Epoch 22/50\n",
            "345/344 [==============================] - 31s 91ms/step - loss: 0.1358 - acc: 0.9526\n",
            "Epoch 23/50\n",
            "345/344 [==============================] - 31s 91ms/step - loss: 0.1378 - acc: 0.9530\n",
            "Epoch 24/50\n",
            "345/344 [==============================] - 31s 91ms/step - loss: 0.1365 - acc: 0.9534\n",
            "Epoch 25/50\n",
            "345/344 [==============================] - 31s 91ms/step - loss: 0.1347 - acc: 0.9540\n",
            "Epoch 26/50\n",
            "345/344 [==============================] - 32s 92ms/step - loss: 0.1349 - acc: 0.9531\n",
            "Epoch 27/50\n",
            "345/344 [==============================] - 31s 91ms/step - loss: 0.1314 - acc: 0.9540\n",
            "Epoch 28/50\n",
            "345/344 [==============================] - 32s 92ms/step - loss: 0.1302 - acc: 0.9556\n",
            "Epoch 29/50\n",
            "345/344 [==============================] - 31s 91ms/step - loss: 0.1323 - acc: 0.9551\n",
            "Epoch 30/50\n",
            "345/344 [==============================] - 31s 91ms/step - loss: 0.1308 - acc: 0.9551\n",
            "Epoch 31/50\n",
            "345/344 [==============================] - 31s 91ms/step - loss: 0.1298 - acc: 0.9562\n",
            "Epoch 32/50\n",
            "345/344 [==============================] - 31s 91ms/step - loss: 0.1299 - acc: 0.9555\n",
            "Epoch 33/50\n",
            "345/344 [==============================] - 31s 91ms/step - loss: 0.1286 - acc: 0.9557\n",
            "Epoch 34/50\n",
            "345/344 [==============================] - 31s 91ms/step - loss: 0.1271 - acc: 0.9566\n",
            "Epoch 35/50\n",
            "345/344 [==============================] - 31s 91ms/step - loss: 0.1280 - acc: 0.9556\n",
            "Epoch 36/50\n",
            "345/344 [==============================] - 32s 91ms/step - loss: 0.1305 - acc: 0.9563\n",
            "Epoch 37/50\n",
            "345/344 [==============================] - 31s 91ms/step - loss: 0.1255 - acc: 0.9559\n",
            "Epoch 38/50\n",
            "345/344 [==============================] - 32s 92ms/step - loss: 0.1316 - acc: 0.9545\n",
            "Epoch 39/50\n",
            "345/344 [==============================] - 32s 91ms/step - loss: 0.1254 - acc: 0.9561\n",
            "Epoch 40/50\n",
            "345/344 [==============================] - 31s 91ms/step - loss: 0.1255 - acc: 0.9571\n",
            "Epoch 41/50\n",
            "345/344 [==============================] - 31s 91ms/step - loss: 0.1246 - acc: 0.9580\n",
            "Epoch 42/50\n",
            "345/344 [==============================] - 32s 91ms/step - loss: 0.1242 - acc: 0.9580\n",
            "Epoch 43/50\n",
            "345/344 [==============================] - 32s 92ms/step - loss: 0.1252 - acc: 0.9573\n",
            "Epoch 44/50\n",
            "345/344 [==============================] - 32s 91ms/step - loss: 0.1249 - acc: 0.9566\n",
            "Epoch 45/50\n",
            "345/344 [==============================] - 32s 92ms/step - loss: 0.1232 - acc: 0.9579\n",
            "Epoch 46/50\n",
            "345/344 [==============================] - 32s 91ms/step - loss: 0.1205 - acc: 0.9573\n",
            "Epoch 47/50\n",
            "345/344 [==============================] - 32s 92ms/step - loss: 0.1220 - acc: 0.9579\n",
            "Epoch 48/50\n",
            "345/344 [==============================] - 32s 92ms/step - loss: 0.1213 - acc: 0.9584\n",
            "Epoch 49/50\n",
            "345/344 [==============================] - 32s 92ms/step - loss: 0.1188 - acc: 0.9588\n",
            "Epoch 50/50\n",
            "345/344 [==============================] - 32s 91ms/step - loss: 0.1212 - acc: 0.9591\n"
          ],
          "name": "stdout"
        }
      ]
    },
    {
      "metadata": {
        "id": "-aLvet5n3S5F",
        "colab_type": "code",
        "colab": {
          "base_uri": "https://localhost:8080/",
          "height": 51
        },
        "outputId": "37328bfc-8148-4a91-ede6-dc1b59daa069"
      },
      "cell_type": "code",
      "source": [
        "classifier.evaluate_generator(test_generator, steps = len(X_test), verbose = 1)[1] * 100"
      ],
      "execution_count": 40,
      "outputs": [
        {
          "output_type": "stream",
          "text": [
            "5512/5512 [==============================] - 45s 8ms/step\n"
          ],
          "name": "stdout"
        },
        {
          "output_type": "execute_result",
          "data": {
            "text/plain": [
              "95.82550681479785"
            ]
          },
          "metadata": {
            "tags": []
          },
          "execution_count": 40
        }
      ]
    },
    {
      "metadata": {
        "id": "wda8imv238k8",
        "colab_type": "text"
      },
      "cell_type": "markdown",
      "source": [
        "With Data Augmentation the accuracy was improved. \n",
        "\n",
        "Such a technique can be highly useful whenever we have limited dataset. This can ensure proper training of the model."
      ]
    },
    {
      "metadata": {
        "id": "MhkwcLu33_gY",
        "colab_type": "code",
        "colab": {}
      },
      "cell_type": "code",
      "source": [
        ""
      ],
      "execution_count": 0,
      "outputs": []
    }
  ]
}