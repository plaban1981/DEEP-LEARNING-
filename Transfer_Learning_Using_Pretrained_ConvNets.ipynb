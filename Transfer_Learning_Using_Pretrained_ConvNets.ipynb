{
  "nbformat": 4,
  "nbformat_minor": 0,
  "metadata": {
    "colab": {
      "name": "Transfer Learning Using Pretrained ConvNets.ipynb",
      "version": "0.3.2",
      "provenance": [],
      "collapsed_sections": [],
      "toc_visible": true,
      "include_colab_link": true
    },
    "kernelspec": {
      "name": "python3",
      "display_name": "Python 3"
    },
    "accelerator": "GPU"
  },
  "cells": [
    {
      "cell_type": "markdown",
      "metadata": {
        "id": "view-in-github",
        "colab_type": "text"
      },
      "source": [
        "<a href=\"https://colab.research.google.com/github/plaban1981/DEEP-LEARNING-/blob/master/Transfer_Learning_Using_Pretrained_ConvNets.ipynb\" target=\"_parent\"><img src=\"https://colab.research.google.com/assets/colab-badge.svg\" alt=\"Open In Colab\"/></a>"
      ]
    },
    {
      "cell_type": "markdown",
      "metadata": {
        "id": "20DCpJBcAqAa",
        "colab_type": "text"
      },
      "source": [
        "#A pre-trained model is a saved network that was previously trained on a large dataset, typically on a large-scale image-classification task. \n",
        "\n",
        "We can either use the pretrained model as it is or transfer learning using the pretrained convents. The intuition behind transfer learning is that if this model trained on a large and general enough dataset, this model will effectively serve as a generic model of the visual world. We can leverage these learned feature maps without having to train a large model on a large dataset by using these models as the basis of our own model specific to our task. \n",
        "\n",
        "There are 2 scenarios of transfer learning using a pretrained model:\n",
        "\n",
        "*  Feature Extraction - use the representations of learned by a previous network to extract meaningful features from new samples. We simply add a new classifier, which will be trained from scratch, on top of the pretrained model so that we can repurpose the feature maps learned previously for our dataset. Do we use the entire pretrained model or just the convolutional base? - We use the feature extraction portion of these pretrained convnets (convolutional base) since they are likely to be generic features and learned concepts over a picture. However, the classification part of the pretrained model is often specific to original classification task, and subsequently specific to the set of classes on which the model was trained.\n",
        "\n",
        "* Fine-Tuning - unfreezing a few of the top layers of a frozen model base used for feature extraction, and jointly training both the newly added classifier layers as well as the last layers of the frozen model. This allows us to \"fine tune\" the higher order feature representations in addition to our final classifier in order to make them more relevant for the specific task involved."
      ]
    },
    {
      "cell_type": "markdown",
      "metadata": {
        "id": "hUWAHqTCBm5C",
        "colab_type": "text"
      },
      "source": [
        "We will follow the general machine learning workflow:\n",
        "\n",
        "* Examine and understand data\n",
        "\n",
        "* Build an input pipeline - using Keras ImageDataGenerator as we did in the image classification tutorial\n",
        "\n",
        "* Compose our model\n",
        "\n",
        "* Load in our pretrained model (and pretrained weights)\n",
        "\n",
        "* Stack our classification layers on top\n",
        "\n",
        "* Train our model\n",
        "\n",
        "* Evaluate model"
      ]
    },
    {
      "cell_type": "markdown",
      "metadata": {
        "id": "xQyKd8sjBOvL",
        "colab_type": "text"
      },
      "source": [
        "# Import Libraries"
      ]
    },
    {
      "cell_type": "code",
      "metadata": {
        "id": "vw5vC_RVAmku",
        "colab_type": "code",
        "colab": {
          "base_uri": "https://localhost:8080/",
          "height": 34
        },
        "outputId": "17fe17a0-a650-4aaa-ca1e-cb765c23434f"
      },
      "source": [
        "import os\n",
        "\n",
        "import tensorflow as tf\n",
        "from tensorflow import keras\n",
        "print(\"TensorFlow version is \", tf.__version__)\n",
        "\n",
        "import numpy as np\n",
        "\n",
        "import matplotlib.pyplot as plt\n",
        "import matplotlib.image as mpimg"
      ],
      "execution_count": 1,
      "outputs": [
        {
          "output_type": "stream",
          "text": [
            "TensorFlow version is  1.14.0\n"
          ],
          "name": "stdout"
        }
      ]
    },
    {
      "cell_type": "markdown",
      "metadata": {
        "id": "lLQH5_k_CVL4",
        "colab_type": "text"
      },
      "source": [
        "#Data preprocessing\n",
        "\n",
        "\n",
        "## Download data - cats_and_dogs_filtered.zip\n",
        "\n",
        "We will download a filtered version of Kaggle's Dogs vs Cats dataset. Then store the downloaded zip file to the \"/tmp/\" directory."
      ]
    },
    {
      "cell_type": "code",
      "metadata": {
        "id": "AwGkVFjgFooT",
        "colab_type": "code",
        "colab": {
          "base_uri": "https://localhost:8080/",
          "height": 51
        },
        "outputId": "21205c7f-d210-4339-ad27-2c218abd166c"
      },
      "source": [
        "zip_file = tf.keras.utils.get_file(origin=\"https://storage.googleapis.com/mledu-datasets/cats_and_dogs_filtered.zip\",fname=\"cats_and_dogs_filtered.zip\", extract=True)\n",
        "base_dir, _ = os.path.splitext(zip_file)"
      ],
      "execution_count": 2,
      "outputs": [
        {
          "output_type": "stream",
          "text": [
            "Downloading data from https://storage.googleapis.com/mledu-datasets/cats_and_dogs_filtered.zip\n",
            "68608000/68606236 [==============================] - 0s 0us/step\n"
          ],
          "name": "stdout"
        }
      ]
    },
    {
      "cell_type": "markdown",
      "metadata": {
        "id": "NT_TCt5HGM7m",
        "colab_type": "text"
      },
      "source": [
        "# Prepare training and validation cats and dogs datasets\n",
        "\n",
        "## Create the training and validation directories for cats datasets and dog datasets."
      ]
    },
    {
      "cell_type": "code",
      "metadata": {
        "id": "v2YPtnewGloK",
        "colab_type": "code",
        "colab": {
          "base_uri": "https://localhost:8080/",
          "height": 34
        },
        "outputId": "05b6e31c-c45f-4b5b-853b-d2bf5c57e9e4"
      },
      "source": [
        "base_dir"
      ],
      "execution_count": 3,
      "outputs": [
        {
          "output_type": "execute_result",
          "data": {
            "text/plain": [
              "'/root/.keras/datasets/cats_and_dogs_filtered'"
            ]
          },
          "metadata": {
            "tags": []
          },
          "execution_count": 3
        }
      ]
    },
    {
      "cell_type": "code",
      "metadata": {
        "id": "0IKGfoSvG3wg",
        "colab_type": "code",
        "colab": {}
      },
      "source": [
        "train_dir = os.path.join(base_dir, 'train')\n",
        "validation_dir = os.path.join(base_dir, 'validation')"
      ],
      "execution_count": 0,
      "outputs": []
    },
    {
      "cell_type": "code",
      "metadata": {
        "id": "VUQCBWiOG5Ii",
        "colab_type": "code",
        "colab": {
          "base_uri": "https://localhost:8080/",
          "height": 34
        },
        "outputId": "a3faa229-6f7c-4811-96b5-3d6d7715adcd"
      },
      "source": [
        "train_dir"
      ],
      "execution_count": 5,
      "outputs": [
        {
          "output_type": "execute_result",
          "data": {
            "text/plain": [
              "'/root/.keras/datasets/cats_and_dogs_filtered/train'"
            ]
          },
          "metadata": {
            "tags": []
          },
          "execution_count": 5
        }
      ]
    },
    {
      "cell_type": "code",
      "metadata": {
        "id": "G4Qqaz4fG7b3",
        "colab_type": "code",
        "colab": {
          "base_uri": "https://localhost:8080/",
          "height": 34
        },
        "outputId": "55c990dd-b2fe-494f-c315-8eece656ca46"
      },
      "source": [
        "validation_dir"
      ],
      "execution_count": 6,
      "outputs": [
        {
          "output_type": "execute_result",
          "data": {
            "text/plain": [
              "'/root/.keras/datasets/cats_and_dogs_filtered/validation'"
            ]
          },
          "metadata": {
            "tags": []
          },
          "execution_count": 6
        }
      ]
    },
    {
      "cell_type": "code",
      "metadata": {
        "id": "ciUIiTOEG_9J",
        "colab_type": "code",
        "colab": {
          "base_uri": "https://localhost:8080/",
          "height": 85
        },
        "outputId": "50b2b081-2536-4068-f5a9-dff2ae7ba991"
      },
      "source": [
        "# Directory with our training cat pictures\n",
        "train_cats_dir = os.path.join(train_dir, 'cats')\n",
        "print ('Total training cat images:', len(os.listdir(train_cats_dir)))\n",
        "\n",
        "# Directory with our training dog pictures\n",
        "train_dogs_dir = os.path.join(train_dir, 'dogs')\n",
        "print ('Total training dog images:', len(os.listdir(train_dogs_dir)))\n",
        "\n",
        "# Directory with our validation cat pictures\n",
        "validation_cats_dir = os.path.join(validation_dir, 'cats')\n",
        "print ('Total validation cat images:', len(os.listdir(validation_cats_dir)))\n",
        "\n",
        "# Directory with our validation dog pictures\n",
        "validation_dogs_dir = os.path.join(validation_dir, 'dogs')\n",
        "print ('Total validation dog images:', len(os.listdir(validation_dogs_dir)))"
      ],
      "execution_count": 7,
      "outputs": [
        {
          "output_type": "stream",
          "text": [
            "Total training cat images: 1000\n",
            "Total training dog images: 1000\n",
            "Total validation cat images: 500\n",
            "Total validation dog images: 500\n"
          ],
          "name": "stdout"
        }
      ]
    },
    {
      "cell_type": "markdown",
      "metadata": {
        "id": "BeHMGRS-HKXm",
        "colab_type": "text"
      },
      "source": [
        "##Create Image Data Generator with Image Augmentation\n",
        "\n",
        "#We will use ImageDataGenerator to rescale the images.\n",
        "\n",
        "To create the train generator, specify where the train dataset directory, image size, batch size and binary classification mode.\n",
        "\n",
        "The validation generator is created the same way."
      ]
    },
    {
      "cell_type": "code",
      "metadata": {
        "id": "2yYkKo0xHQuR",
        "colab_type": "code",
        "colab": {}
      },
      "source": [
        "image_size = 160 # All images will be resized to 160x160\n",
        "batch_size = 32\n",
        "\n",
        "# Rescale all images by 1./255 and apply image augmentation\n",
        "train_datagen = keras.preprocessing.image.ImageDataGenerator(\n",
        "                rescale=1./255)\n",
        "\n",
        "validation_datagen = keras.preprocessing.image.ImageDataGenerator(rescale=1./255)\n"
      ],
      "execution_count": 0,
      "outputs": []
    },
    {
      "cell_type": "markdown",
      "metadata": {
        "id": "116BHaopHUa2",
        "colab_type": "text"
      },
      "source": [
        "## Flow training images in batches of 20 using train_datagen generator"
      ]
    },
    {
      "cell_type": "code",
      "metadata": {
        "id": "065t4I4vIFPI",
        "colab_type": "code",
        "colab": {
          "base_uri": "https://localhost:8080/",
          "height": 34
        },
        "outputId": "23f639ff-7db4-460f-ab56-d1a0b7d6f0b0"
      },
      "source": [
        "train_generator = train_datagen.flow_from_directory(\n",
        "                train_dir,  # Source directory for the training images\n",
        "                target_size=(image_size, image_size),\n",
        "                batch_size=batch_size,\n",
        "                # Since we use binary_crossentropy loss, we need binary labels\n",
        "                class_mode='binary')"
      ],
      "execution_count": 9,
      "outputs": [
        {
          "output_type": "stream",
          "text": [
            "Found 2000 images belonging to 2 classes.\n"
          ],
          "name": "stdout"
        }
      ]
    },
    {
      "cell_type": "markdown",
      "metadata": {
        "id": "7Jk0XTD9IKlP",
        "colab_type": "text"
      },
      "source": [
        "##  Flow validation images in batches of 20 using test_datagen generator"
      ]
    },
    {
      "cell_type": "code",
      "metadata": {
        "id": "KY67roojIMaZ",
        "colab_type": "code",
        "colab": {
          "base_uri": "https://localhost:8080/",
          "height": 34
        },
        "outputId": "d65f251a-4e88-4eb1-e6bd-3df4c6435983"
      },
      "source": [
        "validation_generator = validation_datagen.flow_from_directory(\n",
        "                validation_dir, # Source directory for the validation images\n",
        "                target_size=(image_size, image_size),\n",
        "                batch_size=batch_size,\n",
        "                class_mode='binary')"
      ],
      "execution_count": 10,
      "outputs": [
        {
          "output_type": "stream",
          "text": [
            "Found 1000 images belonging to 2 classes.\n"
          ],
          "name": "stdout"
        }
      ]
    },
    {
      "cell_type": "markdown",
      "metadata": {
        "id": "NJmW3-FbIRbE",
        "colab_type": "text"
      },
      "source": [
        "#Create the base model from the pre-trained convnets"
      ]
    },
    {
      "cell_type": "markdown",
      "metadata": {
        "id": "EWZtB1JeIivU",
        "colab_type": "text"
      },
      "source": [
        " Create the base model from the MobileNet V2 model developed at Google, and pre-trained on the ImageNet dataset, a large dataset of 1.4M images and 1000 classes of web images. This is a powerful model. \n",
        " \n",
        " First, we need to pick which intermediate layer of MobileNet V2 we will use for feature extraction. \n",
        " \n",
        " * A common practice is to use the output of the very last layer before the flatten operation, the so-called \"bottleneck layer\". \n",
        " \n",
        "The reasoning here is that the following fully-connected layers will be too specialized to the task the network was trained on, and thus the features learned by these layers won't be very useful for a new task. The bottleneck features, however, retain much generality."
      ]
    },
    {
      "cell_type": "markdown",
      "metadata": {
        "id": "JXV9tRXnJAPS",
        "colab_type": "text"
      },
      "source": [
        "## Instantiate an MobileNet V2 model pre-loaded with weights trained on ImageNet. \n",
        "\n",
        "By specifying the  **include_top=False**  argument, we load a network that doesn't include the classification layers at the top, which is ideal for feature extraction."
      ]
    },
    {
      "cell_type": "code",
      "metadata": {
        "id": "73DB3K2IIiN3",
        "colab_type": "code",
        "colab": {
          "base_uri": "https://localhost:8080/",
          "height": 139
        },
        "outputId": "b3b386e0-c74b-49dc-c0cf-6c6c91719130"
      },
      "source": [
        "IMG_SHAPE = (image_size, image_size, 3)\n",
        "\n",
        "# Create the base model from the pre-trained model MobileNet V2\n",
        "base_model = tf.keras.applications.MobileNetV2(input_shape=IMG_SHAPE,\n",
        "                                               include_top=False,\n",
        "                                               weights='imagenet')"
      ],
      "execution_count": 11,
      "outputs": [
        {
          "output_type": "stream",
          "text": [
            "WARNING: Logging before flag parsing goes to stderr.\n",
            "W0725 08:00:32.759082 139918746228608 deprecation.py:506] From /usr/local/lib/python3.6/dist-packages/tensorflow/python/ops/init_ops.py:1251: calling VarianceScaling.__init__ (from tensorflow.python.ops.init_ops) with dtype is deprecated and will be removed in a future version.\n",
            "Instructions for updating:\n",
            "Call initializer instance with the dtype argument instead of passing it to the constructor\n"
          ],
          "name": "stderr"
        },
        {
          "output_type": "stream",
          "text": [
            "Downloading data from https://github.com/JonathanCMitchell/mobilenet_v2_keras/releases/download/v1.1/mobilenet_v2_weights_tf_dim_ordering_tf_kernels_1.0_160_no_top.h5\n",
            "9412608/9406464 [==============================] - 0s 0us/step\n"
          ],
          "name": "stdout"
        }
      ]
    },
    {
      "cell_type": "markdown",
      "metadata": {
        "id": "x6Dr5HX9KWrz",
        "colab_type": "text"
      },
      "source": [
        "## Feature extraction"
      ]
    },
    {
      "cell_type": "markdown",
      "metadata": {
        "id": "jFJboqi5KYPL",
        "colab_type": "text"
      },
      "source": [
        "We will freeze the convolutional base created from the previous step and use that as a feature extractor, add a classifier on top of it and train the top-level classifier."
      ]
    },
    {
      "cell_type": "markdown",
      "metadata": {
        "id": "4O1raeinNE1P",
        "colab_type": "text"
      },
      "source": [
        "##Freeze the convolutional base"
      ]
    },
    {
      "cell_type": "markdown",
      "metadata": {
        "id": "Opv1TePgNGTP",
        "colab_type": "text"
      },
      "source": [
        "It's important to freeze the convolutional based before we compile and train the model. By freezing (or setting **layer.trainable = False**), we prevent the weights in these layers from being updated during training."
      ]
    },
    {
      "cell_type": "code",
      "metadata": {
        "id": "HfRAosHeQnhG",
        "colab_type": "code",
        "colab": {}
      },
      "source": [
        "base_model.trainable = False"
      ],
      "execution_count": 0,
      "outputs": []
    },
    {
      "cell_type": "markdown",
      "metadata": {
        "id": "1uKuTJ7VQp8U",
        "colab_type": "text"
      },
      "source": [
        "##Base Model Architecture"
      ]
    },
    {
      "cell_type": "code",
      "metadata": {
        "id": "t9BbRzQXQti1",
        "colab_type": "code",
        "colab": {
          "base_uri": "https://localhost:8080/",
          "height": 1000
        },
        "outputId": "a5bc849b-a325-4cc9-9da9-8913536c9f7c"
      },
      "source": [
        "base_model.summary()"
      ],
      "execution_count": 41,
      "outputs": [
        {
          "output_type": "stream",
          "text": [
            "Model: \"mobilenetv2_1.00_160\"\n",
            "__________________________________________________________________________________________________\n",
            "Layer (type)                    Output Shape         Param #     Connected to                     \n",
            "==================================================================================================\n",
            "input_1 (InputLayer)            [(None, 160, 160, 3) 0                                            \n",
            "__________________________________________________________________________________________________\n",
            "Conv1_pad (ZeroPadding2D)       (None, 161, 161, 3)  0           input_1[0][0]                    \n",
            "__________________________________________________________________________________________________\n",
            "Conv1 (Conv2D)                  (None, 80, 80, 32)   864         Conv1_pad[0][0]                  \n",
            "__________________________________________________________________________________________________\n",
            "bn_Conv1 (BatchNormalization)   (None, 80, 80, 32)   128         Conv1[0][0]                      \n",
            "__________________________________________________________________________________________________\n",
            "Conv1_relu (ReLU)               (None, 80, 80, 32)   0           bn_Conv1[0][0]                   \n",
            "__________________________________________________________________________________________________\n",
            "expanded_conv_depthwise (Depthw (None, 80, 80, 32)   288         Conv1_relu[0][0]                 \n",
            "__________________________________________________________________________________________________\n",
            "expanded_conv_depthwise_BN (Bat (None, 80, 80, 32)   128         expanded_conv_depthwise[0][0]    \n",
            "__________________________________________________________________________________________________\n",
            "expanded_conv_depthwise_relu (R (None, 80, 80, 32)   0           expanded_conv_depthwise_BN[0][0] \n",
            "__________________________________________________________________________________________________\n",
            "expanded_conv_project (Conv2D)  (None, 80, 80, 16)   512         expanded_conv_depthwise_relu[0][0\n",
            "__________________________________________________________________________________________________\n",
            "expanded_conv_project_BN (Batch (None, 80, 80, 16)   64          expanded_conv_project[0][0]      \n",
            "__________________________________________________________________________________________________\n",
            "block_1_expand (Conv2D)         (None, 80, 80, 96)   1536        expanded_conv_project_BN[0][0]   \n",
            "__________________________________________________________________________________________________\n",
            "block_1_expand_BN (BatchNormali (None, 80, 80, 96)   384         block_1_expand[0][0]             \n",
            "__________________________________________________________________________________________________\n",
            "block_1_expand_relu (ReLU)      (None, 80, 80, 96)   0           block_1_expand_BN[0][0]          \n",
            "__________________________________________________________________________________________________\n",
            "block_1_pad (ZeroPadding2D)     (None, 81, 81, 96)   0           block_1_expand_relu[0][0]        \n",
            "__________________________________________________________________________________________________\n",
            "block_1_depthwise (DepthwiseCon (None, 40, 40, 96)   864         block_1_pad[0][0]                \n",
            "__________________________________________________________________________________________________\n",
            "block_1_depthwise_BN (BatchNorm (None, 40, 40, 96)   384         block_1_depthwise[0][0]          \n",
            "__________________________________________________________________________________________________\n",
            "block_1_depthwise_relu (ReLU)   (None, 40, 40, 96)   0           block_1_depthwise_BN[0][0]       \n",
            "__________________________________________________________________________________________________\n",
            "block_1_project (Conv2D)        (None, 40, 40, 24)   2304        block_1_depthwise_relu[0][0]     \n",
            "__________________________________________________________________________________________________\n",
            "block_1_project_BN (BatchNormal (None, 40, 40, 24)   96          block_1_project[0][0]            \n",
            "__________________________________________________________________________________________________\n",
            "block_2_expand (Conv2D)         (None, 40, 40, 144)  3456        block_1_project_BN[0][0]         \n",
            "__________________________________________________________________________________________________\n",
            "block_2_expand_BN (BatchNormali (None, 40, 40, 144)  576         block_2_expand[0][0]             \n",
            "__________________________________________________________________________________________________\n",
            "block_2_expand_relu (ReLU)      (None, 40, 40, 144)  0           block_2_expand_BN[0][0]          \n",
            "__________________________________________________________________________________________________\n",
            "block_2_depthwise (DepthwiseCon (None, 40, 40, 144)  1296        block_2_expand_relu[0][0]        \n",
            "__________________________________________________________________________________________________\n",
            "block_2_depthwise_BN (BatchNorm (None, 40, 40, 144)  576         block_2_depthwise[0][0]          \n",
            "__________________________________________________________________________________________________\n",
            "block_2_depthwise_relu (ReLU)   (None, 40, 40, 144)  0           block_2_depthwise_BN[0][0]       \n",
            "__________________________________________________________________________________________________\n",
            "block_2_project (Conv2D)        (None, 40, 40, 24)   3456        block_2_depthwise_relu[0][0]     \n",
            "__________________________________________________________________________________________________\n",
            "block_2_project_BN (BatchNormal (None, 40, 40, 24)   96          block_2_project[0][0]            \n",
            "__________________________________________________________________________________________________\n",
            "block_2_add (Add)               (None, 40, 40, 24)   0           block_1_project_BN[0][0]         \n",
            "                                                                 block_2_project_BN[0][0]         \n",
            "__________________________________________________________________________________________________\n",
            "block_3_expand (Conv2D)         (None, 40, 40, 144)  3456        block_2_add[0][0]                \n",
            "__________________________________________________________________________________________________\n",
            "block_3_expand_BN (BatchNormali (None, 40, 40, 144)  576         block_3_expand[0][0]             \n",
            "__________________________________________________________________________________________________\n",
            "block_3_expand_relu (ReLU)      (None, 40, 40, 144)  0           block_3_expand_BN[0][0]          \n",
            "__________________________________________________________________________________________________\n",
            "block_3_pad (ZeroPadding2D)     (None, 41, 41, 144)  0           block_3_expand_relu[0][0]        \n",
            "__________________________________________________________________________________________________\n",
            "block_3_depthwise (DepthwiseCon (None, 20, 20, 144)  1296        block_3_pad[0][0]                \n",
            "__________________________________________________________________________________________________\n",
            "block_3_depthwise_BN (BatchNorm (None, 20, 20, 144)  576         block_3_depthwise[0][0]          \n",
            "__________________________________________________________________________________________________\n",
            "block_3_depthwise_relu (ReLU)   (None, 20, 20, 144)  0           block_3_depthwise_BN[0][0]       \n",
            "__________________________________________________________________________________________________\n",
            "block_3_project (Conv2D)        (None, 20, 20, 32)   4608        block_3_depthwise_relu[0][0]     \n",
            "__________________________________________________________________________________________________\n",
            "block_3_project_BN (BatchNormal (None, 20, 20, 32)   128         block_3_project[0][0]            \n",
            "__________________________________________________________________________________________________\n",
            "block_4_expand (Conv2D)         (None, 20, 20, 192)  6144        block_3_project_BN[0][0]         \n",
            "__________________________________________________________________________________________________\n",
            "block_4_expand_BN (BatchNormali (None, 20, 20, 192)  768         block_4_expand[0][0]             \n",
            "__________________________________________________________________________________________________\n",
            "block_4_expand_relu (ReLU)      (None, 20, 20, 192)  0           block_4_expand_BN[0][0]          \n",
            "__________________________________________________________________________________________________\n",
            "block_4_depthwise (DepthwiseCon (None, 20, 20, 192)  1728        block_4_expand_relu[0][0]        \n",
            "__________________________________________________________________________________________________\n",
            "block_4_depthwise_BN (BatchNorm (None, 20, 20, 192)  768         block_4_depthwise[0][0]          \n",
            "__________________________________________________________________________________________________\n",
            "block_4_depthwise_relu (ReLU)   (None, 20, 20, 192)  0           block_4_depthwise_BN[0][0]       \n",
            "__________________________________________________________________________________________________\n",
            "block_4_project (Conv2D)        (None, 20, 20, 32)   6144        block_4_depthwise_relu[0][0]     \n",
            "__________________________________________________________________________________________________\n",
            "block_4_project_BN (BatchNormal (None, 20, 20, 32)   128         block_4_project[0][0]            \n",
            "__________________________________________________________________________________________________\n",
            "block_4_add (Add)               (None, 20, 20, 32)   0           block_3_project_BN[0][0]         \n",
            "                                                                 block_4_project_BN[0][0]         \n",
            "__________________________________________________________________________________________________\n",
            "block_5_expand (Conv2D)         (None, 20, 20, 192)  6144        block_4_add[0][0]                \n",
            "__________________________________________________________________________________________________\n",
            "block_5_expand_BN (BatchNormali (None, 20, 20, 192)  768         block_5_expand[0][0]             \n",
            "__________________________________________________________________________________________________\n",
            "block_5_expand_relu (ReLU)      (None, 20, 20, 192)  0           block_5_expand_BN[0][0]          \n",
            "__________________________________________________________________________________________________\n",
            "block_5_depthwise (DepthwiseCon (None, 20, 20, 192)  1728        block_5_expand_relu[0][0]        \n",
            "__________________________________________________________________________________________________\n",
            "block_5_depthwise_BN (BatchNorm (None, 20, 20, 192)  768         block_5_depthwise[0][0]          \n",
            "__________________________________________________________________________________________________\n",
            "block_5_depthwise_relu (ReLU)   (None, 20, 20, 192)  0           block_5_depthwise_BN[0][0]       \n",
            "__________________________________________________________________________________________________\n",
            "block_5_project (Conv2D)        (None, 20, 20, 32)   6144        block_5_depthwise_relu[0][0]     \n",
            "__________________________________________________________________________________________________\n",
            "block_5_project_BN (BatchNormal (None, 20, 20, 32)   128         block_5_project[0][0]            \n",
            "__________________________________________________________________________________________________\n",
            "block_5_add (Add)               (None, 20, 20, 32)   0           block_4_add[0][0]                \n",
            "                                                                 block_5_project_BN[0][0]         \n",
            "__________________________________________________________________________________________________\n",
            "block_6_expand (Conv2D)         (None, 20, 20, 192)  6144        block_5_add[0][0]                \n",
            "__________________________________________________________________________________________________\n",
            "block_6_expand_BN (BatchNormali (None, 20, 20, 192)  768         block_6_expand[0][0]             \n",
            "__________________________________________________________________________________________________\n",
            "block_6_expand_relu (ReLU)      (None, 20, 20, 192)  0           block_6_expand_BN[0][0]          \n",
            "__________________________________________________________________________________________________\n",
            "block_6_pad (ZeroPadding2D)     (None, 21, 21, 192)  0           block_6_expand_relu[0][0]        \n",
            "__________________________________________________________________________________________________\n",
            "block_6_depthwise (DepthwiseCon (None, 10, 10, 192)  1728        block_6_pad[0][0]                \n",
            "__________________________________________________________________________________________________\n",
            "block_6_depthwise_BN (BatchNorm (None, 10, 10, 192)  768         block_6_depthwise[0][0]          \n",
            "__________________________________________________________________________________________________\n",
            "block_6_depthwise_relu (ReLU)   (None, 10, 10, 192)  0           block_6_depthwise_BN[0][0]       \n",
            "__________________________________________________________________________________________________\n",
            "block_6_project (Conv2D)        (None, 10, 10, 64)   12288       block_6_depthwise_relu[0][0]     \n",
            "__________________________________________________________________________________________________\n",
            "block_6_project_BN (BatchNormal (None, 10, 10, 64)   256         block_6_project[0][0]            \n",
            "__________________________________________________________________________________________________\n",
            "block_7_expand (Conv2D)         (None, 10, 10, 384)  24576       block_6_project_BN[0][0]         \n",
            "__________________________________________________________________________________________________\n",
            "block_7_expand_BN (BatchNormali (None, 10, 10, 384)  1536        block_7_expand[0][0]             \n",
            "__________________________________________________________________________________________________\n",
            "block_7_expand_relu (ReLU)      (None, 10, 10, 384)  0           block_7_expand_BN[0][0]          \n",
            "__________________________________________________________________________________________________\n",
            "block_7_depthwise (DepthwiseCon (None, 10, 10, 384)  3456        block_7_expand_relu[0][0]        \n",
            "__________________________________________________________________________________________________\n",
            "block_7_depthwise_BN (BatchNorm (None, 10, 10, 384)  1536        block_7_depthwise[0][0]          \n",
            "__________________________________________________________________________________________________\n",
            "block_7_depthwise_relu (ReLU)   (None, 10, 10, 384)  0           block_7_depthwise_BN[0][0]       \n",
            "__________________________________________________________________________________________________\n",
            "block_7_project (Conv2D)        (None, 10, 10, 64)   24576       block_7_depthwise_relu[0][0]     \n",
            "__________________________________________________________________________________________________\n",
            "block_7_project_BN (BatchNormal (None, 10, 10, 64)   256         block_7_project[0][0]            \n",
            "__________________________________________________________________________________________________\n",
            "block_7_add (Add)               (None, 10, 10, 64)   0           block_6_project_BN[0][0]         \n",
            "                                                                 block_7_project_BN[0][0]         \n",
            "__________________________________________________________________________________________________\n",
            "block_8_expand (Conv2D)         (None, 10, 10, 384)  24576       block_7_add[0][0]                \n",
            "__________________________________________________________________________________________________\n",
            "block_8_expand_BN (BatchNormali (None, 10, 10, 384)  1536        block_8_expand[0][0]             \n",
            "__________________________________________________________________________________________________\n",
            "block_8_expand_relu (ReLU)      (None, 10, 10, 384)  0           block_8_expand_BN[0][0]          \n",
            "__________________________________________________________________________________________________\n",
            "block_8_depthwise (DepthwiseCon (None, 10, 10, 384)  3456        block_8_expand_relu[0][0]        \n",
            "__________________________________________________________________________________________________\n",
            "block_8_depthwise_BN (BatchNorm (None, 10, 10, 384)  1536        block_8_depthwise[0][0]          \n",
            "__________________________________________________________________________________________________\n",
            "block_8_depthwise_relu (ReLU)   (None, 10, 10, 384)  0           block_8_depthwise_BN[0][0]       \n",
            "__________________________________________________________________________________________________\n",
            "block_8_project (Conv2D)        (None, 10, 10, 64)   24576       block_8_depthwise_relu[0][0]     \n",
            "__________________________________________________________________________________________________\n",
            "block_8_project_BN (BatchNormal (None, 10, 10, 64)   256         block_8_project[0][0]            \n",
            "__________________________________________________________________________________________________\n",
            "block_8_add (Add)               (None, 10, 10, 64)   0           block_7_add[0][0]                \n",
            "                                                                 block_8_project_BN[0][0]         \n",
            "__________________________________________________________________________________________________\n",
            "block_9_expand (Conv2D)         (None, 10, 10, 384)  24576       block_8_add[0][0]                \n",
            "__________________________________________________________________________________________________\n",
            "block_9_expand_BN (BatchNormali (None, 10, 10, 384)  1536        block_9_expand[0][0]             \n",
            "__________________________________________________________________________________________________\n",
            "block_9_expand_relu (ReLU)      (None, 10, 10, 384)  0           block_9_expand_BN[0][0]          \n",
            "__________________________________________________________________________________________________\n",
            "block_9_depthwise (DepthwiseCon (None, 10, 10, 384)  3456        block_9_expand_relu[0][0]        \n",
            "__________________________________________________________________________________________________\n",
            "block_9_depthwise_BN (BatchNorm (None, 10, 10, 384)  1536        block_9_depthwise[0][0]          \n",
            "__________________________________________________________________________________________________\n",
            "block_9_depthwise_relu (ReLU)   (None, 10, 10, 384)  0           block_9_depthwise_BN[0][0]       \n",
            "__________________________________________________________________________________________________\n",
            "block_9_project (Conv2D)        (None, 10, 10, 64)   24576       block_9_depthwise_relu[0][0]     \n",
            "__________________________________________________________________________________________________\n",
            "block_9_project_BN (BatchNormal (None, 10, 10, 64)   256         block_9_project[0][0]            \n",
            "__________________________________________________________________________________________________\n",
            "block_9_add (Add)               (None, 10, 10, 64)   0           block_8_add[0][0]                \n",
            "                                                                 block_9_project_BN[0][0]         \n",
            "__________________________________________________________________________________________________\n",
            "block_10_expand (Conv2D)        (None, 10, 10, 384)  24576       block_9_add[0][0]                \n",
            "__________________________________________________________________________________________________\n",
            "block_10_expand_BN (BatchNormal (None, 10, 10, 384)  1536        block_10_expand[0][0]            \n",
            "__________________________________________________________________________________________________\n",
            "block_10_expand_relu (ReLU)     (None, 10, 10, 384)  0           block_10_expand_BN[0][0]         \n",
            "__________________________________________________________________________________________________\n",
            "block_10_depthwise (DepthwiseCo (None, 10, 10, 384)  3456        block_10_expand_relu[0][0]       \n",
            "__________________________________________________________________________________________________\n",
            "block_10_depthwise_BN (BatchNor (None, 10, 10, 384)  1536        block_10_depthwise[0][0]         \n",
            "__________________________________________________________________________________________________\n",
            "block_10_depthwise_relu (ReLU)  (None, 10, 10, 384)  0           block_10_depthwise_BN[0][0]      \n",
            "__________________________________________________________________________________________________\n",
            "block_10_project (Conv2D)       (None, 10, 10, 96)   36864       block_10_depthwise_relu[0][0]    \n",
            "__________________________________________________________________________________________________\n",
            "block_10_project_BN (BatchNorma (None, 10, 10, 96)   384         block_10_project[0][0]           \n",
            "__________________________________________________________________________________________________\n",
            "block_11_expand (Conv2D)        (None, 10, 10, 576)  55296       block_10_project_BN[0][0]        \n",
            "__________________________________________________________________________________________________\n",
            "block_11_expand_BN (BatchNormal (None, 10, 10, 576)  2304        block_11_expand[0][0]            \n",
            "__________________________________________________________________________________________________\n",
            "block_11_expand_relu (ReLU)     (None, 10, 10, 576)  0           block_11_expand_BN[0][0]         \n",
            "__________________________________________________________________________________________________\n",
            "block_11_depthwise (DepthwiseCo (None, 10, 10, 576)  5184        block_11_expand_relu[0][0]       \n",
            "__________________________________________________________________________________________________\n",
            "block_11_depthwise_BN (BatchNor (None, 10, 10, 576)  2304        block_11_depthwise[0][0]         \n",
            "__________________________________________________________________________________________________\n",
            "block_11_depthwise_relu (ReLU)  (None, 10, 10, 576)  0           block_11_depthwise_BN[0][0]      \n",
            "__________________________________________________________________________________________________\n",
            "block_11_project (Conv2D)       (None, 10, 10, 96)   55296       block_11_depthwise_relu[0][0]    \n",
            "__________________________________________________________________________________________________\n",
            "block_11_project_BN (BatchNorma (None, 10, 10, 96)   384         block_11_project[0][0]           \n",
            "__________________________________________________________________________________________________\n",
            "block_11_add (Add)              (None, 10, 10, 96)   0           block_10_project_BN[0][0]        \n",
            "                                                                 block_11_project_BN[0][0]        \n",
            "__________________________________________________________________________________________________\n",
            "block_12_expand (Conv2D)        (None, 10, 10, 576)  55296       block_11_add[0][0]               \n",
            "__________________________________________________________________________________________________\n",
            "block_12_expand_BN (BatchNormal (None, 10, 10, 576)  2304        block_12_expand[0][0]            \n",
            "__________________________________________________________________________________________________\n",
            "block_12_expand_relu (ReLU)     (None, 10, 10, 576)  0           block_12_expand_BN[0][0]         \n",
            "__________________________________________________________________________________________________\n",
            "block_12_depthwise (DepthwiseCo (None, 10, 10, 576)  5184        block_12_expand_relu[0][0]       \n",
            "__________________________________________________________________________________________________\n",
            "block_12_depthwise_BN (BatchNor (None, 10, 10, 576)  2304        block_12_depthwise[0][0]         \n",
            "__________________________________________________________________________________________________\n",
            "block_12_depthwise_relu (ReLU)  (None, 10, 10, 576)  0           block_12_depthwise_BN[0][0]      \n",
            "__________________________________________________________________________________________________\n",
            "block_12_project (Conv2D)       (None, 10, 10, 96)   55296       block_12_depthwise_relu[0][0]    \n",
            "__________________________________________________________________________________________________\n",
            "block_12_project_BN (BatchNorma (None, 10, 10, 96)   384         block_12_project[0][0]           \n",
            "__________________________________________________________________________________________________\n",
            "block_12_add (Add)              (None, 10, 10, 96)   0           block_11_add[0][0]               \n",
            "                                                                 block_12_project_BN[0][0]        \n",
            "__________________________________________________________________________________________________\n",
            "block_13_expand (Conv2D)        (None, 10, 10, 576)  55296       block_12_add[0][0]               \n",
            "__________________________________________________________________________________________________\n",
            "block_13_expand_BN (BatchNormal (None, 10, 10, 576)  2304        block_13_expand[0][0]            \n",
            "__________________________________________________________________________________________________\n",
            "block_13_expand_relu (ReLU)     (None, 10, 10, 576)  0           block_13_expand_BN[0][0]         \n",
            "__________________________________________________________________________________________________\n",
            "block_13_pad (ZeroPadding2D)    (None, 11, 11, 576)  0           block_13_expand_relu[0][0]       \n",
            "__________________________________________________________________________________________________\n",
            "block_13_depthwise (DepthwiseCo (None, 5, 5, 576)    5184        block_13_pad[0][0]               \n",
            "__________________________________________________________________________________________________\n",
            "block_13_depthwise_BN (BatchNor (None, 5, 5, 576)    2304        block_13_depthwise[0][0]         \n",
            "__________________________________________________________________________________________________\n",
            "block_13_depthwise_relu (ReLU)  (None, 5, 5, 576)    0           block_13_depthwise_BN[0][0]      \n",
            "__________________________________________________________________________________________________\n",
            "block_13_project (Conv2D)       (None, 5, 5, 160)    92160       block_13_depthwise_relu[0][0]    \n",
            "__________________________________________________________________________________________________\n",
            "block_13_project_BN (BatchNorma (None, 5, 5, 160)    640         block_13_project[0][0]           \n",
            "__________________________________________________________________________________________________\n",
            "block_14_expand (Conv2D)        (None, 5, 5, 960)    153600      block_13_project_BN[0][0]        \n",
            "__________________________________________________________________________________________________\n",
            "block_14_expand_BN (BatchNormal (None, 5, 5, 960)    3840        block_14_expand[0][0]            \n",
            "__________________________________________________________________________________________________\n",
            "block_14_expand_relu (ReLU)     (None, 5, 5, 960)    0           block_14_expand_BN[0][0]         \n",
            "__________________________________________________________________________________________________\n",
            "block_14_depthwise (DepthwiseCo (None, 5, 5, 960)    8640        block_14_expand_relu[0][0]       \n",
            "__________________________________________________________________________________________________\n",
            "block_14_depthwise_BN (BatchNor (None, 5, 5, 960)    3840        block_14_depthwise[0][0]         \n",
            "__________________________________________________________________________________________________\n",
            "block_14_depthwise_relu (ReLU)  (None, 5, 5, 960)    0           block_14_depthwise_BN[0][0]      \n",
            "__________________________________________________________________________________________________\n",
            "block_14_project (Conv2D)       (None, 5, 5, 160)    153600      block_14_depthwise_relu[0][0]    \n",
            "__________________________________________________________________________________________________\n",
            "block_14_project_BN (BatchNorma (None, 5, 5, 160)    640         block_14_project[0][0]           \n",
            "__________________________________________________________________________________________________\n",
            "block_14_add (Add)              (None, 5, 5, 160)    0           block_13_project_BN[0][0]        \n",
            "                                                                 block_14_project_BN[0][0]        \n",
            "__________________________________________________________________________________________________\n",
            "block_15_expand (Conv2D)        (None, 5, 5, 960)    153600      block_14_add[0][0]               \n",
            "__________________________________________________________________________________________________\n",
            "block_15_expand_BN (BatchNormal (None, 5, 5, 960)    3840        block_15_expand[0][0]            \n",
            "__________________________________________________________________________________________________\n",
            "block_15_expand_relu (ReLU)     (None, 5, 5, 960)    0           block_15_expand_BN[0][0]         \n",
            "__________________________________________________________________________________________________\n",
            "block_15_depthwise (DepthwiseCo (None, 5, 5, 960)    8640        block_15_expand_relu[0][0]       \n",
            "__________________________________________________________________________________________________\n",
            "block_15_depthwise_BN (BatchNor (None, 5, 5, 960)    3840        block_15_depthwise[0][0]         \n",
            "__________________________________________________________________________________________________\n",
            "block_15_depthwise_relu (ReLU)  (None, 5, 5, 960)    0           block_15_depthwise_BN[0][0]      \n",
            "__________________________________________________________________________________________________\n",
            "block_15_project (Conv2D)       (None, 5, 5, 160)    153600      block_15_depthwise_relu[0][0]    \n",
            "__________________________________________________________________________________________________\n",
            "block_15_project_BN (BatchNorma (None, 5, 5, 160)    640         block_15_project[0][0]           \n",
            "__________________________________________________________________________________________________\n",
            "block_15_add (Add)              (None, 5, 5, 160)    0           block_14_add[0][0]               \n",
            "                                                                 block_15_project_BN[0][0]        \n",
            "__________________________________________________________________________________________________\n",
            "block_16_expand (Conv2D)        (None, 5, 5, 960)    153600      block_15_add[0][0]               \n",
            "__________________________________________________________________________________________________\n",
            "block_16_expand_BN (BatchNormal (None, 5, 5, 960)    3840        block_16_expand[0][0]            \n",
            "__________________________________________________________________________________________________\n",
            "block_16_expand_relu (ReLU)     (None, 5, 5, 960)    0           block_16_expand_BN[0][0]         \n",
            "__________________________________________________________________________________________________\n",
            "block_16_depthwise (DepthwiseCo (None, 5, 5, 960)    8640        block_16_expand_relu[0][0]       \n",
            "__________________________________________________________________________________________________\n",
            "block_16_depthwise_BN (BatchNor (None, 5, 5, 960)    3840        block_16_depthwise[0][0]         \n",
            "__________________________________________________________________________________________________\n",
            "block_16_depthwise_relu (ReLU)  (None, 5, 5, 960)    0           block_16_depthwise_BN[0][0]      \n",
            "__________________________________________________________________________________________________\n",
            "block_16_project (Conv2D)       (None, 5, 5, 320)    307200      block_16_depthwise_relu[0][0]    \n",
            "__________________________________________________________________________________________________\n",
            "block_16_project_BN (BatchNorma (None, 5, 5, 320)    1280        block_16_project[0][0]           \n",
            "__________________________________________________________________________________________________\n",
            "Conv_1 (Conv2D)                 (None, 5, 5, 1280)   409600      block_16_project_BN[0][0]        \n",
            "__________________________________________________________________________________________________\n",
            "Conv_1_bn (BatchNormalization)  (None, 5, 5, 1280)   5120        Conv_1[0][0]                     \n",
            "__________________________________________________________________________________________________\n",
            "out_relu (ReLU)                 (None, 5, 5, 1280)   0           Conv_1_bn[0][0]                  \n",
            "==================================================================================================\n",
            "Total params: 2,257,984\n",
            "Trainable params: 0\n",
            "Non-trainable params: 2,257,984\n",
            "__________________________________________________________________________________________________\n"
          ],
          "name": "stdout"
        }
      ]
    },
    {
      "cell_type": "markdown",
      "metadata": {
        "id": "FepnhzzVRAt_",
        "colab_type": "text"
      },
      "source": [
        "# Add a classification head\n",
        "\n",
        "## Add a few layers on top of the base model:"
      ]
    },
    {
      "cell_type": "code",
      "metadata": {
        "id": "Xs-TonE7RsoZ",
        "colab_type": "code",
        "colab": {}
      },
      "source": [
        "model = tf.keras.Sequential([\n",
        "  base_model,\n",
        "  keras.layers.GlobalAveragePooling2D(),\n",
        "  keras.layers.Dense(1, activation='sigmoid')\n",
        "])"
      ],
      "execution_count": 0,
      "outputs": []
    },
    {
      "cell_type": "markdown",
      "metadata": {
        "id": "rUlLwjhKUEZm",
        "colab_type": "text"
      },
      "source": [
        "# Compile the Model"
      ]
    },
    {
      "cell_type": "code",
      "metadata": {
        "id": "erNWlT9sUG4Q",
        "colab_type": "code",
        "colab": {}
      },
      "source": [
        "model.compile(optimizer=tf.keras.optimizers.RMSprop(lr=0.0001),\n",
        "              loss='binary_crossentropy',\n",
        "              metrics=['accuracy'])\n"
      ],
      "execution_count": 0,
      "outputs": []
    },
    {
      "cell_type": "code",
      "metadata": {
        "id": "DkEg8T5fVmCc",
        "colab_type": "code",
        "colab": {
          "base_uri": "https://localhost:8080/",
          "height": 255
        },
        "outputId": "d600e6b7-7324-4d8e-9a40-3ec00de6471d"
      },
      "source": [
        "model.summary()"
      ],
      "execution_count": 44,
      "outputs": [
        {
          "output_type": "stream",
          "text": [
            "Model: \"sequential_2\"\n",
            "_________________________________________________________________\n",
            "Layer (type)                 Output Shape              Param #   \n",
            "=================================================================\n",
            "mobilenetv2_1.00_160 (Model) (None, 5, 5, 1280)        2257984   \n",
            "_________________________________________________________________\n",
            "global_average_pooling2d_1 ( (None, 1280)              0         \n",
            "_________________________________________________________________\n",
            "dense_2 (Dense)              (None, 1)                 1281      \n",
            "=================================================================\n",
            "Total params: 2,259,265\n",
            "Trainable params: 1,281\n",
            "Non-trainable params: 2,257,984\n",
            "_________________________________________________________________\n"
          ],
          "name": "stdout"
        }
      ]
    },
    {
      "cell_type": "markdown",
      "metadata": {
        "id": "AmU1mg5wfaL-",
        "colab_type": "text"
      },
      "source": [
        "These 1.2K trainable parameters are divided among 2 TensorFlow Variable objects, the weights and biases of the two dense layers:\n",
        "\n",
        "len(model.trainable_varia"
      ]
    },
    {
      "cell_type": "code",
      "metadata": {
        "id": "79I2_YMbfWle",
        "colab_type": "code",
        "colab": {
          "base_uri": "https://localhost:8080/",
          "height": 34
        },
        "outputId": "7fd6cbdb-2c08-4c2b-abc9-c5c58a979f9a"
      },
      "source": [
        "len(model.trainable_variables)"
      ],
      "execution_count": 45,
      "outputs": [
        {
          "output_type": "execute_result",
          "data": {
            "text/plain": [
              "2"
            ]
          },
          "metadata": {
            "tags": []
          },
          "execution_count": 45
        }
      ]
    },
    {
      "cell_type": "markdown",
      "metadata": {
        "id": "IkaG_oZRWsQV",
        "colab_type": "text"
      },
      "source": [
        "#Train the model"
      ]
    },
    {
      "cell_type": "code",
      "metadata": {
        "id": "CXVJargIW_I8",
        "colab_type": "code",
        "colab": {}
      },
      "source": [
        "epochs = 50\n",
        "steps_per_epoch = train_generator.n // batch_size\n",
        "validation_steps = validation_generator.n // batch_size"
      ],
      "execution_count": 0,
      "outputs": []
    },
    {
      "cell_type": "code",
      "metadata": {
        "id": "WSHPZb5FehPg",
        "colab_type": "code",
        "colab": {
          "base_uri": "https://localhost:8080/",
          "height": 1000
        },
        "outputId": "8ff1b484-4fd5-4642-983a-b9b1624a2652"
      },
      "source": [
        "history = model.fit_generator(train_generator,\n",
        "                              steps_per_epoch = steps_per_epoch,\n",
        "                              epochs=epochs,\n",
        "                              workers=4,\n",
        "                              validation_data=validation_generator,\n",
        "                              validation_steps=validation_steps)"
      ],
      "execution_count": 47,
      "outputs": [
        {
          "output_type": "stream",
          "text": [
            "Epoch 1/50\n",
            "62/62 [==============================] - 9s 151ms/step - loss: 0.5449 - acc: 0.7271 - val_loss: 0.3183 - val_acc: 0.9093\n",
            "Epoch 2/50\n",
            "62/62 [==============================] - 7s 117ms/step - loss: 0.1628 - acc: 0.9822 - val_loss: 0.1707 - val_acc: 0.9546\n",
            "Epoch 3/50\n",
            "62/62 [==============================] - 7s 116ms/step - loss: 0.0623 - acc: 0.9990 - val_loss: 0.1436 - val_acc: 0.9567\n",
            "Epoch 4/50\n",
            "62/62 [==============================] - 7s 117ms/step - loss: 0.0252 - acc: 1.0000 - val_loss: 0.1363 - val_acc: 0.9587\n",
            "Epoch 5/50\n",
            "62/62 [==============================] - 7s 118ms/step - loss: 0.0134 - acc: 1.0000 - val_loss: 0.1304 - val_acc: 0.9587\n",
            "Epoch 6/50\n",
            "62/62 [==============================] - 7s 116ms/step - loss: 0.0100 - acc: 1.0000 - val_loss: 0.1319 - val_acc: 0.9597\n",
            "Epoch 7/50\n",
            "62/62 [==============================] - 7s 115ms/step - loss: 0.0066 - acc: 0.9995 - val_loss: 0.1313 - val_acc: 0.9617\n",
            "Epoch 8/50\n",
            "62/62 [==============================] - 7s 116ms/step - loss: 0.0054 - acc: 0.9995 - val_loss: 0.1381 - val_acc: 0.9627\n",
            "Epoch 9/50\n",
            "62/62 [==============================] - 7s 118ms/step - loss: 0.0047 - acc: 1.0000 - val_loss: 0.1424 - val_acc: 0.9627\n",
            "Epoch 10/50\n",
            "62/62 [==============================] - 7s 119ms/step - loss: 0.0026 - acc: 1.0000 - val_loss: 0.1434 - val_acc: 0.9627\n",
            "Epoch 11/50\n",
            "62/62 [==============================] - 7s 118ms/step - loss: 0.0022 - acc: 1.0000 - val_loss: 0.1570 - val_acc: 0.9587\n",
            "Epoch 12/50\n",
            "62/62 [==============================] - 7s 116ms/step - loss: 0.0017 - acc: 1.0000 - val_loss: 0.1543 - val_acc: 0.9627\n",
            "Epoch 13/50\n",
            "62/62 [==============================] - 7s 117ms/step - loss: 0.0020 - acc: 1.0000 - val_loss: 0.1588 - val_acc: 0.9617\n",
            "Epoch 14/50\n",
            "62/62 [==============================] - 7s 116ms/step - loss: 8.6339e-04 - acc: 1.0000 - val_loss: 0.1676 - val_acc: 0.9587\n",
            "Epoch 15/50\n",
            "62/62 [==============================] - 7s 115ms/step - loss: 0.0014 - acc: 1.0000 - val_loss: 0.1698 - val_acc: 0.9607\n",
            "Epoch 16/50\n",
            "62/62 [==============================] - 7s 115ms/step - loss: 6.3488e-04 - acc: 1.0000 - val_loss: 0.1688 - val_acc: 0.9637\n",
            "Epoch 17/50\n",
            "62/62 [==============================] - 7s 113ms/step - loss: 0.0012 - acc: 1.0000 - val_loss: 0.1814 - val_acc: 0.9577\n",
            "Epoch 18/50\n",
            "62/62 [==============================] - 7s 113ms/step - loss: 0.0025 - acc: 0.9995 - val_loss: 0.1877 - val_acc: 0.9556\n",
            "Epoch 19/50\n",
            "62/62 [==============================] - 7s 112ms/step - loss: 8.0021e-04 - acc: 1.0000 - val_loss: 0.1827 - val_acc: 0.9597\n",
            "Epoch 20/50\n",
            "62/62 [==============================] - 7s 114ms/step - loss: 6.6268e-04 - acc: 1.0000 - val_loss: 0.1842 - val_acc: 0.9597\n",
            "Epoch 21/50\n",
            "62/62 [==============================] - 7s 115ms/step - loss: 4.7702e-04 - acc: 1.0000 - val_loss: 0.1882 - val_acc: 0.9607\n",
            "Epoch 22/50\n",
            "62/62 [==============================] - 7s 115ms/step - loss: 7.3014e-04 - acc: 1.0000 - val_loss: 0.1807 - val_acc: 0.9637\n",
            "Epoch 23/50\n",
            "62/62 [==============================] - 7s 114ms/step - loss: 8.3014e-04 - acc: 1.0000 - val_loss: 0.1991 - val_acc: 0.9577\n",
            "Epoch 24/50\n",
            "62/62 [==============================] - 7s 112ms/step - loss: 9.5668e-04 - acc: 1.0000 - val_loss: 0.1961 - val_acc: 0.9607\n",
            "Epoch 25/50\n",
            "62/62 [==============================] - 7s 117ms/step - loss: 0.0022 - acc: 0.9995 - val_loss: 0.1891 - val_acc: 0.9617\n",
            "Epoch 26/50\n",
            "62/62 [==============================] - 7s 112ms/step - loss: 0.0010 - acc: 0.9995 - val_loss: 0.1954 - val_acc: 0.9607\n",
            "Epoch 27/50\n",
            "62/62 [==============================] - 7s 113ms/step - loss: 0.0025 - acc: 0.9995 - val_loss: 0.2053 - val_acc: 0.9587\n",
            "Epoch 28/50\n",
            "62/62 [==============================] - 7s 116ms/step - loss: 0.0023 - acc: 0.9995 - val_loss: 0.2099 - val_acc: 0.9556\n",
            "Epoch 29/50\n",
            "62/62 [==============================] - 7s 113ms/step - loss: 2.4664e-04 - acc: 1.0000 - val_loss: 0.2062 - val_acc: 0.9607\n",
            "Epoch 30/50\n",
            "62/62 [==============================] - 7s 114ms/step - loss: 3.0868e-04 - acc: 1.0000 - val_loss: 0.2016 - val_acc: 0.9607\n",
            "Epoch 31/50\n",
            "62/62 [==============================] - 7s 115ms/step - loss: 4.7549e-04 - acc: 1.0000 - val_loss: 0.1995 - val_acc: 0.9627\n",
            "Epoch 32/50\n",
            "62/62 [==============================] - 7s 115ms/step - loss: 5.4535e-04 - acc: 1.0000 - val_loss: 0.1962 - val_acc: 0.9637\n",
            "Epoch 33/50\n",
            "62/62 [==============================] - 7s 115ms/step - loss: 0.0011 - acc: 0.9995 - val_loss: 0.2060 - val_acc: 0.9607\n",
            "Epoch 34/50\n",
            "62/62 [==============================] - 7s 112ms/step - loss: 6.8569e-04 - acc: 0.9995 - val_loss: 0.2114 - val_acc: 0.9607\n",
            "Epoch 35/50\n",
            "62/62 [==============================] - 7s 115ms/step - loss: 3.2083e-04 - acc: 1.0000 - val_loss: 0.2139 - val_acc: 0.9607\n",
            "Epoch 36/50\n",
            "62/62 [==============================] - 7s 116ms/step - loss: 0.0012 - acc: 0.9995 - val_loss: 0.2083 - val_acc: 0.9607\n",
            "Epoch 37/50\n",
            "62/62 [==============================] - 7s 116ms/step - loss: 5.9992e-04 - acc: 1.0000 - val_loss: 0.2176 - val_acc: 0.9607\n",
            "Epoch 38/50\n",
            "62/62 [==============================] - 7s 114ms/step - loss: 2.3772e-04 - acc: 1.0000 - val_loss: 0.2184 - val_acc: 0.9607\n",
            "Epoch 39/50\n",
            "62/62 [==============================] - 7s 114ms/step - loss: 1.2916e-04 - acc: 1.0000 - val_loss: 0.2242 - val_acc: 0.9607\n",
            "Epoch 40/50\n",
            "62/62 [==============================] - 7s 114ms/step - loss: 3.0929e-04 - acc: 1.0000 - val_loss: 0.2330 - val_acc: 0.9587\n",
            "Epoch 41/50\n",
            "62/62 [==============================] - 7s 116ms/step - loss: 0.0023 - acc: 0.9990 - val_loss: 0.2202 - val_acc: 0.9607\n",
            "Epoch 42/50\n",
            "62/62 [==============================] - 7s 118ms/step - loss: 0.0012 - acc: 0.9995 - val_loss: 0.2311 - val_acc: 0.9607\n",
            "Epoch 43/50\n",
            "62/62 [==============================] - 7s 118ms/step - loss: 2.7953e-04 - acc: 1.0000 - val_loss: 0.2308 - val_acc: 0.9607\n",
            "Epoch 44/50\n",
            "62/62 [==============================] - 7s 114ms/step - loss: 7.8560e-04 - acc: 1.0000 - val_loss: 0.2257 - val_acc: 0.9607\n",
            "Epoch 45/50\n",
            "62/62 [==============================] - 7s 113ms/step - loss: 1.4849e-04 - acc: 1.0000 - val_loss: 0.2298 - val_acc: 0.9607\n",
            "Epoch 46/50\n",
            "62/62 [==============================] - 7s 115ms/step - loss: 1.3379e-04 - acc: 1.0000 - val_loss: 0.2375 - val_acc: 0.9607\n",
            "Epoch 47/50\n",
            "62/62 [==============================] - 7s 115ms/step - loss: 2.7218e-04 - acc: 1.0000 - val_loss: 0.2294 - val_acc: 0.9607\n",
            "Epoch 48/50\n",
            "62/62 [==============================] - 7s 114ms/step - loss: 8.3772e-04 - acc: 0.9995 - val_loss: 0.2366 - val_acc: 0.9607\n",
            "Epoch 49/50\n",
            "62/62 [==============================] - 7s 115ms/step - loss: 6.6201e-04 - acc: 1.0000 - val_loss: 0.2446 - val_acc: 0.9587\n",
            "Epoch 50/50\n",
            "62/62 [==============================] - 7s 115ms/step - loss: 0.0038 - acc: 0.9980 - val_loss: 0.2460 - val_acc: 0.9587\n"
          ],
          "name": "stdout"
        }
      ]
    },
    {
      "cell_type": "code",
      "metadata": {
        "id": "31tZ9kahx8AK",
        "colab_type": "code",
        "colab": {}
      },
      "source": [
        "acc= history.history['acc']\n",
        "val_acc = history.history['val_acc']\n",
        "loss= history.history['loss']\n",
        "val_loss = history.history['val_loss']"
      ],
      "execution_count": 0,
      "outputs": []
    },
    {
      "cell_type": "markdown",
      "metadata": {
        "id": "LLp4DWuZfCqK",
        "colab_type": "text"
      },
      "source": [
        "#Learning curves"
      ]
    },
    {
      "cell_type": "code",
      "metadata": {
        "id": "CL75ZeZtjrMG",
        "colab_type": "code",
        "colab": {
          "base_uri": "https://localhost:8080/",
          "height": 281
        },
        "outputId": "ece9055a-2396-4365-9af6-68db32bbcdbb"
      },
      "source": [
        "plt.plot(history.history['acc'],label='Training Accuracy')\n",
        "plt.plot(history.history['val_acc'],label='Validation Accuracy')\n",
        "plt.legend()\n",
        "plt.title('Training and Validation Accuracy')\n",
        "plt.show()"
      ],
      "execution_count": 49,
      "outputs": [
        {
          "output_type": "display_data",
          "data": {
            "image/png": "[encoded data removed]",
            "text/plain": [
              "<Figure size 432x288 with 1 Axes>"
            ]
          },
          "metadata": {
            "tags": []
          }
        }
      ]
    },
    {
      "cell_type": "code",
      "metadata": {
        "id": "DtArWV2fks7O",
        "colab_type": "code",
        "colab": {
          "base_uri": "https://localhost:8080/",
          "height": 281
        },
        "outputId": "0358ba59-cdc0-4b85-f16d-331cdf1a0c42"
      },
      "source": [
        "plt.plot(history.history['loss'],label='Training Loss')\n",
        "plt.plot(history.history['val_loss'],label='Validation Loss')\n",
        "plt.legend()\n",
        "plt.title('Training and Validation Loss')\n",
        "plt.show()"
      ],
      "execution_count": 50,
      "outputs": [
        {
          "output_type": "display_data",
          "data": {
            "image/png": "[encoded data removed]",
            "text/plain": [
              "<Figure size 432x288 with 1 Axes>"
            ]
          },
          "metadata": {
            "tags": []
          }
        }
      ]
    },
    {
      "cell_type": "markdown",
      "metadata": {
        "id": "WuJW3uLpl6Kx",
        "colab_type": "text"
      },
      "source": [
        "#Fine tuning"
      ]
    },
    {
      "cell_type": "markdown",
      "metadata": {
        "id": "5vY31IdJqZZw",
        "colab_type": "text"
      },
      "source": [
        "In our feature extraction experiment, we were only training a few layers on top of an MobileNet V2 base model. The weights of the pre-trained network were not updated during training. One way to increase performance even further is to \"fine-tune\" the weights of the top layers of the pre-trained model alongside the training of the top-level classifier. The training process will force the weights to be tuned from generic features maps to features associated specifically to our dataset."
      ]
    },
    {
      "cell_type": "markdown",
      "metadata": {
        "id": "UD0JYE2Cq436",
        "colab_type": "text"
      },
      "source": [
        "#Un-freeze the top layers of the model\n",
        "All we need to do is unfreeze the base_model, and set the bottom layers be un-trainable. Then, recompile the model (necessary for these changes to take effect), and resume training."
      ]
    },
    {
      "cell_type": "code",
      "metadata": {
        "id": "PJDyffeAl7MQ",
        "colab_type": "code",
        "colab": {}
      },
      "source": [
        "base_model.trainable = True"
      ],
      "execution_count": 0,
      "outputs": []
    },
    {
      "cell_type": "code",
      "metadata": {
        "id": "iBODhgnxrec6",
        "colab_type": "code",
        "colab": {
          "base_uri": "https://localhost:8080/",
          "height": 34
        },
        "outputId": "bb5447de-7d5c-46b9-f3c4-9fcad4d3be1c"
      },
      "source": [
        "# Let's take a look to see how many layers are in the base model\n",
        "print(\"Number of layers in the base model: \", len(base_model.layers))\n",
        "\n",
        "# Fine tune from this layer onwards\n",
        "fine_tune_at = 100\n",
        "\n",
        "# Freeze all the layers before the `fine_tune_at` layer\n",
        "for layer in base_model.layers[:fine_tune_at]:\n",
        "  layer.trainable =  False"
      ],
      "execution_count": 52,
      "outputs": [
        {
          "output_type": "stream",
          "text": [
            "Number of layers in the base model:  155\n"
          ],
          "name": "stdout"
        }
      ]
    },
    {
      "cell_type": "markdown",
      "metadata": {
        "id": "LRmZbHvJrjN_",
        "colab_type": "text"
      },
      "source": [
        "#Compile the model\n",
        "\n",
        "Compile the model using a much-lower training rate.\n",
        "\n"
      ]
    },
    {
      "cell_type": "code",
      "metadata": {
        "id": "nwV5KpITrlBr",
        "colab_type": "code",
        "colab": {}
      },
      "source": [
        "model.compile(optimizer = tf.keras.optimizers.RMSprop(lr=2e-5),\n",
        "              loss='binary_crossentropy',\n",
        "              metrics=['accuracy'])"
      ],
      "execution_count": 0,
      "outputs": []
    },
    {
      "cell_type": "code",
      "metadata": {
        "id": "RxfVG1y0sMmz",
        "colab_type": "code",
        "colab": {
          "base_uri": "https://localhost:8080/",
          "height": 255
        },
        "outputId": "90af8d41-6169-4090-c4ef-73e1f40a5bfc"
      },
      "source": [
        "model.summary()"
      ],
      "execution_count": 54,
      "outputs": [
        {
          "output_type": "stream",
          "text": [
            "Model: \"sequential_2\"\n",
            "_________________________________________________________________\n",
            "Layer (type)                 Output Shape              Param #   \n",
            "=================================================================\n",
            "mobilenetv2_1.00_160 (Model) (None, 5, 5, 1280)        2257984   \n",
            "_________________________________________________________________\n",
            "global_average_pooling2d_1 ( (None, 1280)              0         \n",
            "_________________________________________________________________\n",
            "dense_2 (Dense)              (None, 1)                 1281      \n",
            "=================================================================\n",
            "Total params: 2,259,265\n",
            "Trainable params: 1,863,873\n",
            "Non-trainable params: 395,392\n",
            "_________________________________________________________________\n"
          ],
          "name": "stdout"
        }
      ]
    },
    {
      "cell_type": "markdown",
      "metadata": {
        "id": "Liry1zuhsTTF",
        "colab_type": "text"
      },
      "source": [
        "#Continue Train the model"
      ]
    },
    {
      "cell_type": "code",
      "metadata": {
        "id": "5_vPF8ROsYCF",
        "colab_type": "code",
        "colab": {
          "base_uri": "https://localhost:8080/",
          "height": 1000
        },
        "outputId": "41942262-7d5b-4d7e-8e85-1f4be5fe8ca2"
      },
      "source": [
        "history = model.fit_generator(train_generator,\n",
        "                                   steps_per_epoch = steps_per_epoch,\n",
        "                                   epochs=epochs,\n",
        "                                   workers=4,\n",
        "                                   validation_data=validation_generator,\n",
        "                                   validation_steps=validation_steps)"
      ],
      "execution_count": 56,
      "outputs": [
        {
          "output_type": "stream",
          "text": [
            "Epoch 1/50\n",
            "62/62 [==============================] - 14s 229ms/step - loss: 1.6031e-04 - acc: 1.0000 - val_loss: 0.2513 - val_acc: 0.9577\n",
            "Epoch 2/50\n",
            "62/62 [==============================] - 8s 130ms/step - loss: 0.0013 - acc: 0.9995 - val_loss: 0.3031 - val_acc: 0.9516\n",
            "Epoch 3/50\n",
            "62/62 [==============================] - 8s 127ms/step - loss: 2.8922e-04 - acc: 1.0000 - val_loss: 0.2968 - val_acc: 0.9516\n",
            "Epoch 4/50\n",
            "62/62 [==============================] - 8s 126ms/step - loss: 1.1775e-04 - acc: 1.0000 - val_loss: 0.2590 - val_acc: 0.9587\n",
            "Epoch 5/50\n",
            "62/62 [==============================] - 8s 128ms/step - loss: 1.0426e-04 - acc: 1.0000 - val_loss: 0.2304 - val_acc: 0.9617\n",
            "Epoch 6/50\n",
            "62/62 [==============================] - 8s 127ms/step - loss: 3.2467e-04 - acc: 1.0000 - val_loss: 0.2616 - val_acc: 0.9567\n",
            "Epoch 7/50\n",
            "62/62 [==============================] - 8s 129ms/step - loss: 7.2376e-05 - acc: 1.0000 - val_loss: 0.2786 - val_acc: 0.9546\n",
            "Epoch 8/50\n",
            "62/62 [==============================] - 8s 125ms/step - loss: 2.2837e-05 - acc: 1.0000 - val_loss: 0.2478 - val_acc: 0.9637\n",
            "Epoch 9/50\n",
            "62/62 [==============================] - 8s 130ms/step - loss: 5.4963e-05 - acc: 1.0000 - val_loss: 0.2036 - val_acc: 0.9698\n",
            "Epoch 10/50\n",
            "62/62 [==============================] - 8s 130ms/step - loss: 5.0963e-04 - acc: 1.0000 - val_loss: 0.2068 - val_acc: 0.9688\n",
            "Epoch 11/50\n",
            "62/62 [==============================] - 8s 130ms/step - loss: 1.4361e-04 - acc: 1.0000 - val_loss: 0.1833 - val_acc: 0.9708\n",
            "Epoch 12/50\n",
            "62/62 [==============================] - 8s 126ms/step - loss: 2.9526e-04 - acc: 1.0000 - val_loss: 0.1645 - val_acc: 0.9728\n",
            "Epoch 13/50\n",
            "62/62 [==============================] - 8s 127ms/step - loss: 6.0753e-04 - acc: 0.9995 - val_loss: 0.1483 - val_acc: 0.9738\n",
            "Epoch 14/50\n",
            "62/62 [==============================] - 8s 129ms/step - loss: 7.4685e-05 - acc: 1.0000 - val_loss: 0.1444 - val_acc: 0.9738\n",
            "Epoch 15/50\n",
            "62/62 [==============================] - 8s 125ms/step - loss: 1.7952e-04 - acc: 1.0000 - val_loss: 0.1404 - val_acc: 0.9708\n",
            "Epoch 16/50\n",
            "62/62 [==============================] - 8s 131ms/step - loss: 6.5012e-05 - acc: 1.0000 - val_loss: 0.1445 - val_acc: 0.9718\n",
            "Epoch 17/50\n",
            "62/62 [==============================] - 8s 128ms/step - loss: 8.1639e-05 - acc: 1.0000 - val_loss: 0.1436 - val_acc: 0.9738\n",
            "Epoch 18/50\n",
            "62/62 [==============================] - 8s 129ms/step - loss: 4.7941e-05 - acc: 1.0000 - val_loss: 0.1400 - val_acc: 0.9738\n",
            "Epoch 19/50\n",
            "62/62 [==============================] - 8s 131ms/step - loss: 7.4671e-06 - acc: 1.0000 - val_loss: 0.1403 - val_acc: 0.9738\n",
            "Epoch 20/50\n",
            "62/62 [==============================] - 8s 130ms/step - loss: 1.3062e-04 - acc: 1.0000 - val_loss: 0.1428 - val_acc: 0.9768\n",
            "Epoch 21/50\n",
            "62/62 [==============================] - 8s 131ms/step - loss: 1.2863e-05 - acc: 1.0000 - val_loss: 0.1471 - val_acc: 0.9758\n",
            "Epoch 22/50\n",
            "62/62 [==============================] - 8s 129ms/step - loss: 2.6400e-04 - acc: 1.0000 - val_loss: 0.1484 - val_acc: 0.9768\n",
            "Epoch 23/50\n",
            "62/62 [==============================] - 8s 126ms/step - loss: 2.8805e-05 - acc: 1.0000 - val_loss: 0.1497 - val_acc: 0.9768\n",
            "Epoch 24/50\n",
            "62/62 [==============================] - 8s 126ms/step - loss: 8.5974e-06 - acc: 1.0000 - val_loss: 0.1471 - val_acc: 0.9728\n",
            "Epoch 25/50\n",
            "62/62 [==============================] - 8s 126ms/step - loss: 1.9994e-05 - acc: 1.0000 - val_loss: 0.1610 - val_acc: 0.9748\n",
            "Epoch 26/50\n",
            "62/62 [==============================] - 8s 128ms/step - loss: 1.1554e-04 - acc: 1.0000 - val_loss: 0.1629 - val_acc: 0.9728\n",
            "Epoch 27/50\n",
            "62/62 [==============================] - 8s 127ms/step - loss: 8.5534e-05 - acc: 1.0000 - val_loss: 0.1615 - val_acc: 0.9708\n",
            "Epoch 28/50\n",
            "62/62 [==============================] - 8s 125ms/step - loss: 2.2863e-04 - acc: 1.0000 - val_loss: 0.1610 - val_acc: 0.9738\n",
            "Epoch 29/50\n",
            "62/62 [==============================] - 8s 125ms/step - loss: 4.8154e-06 - acc: 1.0000 - val_loss: 0.1619 - val_acc: 0.9748\n",
            "Epoch 30/50\n",
            "62/62 [==============================] - 8s 125ms/step - loss: 0.0047 - acc: 0.9985 - val_loss: 0.1650 - val_acc: 0.9718\n",
            "Epoch 31/50\n",
            "62/62 [==============================] - 8s 122ms/step - loss: 2.0084e-05 - acc: 1.0000 - val_loss: 0.1695 - val_acc: 0.9718\n",
            "Epoch 32/50\n",
            "62/62 [==============================] - 8s 124ms/step - loss: 1.2693e-05 - acc: 1.0000 - val_loss: 0.1612 - val_acc: 0.9708\n",
            "Epoch 33/50\n",
            "62/62 [==============================] - 8s 124ms/step - loss: 7.9730e-06 - acc: 1.0000 - val_loss: 0.1676 - val_acc: 0.9718\n",
            "Epoch 34/50\n",
            "62/62 [==============================] - 8s 123ms/step - loss: 4.8759e-06 - acc: 1.0000 - val_loss: 0.1651 - val_acc: 0.9728\n",
            "Epoch 35/50\n",
            "62/62 [==============================] - 8s 125ms/step - loss: 1.9992e-05 - acc: 1.0000 - val_loss: 0.1789 - val_acc: 0.9728\n",
            "Epoch 36/50\n",
            "62/62 [==============================] - 8s 121ms/step - loss: 1.5096e-04 - acc: 1.0000 - val_loss: 0.2093 - val_acc: 0.9718\n",
            "Epoch 37/50\n",
            "62/62 [==============================] - 8s 124ms/step - loss: 2.8529e-04 - acc: 1.0000 - val_loss: 0.1904 - val_acc: 0.9738\n",
            "Epoch 38/50\n",
            "62/62 [==============================] - 8s 126ms/step - loss: 5.9635e-05 - acc: 1.0000 - val_loss: 0.1950 - val_acc: 0.9728\n",
            "Epoch 39/50\n",
            "62/62 [==============================] - 8s 125ms/step - loss: 8.8509e-06 - acc: 1.0000 - val_loss: 0.1970 - val_acc: 0.9738\n",
            "Epoch 40/50\n",
            "62/62 [==============================] - 8s 125ms/step - loss: 1.1362e-05 - acc: 1.0000 - val_loss: 0.2187 - val_acc: 0.9728\n",
            "Epoch 41/50\n",
            "62/62 [==============================] - 8s 125ms/step - loss: 2.4217e-05 - acc: 1.0000 - val_loss: 0.2366 - val_acc: 0.9718\n",
            "Epoch 42/50\n",
            "62/62 [==============================] - 8s 124ms/step - loss: 6.5701e-06 - acc: 1.0000 - val_loss: 0.2291 - val_acc: 0.9708\n",
            "Epoch 43/50\n",
            "62/62 [==============================] - 8s 123ms/step - loss: 1.8915e-06 - acc: 1.0000 - val_loss: 0.1884 - val_acc: 0.9708\n",
            "Epoch 44/50\n",
            "62/62 [==============================] - 8s 125ms/step - loss: 1.6052e-05 - acc: 1.0000 - val_loss: 0.1810 - val_acc: 0.9748\n",
            "Epoch 45/50\n",
            "62/62 [==============================] - 8s 122ms/step - loss: 8.8569e-06 - acc: 1.0000 - val_loss: 0.2111 - val_acc: 0.9728\n",
            "Epoch 46/50\n",
            "62/62 [==============================] - 8s 125ms/step - loss: 4.8762e-06 - acc: 1.0000 - val_loss: 0.1935 - val_acc: 0.9718\n",
            "Epoch 47/50\n",
            "62/62 [==============================] - 8s 123ms/step - loss: 9.4484e-06 - acc: 1.0000 - val_loss: 0.1990 - val_acc: 0.9728\n",
            "Epoch 48/50\n",
            "62/62 [==============================] - 8s 123ms/step - loss: 1.3475e-05 - acc: 1.0000 - val_loss: 0.1751 - val_acc: 0.9748\n",
            "Epoch 49/50\n",
            "62/62 [==============================] - 8s 123ms/step - loss: 0.0145 - acc: 0.9995 - val_loss: 0.1765 - val_acc: 0.9728\n",
            "Epoch 50/50\n",
            "62/62 [==============================] - 8s 124ms/step - loss: 4.4187e-06 - acc: 1.0000 - val_loss: 0.1758 - val_acc: 0.9728\n"
          ],
          "name": "stdout"
        }
      ]
    },
    {
      "cell_type": "code",
      "metadata": {
        "id": "ZdrqzUS8AouI",
        "colab_type": "code",
        "colab": {}
      },
      "source": [
        "acc += history.history['acc']\n",
        "val_acc += history.history['val_acc']\n",
        "\n",
        "loss += history.history['loss']\n",
        "val_loss += history.history['val_loss']"
      ],
      "execution_count": 0,
      "outputs": []
    },
    {
      "cell_type": "markdown",
      "metadata": {
        "id": "3MuY9S2tuZ6t",
        "colab_type": "text"
      },
      "source": [
        "#Learning curves"
      ]
    },
    {
      "cell_type": "code",
      "metadata": {
        "id": "iE1voJtOA9_i",
        "colab_type": "code",
        "colab": {
          "base_uri": "https://localhost:8080/",
          "height": 269
        },
        "outputId": "58843659-a02c-4d0f-ab2b-4b7583386511"
      },
      "source": [
        "plt.plot(acc,label='Training Accuracy')\n",
        "plt.plot(val_acc,label='Validation Accuracy')\n",
        "plt.legend()\n",
        "plt.show()"
      ],
      "execution_count": 61,
      "outputs": [
        {
          "output_type": "display_data",
          "data": {
            "image/png": "[encoded data removed]",
            "text/plain": [
              "<Figure size 432x288 with 1 Axes>"
            ]
          },
          "metadata": {
            "tags": []
          }
        }
      ]
    },
    {
      "cell_type": "code",
      "metadata": {
        "id": "9IVekw-PCHH7",
        "colab_type": "code",
        "colab": {
          "base_uri": "https://localhost:8080/",
          "height": 269
        },
        "outputId": "ce1d7974-56d1-40d5-8697-496a223b1bd8"
      },
      "source": [
        "plt.plot(loss,label='Training  Loss')\n",
        "plt.plot(val_loss,label='Validation Loss')\n",
        "plt.legend()\n",
        "plt.show()"
      ],
      "execution_count": 62,
      "outputs": [
        {
          "output_type": "display_data",
          "data": {
            "image/png": "[encoded data removed]",
            "text/plain": [
              "<Figure size 432x288 with 1 Axes>"
            ]
          },
          "metadata": {
            "tags": []
          }
        }
      ]
    },
    {
      "cell_type": "code",
      "metadata": {
        "id": "7d_2XdaSua_j",
        "colab_type": "code",
        "colab": {
          "base_uri": "https://localhost:8080/",
          "height": 499
        },
        "outputId": "77cb1e5a-1ca0-49aa-c70c-8bb95fc574b7"
      },
      "source": [
        "plt.figure(figsize=(8, 8))\n",
        "plt.subplot(2, 1, 1)\n",
        "plt.plot(acc, label='Training Accuracy')\n",
        "plt.plot(val_acc, label='Validation Accuracy')\n",
        "plt.ylim([0.9, 1])\n",
        "plt.plot([epochs-1,epochs-1], plt.ylim(), label='Start Fine Tuning')\n",
        "plt.legend(loc='lower right')\n",
        "plt.title('Training and Validation Accuracy')\n",
        "\n",
        "plt.subplot(2, 1, 2)\n",
        "plt.plot(loss, label='Training Loss')\n",
        "plt.plot(val_loss, label='Validation Loss')\n",
        "plt.ylim([0, 0.2])\n",
        "plt.plot([epochs-1,epochs-1], plt.ylim(), label='Start Fine Tuning')\n",
        "plt.legend(loc='upper right')\n",
        "plt.title('Training and Validation Loss')\n",
        "plt.show()"
      ],
      "execution_count": 59,
      "outputs": [
        {
          "output_type": "display_data",
          "data": {
            "image/png": "[encoded data removed]",
            "text/plain": [
              "<Figure size 576x576 with 2 Axes>"
            ]
          },
          "metadata": {
            "tags": []
          }
        }
      ]
    },
    {
      "cell_type": "markdown",
      "metadata": {
        "id": "5R6keCcJDLWa",
        "colab_type": "text"
      },
      "source": [
        "# Key Takeaways \n",
        "\n",
        "* Using a pre-trained model for feature extraction - when working with a small dataset, it is common to leverage the features learned by a model trained on a larger dataset in the same domain. This is done by instantiating the pre-trained model and adding a fully connected classifier on top. The pre-trained model is \"frozen\" and only the weights of the classifier are updated during training. In this case, the convolutional base extracts all the features associated with each image and we train a classifier that determines, given these set of features to which class it belongs. \n",
        "\n",
        "* Fine-tuning a pre-trained model - to further improve performance, one might want to repurpose the top-level layers of the pre-trained models to the new dataset via fine-tuning. In this case, we tune our weights such that we learn highly specified and high level features specific to our dataset. This only make sense when the training dataset is large and very similar to the original dataset that the pre-trained model was trained on."
      ]
    },
    {
      "cell_type": "markdown",
      "metadata": {
        "id": "KG_u675wPN9C",
        "colab_type": "text"
      },
      "source": [
        "## Adding Dropout Layer"
      ]
    },
    {
      "cell_type": "code",
      "metadata": {
        "id": "fOIZfFueP1hi",
        "colab_type": "code",
        "colab": {}
      },
      "source": [
        "model = tf.keras.Sequential([\n",
        "  base_model,\n",
        "  keras.layers.GlobalAveragePooling2D(),\n",
        "  keras.layers.Dropout(0.2),  \n",
        "  keras.layers.Dense(1, activation='sigmoid')\n",
        "])"
      ],
      "execution_count": 0,
      "outputs": []
    },
    {
      "cell_type": "code",
      "metadata": {
        "id": "Sjt51W_KQZ2X",
        "colab_type": "code",
        "colab": {}
      },
      "source": [
        "model.compile(optimizer = tf.keras.optimizers.RMSprop(lr=2e-5),\n",
        "              loss='binary_crossentropy',\n",
        "              metrics=['accuracy'])"
      ],
      "execution_count": 0,
      "outputs": []
    },
    {
      "cell_type": "code",
      "metadata": {
        "id": "O3j10NjCQtqv",
        "colab_type": "code",
        "colab": {
          "base_uri": "https://localhost:8080/",
          "height": 1000
        },
        "outputId": "de6ae282-d939-4290-cb1e-8bada448aad7"
      },
      "source": [
        "history = model.fit_generator(train_generator,\n",
        "                                   steps_per_epoch = steps_per_epoch,\n",
        "                                   epochs=epochs,\n",
        "                                   workers=4,\n",
        "                                   validation_data=validation_generator,\n",
        "                                   validation_steps=validation_steps)"
      ],
      "execution_count": 65,
      "outputs": [
        {
          "output_type": "stream",
          "text": [
            "Epoch 1/50\n",
            "62/62 [==============================] - 14s 233ms/step - loss: 0.3037 - acc: 0.8709 - val_loss: 0.1198 - val_acc: 0.9617\n",
            "Epoch 2/50\n",
            "62/62 [==============================] - 8s 126ms/step - loss: 0.0391 - acc: 0.9990 - val_loss: 0.0859 - val_acc: 0.9698\n",
            "Epoch 3/50\n",
            "62/62 [==============================] - 8s 127ms/step - loss: 0.0108 - acc: 1.0000 - val_loss: 0.0820 - val_acc: 0.9728\n",
            "Epoch 4/50\n",
            "62/62 [==============================] - 8s 127ms/step - loss: 0.0034 - acc: 1.0000 - val_loss: 0.0810 - val_acc: 0.9748\n",
            "Epoch 5/50\n",
            "62/62 [==============================] - 8s 132ms/step - loss: 0.0019 - acc: 1.0000 - val_loss: 0.0917 - val_acc: 0.9748\n",
            "Epoch 6/50\n",
            "62/62 [==============================] - 8s 134ms/step - loss: 0.0012 - acc: 1.0000 - val_loss: 0.0930 - val_acc: 0.9748\n",
            "Epoch 7/50\n",
            "62/62 [==============================] - 8s 134ms/step - loss: 5.5602e-04 - acc: 1.0000 - val_loss: 0.0996 - val_acc: 0.9768\n",
            "Epoch 8/50\n",
            "62/62 [==============================] - 8s 135ms/step - loss: 4.4539e-04 - acc: 1.0000 - val_loss: 0.1060 - val_acc: 0.9778\n",
            "Epoch 9/50\n",
            "62/62 [==============================] - 8s 136ms/step - loss: 0.0012 - acc: 0.9995 - val_loss: 0.1088 - val_acc: 0.9758\n",
            "Epoch 10/50\n",
            "62/62 [==============================] - 9s 138ms/step - loss: 1.4525e-04 - acc: 1.0000 - val_loss: 0.1105 - val_acc: 0.9768\n",
            "Epoch 11/50\n",
            "62/62 [==============================] - 9s 139ms/step - loss: 1.9626e-04 - acc: 1.0000 - val_loss: 0.1132 - val_acc: 0.9788\n",
            "Epoch 12/50\n",
            "62/62 [==============================] - 9s 138ms/step - loss: 1.2630e-04 - acc: 1.0000 - val_loss: 0.1124 - val_acc: 0.9788\n",
            "Epoch 13/50\n",
            "62/62 [==============================] - 8s 137ms/step - loss: 1.0284e-04 - acc: 1.0000 - val_loss: 0.1269 - val_acc: 0.9768\n",
            "Epoch 14/50\n",
            "62/62 [==============================] - 8s 136ms/step - loss: 6.8164e-05 - acc: 1.0000 - val_loss: 0.1284 - val_acc: 0.9778\n",
            "Epoch 15/50\n",
            "62/62 [==============================] - 8s 136ms/step - loss: 7.0634e-04 - acc: 0.9995 - val_loss: 0.1362 - val_acc: 0.9748\n",
            "Epoch 16/50\n",
            "62/62 [==============================] - 8s 136ms/step - loss: 1.1303e-04 - acc: 1.0000 - val_loss: 0.1355 - val_acc: 0.9768\n",
            "Epoch 17/50\n",
            "62/62 [==============================] - 8s 136ms/step - loss: 1.1709e-04 - acc: 1.0000 - val_loss: 0.1336 - val_acc: 0.9778\n",
            "Epoch 18/50\n",
            "62/62 [==============================] - 8s 136ms/step - loss: 1.8814e-05 - acc: 1.0000 - val_loss: 0.1407 - val_acc: 0.9758\n",
            "Epoch 19/50\n",
            "62/62 [==============================] - 8s 135ms/step - loss: 1.7236e-05 - acc: 1.0000 - val_loss: 0.1379 - val_acc: 0.9768\n",
            "Epoch 20/50\n",
            "62/62 [==============================] - 9s 137ms/step - loss: 1.1329e-05 - acc: 1.0000 - val_loss: 0.1465 - val_acc: 0.9738\n",
            "Epoch 21/50\n",
            "62/62 [==============================] - 8s 137ms/step - loss: 3.6555e-05 - acc: 1.0000 - val_loss: 0.1494 - val_acc: 0.9788\n",
            "Epoch 22/50\n",
            "62/62 [==============================] - 8s 134ms/step - loss: 3.4903e-05 - acc: 1.0000 - val_loss: 0.1540 - val_acc: 0.9758\n",
            "Epoch 23/50\n",
            "62/62 [==============================] - 8s 131ms/step - loss: 4.2312e-05 - acc: 1.0000 - val_loss: 0.1495 - val_acc: 0.9748\n",
            "Epoch 24/50\n",
            "62/62 [==============================] - 8s 132ms/step - loss: 2.4408e-04 - acc: 1.0000 - val_loss: 0.1503 - val_acc: 0.9778\n",
            "Epoch 25/50\n",
            "62/62 [==============================] - 8s 133ms/step - loss: 2.3705e-05 - acc: 1.0000 - val_loss: 0.1518 - val_acc: 0.9748\n",
            "Epoch 26/50\n",
            "62/62 [==============================] - 8s 132ms/step - loss: 1.3997e-05 - acc: 1.0000 - val_loss: 0.1536 - val_acc: 0.9758\n",
            "Epoch 27/50\n",
            "62/62 [==============================] - 8s 128ms/step - loss: 3.5458e-06 - acc: 1.0000 - val_loss: 0.1561 - val_acc: 0.9778\n",
            "Epoch 28/50\n",
            "62/62 [==============================] - 8s 131ms/step - loss: 1.0173e-05 - acc: 1.0000 - val_loss: 0.1633 - val_acc: 0.9728\n",
            "Epoch 29/50\n",
            "62/62 [==============================] - 8s 132ms/step - loss: 1.2223e-05 - acc: 1.0000 - val_loss: 0.1519 - val_acc: 0.9758\n",
            "Epoch 30/50\n",
            "62/62 [==============================] - 8s 134ms/step - loss: 1.2739e-05 - acc: 1.0000 - val_loss: 0.1523 - val_acc: 0.9738\n",
            "Epoch 31/50\n",
            "62/62 [==============================] - 8s 132ms/step - loss: 1.1833e-06 - acc: 1.0000 - val_loss: 0.1567 - val_acc: 0.9748\n",
            "Epoch 32/50\n",
            "62/62 [==============================] - 8s 132ms/step - loss: 1.4472e-05 - acc: 1.0000 - val_loss: 0.1724 - val_acc: 0.9728\n",
            "Epoch 33/50\n",
            "62/62 [==============================] - 8s 131ms/step - loss: 1.9383e-05 - acc: 1.0000 - val_loss: 0.1738 - val_acc: 0.9738\n",
            "Epoch 34/50\n",
            "62/62 [==============================] - 8s 130ms/step - loss: 1.2366e-04 - acc: 1.0000 - val_loss: 0.1740 - val_acc: 0.9738\n",
            "Epoch 35/50\n",
            "62/62 [==============================] - 8s 127ms/step - loss: 4.4767e-06 - acc: 1.0000 - val_loss: 0.1683 - val_acc: 0.9748\n",
            "Epoch 36/50\n",
            "62/62 [==============================] - 8s 129ms/step - loss: 7.5123e-06 - acc: 1.0000 - val_loss: 0.1632 - val_acc: 0.9768\n",
            "Epoch 37/50\n",
            "62/62 [==============================] - 8s 127ms/step - loss: 4.6748e-06 - acc: 1.0000 - val_loss: 0.1711 - val_acc: 0.9728\n",
            "Epoch 38/50\n",
            "62/62 [==============================] - 8s 128ms/step - loss: 2.4679e-05 - acc: 1.0000 - val_loss: 0.1616 - val_acc: 0.9748\n",
            "Epoch 39/50\n",
            "62/62 [==============================] - 8s 129ms/step - loss: 1.9949e-06 - acc: 1.0000 - val_loss: 0.1639 - val_acc: 0.9748\n",
            "Epoch 40/50\n",
            "62/62 [==============================] - 8s 126ms/step - loss: 8.4788e-07 - acc: 1.0000 - val_loss: 0.1626 - val_acc: 0.9758\n",
            "Epoch 41/50\n",
            "62/62 [==============================] - 8s 129ms/step - loss: 9.2111e-06 - acc: 1.0000 - val_loss: 0.1614 - val_acc: 0.9748\n",
            "Epoch 42/50\n",
            "62/62 [==============================] - 8s 126ms/step - loss: 4.1750e-06 - acc: 1.0000 - val_loss: 0.1718 - val_acc: 0.9758\n",
            "Epoch 43/50\n",
            "62/62 [==============================] - 8s 126ms/step - loss: 1.6053e-04 - acc: 1.0000 - val_loss: 0.1661 - val_acc: 0.9748\n",
            "Epoch 44/50\n",
            "62/62 [==============================] - 8s 127ms/step - loss: 1.0892e-04 - acc: 1.0000 - val_loss: 0.1681 - val_acc: 0.9738\n",
            "Epoch 45/50\n",
            "62/62 [==============================] - 8s 126ms/step - loss: 1.5812e-06 - acc: 1.0000 - val_loss: 0.1680 - val_acc: 0.9738\n",
            "Epoch 46/50\n",
            "62/62 [==============================] - 8s 131ms/step - loss: 1.0048e-04 - acc: 1.0000 - val_loss: 0.1667 - val_acc: 0.9758\n",
            "Epoch 47/50\n",
            "62/62 [==============================] - 8s 128ms/step - loss: 5.9917e-05 - acc: 1.0000 - val_loss: 0.1727 - val_acc: 0.9758\n",
            "Epoch 48/50\n",
            "62/62 [==============================] - 8s 132ms/step - loss: 7.4428e-07 - acc: 1.0000 - val_loss: 0.1757 - val_acc: 0.9748\n",
            "Epoch 49/50\n",
            "62/62 [==============================] - 8s 128ms/step - loss: 4.8129e-04 - acc: 0.9995 - val_loss: 0.1770 - val_acc: 0.9758\n",
            "Epoch 50/50\n",
            "62/62 [==============================] - 8s 127ms/step - loss: 2.3491e-06 - acc: 1.0000 - val_loss: 0.1777 - val_acc: 0.9768\n"
          ],
          "name": "stdout"
        }
      ]
    },
    {
      "cell_type": "code",
      "metadata": {
        "id": "yed9c5cpT1WG",
        "colab_type": "code",
        "colab": {
          "base_uri": "https://localhost:8080/",
          "height": 298
        },
        "outputId": "3b02b753-c644-45ad-f92a-4ed4d5651aff"
      },
      "source": [
        "acc = history.history['acc']\n",
        "val_acc = history.history['val_acc']\n",
        "loss = history.history['loss']\n",
        "val_loss = history.history['val_loss']\n",
        "\n",
        "epochs = range(len(acc))\n",
        "\n",
        "plt.plot(epochs, acc, 'r', label='Training accuracy')\n",
        "plt.plot(epochs, val_acc, 'b', label='Validation accuracy')\n",
        "plt.title('Training and validation accuracy')\n",
        "plt.legend(loc=0)\n",
        "plt.figure()\n",
        "\n",
        "\n",
        "plt.show()"
      ],
      "execution_count": 66,
      "outputs": [
        {
          "output_type": "display_data",
          "data": {
            "image/png": "[encoded data removed]",
            "text/plain": [
              "<Figure size 432x288 with 1 Axes>"
            ]
          },
          "metadata": {
            "tags": []
          }
        },
        {
          "output_type": "display_data",
          "data": {
            "text/plain": [
              "<Figure size 432x288 with 0 Axes>"
            ]
          },
          "metadata": {
            "tags": []
          }
        }
      ]
    },
    {
      "cell_type": "code",
      "metadata": {
        "id": "WffiFOGoZiu_",
        "colab_type": "code",
        "colab": {
          "base_uri": "https://localhost:8080/",
          "height": 298
        },
        "outputId": "42dce007-9b54-435a-d7ac-d96e5bbccd2a"
      },
      "source": [
        "plt.plot(epochs, loss, 'r', label='Training Loss')\n",
        "plt.plot(epochs, val_loss, 'b', label='Validation Loss')\n",
        "plt.title('Training and validation Loss')\n",
        "plt.legend(loc=0)\n",
        "plt.figure()\n",
        "\n",
        "\n",
        "plt.show()"
      ],
      "execution_count": 67,
      "outputs": [
        {
          "output_type": "display_data",
          "data": {
            "image/png": "[encoded data removed]",
            "text/plain": [
              "<Figure size 432x288 with 1 Axes>"
            ]
          },
          "metadata": {
            "tags": []
          }
        },
        {
          "output_type": "display_data",
          "data": {
            "text/plain": [
              "<Figure size 432x288 with 0 Axes>"
            ]
          },
          "metadata": {
            "tags": []
          }
        }
      ]
    }
  ]
}