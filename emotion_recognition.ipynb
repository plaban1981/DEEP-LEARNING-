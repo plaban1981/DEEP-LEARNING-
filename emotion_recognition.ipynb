{
  "nbformat": 4,
  "nbformat_minor": 0,
  "metadata": {
    "colab": {
      "name": "emotion_recognition.ipynb",
      "version": "0.3.2",
      "provenance": [],
      "collapsed_sections": [],
      "include_colab_link": true
    },
    "kernelspec": {
      "name": "python3",
      "display_name": "Python 3"
    },
    "accelerator": "GPU"
  },
  "cells": [
    {
      "cell_type": "markdown",
      "metadata": {
        "id": "view-in-github",
        "colab_type": "text"
      },
      "source": [
        "<a href=\"https://colab.research.google.com/github/plaban1981/DEEP-LEARNING-/blob/master/emotion_recognition.ipynb\" target=\"_parent\"><img src=\"https://colab.research.google.com/assets/colab-badge.svg\" alt=\"Open In Colab\"/></a>"
      ]
    },
    {
      "metadata": {
        "id": "iGqsExz4OtpK",
        "colab_type": "code",
        "colab": {}
      },
      "cell_type": "code",
      "source": [
        "# Load the Drive helper and mount\n",
        "from google.colab import drive\n",
        "drive.mount('/content/drive')"
      ],
      "execution_count": 0,
      "outputs": []
    },
    {
      "metadata": {
        "id": "mdoyI4zrPD_w",
        "colab_type": "code",
        "colab": {}
      },
      "cell_type": "code",
      "source": [
        "import numpy as np\n",
        "np.random.seed(1000)\n",
        "import pandas as pd\n",
        "import matplotlib.pyplot as plt\n",
        "\n",
        "import os\n",
        "import cv2\n",
        "from PIL import Image\n",
        "\n",
        "%matplotlib inline"
      ],
      "execution_count": 0,
      "outputs": []
    },
    {
      "metadata": {
        "id": "3hGI6pyxPIdR",
        "colab_type": "code",
        "colab": {}
      },
      "cell_type": "code",
      "source": [
        "import os\n",
        "# Directory with our angry pictures\n",
        "angry_dir = os.path.join('drive/My Drive/Emotion Regognition/Angry')\n",
        "\n",
        "# Directory with our happy pictures\n",
        "happy_dir = os.path.join('drive/My Drive/Emotion Regognition/Happy')\n",
        "\n",
        "# Directory with our sad pictures\n",
        "sad_dir = os.path.join('drive/My Drive/Emotion Regognition/Sad')"
      ],
      "execution_count": 0,
      "outputs": []
    },
    {
      "metadata": {
        "id": "bE6PYEwcP2gq",
        "colab_type": "code",
        "colab": {}
      },
      "cell_type": "code",
      "source": [
        "dataset = []\n",
        "label = []"
      ],
      "execution_count": 0,
      "outputs": []
    },
    {
      "metadata": {
        "id": "dk3DZk_aPiDz",
        "colab_type": "text"
      },
      "cell_type": "markdown",
      "source": [
        "Converting angry images into an array of shape(64,64) with 3 channels and generate labels for each corresponding image as 0 - for angry images"
      ]
    },
    {
      "metadata": {
        "id": "ddf2PKk-QBrq",
        "colab_type": "code",
        "colab": {
          "base_uri": "https://localhost:8080/",
          "height": 372
        },
        "outputId": "6767bffe-2dc8-43cf-cd08-617c7f87fbd3"
      },
      "cell_type": "code",
      "source": [
        "os.listdir(angry_dir)"
      ],
      "execution_count": 8,
      "outputs": [
        {
          "output_type": "execute_result",
          "data": {
            "text/plain": [
              "['warning-2284170__340.jpg',\n",
              " 'young-3061646__340.jpg',\n",
              " 'portrait-2006207__340.jpg',\n",
              " 'man-921004__340.jpg',\n",
              " 'oliver-kahn-406393__340.jpg',\n",
              " 'furious-2514031__340.jpg',\n",
              " 'burmeseboy-2312416__340.jpg',\n",
              " 'crazy-3126441__340.jpg',\n",
              " 'boy-509488__340.jpg',\n",
              " 'black-3527812__340.jpg',\n",
              " 'angry-man-274175__340.jpg',\n",
              " 'angry-3126438__340.jpg',\n",
              " 'angry-3126437__340.jpg',\n",
              " 'annoyed-3126442__340.jpg',\n",
              " 'basketball-630515__340.jpg',\n",
              " 'angry-1256467__340.jpg',\n",
              " 'anger-18615__340.jpg',\n",
              " 'anger-1221910__340.jpg',\n",
              " 'anger-19063__340.jpg',\n",
              " '240_F_74212224_x2l9oGLKfTOiWzfeWQ8TTh8VE6fTiN8V.jpg']"
            ]
          },
          "metadata": {
            "tags": []
          },
          "execution_count": 8
        }
      ]
    },
    {
      "metadata": {
        "id": "cm_l40P0PnT6",
        "colab_type": "code",
        "colab": {}
      },
      "cell_type": "code",
      "source": [
        "angry_images = os.listdir(angry_dir)\n",
        "for i, image_name in enumerate(angry_images):\n",
        "    try:\n",
        "        if (image_name.split('.')[1] == 'jpg'):\n",
        "            image = cv2.imread(angry_dir+\"/\"+image_name)\n",
        "            image = cv2.cvtColor(image,cv2.COLOR_BGR2RGB)\n",
        "            image = Image.fromarray(image)\n",
        "            image = image.resize((64, 64))\n",
        "            dataset.append(np.array(image))\n",
        "            label.append(0)\n",
        "    except Exception:\n",
        "        print(\"Could not read image {} with name {}\".format(i, image_name))"
      ],
      "execution_count": 0,
      "outputs": []
    },
    {
      "metadata": {
        "id": "M-4InLuzP4lE",
        "colab_type": "code",
        "colab": {
          "base_uri": "https://localhost:8080/",
          "height": 286
        },
        "outputId": "15b0fef8-e272-4145-9c25-09c65dd72d90"
      },
      "cell_type": "code",
      "source": [
        "plt.imshow(dataset[0])"
      ],
      "execution_count": 21,
      "outputs": [
        {
          "output_type": "execute_result",
          "data": {
            "text/plain": [
              "<matplotlib.image.AxesImage at 0x7f0d3b927d68>"
            ]
          },
          "metadata": {
            "tags": []
          },
          "execution_count": 21
        },
        {
          "output_type": "display_data",
          "data": {
            "image/png": "[encoded data removed]",
            "text/plain": [
              "<Figure size 432x288 with 1 Axes>"
            ]
          },
          "metadata": {
            "tags": []
          }
        }
      ]
    },
    {
      "metadata": {
        "id": "wPkwkIP6QiaZ",
        "colab_type": "text"
      },
      "cell_type": "markdown",
      "source": [
        "Converting happy images into an array of shape(64,64) with 3 channels and generate labels for each corresponding image as 1 - for angry images"
      ]
    },
    {
      "metadata": {
        "id": "845cTYhRQkNK",
        "colab_type": "code",
        "colab": {
          "base_uri": "https://localhost:8080/",
          "height": 372
        },
        "outputId": "392a4b67-64f6-4ec8-84a2-203b8d2db3c4"
      },
      "cell_type": "code",
      "source": [
        "os.listdir(happy_dir)"
      ],
      "execution_count": 17,
      "outputs": [
        {
          "output_type": "execute_result",
          "data": {
            "text/plain": [
              "['young-1822656__340.jpg',\n",
              " 'woman-1031000__340.jpg',\n",
              " 'smile-2072907__340.jpg',\n",
              " 'girl-657753__340.jpg',\n",
              " 'girl-872149__340.jpg',\n",
              " 'happy-1836445__340.jpg',\n",
              " 'girl-204327__340.jpg',\n",
              " 'girl-1403458__340.jpg',\n",
              " 'girl-1039532__340.jpg',\n",
              " 'couple-1838940__340.jpg',\n",
              " 'beauty-1721069__340.jpg',\n",
              " 'beauty-354565__340.jpg',\n",
              " 'child-476506__340.jpg',\n",
              " 'child-476507__340.jpg',\n",
              " 'business-woman-2697954__340.jpg',\n",
              " 'baby-390555__340.jpg',\n",
              " 'beautiful-1274361__340.jpg',\n",
              " 'beautiful-1867431__340.jpg',\n",
              " 'africa-1854308__340.jpg',\n",
              " 'actress-2868705__340.jpg']"
            ]
          },
          "metadata": {
            "tags": []
          },
          "execution_count": 17
        }
      ]
    },
    {
      "metadata": {
        "id": "Kb6b1bReQrVE",
        "colab_type": "code",
        "colab": {}
      },
      "cell_type": "code",
      "source": [
        "happy_images = os.listdir(happy_dir)\n",
        "for i, image_name in enumerate(happy_images):\n",
        "    try:\n",
        "        if (image_name.split('.')[1] == 'jpg'):\n",
        "            image = cv2.imread(happy_dir+\"/\"+image_name)\n",
        "            image = cv2.cvtColor(image,cv2.COLOR_BGR2RGB)\n",
        "            image = Image.fromarray(image)\n",
        "            image = image.resize((64, 64))\n",
        "            dataset.append(np.array(image))\n",
        "            label.append(1)\n",
        "    except Exception:\n",
        "        print(\"Could not read image {} with name {}\".format(i, image_name))"
      ],
      "execution_count": 0,
      "outputs": []
    },
    {
      "metadata": {
        "id": "PdUvZF7XRBt5",
        "colab_type": "code",
        "colab": {
          "base_uri": "https://localhost:8080/",
          "height": 286
        },
        "outputId": "6f045088-146d-4ef5-81b1-53fe5c1ce427"
      },
      "cell_type": "code",
      "source": [
        "plt.imshow(dataset[22])"
      ],
      "execution_count": 23,
      "outputs": [
        {
          "output_type": "execute_result",
          "data": {
            "text/plain": [
              "<matplotlib.image.AxesImage at 0x7f0d3b888208>"
            ]
          },
          "metadata": {
            "tags": []
          },
          "execution_count": 23
        },
        {
          "output_type": "display_data",
          "data": {
            "image/png": "[encoded data removed]",
            "text/plain": [
              "<Figure size 432x288 with 1 Axes>"
            ]
          },
          "metadata": {
            "tags": []
          }
        }
      ]
    },
    {
      "metadata": {
        "id": "aCfCRoVxRLN0",
        "colab_type": "text"
      },
      "cell_type": "markdown",
      "source": [
        "Converting sad images into an array of shape(64,64) with 3 channels and generate labels for each corresponding image as 2 - for angry images"
      ]
    },
    {
      "metadata": {
        "id": "PF0919YHRO2j",
        "colab_type": "code",
        "colab": {
          "base_uri": "https://localhost:8080/",
          "height": 372
        },
        "outputId": "6476bccf-83cc-41c5-f0c5-44004d2ed8ad"
      },
      "cell_type": "code",
      "source": [
        "os.listdir(sad_dir)"
      ],
      "execution_count": 24,
      "outputs": [
        {
          "output_type": "execute_result",
          "data": {
            "text/plain": [
              "['robot-3010309__340.jpg',\n",
              " 'retouching-2572963__340.jpg',\n",
              " 'people-2566201__340.jpg',\n",
              " '240_F_129336049_uuvnEwSPDm5Fk0Vw7J0noKPOyHuQ1VTm.jpg',\n",
              " '240_F_17281255_1iTNXhiJGg2wSmG2A446WMyip0uoZXYR.jpg',\n",
              " '240_F_139321974_RpU5S3tDoVIDlOjUQuth8xjVEiBRVkJm.jpg',\n",
              " 'attractive-1867127__340.jpg',\n",
              " 'mary-pickford-1963155__340.jpg',\n",
              " 'man-1465525__340.jpg',\n",
              " '240_F_167693320_fMID820wy2RaOtysponbKEL9cMFpotqJ.jpg',\n",
              " '240_F_11185020_7zl5kfMfr0OOMduPEs3JOmPtB31jbxnZ.jpg',\n",
              " 'woman-71735__340.jpg',\n",
              " 'young-people-412041__340.jpg',\n",
              " 'woman-2345037__340.jpg',\n",
              " 'sad-219722__340.jpg',\n",
              " 'sadness-1325507__340.jpg',\n",
              " 'sad-girl-1382940__340.jpg',\n",
              " 'war-2545307__340.jpg',\n",
              " 'upset-3061663__340.jpg',\n",
              " 'sad-217252__340.jpg']"
            ]
          },
          "metadata": {
            "tags": []
          },
          "execution_count": 24
        }
      ]
    },
    {
      "metadata": {
        "id": "0Xyx5cfsRYfN",
        "colab_type": "code",
        "colab": {}
      },
      "cell_type": "code",
      "source": [
        "sad_images = os.listdir(sad_dir)\n",
        "for i, image_name in enumerate(sad_images):\n",
        "    try:\n",
        "        if (image_name.split('.')[1] == 'jpg'):\n",
        "            image = cv2.imread(sad_dir+\"/\"+image_name)\n",
        "            image = cv2.cvtColor(image,cv2.COLOR_BGR2RGB)\n",
        "            image = Image.fromarray(image)\n",
        "            image = image.resize((64, 64))\n",
        "            dataset.append(np.array(image))\n",
        "            label.append(2)\n",
        "    except Exception:\n",
        "        print(\"Could not read image {} with name {}\".format(i, image_name))"
      ],
      "execution_count": 0,
      "outputs": []
    },
    {
      "metadata": {
        "id": "eU6zbtMmRj0T",
        "colab_type": "code",
        "colab": {
          "base_uri": "https://localhost:8080/",
          "height": 286
        },
        "outputId": "d4c91b85-5f8d-48bd-d37e-826081695b61"
      },
      "cell_type": "code",
      "source": [
        "plt.imshow(dataset[44])"
      ],
      "execution_count": 27,
      "outputs": [
        {
          "output_type": "execute_result",
          "data": {
            "text/plain": [
              "<matplotlib.image.AxesImage at 0x7f0d3b863be0>"
            ]
          },
          "metadata": {
            "tags": []
          },
          "execution_count": 27
        },
        {
          "output_type": "display_data",
          "data": {
            "image/png": "[encoded data removed]",
            "text/plain": [
              "<Figure size 432x288 with 1 Axes>"
            ]
          },
          "metadata": {
            "tags": []
          }
        }
      ]
    },
    {
      "metadata": {
        "id": "mEQ8IPMXRvGf",
        "colab_type": "code",
        "colab": {}
      },
      "cell_type": "code",
      "source": [
        "dataset[0].shape"
      ],
      "execution_count": 0,
      "outputs": []
    },
    {
      "metadata": {
        "id": "JUGMUOS3Rvyy",
        "colab_type": "code",
        "colab": {
          "base_uri": "https://localhost:8080/",
          "height": 34
        },
        "outputId": "219cf43d-afdd-4591-9a92-d9789625fc7c"
      },
      "cell_type": "code",
      "source": [
        "X = np.array(dataset)\n",
        "print(X.shape)"
      ],
      "execution_count": 28,
      "outputs": [
        {
          "output_type": "stream",
          "text": [
            "(60, 64, 64, 3)\n"
          ],
          "name": "stdout"
        }
      ]
    },
    {
      "metadata": {
        "id": "bMB42KL5R4oE",
        "colab_type": "code",
        "colab": {
          "base_uri": "https://localhost:8080/",
          "height": 34
        },
        "outputId": "987d3445-ed34-4bc8-afd0-abe4ba8a0f8c"
      },
      "cell_type": "code",
      "source": [
        "Y= np.array(label)\n",
        "Y.shape"
      ],
      "execution_count": 29,
      "outputs": [
        {
          "output_type": "execute_result",
          "data": {
            "text/plain": [
              "(60,)"
            ]
          },
          "metadata": {
            "tags": []
          },
          "execution_count": 29
        }
      ]
    },
    {
      "metadata": {
        "id": "IWyFRDKtR9Fv",
        "colab_type": "text"
      },
      "cell_type": "markdown",
      "source": [
        "Train Test Split"
      ]
    },
    {
      "metadata": {
        "id": "l7BBoyifR-3B",
        "colab_type": "code",
        "colab": {}
      },
      "cell_type": "code",
      "source": [
        "from sklearn.model_selection import train_test_split\n",
        "# Split data into train/test = 80%/20%\n",
        "X_train,X_test,y_train,y_test = train_test_split(X,Y,test_size=0.2,random_state=1)"
      ],
      "execution_count": 0,
      "outputs": []
    },
    {
      "metadata": {
        "id": "j5oS9vwQSBzd",
        "colab_type": "code",
        "colab": {
          "base_uri": "https://localhost:8080/",
          "height": 52
        },
        "outputId": "2360ccc7-c58e-4a39-f238-e71772b22201"
      },
      "cell_type": "code",
      "source": [
        "print(X_train.shape)\n",
        "print(X_test.shape)"
      ],
      "execution_count": 31,
      "outputs": [
        {
          "output_type": "stream",
          "text": [
            "(48, 64, 64, 3)\n",
            "(12, 64, 64, 3)\n"
          ],
          "name": "stdout"
        }
      ]
    },
    {
      "metadata": {
        "id": "8SYI4sWrSS5k",
        "colab_type": "code",
        "colab": {}
      },
      "cell_type": "code",
      "source": [
        "import tensorflow as tf\n",
        "from tensorflow.contrib.learn.python.learn.daYtasets.mnist import read_data_sets\n",
        "from tensorflow.python.framework import ops\n",
        "ops.reset_default_graph()"
      ],
      "execution_count": 0,
      "outputs": []
    },
    {
      "metadata": {
        "id": "5aQVoOmHSYbv",
        "colab_type": "code",
        "colab": {
          "base_uri": "https://localhost:8080/",
          "height": 34
        },
        "outputId": "b871121a-da81-4363-da31-6625565331ca"
      },
      "cell_type": "code",
      "source": [
        "batch_size = 100\n",
        "learning_rate = 0.005\n",
        "evaluation_size = 500\n",
        "image_width = X_train[0].shape[0]\n",
        "image_height = X_train[0].shape[1]\n",
        "target_size = max(Y) + 1\n",
        "num_channels = 3 # COLOURED IMAGES\n",
        "print(image_width,image_height,target_size)\n",
        "num_channels = 3 # COLOURED IMAGES\n",
        "generations = 500\n",
        "eval_every = 5\n",
        "#\n",
        "conv1_features = 64 #number of neurons in conv layer 1\n",
        "conv2_features = 128  #number of neurons in conv layer 2\n",
        "conv3_features = 256  #number of neurons in conv layer 3\n",
        "conv4_features = 512  #number of neurons in conv layer 4\n",
        "conv5_features = 1024  #number of neurons in conv layer 5\n",
        "#\n",
        "max_pool_size1 = 2 # NxN window for 1st max pool layer\n",
        "max_pool_size2 = 2 # NxN window for 2nd max pool layer\n",
        "max_pool_size3 = 2 # NxN window for 3rd max pool layer\n",
        "max_pool_size4 = 2 # NxN window for 4th max pool layer\n",
        "max_pool_size5 = 2 # NxN window for 5th max pool layer\n",
        "#\n",
        "fully_connected_size1 = 100"
      ],
      "execution_count": 223,
      "outputs": [
        {
          "output_type": "stream",
          "text": [
            "64 64 3\n"
          ],
          "name": "stdout"
        }
      ]
    },
    {
      "metadata": {
        "id": "HBgfV7-Tj1NA",
        "colab_type": "code",
        "colab": {
          "base_uri": "https://localhost:8080/",
          "height": 34
        },
        "outputId": "b547eb98-7a30-4a48-b051-4878c70c8b4d"
      },
      "cell_type": "code",
      "source": [
        "target_size"
      ],
      "execution_count": 209,
      "outputs": [
        {
          "output_type": "execute_result",
          "data": {
            "text/plain": [
              "3"
            ]
          },
          "metadata": {
            "tags": []
          },
          "execution_count": 209
        }
      ]
    },
    {
      "metadata": {
        "id": "lUGRPSqwSxlc",
        "colab_type": "code",
        "colab": {}
      },
      "cell_type": "code",
      "source": [
        "x_input_shape = (batch_size, image_width, image_height, num_channels)\n",
        "x_input = tf.placeholder(tf.float32, shape=x_input_shape)\n",
        "\n",
        "y_target = tf.placeholder(tf.int32, shape=(batch_size))\n",
        "\n",
        "eval_input_shape = (evaluation_size, image_width, image_height, num_channels)\n",
        "\n",
        "eval_input = tf.placeholder(tf.float32, shape=eval_input_shape)\n",
        "\n",
        "eval_target = tf.placeholder(tf.int32, shape=(evaluation_size))"
      ],
      "execution_count": 0,
      "outputs": []
    },
    {
      "metadata": {
        "id": "hd9yMkSCS0jl",
        "colab_type": "code",
        "colab": {}
      },
      "cell_type": "code",
      "source": [
        "conv1_weight = tf.Variable(tf.truncated_normal([4, 4, num_channels, conv1_features],\n",
        "                                               stddev=0.1, dtype=tf.float32))\n",
        "conv1_bias = tf.Variable(tf.zeros([conv1_features], dtype=tf.float32))\n",
        "\n",
        "#\n",
        "conv2_weight = tf.Variable(tf.truncated_normal([4, 4, conv1_features, conv2_features],\n",
        "                                               stddev=0.1, dtype=tf.float32))\n",
        "conv2_bias = tf.Variable(tf.zeros([conv2_features], dtype=tf.float32))\n",
        "\n",
        "#\n",
        "conv3_weight = tf.Variable(tf.truncated_normal([4, 4, conv2_features, conv3_features],\n",
        "                                               stddev=0.1, dtype=tf.float32))\n",
        "conv3_bias = tf.Variable(tf.zeros([conv3_features], dtype=tf.float32))\n",
        "\n",
        "#\n",
        "conv4_weight = tf.Variable(tf.truncated_normal([4, 4, conv3_features, conv4_features],\n",
        "                                               stddev=0.1, dtype=tf.float32))\n",
        "conv4_bias = tf.Variable(tf.zeros([conv4_features], dtype=tf.float32))\n",
        "\n",
        "#\n",
        "conv5_weight = tf.Variable(tf.truncated_normal([4, 4, conv4_features, conv5_features],\n",
        "                                               stddev=0.1, dtype=tf.float32))\n",
        "conv5_bias = tf.Variable(tf.zeros([conv5_features], dtype=tf.float32))"
      ],
      "execution_count": 0,
      "outputs": []
    },
    {
      "metadata": {
        "id": "Q6qHSJMAS3rb",
        "colab_type": "code",
        "colab": {}
      },
      "cell_type": "code",
      "source": [
        "# fully connected variables\n",
        "resulting_width = image_width // (max_pool_size1 * max_pool_size2 * max_pool_size3 *max_pool_size4 *max_pool_size5)\n",
        "resulting_height = image_height // (max_pool_size1 * max_pool_size2 * max_pool_size3 *max_pool_size4 *max_pool_size5)\n",
        "\n",
        "full1_input_size = resulting_width * resulting_height * conv5_features\n",
        "\n",
        "full1_weight = tf.Variable(tf.truncated_normal([full1_input_size, fully_connected_size1],\n",
        "                          stddev=0.1, dtype=tf.float32))\n",
        "full1_bias = tf.Variable(tf.truncated_normal([fully_connected_size1], stddev=0.1, dtype=tf.float32))\n",
        "#\n",
        "full2_weight = tf.Variable(tf.truncated_normal([fully_connected_size1, target_size],\n",
        "                                               stddev=0.1, dtype=tf.float32))\n",
        "full2_bias = tf.Variable(tf.truncated_normal([target_size], stddev=0.1, dtype=tf.float32))"
      ],
      "execution_count": 0,
      "outputs": []
    },
    {
      "metadata": {
        "id": "CQYlvmCDS6sB",
        "colab_type": "code",
        "colab": {}
      },
      "cell_type": "code",
      "source": [
        "def my_conv_net(input_data):\n",
        "    # First Conv-ReLU-MaxPool Layer\n",
        "    conv1 = tf.nn.conv2d(input_data, conv1_weight, strides=[1, 1, 1, 1], padding='SAME')\n",
        "    relu1 = tf.nn.relu(tf.nn.bias_add(conv1, conv1_bias))\n",
        "    max_pool1 = tf.nn.max_pool(relu1, ksize=[1, max_pool_size1, max_pool_size1, 1],\n",
        "                               strides=[1, max_pool_size1, max_pool_size1, 1], padding='SAME')\n",
        "\n",
        "    # Second Conv-ReLU-MaxPool Layer\n",
        "    conv2 = tf.nn.conv2d(max_pool1, conv2_weight, strides=[1, 1, 1, 1], padding='SAME')\n",
        "    relu2 = tf.nn.relu(tf.nn.bias_add(conv2, conv2_bias))\n",
        "    max_pool2 = tf.nn.max_pool(relu2, ksize=[1, max_pool_size2, max_pool_size2, 1],\n",
        "                               strides=[1, max_pool_size2, max_pool_size2, 1], padding='SAME')\n",
        "    \n",
        "    # Third Conv-ReLU-MaxPool Layer\n",
        "    conv3 = tf.nn.conv2d(max_pool2, conv3_weight, strides=[1, 1, 1, 1], padding='SAME')\n",
        "    relu3 = tf.nn.relu(tf.nn.bias_add(conv3, conv3_bias))\n",
        "    max_pool3 = tf.nn.max_pool(relu3, ksize=[1, max_pool_size3, max_pool_size3, 1],\n",
        "                               strides=[1, max_pool_size3, max_pool_size3, 1], padding='SAME')\n",
        "    \n",
        "    # Fourth Conv-ReLU-MaxPool Layer\n",
        "    conv4 = tf.nn.conv2d(max_pool3, conv4_weight, strides=[1, 1, 1, 1], padding='SAME')\n",
        "    relu4 = tf.nn.relu(tf.nn.bias_add(conv4, conv4_bias))\n",
        "    max_pool4 = tf.nn.max_pool(relu4, ksize=[1, max_pool_size4, max_pool_size4, 1],\n",
        "                               strides=[1, max_pool_size4, max_pool_size4, 1], padding='SAME')\n",
        "\n",
        "    # Fifth Conv-ReLU-MaxPool Layer\n",
        "    conv5 = tf.nn.conv2d(max_pool4, conv5_weight, strides=[1, 1, 1, 1], padding='SAME')\n",
        "    relu5 = tf.nn.relu(tf.nn.bias_add(conv5, conv5_bias))\n",
        "    max_pool5 = tf.nn.max_pool(relu5, ksize=[1, max_pool_size5, max_pool_size5, 1],\n",
        "                               strides=[1, max_pool_size5, max_pool_size5, 1], padding='SAME')\n",
        "\n",
        "    # Transform Output into a 1xN layer for next fully connected layer\n",
        "    final_conv_shape = max_pool5.get_shape().as_list()\n",
        "    final_shape = final_conv_shape[1] * final_conv_shape[2] * final_conv_shape[3]\n",
        "    flat_output = tf.reshape(max_pool5, [final_conv_shape[0], final_shape])\n",
        "\n",
        "    # First Fully Connected Layer\n",
        "    fully_connected1 = tf.nn.relu(tf.add(tf.matmul(flat_output, full1_weight), full1_bias))\n",
        "\n",
        "    # Second Fully Connected Layer\n",
        "    final_model_output = tf.add(tf.matmul(fully_connected1, full2_weight), full2_bias)\n",
        "    \n",
        "    return(final_model_output)"
      ],
      "execution_count": 0,
      "outputs": []
    },
    {
      "metadata": {
        "id": "0ZGeyIeLTL0s",
        "colab_type": "code",
        "colab": {}
      },
      "cell_type": "code",
      "source": [
        "model_output = my_conv_net(x_input)\n",
        "test_model_output = my_conv_net(eval_input)"
      ],
      "execution_count": 0,
      "outputs": []
    },
    {
      "metadata": {
        "id": "-2efay-bTRFn",
        "colab_type": "code",
        "colab": {}
      },
      "cell_type": "code",
      "source": [
        "loss = tf.reduce_mean(tf.nn.sparse_softmax_cross_entropy_with_logits(logits = model_output,labels = y_target))"
      ],
      "execution_count": 0,
      "outputs": []
    },
    {
      "metadata": {
        "id": "q8E4Sb_ETaWc",
        "colab_type": "code",
        "colab": {}
      },
      "cell_type": "code",
      "source": [
        "my_optimizer = tf.train.MomentumOptimizer(learning_rate, 0.9)\n",
        "train_step = my_optimizer.minimize(loss)\n"
      ],
      "execution_count": 0,
      "outputs": []
    },
    {
      "metadata": {
        "id": "RlBPt5DfTdij",
        "colab_type": "code",
        "colab": {}
      },
      "cell_type": "code",
      "source": [
        "prediction = tf.nn.softmax(model_output)\n",
        "test_prediction = tf.nn.softmax(test_model_output)"
      ],
      "execution_count": 0,
      "outputs": []
    },
    {
      "metadata": {
        "id": "-gwrYMoYTgbI",
        "colab_type": "code",
        "colab": {}
      },
      "cell_type": "code",
      "source": [
        "def get_accuracy(logits, targets):\n",
        "    batch_predictions = np.argmax(logits, axis=1)\n",
        "    num_correct = np.sum(np.equal(batch_predictions, targets))\n",
        "    return(100. * num_correct/batch_predictions.shape[0])"
      ],
      "execution_count": 0,
      "outputs": []
    },
    {
      "metadata": {
        "id": "UOuGE9r4TvJE",
        "colab_type": "code",
        "colab": {}
      },
      "cell_type": "code",
      "source": [
        "sess = tf.Session()"
      ],
      "execution_count": 0,
      "outputs": []
    },
    {
      "metadata": {
        "id": "virZ0Q4ZTjV6",
        "colab_type": "code",
        "colab": {}
      },
      "cell_type": "code",
      "source": [
        "init = tf.global_variables_initializer()\n",
        "sess.run(init)"
      ],
      "execution_count": 0,
      "outputs": []
    },
    {
      "metadata": {
        "id": "8eecIyfnT0HP",
        "colab_type": "code",
        "colab": {
          "base_uri": "https://localhost:8080/",
          "height": 1794
        },
        "outputId": "9c554cc9-85e7-4f66-938c-57c84998d3ae"
      },
      "cell_type": "code",
      "source": [
        "train_loss = []\n",
        "train_acc = []\n",
        "test_acc = []\n",
        "for i in range(generations):\n",
        "    rand_index = np.random.choice(len(X_train), size=batch_size)\n",
        "    rand_x = X_train[rand_index]\n",
        "    #rand_x = np.expand_dims(rand_x, 3)\n",
        "    rand_y = y_train[rand_index]\n",
        "    train_dict = {x_input: rand_x, y_target: rand_y}\n",
        "    \n",
        "    sess.run(train_step, feed_dict=train_dict)\n",
        "    temp_train_loss, temp_train_preds = sess.run([loss, prediction], feed_dict=train_dict)\n",
        "    temp_train_acc = get_accuracy(temp_train_preds, rand_y)\n",
        "    \n",
        "    if (i+1) % eval_every == 0:\n",
        "        eval_index = np.random.choice(len(X_test), size=evaluation_size)\n",
        "        eval_x = X_test[eval_index]\n",
        "        #eval_x = np.expand_dims(eval_x, 3)\n",
        "        eval_y = y_test[eval_index]\n",
        "        test_dict = {eval_input: eval_x, eval_target: eval_y}\n",
        "        test_preds = sess.run(test_prediction, feed_dict=test_dict)\n",
        "        temp_test_acc = get_accuracy(test_preds, eval_y)\n",
        "        \n",
        "        # Record and print results\n",
        "        train_loss.append(temp_train_loss)\n",
        "        train_acc.append(temp_train_acc)\n",
        "        test_acc.append(temp_test_acc)\n",
        "        acc_and_loss = [(i+1), temp_train_loss, temp_train_acc, temp_test_acc]\n",
        "        acc_and_loss = [np.round(x,2) for x in acc_and_loss]\n",
        "        print('Generation # {}. Train Loss: {:.2f}. Train Acc (Test Acc): {:.2f} ({:.2f})'.format(*acc_and_loss))"
      ],
      "execution_count": 235,
      "outputs": [
        {
          "output_type": "stream",
          "text": [
            "Generation # 5. Train Loss: nan. Train Acc (Test Acc): 36.00 (6.60)\n",
            "Generation # 10. Train Loss: nan. Train Acc (Test Acc): 46.00 (7.20)\n",
            "Generation # 15. Train Loss: nan. Train Acc (Test Acc): 31.00 (7.80)\n",
            "Generation # 20. Train Loss: nan. Train Acc (Test Acc): 41.00 (8.20)\n",
            "Generation # 25. Train Loss: nan. Train Acc (Test Acc): 30.00 (9.20)\n",
            "Generation # 30. Train Loss: nan. Train Acc (Test Acc): 39.00 (7.60)\n",
            "Generation # 35. Train Loss: nan. Train Acc (Test Acc): 43.00 (5.80)\n",
            "Generation # 40. Train Loss: nan. Train Acc (Test Acc): 39.00 (8.20)\n",
            "Generation # 45. Train Loss: nan. Train Acc (Test Acc): 39.00 (7.20)\n",
            "Generation # 50. Train Loss: nan. Train Acc (Test Acc): 38.00 (5.80)\n",
            "Generation # 55. Train Loss: nan. Train Acc (Test Acc): 35.00 (9.40)\n",
            "Generation # 60. Train Loss: nan. Train Acc (Test Acc): 37.00 (8.40)\n",
            "Generation # 65. Train Loss: nan. Train Acc (Test Acc): 29.00 (7.00)\n",
            "Generation # 70. Train Loss: nan. Train Acc (Test Acc): 44.00 (8.40)\n",
            "Generation # 75. Train Loss: nan. Train Acc (Test Acc): 40.00 (8.00)\n",
            "Generation # 80. Train Loss: nan. Train Acc (Test Acc): 41.00 (7.40)\n",
            "Generation # 85. Train Loss: nan. Train Acc (Test Acc): 45.00 (6.40)\n",
            "Generation # 90. Train Loss: nan. Train Acc (Test Acc): 46.00 (8.20)\n",
            "Generation # 95. Train Loss: nan. Train Acc (Test Acc): 41.00 (7.60)\n",
            "Generation # 100. Train Loss: nan. Train Acc (Test Acc): 39.00 (9.00)\n",
            "Generation # 105. Train Loss: nan. Train Acc (Test Acc): 44.00 (9.20)\n",
            "Generation # 110. Train Loss: nan. Train Acc (Test Acc): 40.00 (9.20)\n",
            "Generation # 115. Train Loss: nan. Train Acc (Test Acc): 41.00 (8.40)\n",
            "Generation # 120. Train Loss: nan. Train Acc (Test Acc): 43.00 (6.60)\n",
            "Generation # 125. Train Loss: nan. Train Acc (Test Acc): 39.00 (9.00)\n",
            "Generation # 130. Train Loss: nan. Train Acc (Test Acc): 39.00 (10.00)\n",
            "Generation # 135. Train Loss: nan. Train Acc (Test Acc): 41.00 (8.60)\n",
            "Generation # 140. Train Loss: nan. Train Acc (Test Acc): 39.00 (8.80)\n",
            "Generation # 145. Train Loss: nan. Train Acc (Test Acc): 48.00 (9.20)\n",
            "Generation # 150. Train Loss: nan. Train Acc (Test Acc): 36.00 (6.80)\n",
            "Generation # 155. Train Loss: nan. Train Acc (Test Acc): 40.00 (6.20)\n",
            "Generation # 160. Train Loss: nan. Train Acc (Test Acc): 32.00 (10.40)\n",
            "Generation # 165. Train Loss: nan. Train Acc (Test Acc): 30.00 (10.40)\n",
            "Generation # 170. Train Loss: nan. Train Acc (Test Acc): 34.00 (8.00)\n",
            "Generation # 175. Train Loss: nan. Train Acc (Test Acc): 39.00 (7.60)\n",
            "Generation # 180. Train Loss: nan. Train Acc (Test Acc): 51.00 (7.80)\n",
            "Generation # 185. Train Loss: nan. Train Acc (Test Acc): 43.00 (7.60)\n",
            "Generation # 190. Train Loss: nan. Train Acc (Test Acc): 39.00 (8.20)\n",
            "Generation # 195. Train Loss: nan. Train Acc (Test Acc): 28.00 (8.60)\n",
            "Generation # 200. Train Loss: nan. Train Acc (Test Acc): 38.00 (9.20)\n",
            "Generation # 205. Train Loss: nan. Train Acc (Test Acc): 31.00 (8.20)\n",
            "Generation # 210. Train Loss: nan. Train Acc (Test Acc): 42.00 (10.80)\n",
            "Generation # 215. Train Loss: nan. Train Acc (Test Acc): 34.00 (7.00)\n",
            "Generation # 220. Train Loss: nan. Train Acc (Test Acc): 39.00 (6.80)\n",
            "Generation # 225. Train Loss: nan. Train Acc (Test Acc): 38.00 (8.60)\n",
            "Generation # 230. Train Loss: nan. Train Acc (Test Acc): 33.00 (7.80)\n",
            "Generation # 235. Train Loss: nan. Train Acc (Test Acc): 40.00 (8.00)\n",
            "Generation # 240. Train Loss: nan. Train Acc (Test Acc): 37.00 (9.00)\n",
            "Generation # 245. Train Loss: nan. Train Acc (Test Acc): 41.00 (10.60)\n",
            "Generation # 250. Train Loss: nan. Train Acc (Test Acc): 32.00 (10.60)\n",
            "Generation # 255. Train Loss: nan. Train Acc (Test Acc): 48.00 (7.00)\n",
            "Generation # 260. Train Loss: nan. Train Acc (Test Acc): 45.00 (7.60)\n",
            "Generation # 265. Train Loss: nan. Train Acc (Test Acc): 53.00 (9.80)\n",
            "Generation # 270. Train Loss: nan. Train Acc (Test Acc): 47.00 (8.60)\n",
            "Generation # 275. Train Loss: nan. Train Acc (Test Acc): 40.00 (6.40)\n",
            "Generation # 280. Train Loss: nan. Train Acc (Test Acc): 45.00 (7.00)\n",
            "Generation # 285. Train Loss: nan. Train Acc (Test Acc): 39.00 (9.40)\n",
            "Generation # 290. Train Loss: nan. Train Acc (Test Acc): 41.00 (9.40)\n",
            "Generation # 295. Train Loss: nan. Train Acc (Test Acc): 39.00 (6.80)\n",
            "Generation # 300. Train Loss: nan. Train Acc (Test Acc): 48.00 (8.20)\n",
            "Generation # 305. Train Loss: nan. Train Acc (Test Acc): 34.00 (9.20)\n",
            "Generation # 310. Train Loss: nan. Train Acc (Test Acc): 42.00 (8.00)\n",
            "Generation # 315. Train Loss: nan. Train Acc (Test Acc): 38.00 (8.80)\n",
            "Generation # 320. Train Loss: nan. Train Acc (Test Acc): 34.00 (9.40)\n",
            "Generation # 325. Train Loss: nan. Train Acc (Test Acc): 41.00 (7.60)\n",
            "Generation # 330. Train Loss: nan. Train Acc (Test Acc): 35.00 (10.00)\n",
            "Generation # 335. Train Loss: nan. Train Acc (Test Acc): 31.00 (6.80)\n",
            "Generation # 340. Train Loss: nan. Train Acc (Test Acc): 33.00 (7.80)\n",
            "Generation # 345. Train Loss: nan. Train Acc (Test Acc): 42.00 (9.60)\n",
            "Generation # 350. Train Loss: nan. Train Acc (Test Acc): 39.00 (8.60)\n",
            "Generation # 355. Train Loss: nan. Train Acc (Test Acc): 33.00 (9.80)\n",
            "Generation # 360. Train Loss: nan. Train Acc (Test Acc): 40.00 (7.60)\n",
            "Generation # 365. Train Loss: nan. Train Acc (Test Acc): 33.00 (7.00)\n",
            "Generation # 370. Train Loss: nan. Train Acc (Test Acc): 44.00 (9.80)\n",
            "Generation # 375. Train Loss: nan. Train Acc (Test Acc): 41.00 (9.20)\n",
            "Generation # 380. Train Loss: nan. Train Acc (Test Acc): 33.00 (9.20)\n",
            "Generation # 385. Train Loss: nan. Train Acc (Test Acc): 39.00 (7.40)\n",
            "Generation # 390. Train Loss: nan. Train Acc (Test Acc): 42.00 (7.20)\n",
            "Generation # 395. Train Loss: nan. Train Acc (Test Acc): 41.00 (11.80)\n",
            "Generation # 400. Train Loss: nan. Train Acc (Test Acc): 40.00 (7.60)\n",
            "Generation # 405. Train Loss: nan. Train Acc (Test Acc): 42.00 (8.40)\n",
            "Generation # 410. Train Loss: nan. Train Acc (Test Acc): 37.00 (11.20)\n",
            "Generation # 415. Train Loss: nan. Train Acc (Test Acc): 47.00 (6.40)\n",
            "Generation # 420. Train Loss: nan. Train Acc (Test Acc): 31.00 (6.40)\n",
            "Generation # 425. Train Loss: nan. Train Acc (Test Acc): 30.00 (9.60)\n",
            "Generation # 430. Train Loss: nan. Train Acc (Test Acc): 43.00 (9.00)\n",
            "Generation # 435. Train Loss: nan. Train Acc (Test Acc): 47.00 (7.00)\n",
            "Generation # 440. Train Loss: nan. Train Acc (Test Acc): 35.00 (7.40)\n",
            "Generation # 445. Train Loss: nan. Train Acc (Test Acc): 44.00 (6.00)\n",
            "Generation # 450. Train Loss: nan. Train Acc (Test Acc): 41.00 (8.80)\n",
            "Generation # 455. Train Loss: nan. Train Acc (Test Acc): 38.00 (9.40)\n",
            "Generation # 460. Train Loss: nan. Train Acc (Test Acc): 38.00 (10.00)\n",
            "Generation # 465. Train Loss: nan. Train Acc (Test Acc): 40.00 (9.60)\n",
            "Generation # 470. Train Loss: nan. Train Acc (Test Acc): 39.00 (8.80)\n",
            "Generation # 475. Train Loss: nan. Train Acc (Test Acc): 32.00 (9.00)\n",
            "Generation # 480. Train Loss: nan. Train Acc (Test Acc): 49.00 (9.00)\n",
            "Generation # 485. Train Loss: nan. Train Acc (Test Acc): 42.00 (7.00)\n",
            "Generation # 490. Train Loss: nan. Train Acc (Test Acc): 38.00 (8.20)\n",
            "Generation # 495. Train Loss: nan. Train Acc (Test Acc): 47.00 (8.20)\n",
            "Generation # 500. Train Loss: nan. Train Acc (Test Acc): 38.00 (8.20)\n"
          ],
          "name": "stdout"
        }
      ]
    }
  ]
}