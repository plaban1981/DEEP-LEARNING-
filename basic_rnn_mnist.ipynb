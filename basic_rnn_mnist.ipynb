{
  "nbformat": 4,
  "nbformat_minor": 0,
  "metadata": {
    "colab": {
      "name": "basic_rnn_mnist.ipynb",
      "version": "0.3.2",
      "provenance": [],
      "collapsed_sections": [],
      "include_colab_link": true
    },
    "kernelspec": {
      "name": "python3",
      "display_name": "Python 3"
    }
  },
  "cells": [
    {
      "cell_type": "markdown",
      "metadata": {
        "id": "view-in-github",
        "colab_type": "text"
      },
      "source": [
        "<a href=\"https://colab.research.google.com/github/plaban1981/DEEP-LEARNING-/blob/master/basic_rnn_mnist.ipynb\" target=\"_parent\"><img src=\"https://colab.research.google.com/assets/colab-badge.svg\" alt=\"Open In Colab\"/></a>"
      ]
    },
    {
      "cell_type": "markdown",
      "metadata": {
        "id": "w9n3nw4zxniS",
        "colab_type": "text"
      },
      "source": [
        "**Problem Statement ***\n",
        "\n",
        "*How* to build and use a recurrent neural network in Keras to write patent abstracts."
      ]
    },
    {
      "cell_type": "markdown",
      "metadata": {
        "id": "QVpgztJ4xWF6",
        "colab_type": "text"
      },
      "source": [
        "**LSTM cell is meant to do: allow past information to be reinjected at a later time.**"
      ]
    },
    {
      "cell_type": "markdown",
      "metadata": {
        "id": "vvHcnND_xItc",
        "colab_type": "text"
      },
      "source": [
        "https://towardsdatascience.com/recurrent-neural-networks-by-example-in-python-ffd204f99470\n",
        "\n",
        "https://github.com/WillKoehrsen/recurrent-neural-networks\n",
        "\n",
        "https://github.com/chentinghao/tinghao-tensorflow-rnn-tutorial/blob/master/mnist_rnn.ipynb"
      ]
    },
    {
      "cell_type": "code",
      "metadata": {
        "id": "98ci6--cxEpw",
        "colab_type": "code",
        "colab": {}
      },
      "source": [
        "import tensorflow as tf\n",
        "import numpy as np\n",
        "import matplotlib.pyplot as plt\n",
        "\n",
        "# reset the graph and make sure the random numbers are always the same\n",
        "def reset_graph(seed=2018):\n",
        "    tf.reset_default_graph()\n",
        "    tf.set_random_seed(seed)\n",
        "    np.random.seed(seed)"
      ],
      "execution_count": 0,
      "outputs": []
    },
    {
      "cell_type": "markdown",
      "metadata": {
        "id": "U1beZ1Ho48jn",
        "colab_type": "text"
      },
      "source": [
        "**We treat each image as a sequence of data, that is, the first row is the first step; second row is the second step and so on. Therefore, n_steps = number of rows and n_inputs = number of columns.**"
      ]
    },
    {
      "cell_type": "markdown",
      "metadata": {
        "id": "noEVH14S5FoG",
        "colab_type": "text"
      },
      "source": [
        "The mnist dataset from TensorFlow assumes that you are using one-hot encoding, however, we are not going to do that. Therefore, we need to reshape the dataset from [num_data, 28*28] to [num_data, n_steps, n_inputs].\n",
        "\n",
        "Since there are many outputs from the RNN, we only care about the last one. As a result, \"state\" in the code is considered as our output."
      ]
    },
    {
      "cell_type": "code",
      "metadata": {
        "id": "kQDI_1jB49-2",
        "colab_type": "code",
        "colab": {
          "base_uri": "https://localhost:8080/",
          "height": 250
        },
        "outputId": "01dc31cb-9de9-40c7-d121-a300409aa21a"
      },
      "source": [
        "# reset\n",
        "reset_graph()\n",
        "\n",
        "# hyperparameters\n",
        "n_neurons = 128\n",
        "learning_rate = 0.0001\n",
        "batch_size = 64\n",
        "n_epochs = 20\n",
        "\n",
        "# parameters\n",
        "n_steps = 28 # 28 rows\n",
        "n_inputs = 28 # 28 cols\n",
        "n_outputs = 10 # 10 classes\n",
        "\n",
        "# build a rnn model\n",
        "X = tf.placeholder(tf.float32, [None, n_steps, n_inputs])\n",
        "y = tf.placeholder(tf.int32, [None])\n",
        "\n",
        "cell = tf.nn.rnn_cell.BasicRNNCell(num_units=n_neurons)\n",
        "output, state = tf.nn.dynamic_rnn(cell, X, dtype=tf.float32)\n",
        "\n",
        "logits = tf.layers.dense(state, n_outputs)\n",
        "cross_entropy = tf.nn.sparse_softmax_cross_entropy_with_logits(labels=y, logits=logits)\n",
        "loss = tf.reduce_mean(cross_entropy)\n",
        "optimizer = tf.train.AdamOptimizer(learning_rate=learning_rate).minimize(loss)\n",
        "\n",
        "prediction = tf.nn.in_top_k(logits, y, 1)\n",
        "accuracy = tf.reduce_mean(tf.cast(prediction, tf.float32))"
      ],
      "execution_count": 2,
      "outputs": [
        {
          "output_type": "stream",
          "text": [
            "WARNING:tensorflow:From <ipython-input-2-e4f4924b3770>:18: BasicRNNCell.__init__ (from tensorflow.python.ops.rnn_cell_impl) is deprecated and will be removed in a future version.\n",
            "Instructions for updating:\n",
            "This class is equivalent as tf.keras.layers.SimpleRNNCell, and will be replaced by that in Tensorflow 2.0.\n",
            "WARNING:tensorflow:From <ipython-input-2-e4f4924b3770>:19: dynamic_rnn (from tensorflow.python.ops.rnn) is deprecated and will be removed in a future version.\n",
            "Instructions for updating:\n",
            "Please use `keras.layers.RNN(cell)`, which is equivalent to this API\n",
            "WARNING:tensorflow:From /usr/local/lib/python3.6/dist-packages/tensorflow/python/ops/tensor_array_ops.py:162: colocate_with (from tensorflow.python.framework.ops) is deprecated and will be removed in a future version.\n",
            "Instructions for updating:\n",
            "Colocations handled automatically by placer.\n",
            "WARNING:tensorflow:From <ipython-input-2-e4f4924b3770>:21: dense (from tensorflow.python.layers.core) is deprecated and will be removed in a future version.\n",
            "Instructions for updating:\n",
            "Use keras.layers.dense instead.\n"
          ],
          "name": "stdout"
        }
      ]
    },
    {
      "cell_type": "code",
      "metadata": {
        "id": "vGsQKRGM5Wrm",
        "colab_type": "code",
        "colab": {
          "base_uri": "https://localhost:8080/",
          "height": 87
        },
        "outputId": "64ca130d-a36d-47a8-faeb-849f19a6bb58"
      },
      "source": [
        "# input data\n",
        "from tensorflow.examples.tutorials.mnist import input_data\n",
        "mnist = input_data.read_data_sets(\"MNIST_data/\")\n",
        "\n",
        "X_test = mnist.test.images # X_test shape: [num_test, 28*28]\n",
        "X_test = X_test.reshape([-1, n_steps, n_inputs])\n",
        "y_test = mnist.test.labels"
      ],
      "execution_count": 4,
      "outputs": [
        {
          "output_type": "stream",
          "text": [
            "Extracting MNIST_data/train-images-idx3-ubyte.gz\n",
            "Extracting MNIST_data/train-labels-idx1-ubyte.gz\n",
            "Extracting MNIST_data/t10k-images-idx3-ubyte.gz\n",
            "Extracting MNIST_data/t10k-labels-idx1-ubyte.gz\n"
          ],
          "name": "stdout"
        }
      ]
    },
    {
      "cell_type": "code",
      "metadata": {
        "id": "L_FjJIfS5fFu",
        "colab_type": "code",
        "colab": {
          "base_uri": "https://localhost:8080/",
          "height": 390
        },
        "outputId": "20ef5a54-caf7-44a1-991d-0ae004c74b03"
      },
      "source": [
        "# initialize the variables\n",
        "init = tf.global_variables_initializer()\n",
        "\n",
        "# train the model\n",
        "sess = tf.Session()\n",
        "sess.run(init)\n",
        "n_batches = mnist.train.num_examples // batch_size\n",
        "loss_list = []\n",
        "acc_list = []\n",
        "for epoch in range(n_epochs):\n",
        "    for batch in range(n_batches):\n",
        "        X_train, y_train = mnist.train.next_batch(batch_size)\n",
        "        X_train = X_train.reshape([-1, n_steps, n_inputs])\n",
        "        sess.run(optimizer, feed_dict={X: X_train, y: y_train})\n",
        "    loss_train, acc_train = sess.run(\n",
        "        [loss, accuracy], feed_dict={X: X_train, y: y_train})\n",
        "    loss_list.append(loss_train)\n",
        "    acc_list.append(acc_train)\n",
        "    print('Epoch: {}, Train Loss: {:.3f}, Train Acc: {:.3f}'.format(\n",
        "        epoch + 1, loss_train, acc_train))\n",
        "loss_test, acc_test = sess.run(\n",
        "    [loss, accuracy], feed_dict={X: X_test, y: y_test})\n",
        "print('Test Loss: {:.3f}, Test Acc: {:.3f}'.format(loss_test, acc_test))"
      ],
      "execution_count": 5,
      "outputs": [
        {
          "output_type": "stream",
          "text": [
            "Epoch: 1, Train Loss: 0.433, Train Acc: 0.844\n",
            "Epoch: 2, Train Loss: 0.351, Train Acc: 0.906\n",
            "Epoch: 3, Train Loss: 0.296, Train Acc: 0.938\n",
            "Epoch: 4, Train Loss: 0.261, Train Acc: 0.938\n",
            "Epoch: 5, Train Loss: 0.229, Train Acc: 0.906\n",
            "Epoch: 6, Train Loss: 0.087, Train Acc: 0.969\n",
            "Epoch: 7, Train Loss: 0.263, Train Acc: 0.891\n",
            "Epoch: 8, Train Loss: 0.156, Train Acc: 0.953\n",
            "Epoch: 9, Train Loss: 0.337, Train Acc: 0.906\n",
            "Epoch: 10, Train Loss: 0.043, Train Acc: 1.000\n",
            "Epoch: 11, Train Loss: 0.220, Train Acc: 0.938\n",
            "Epoch: 12, Train Loss: 0.095, Train Acc: 0.984\n",
            "Epoch: 13, Train Loss: 0.227, Train Acc: 0.969\n",
            "Epoch: 14, Train Loss: 0.117, Train Acc: 0.969\n",
            "Epoch: 15, Train Loss: 0.157, Train Acc: 0.938\n",
            "Epoch: 16, Train Loss: 0.015, Train Acc: 1.000\n",
            "Epoch: 17, Train Loss: 0.024, Train Acc: 1.000\n",
            "Epoch: 18, Train Loss: 0.045, Train Acc: 0.984\n",
            "Epoch: 19, Train Loss: 0.065, Train Acc: 0.953\n",
            "Epoch: 20, Train Loss: 0.213, Train Acc: 0.953\n",
            "Test Loss: 0.129, Test Acc: 0.962\n"
          ],
          "name": "stdout"
        }
      ]
    },
    {
      "cell_type": "code",
      "metadata": {
        "id": "T4zJYaZT61yX",
        "colab_type": "code",
        "colab": {
          "base_uri": "https://localhost:8080/",
          "height": 351
        },
        "outputId": "1b599955-eec4-4d56-a9f2-ae16fb7b21f9"
      },
      "source": [
        "# plot train loss vs epoch\n",
        "plt.figure(figsize=(18, 5))\n",
        "plt.subplot(1, 2, 1)\n",
        "plt.title('Train Loss vs Epoch', fontsize=15)\n",
        "plt.plot(np.arange(n_epochs), loss_list, 'r-')\n",
        "plt.xlabel('Epoch')\n",
        "plt.ylabel('Train Loss')\n",
        "\n",
        "# plot train accuracy vs epoch\n",
        "plt.subplot(1, 2, 2)\n",
        "plt.title('Train Accuracy vs Epoch', fontsize=15)\n",
        "plt.plot(np.arange(n_epochs), acc_list, 'b-')\n",
        "plt.xlabel('Epoch')\n",
        "plt.ylabel('Train Accuracy')\n",
        "plt.show()\n"
      ],
      "execution_count": 6,
      "outputs": [
        {
          "output_type": "display_data",
          "data": {
            "image/png": "[encoded data removed]",
            "text/plain": [
              "<Figure size 1296x360 with 2 Axes>"
            ]
          },
          "metadata": {
            "tags": []
          }
        }
      ]
    },
    {
      "cell_type": "code",
      "metadata": {
        "id": "TRJZdJap9VuG",
        "colab_type": "code",
        "colab": {
          "base_uri": "https://localhost:8080/",
          "height": 1344
        },
        "outputId": "2c5e3fe3-8795-445d-c9db-7d6aafa29b5c"
      },
      "source": [
        "n_predict = 5 # number to display prediction\n",
        "\n",
        "for i in range(n_predict):\n",
        "    pred = sess.run(tf.argmax(logits[i]), feed_dict={X: X_test, y: y_test})\n",
        "    plt.imshow(X_test[i])\n",
        "    plt.axis('off')\n",
        "    plt.show()\n",
        "    print('predict: ', pred)"
      ],
      "execution_count": 7,
      "outputs": [
        {
          "output_type": "display_data",
          "data": {
            "image/png": "[encoded data removed]",
            "text/plain": [
              "<Figure size 432x288 with 1 Axes>"
            ]
          },
          "metadata": {
            "tags": []
          }
        },
        {
          "output_type": "stream",
          "text": [
            "predict:  7\n"
          ],
          "name": "stdout"
        },
        {
          "output_type": "display_data",
          "data": {
            "image/png": "[encoded data removed]",
            "text/plain": [
              "<Figure size 432x288 with 1 Axes>"
            ]
          },
          "metadata": {
            "tags": []
          }
        },
        {
          "output_type": "stream",
          "text": [
            "predict:  2\n"
          ],
          "name": "stdout"
        },
        {
          "output_type": "display_data",
          "data": {
            "image/png": "[encoded data removed]",
            "text/plain": [
              "<Figure size 432x288 with 1 Axes>"
            ]
          },
          "metadata": {
            "tags": []
          }
        },
        {
          "output_type": "stream",
          "text": [
            "predict:  1\n"
          ],
          "name": "stdout"
        },
        {
          "output_type": "display_data",
          "data": {
            "image/png": "[encoded data removed]",
            "text/plain": [
              "<Figure size 432x288 with 1 Axes>"
            ]
          },
          "metadata": {
            "tags": []
          }
        },
        {
          "output_type": "stream",
          "text": [
            "predict:  0\n"
          ],
          "name": "stdout"
        },
        {
          "output_type": "display_data",
          "data": {
            "image/png": "[encoded data removed]",
            "text/plain": [
              "<Figure size 432x288 with 1 Axes>"
            ]
          },
          "metadata": {
            "tags": []
          }
        },
        {
          "output_type": "stream",
          "text": [
            "predict:  4\n"
          ],
          "name": "stdout"
        }
      ]
    }
  ]
}