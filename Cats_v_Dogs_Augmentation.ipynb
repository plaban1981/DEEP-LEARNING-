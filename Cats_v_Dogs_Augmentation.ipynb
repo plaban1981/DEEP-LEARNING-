{
  "nbformat": 4,
  "nbformat_minor": 0,
  "metadata": {
    "colab": {
      "name": "Cats-v-Dogs-Augmentation.ipynb",
      "version": "0.3.2",
      "provenance": [],
      "include_colab_link": true
    },
    "kernelspec": {
      "name": "python3",
      "display_name": "Python 3"
    },
    "accelerator": "GPU"
  },
  "cells": [
    {
      "cell_type": "markdown",
      "metadata": {
        "id": "view-in-github",
        "colab_type": "text"
      },
      "source": [
        "<a href=\"https://colab.research.google.com/github/plaban1981/DEEP-LEARNING-/blob/master/Cats_v_Dogs_Augmentation.ipynb\" target=\"_parent\"><img src=\"https://colab.research.google.com/assets/colab-badge.svg\" alt=\"Open In Colab\"/></a>"
      ]
    },
    {
      "cell_type": "code",
      "metadata": {
        "id": "wmMJCI_z09Uq",
        "colab_type": "code",
        "colab": {
          "base_uri": "https://localhost:8080/",
          "height": 1000
        },
        "outputId": "9da2054d-2dc8-4fa1-8265-5ec640458769"
      },
      "source": [
        "!wget --no-check-certificate \\\n",
        "    https://storage.googleapis.com/mledu-datasets/cats_and_dogs_filtered.zip \\\n",
        "    -O /tmp/cats_and_dogs_filtered.zip\n",
        "  \n",
        "import os\n",
        "import zipfile\n",
        "import tensorflow as tf\n",
        "from tensorflow.keras.optimizers import RMSprop\n",
        "from tensorflow.keras.preprocessing.image import ImageDataGenerator\n",
        "\n",
        "local_zip = '/tmp/cats_and_dogs_filtered.zip'\n",
        "zip_ref = zipfile.ZipFile(local_zip, 'r')\n",
        "zip_ref.extractall('/tmp')\n",
        "zip_ref.close()\n",
        "\n",
        "base_dir = '/tmp/cats_and_dogs_filtered'\n",
        "train_dir = os.path.join(base_dir, 'train')\n",
        "validation_dir = os.path.join(base_dir, 'validation')\n",
        "\n",
        "# Directory with our training cat pictures\n",
        "train_cats_dir = os.path.join(train_dir, 'cats')\n",
        "\n",
        "# Directory with our training dog pictures\n",
        "train_dogs_dir = os.path.join(train_dir, 'dogs')\n",
        "\n",
        "# Directory with our validation cat pictures\n",
        "validation_cats_dir = os.path.join(validation_dir, 'cats')\n",
        "\n",
        "# Directory with our validation dog pictures\n",
        "validation_dogs_dir = os.path.join(validation_dir, 'dogs')\n",
        "\n",
        "model = tf.keras.models.Sequential([\n",
        "    tf.keras.layers.Conv2D(32, (3,3), activation='relu', input_shape=(150, 150, 3)),\n",
        "    tf.keras.layers.MaxPooling2D(2, 2),\n",
        "    tf.keras.layers.Conv2D(64, (3,3), activation='relu'),\n",
        "    tf.keras.layers.MaxPooling2D(2,2),\n",
        "    tf.keras.layers.Conv2D(128, (3,3), activation='relu'),\n",
        "    tf.keras.layers.MaxPooling2D(2,2),\n",
        "    tf.keras.layers.Conv2D(128, (3,3), activation='relu'),\n",
        "    tf.keras.layers.MaxPooling2D(2,2),\n",
        "    tf.keras.layers.Flatten(),\n",
        "    tf.keras.layers.Dense(512, activation='relu'),\n",
        "    tf.keras.layers.Dense(1, activation='sigmoid')\n",
        "])\n",
        "\n",
        "model.compile(loss='binary_crossentropy',\n",
        "              optimizer=RMSprop(lr=1e-4),\n",
        "              metrics=['acc'])\n",
        "\n",
        "# All images will be rescaled by 1./255\n",
        "train_datagen = ImageDataGenerator(rescale=1./255)\n",
        "test_datagen = ImageDataGenerator(rescale=1./255)\n",
        "\n",
        "# Flow training images in batches of 20 using train_datagen generator\n",
        "train_generator = train_datagen.flow_from_directory(\n",
        "        train_dir,  # This is the source directory for training images\n",
        "        target_size=(150, 150),  # All images will be resized to 150x150\n",
        "        batch_size=20,\n",
        "        # Since we use binary_crossentropy loss, we need binary labels\n",
        "        class_mode='binary')\n",
        "\n",
        "# Flow validation images in batches of 20 using test_datagen generator\n",
        "validation_generator = test_datagen.flow_from_directory(\n",
        "        validation_dir,\n",
        "        target_size=(150, 150),\n",
        "        batch_size=20,\n",
        "        class_mode='binary')\n",
        "\n",
        "history = model.fit_generator(\n",
        "      train_generator,\n",
        "      steps_per_epoch=100,  # 2000 images = batch_size * steps\n",
        "      epochs=100,\n",
        "      validation_data=validation_generator,\n",
        "      validation_steps=50,  # 1000 images = batch_size * steps\n",
        "      verbose=2)\n"
      ],
      "execution_count": 1,
      "outputs": [
        {
          "output_type": "stream",
          "text": [
            "--2019-07-23 12:35:17--  https://storage.googleapis.com/mledu-datasets/cats_and_dogs_filtered.zip\n",
            "Resolving storage.googleapis.com (storage.googleapis.com)... 74.125.141.128, 2607:f8b0:400c:c06::80\n",
            "Connecting to storage.googleapis.com (storage.googleapis.com)|74.125.141.128|:443... connected.\n",
            "HTTP request sent, awaiting response... 200 OK\n",
            "Length: 68606236 (65M) [application/zip]\n",
            "Saving to: ‘/tmp/cats_and_dogs_filtered.zip’\n",
            "\n",
            "\r          /tmp/cats   0%[                    ]       0  --.-KB/s               \r         /tmp/cats_  52%[=========>          ]  34.41M   172MB/s               \r/tmp/cats_and_dogs_ 100%[===================>]  65.43M   204MB/s    in 0.3s    \n",
            "\n",
            "2019-07-23 12:35:17 (204 MB/s) - ‘/tmp/cats_and_dogs_filtered.zip’ saved [68606236/68606236]\n",
            "\n"
          ],
          "name": "stdout"
        },
        {
          "output_type": "stream",
          "text": [
            "WARNING: Logging before flag parsing goes to stderr.\n",
            "W0723 12:35:23.384770 140294722492288 deprecation.py:506] From /usr/local/lib/python3.6/dist-packages/tensorflow/python/ops/init_ops.py:1251: calling VarianceScaling.__init__ (from tensorflow.python.ops.init_ops) with dtype is deprecated and will be removed in a future version.\n",
            "Instructions for updating:\n",
            "Call initializer instance with the dtype argument instead of passing it to the constructor\n",
            "W0723 12:35:23.617364 140294722492288 deprecation.py:323] From /usr/local/lib/python3.6/dist-packages/tensorflow/python/ops/nn_impl.py:180: add_dispatch_support.<locals>.wrapper (from tensorflow.python.ops.array_ops) is deprecated and will be removed in a future version.\n",
            "Instructions for updating:\n",
            "Use tf.where in 2.0, which has the same broadcast rule as np.where\n"
          ],
          "name": "stderr"
        },
        {
          "output_type": "stream",
          "text": [
            "Found 2000 images belonging to 2 classes.\n",
            "Found 1000 images belonging to 2 classes.\n",
            "Epoch 1/100\n",
            "100/100 - 14s - loss: 0.6926 - acc: 0.5135 - val_loss: 0.6714 - val_acc: 0.6270\n",
            "Epoch 2/100\n",
            "100/100 - 10s - loss: 0.6588 - acc: 0.6105 - val_loss: 0.6541 - val_acc: 0.5830\n",
            "Epoch 3/100\n",
            "100/100 - 10s - loss: 0.6176 - acc: 0.6690 - val_loss: 0.6028 - val_acc: 0.6720\n",
            "Epoch 4/100\n",
            "100/100 - 10s - loss: 0.5679 - acc: 0.7170 - val_loss: 0.5983 - val_acc: 0.6770\n",
            "Epoch 5/100\n",
            "100/100 - 10s - loss: 0.5399 - acc: 0.7320 - val_loss: 0.5803 - val_acc: 0.6930\n",
            "Epoch 6/100\n",
            "100/100 - 10s - loss: 0.5218 - acc: 0.7430 - val_loss: 0.5609 - val_acc: 0.7150\n",
            "Epoch 7/100\n",
            "100/100 - 10s - loss: 0.4960 - acc: 0.7545 - val_loss: 0.5573 - val_acc: 0.7070\n",
            "Epoch 8/100\n",
            "100/100 - 10s - loss: 0.4719 - acc: 0.7745 - val_loss: 0.5482 - val_acc: 0.7170\n",
            "Epoch 9/100\n",
            "100/100 - 10s - loss: 0.4514 - acc: 0.7805 - val_loss: 0.5830 - val_acc: 0.7030\n",
            "Epoch 10/100\n",
            "100/100 - 10s - loss: 0.4253 - acc: 0.7940 - val_loss: 0.5436 - val_acc: 0.7210\n",
            "Epoch 11/100\n",
            "100/100 - 10s - loss: 0.4049 - acc: 0.8070 - val_loss: 0.5963 - val_acc: 0.7010\n",
            "Epoch 12/100\n",
            "100/100 - 10s - loss: 0.3702 - acc: 0.8370 - val_loss: 0.6444 - val_acc: 0.7030\n",
            "Epoch 13/100\n",
            "100/100 - 10s - loss: 0.3501 - acc: 0.8500 - val_loss: 0.5671 - val_acc: 0.7390\n",
            "Epoch 14/100\n",
            "100/100 - 10s - loss: 0.3357 - acc: 0.8545 - val_loss: 0.5521 - val_acc: 0.7320\n",
            "Epoch 15/100\n",
            "100/100 - 10s - loss: 0.3024 - acc: 0.8680 - val_loss: 0.5462 - val_acc: 0.7450\n",
            "Epoch 16/100\n",
            "100/100 - 10s - loss: 0.2820 - acc: 0.8835 - val_loss: 0.5562 - val_acc: 0.7510\n",
            "Epoch 17/100\n",
            "100/100 - 10s - loss: 0.2622 - acc: 0.8935 - val_loss: 0.5560 - val_acc: 0.7420\n",
            "Epoch 18/100\n",
            "100/100 - 10s - loss: 0.2388 - acc: 0.9005 - val_loss: 0.5611 - val_acc: 0.7470\n",
            "Epoch 19/100\n",
            "100/100 - 10s - loss: 0.2117 - acc: 0.9280 - val_loss: 0.7076 - val_acc: 0.7180\n",
            "Epoch 20/100\n",
            "100/100 - 10s - loss: 0.1939 - acc: 0.9310 - val_loss: 0.6257 - val_acc: 0.7590\n",
            "Epoch 21/100\n",
            "100/100 - 10s - loss: 0.1752 - acc: 0.9390 - val_loss: 0.7098 - val_acc: 0.7300\n",
            "Epoch 22/100\n",
            "100/100 - 10s - loss: 0.1650 - acc: 0.9375 - val_loss: 0.6424 - val_acc: 0.7360\n",
            "Epoch 23/100\n",
            "100/100 - 10s - loss: 0.1325 - acc: 0.9560 - val_loss: 0.7297 - val_acc: 0.7260\n",
            "Epoch 24/100\n",
            "100/100 - 10s - loss: 0.1168 - acc: 0.9600 - val_loss: 0.6940 - val_acc: 0.7610\n",
            "Epoch 25/100\n",
            "100/100 - 10s - loss: 0.1093 - acc: 0.9625 - val_loss: 0.7048 - val_acc: 0.7550\n",
            "Epoch 26/100\n",
            "100/100 - 10s - loss: 0.0943 - acc: 0.9680 - val_loss: 0.7787 - val_acc: 0.7470\n",
            "Epoch 27/100\n",
            "100/100 - 10s - loss: 0.0762 - acc: 0.9780 - val_loss: 0.8286 - val_acc: 0.7420\n",
            "Epoch 28/100\n",
            "100/100 - 10s - loss: 0.0683 - acc: 0.9820 - val_loss: 0.9711 - val_acc: 0.7210\n",
            "Epoch 29/100\n",
            "100/100 - 10s - loss: 0.0577 - acc: 0.9850 - val_loss: 0.8502 - val_acc: 0.7450\n",
            "Epoch 30/100\n",
            "100/100 - 10s - loss: 0.0463 - acc: 0.9920 - val_loss: 0.9844 - val_acc: 0.7190\n",
            "Epoch 31/100\n",
            "100/100 - 10s - loss: 0.0474 - acc: 0.9885 - val_loss: 0.8903 - val_acc: 0.7510\n",
            "Epoch 32/100\n",
            "100/100 - 10s - loss: 0.0372 - acc: 0.9935 - val_loss: 0.9613 - val_acc: 0.7500\n",
            "Epoch 33/100\n",
            "100/100 - 10s - loss: 0.0307 - acc: 0.9910 - val_loss: 1.1458 - val_acc: 0.7280\n",
            "Epoch 34/100\n",
            "100/100 - 10s - loss: 0.0236 - acc: 0.9950 - val_loss: 1.0351 - val_acc: 0.7350\n",
            "Epoch 35/100\n",
            "100/100 - 10s - loss: 0.0276 - acc: 0.9910 - val_loss: 1.0685 - val_acc: 0.7420\n",
            "Epoch 36/100\n",
            "100/100 - 10s - loss: 0.0190 - acc: 0.9960 - val_loss: 1.1026 - val_acc: 0.7460\n",
            "Epoch 37/100\n",
            "100/100 - 10s - loss: 0.0192 - acc: 0.9955 - val_loss: 1.3012 - val_acc: 0.7180\n",
            "Epoch 38/100\n",
            "100/100 - 10s - loss: 0.0185 - acc: 0.9960 - val_loss: 1.2512 - val_acc: 0.7370\n",
            "Epoch 39/100\n",
            "100/100 - 10s - loss: 0.0171 - acc: 0.9960 - val_loss: 1.1760 - val_acc: 0.7550\n",
            "Epoch 40/100\n",
            "100/100 - 10s - loss: 0.0165 - acc: 0.9965 - val_loss: 1.1320 - val_acc: 0.7530\n",
            "Epoch 41/100\n",
            "100/100 - 10s - loss: 0.0094 - acc: 0.9980 - val_loss: 1.2717 - val_acc: 0.7430\n",
            "Epoch 42/100\n",
            "100/100 - 10s - loss: 0.0092 - acc: 0.9980 - val_loss: 1.3807 - val_acc: 0.7440\n",
            "Epoch 43/100\n",
            "100/100 - 10s - loss: 0.0130 - acc: 0.9960 - val_loss: 1.5014 - val_acc: 0.7220\n",
            "Epoch 44/100\n",
            "100/100 - 10s - loss: 0.0095 - acc: 0.9985 - val_loss: 1.3459 - val_acc: 0.7460\n",
            "Epoch 45/100\n",
            "100/100 - 10s - loss: 0.0083 - acc: 0.9975 - val_loss: 1.5347 - val_acc: 0.7280\n",
            "Epoch 46/100\n",
            "100/100 - 10s - loss: 0.0133 - acc: 0.9960 - val_loss: 1.4736 - val_acc: 0.7410\n",
            "Epoch 47/100\n",
            "100/100 - 10s - loss: 0.0047 - acc: 1.0000 - val_loss: 1.4708 - val_acc: 0.7470\n",
            "Epoch 48/100\n",
            "100/100 - 10s - loss: 0.0123 - acc: 0.9960 - val_loss: 1.4931 - val_acc: 0.7510\n",
            "Epoch 49/100\n",
            "100/100 - 10s - loss: 0.0068 - acc: 0.9975 - val_loss: 1.4878 - val_acc: 0.7550\n",
            "Epoch 50/100\n",
            "100/100 - 10s - loss: 0.0077 - acc: 0.9970 - val_loss: 1.5204 - val_acc: 0.7510\n",
            "Epoch 51/100\n",
            "100/100 - 10s - loss: 0.0099 - acc: 0.9970 - val_loss: 1.5820 - val_acc: 0.7500\n",
            "Epoch 52/100\n",
            "100/100 - 10s - loss: 0.0149 - acc: 0.9940 - val_loss: 1.5627 - val_acc: 0.7520\n",
            "Epoch 53/100\n",
            "100/100 - 10s - loss: 0.0143 - acc: 0.9965 - val_loss: 1.9855 - val_acc: 0.7150\n",
            "Epoch 54/100\n",
            "100/100 - 10s - loss: 0.0120 - acc: 0.9950 - val_loss: 1.5882 - val_acc: 0.7380\n",
            "Epoch 55/100\n",
            "100/100 - 10s - loss: 0.0049 - acc: 0.9985 - val_loss: 1.5554 - val_acc: 0.7490\n",
            "Epoch 56/100\n",
            "100/100 - 10s - loss: 0.0072 - acc: 0.9975 - val_loss: 1.6661 - val_acc: 0.7420\n",
            "Epoch 57/100\n",
            "100/100 - 10s - loss: 0.0065 - acc: 0.9975 - val_loss: 1.6164 - val_acc: 0.7490\n",
            "Epoch 58/100\n",
            "100/100 - 10s - loss: 0.0088 - acc: 0.9980 - val_loss: 1.6937 - val_acc: 0.7430\n",
            "Epoch 59/100\n",
            "100/100 - 10s - loss: 0.0018 - acc: 0.9995 - val_loss: 1.6703 - val_acc: 0.7540\n",
            "Epoch 60/100\n",
            "100/100 - 10s - loss: 0.0111 - acc: 0.9985 - val_loss: 1.8317 - val_acc: 0.7500\n",
            "Epoch 61/100\n",
            "100/100 - 10s - loss: 0.0108 - acc: 0.9975 - val_loss: 1.7056 - val_acc: 0.7500\n",
            "Epoch 62/100\n",
            "100/100 - 10s - loss: 0.0088 - acc: 0.9980 - val_loss: 1.7222 - val_acc: 0.7450\n",
            "Epoch 63/100\n",
            "100/100 - 10s - loss: 0.0039 - acc: 0.9980 - val_loss: 1.6953 - val_acc: 0.7430\n",
            "Epoch 64/100\n",
            "100/100 - 10s - loss: 0.0044 - acc: 0.9985 - val_loss: 1.6641 - val_acc: 0.7470\n",
            "Epoch 65/100\n",
            "100/100 - 10s - loss: 0.0043 - acc: 0.9980 - val_loss: 1.7528 - val_acc: 0.7450\n",
            "Epoch 66/100\n",
            "100/100 - 10s - loss: 0.0028 - acc: 0.9990 - val_loss: 1.7939 - val_acc: 0.7400\n",
            "Epoch 67/100\n",
            "100/100 - 10s - loss: 0.0105 - acc: 0.9970 - val_loss: 1.8833 - val_acc: 0.7480\n",
            "Epoch 68/100\n",
            "100/100 - 10s - loss: 0.0031 - acc: 0.9985 - val_loss: 1.8866 - val_acc: 0.7500\n",
            "Epoch 69/100\n",
            "100/100 - 10s - loss: 0.0024 - acc: 0.9990 - val_loss: 1.9960 - val_acc: 0.7380\n",
            "Epoch 70/100\n",
            "100/100 - 10s - loss: 0.0058 - acc: 0.9975 - val_loss: 2.0422 - val_acc: 0.7400\n",
            "Epoch 71/100\n",
            "100/100 - 10s - loss: 1.0156e-04 - acc: 1.0000 - val_loss: 2.2887 - val_acc: 0.7240\n",
            "Epoch 72/100\n",
            "100/100 - 10s - loss: 0.0074 - acc: 0.9980 - val_loss: 1.9718 - val_acc: 0.7530\n",
            "Epoch 73/100\n",
            "100/100 - 10s - loss: 0.0028 - acc: 0.9990 - val_loss: 2.0661 - val_acc: 0.7460\n",
            "Epoch 74/100\n",
            "100/100 - 10s - loss: 0.0027 - acc: 0.9990 - val_loss: 1.9515 - val_acc: 0.7460\n",
            "Epoch 75/100\n",
            "100/100 - 10s - loss: 0.0081 - acc: 0.9980 - val_loss: 2.0391 - val_acc: 0.7520\n",
            "Epoch 76/100\n",
            "100/100 - 10s - loss: 0.0052 - acc: 0.9990 - val_loss: 2.0329 - val_acc: 0.7540\n",
            "Epoch 77/100\n",
            "100/100 - 10s - loss: 0.0032 - acc: 0.9985 - val_loss: 1.9428 - val_acc: 0.7460\n",
            "Epoch 78/100\n",
            "100/100 - 10s - loss: 0.0017 - acc: 0.9995 - val_loss: 1.9745 - val_acc: 0.7570\n",
            "Epoch 79/100\n",
            "100/100 - 10s - loss: 0.0077 - acc: 0.9975 - val_loss: 2.1562 - val_acc: 0.7600\n",
            "Epoch 80/100\n",
            "100/100 - 10s - loss: 1.0304e-04 - acc: 1.0000 - val_loss: 2.1240 - val_acc: 0.7450\n",
            "Epoch 81/100\n",
            "100/100 - 10s - loss: 0.0038 - acc: 0.9990 - val_loss: 2.2091 - val_acc: 0.7590\n",
            "Epoch 82/100\n",
            "100/100 - 10s - loss: 0.0018 - acc: 0.9990 - val_loss: 2.2151 - val_acc: 0.7560\n",
            "Epoch 83/100\n",
            "100/100 - 10s - loss: 0.0029 - acc: 0.9985 - val_loss: 2.1328 - val_acc: 0.7530\n",
            "Epoch 84/100\n",
            "100/100 - 10s - loss: 7.2477e-04 - acc: 0.9995 - val_loss: 2.1417 - val_acc: 0.7460\n",
            "Epoch 85/100\n",
            "100/100 - 10s - loss: 3.7357e-04 - acc: 1.0000 - val_loss: 2.2502 - val_acc: 0.7570\n",
            "Epoch 86/100\n",
            "100/100 - 10s - loss: 0.0064 - acc: 0.9985 - val_loss: 2.1669 - val_acc: 0.7390\n",
            "Epoch 87/100\n",
            "100/100 - 10s - loss: 0.0068 - acc: 0.9980 - val_loss: 2.3119 - val_acc: 0.7430\n",
            "Epoch 88/100\n",
            "100/100 - 10s - loss: 0.0075 - acc: 0.9970 - val_loss: 2.1333 - val_acc: 0.7490\n",
            "Epoch 89/100\n",
            "100/100 - 10s - loss: 0.0052 - acc: 0.9980 - val_loss: 2.3609 - val_acc: 0.7380\n",
            "Epoch 90/100\n",
            "100/100 - 10s - loss: 7.5145e-04 - acc: 0.9995 - val_loss: 2.2553 - val_acc: 0.7550\n",
            "Epoch 91/100\n",
            "100/100 - 10s - loss: 0.0041 - acc: 0.9990 - val_loss: 2.3479 - val_acc: 0.7500\n",
            "Epoch 92/100\n",
            "100/100 - 10s - loss: 0.0013 - acc: 1.0000 - val_loss: 2.5102 - val_acc: 0.7530\n",
            "Epoch 93/100\n",
            "100/100 - 10s - loss: 7.8955e-05 - acc: 1.0000 - val_loss: 2.3929 - val_acc: 0.7500\n",
            "Epoch 94/100\n",
            "100/100 - 10s - loss: 0.0043 - acc: 0.9985 - val_loss: 2.5093 - val_acc: 0.7300\n",
            "Epoch 95/100\n",
            "100/100 - 10s - loss: 9.5042e-05 - acc: 1.0000 - val_loss: 2.5123 - val_acc: 0.7440\n",
            "Epoch 96/100\n",
            "100/100 - 10s - loss: 0.0048 - acc: 0.9980 - val_loss: 2.6179 - val_acc: 0.7370\n",
            "Epoch 97/100\n",
            "100/100 - 10s - loss: 0.0070 - acc: 0.9985 - val_loss: 2.4767 - val_acc: 0.7490\n",
            "Epoch 98/100\n",
            "100/100 - 10s - loss: 9.5064e-06 - acc: 1.0000 - val_loss: 2.5309 - val_acc: 0.7510\n",
            "Epoch 99/100\n",
            "100/100 - 10s - loss: 2.1645e-04 - acc: 1.0000 - val_loss: 2.5545 - val_acc: 0.7380\n",
            "Epoch 100/100\n",
            "100/100 - 10s - loss: 0.0062 - acc: 0.9975 - val_loss: 2.4620 - val_acc: 0.7350\n"
          ],
          "name": "stdout"
        }
      ]
    },
    {
      "cell_type": "markdown",
      "metadata": {
        "id": "g6ixVWl85O6Y",
        "colab_type": "text"
      },
      "source": [
        "## Visualization of Training Accuracy and Validation Accuracy - Training and Validation Loss"
      ]
    },
    {
      "cell_type": "code",
      "metadata": {
        "id": "J6vqeowN5KtJ",
        "colab_type": "code",
        "colab": {
          "base_uri": "https://localhost:8080/",
          "height": 545
        },
        "outputId": "9338ef08-96d5-4747-cfe8-fc089d971d56"
      },
      "source": [
        "import matplotlib.pyplot as plt\n",
        "acc = history.history['acc']\n",
        "val_acc = history.history['val_acc']\n",
        "loss = history.history['loss']\n",
        "val_loss = history.history['val_loss']\n",
        "\n",
        "epochs = range(len(acc))\n",
        "\n",
        "plt.plot(epochs, acc, 'bo', label='Training accuracy')\n",
        "plt.plot(epochs, val_acc, 'b', label='Validation accuracy')\n",
        "plt.title('Training and validation accuracy')\n",
        "\n",
        "plt.figure()\n",
        "\n",
        "plt.plot(epochs, loss, 'bo', label='Training Loss')\n",
        "plt.plot(epochs, val_loss, 'b', label='Validation Loss')\n",
        "plt.title('Training and validation loss')\n",
        "plt.legend()\n",
        "\n",
        "plt.show()"
      ],
      "execution_count": 3,
      "outputs": [
        {
          "output_type": "display_data",
          "data": {
            "image/png": "[encoded data removed]",
            "text/plain": [
              "<Figure size 432x288 with 1 Axes>"
            ]
          },
          "metadata": {
            "tags": []
          }
        },
        {
          "output_type": "display_data",
          "data": {
            "image/png": "[encoded data removed]",
            "text/plain": [
              "<Figure size 432x288 with 1 Axes>"
            ]
          },
          "metadata": {
            "tags": []
          }
        }
      ]
    },
    {
      "cell_type": "markdown",
      "metadata": {
        "id": "rQgmljEl8hD6",
        "colab_type": "text"
      },
      "source": [
        "## Instead of the ImageGenerator just rescaling  the image, we also rotate and do other operations Updated to do image augmentation"
      ]
    },
    {
      "cell_type": "code",
      "metadata": {
        "id": "gw1HKC5O9O49",
        "colab_type": "code",
        "colab": {}
      },
      "source": [
        "train_datagen = ImageDataGenerator(rescale=1./255,\n",
        "                                  rotation_range=40,\n",
        "                                  width_shift_range=0.2,\n",
        "                                  height_shift_range=0.2,\n",
        "                                  shear_range=0.2,\n",
        "                                  zoom_range=0.2,\n",
        "                                  horizontal_flip=True,\n",
        "                                  fill_mode='nearest')\n"
      ],
      "execution_count": 0,
      "outputs": []
    },
    {
      "cell_type": "markdown",
      "metadata": {
        "id": "4MQXv4-y_VCw",
        "colab_type": "text"
      },
      "source": [
        "## Rescale test data"
      ]
    },
    {
      "cell_type": "code",
      "metadata": {
        "id": "Rcuf1pLU_Z41",
        "colab_type": "code",
        "colab": {}
      },
      "source": [
        "test_datagen = ImageDataGenerator(rescale=1./255)"
      ],
      "execution_count": 0,
      "outputs": []
    },
    {
      "cell_type": "markdown",
      "metadata": {
        "id": "yrgknIdq_hJx",
        "colab_type": "text"
      },
      "source": [
        "## # Flow training images in batches of 20 using train_datagen generator"
      ]
    },
    {
      "cell_type": "code",
      "metadata": {
        "id": "9oEqBVv0_iNr",
        "colab_type": "code",
        "colab": {
          "base_uri": "https://localhost:8080/",
          "height": 34
        },
        "outputId": "e2399118-1120-4738-c607-6131bf3b30a4"
      },
      "source": [
        "train_generator = train_datagen.flow_from_directory(\n",
        "        train_dir,  # This is the source directory for training images\n",
        "        target_size=(150, 150),  # All images will be resized to 150x150\n",
        "        batch_size=20,\n",
        "        # Since we use binary_crossentropy loss, we need binary labels\n",
        "        class_mode='binary')"
      ],
      "execution_count": 7,
      "outputs": [
        {
          "output_type": "stream",
          "text": [
            "Found 2000 images belonging to 2 classes.\n"
          ],
          "name": "stdout"
        }
      ]
    },
    {
      "cell_type": "markdown",
      "metadata": {
        "id": "X_quOmn8BSTc",
        "colab_type": "text"
      },
      "source": [
        "## Flow validation images in batches of 20 using test_datagen generator"
      ]
    },
    {
      "cell_type": "code",
      "metadata": {
        "id": "_-5WdU6MBuV1",
        "colab_type": "code",
        "colab": {
          "base_uri": "https://localhost:8080/",
          "height": 34
        },
        "outputId": "459176d0-115f-4ab0-cc30-369af457afbd"
      },
      "source": [
        "validation_generator = test_datagen.flow_from_directory(\n",
        "        validation_dir,\n",
        "        target_size=(150, 150),\n",
        "        batch_size=20,\n",
        "        class_mode='binary')"
      ],
      "execution_count": 8,
      "outputs": [
        {
          "output_type": "stream",
          "text": [
            "Found 1000 images belonging to 2 classes.\n"
          ],
          "name": "stdout"
        }
      ]
    },
    {
      "cell_type": "code",
      "metadata": {
        "id": "ivYTtu00DPHo",
        "colab_type": "code",
        "colab": {
          "base_uri": "https://localhost:8080/",
          "height": 1000
        },
        "outputId": "c9c5b080-c7c7-4cff-f3c7-bc9e3af32824"
      },
      "source": [
        "history = model.fit_generator(\n",
        "      train_generator,\n",
        "      steps_per_epoch=100,  # 2000 images = batch_size * steps\n",
        "      epochs=100,\n",
        "      validation_data=validation_generator,\n",
        "      validation_steps=50,  # 1000 images = batch_size * steps\n",
        "      verbose=2)"
      ],
      "execution_count": 9,
      "outputs": [
        {
          "output_type": "stream",
          "text": [
            "Epoch 1/100\n",
            "100/100 - 22s - loss: 1.3937 - acc: 0.6475 - val_loss: 0.5826 - val_acc: 0.7070\n",
            "Epoch 2/100\n",
            "100/100 - 20s - loss: 0.6004 - acc: 0.6950 - val_loss: 0.5258 - val_acc: 0.7490\n",
            "Epoch 3/100\n",
            "100/100 - 19s - loss: 0.5918 - acc: 0.6825 - val_loss: 0.5043 - val_acc: 0.7450\n",
            "Epoch 4/100\n",
            "100/100 - 19s - loss: 0.5709 - acc: 0.7075 - val_loss: 0.5019 - val_acc: 0.7450\n",
            "Epoch 5/100\n",
            "100/100 - 19s - loss: 0.5658 - acc: 0.7130 - val_loss: 0.4952 - val_acc: 0.7500\n",
            "Epoch 6/100\n",
            "100/100 - 20s - loss: 0.5415 - acc: 0.7250 - val_loss: 0.5168 - val_acc: 0.7450\n",
            "Epoch 7/100\n",
            "100/100 - 19s - loss: 0.5448 - acc: 0.7270 - val_loss: 0.4794 - val_acc: 0.7690\n",
            "Epoch 8/100\n",
            "100/100 - 19s - loss: 0.5376 - acc: 0.7300 - val_loss: 0.5067 - val_acc: 0.7430\n",
            "Epoch 9/100\n",
            "100/100 - 19s - loss: 0.5327 - acc: 0.7275 - val_loss: 0.4863 - val_acc: 0.7660\n",
            "Epoch 10/100\n",
            "100/100 - 19s - loss: 0.5336 - acc: 0.7345 - val_loss: 0.4956 - val_acc: 0.7570\n",
            "Epoch 11/100\n",
            "100/100 - 20s - loss: 0.5232 - acc: 0.7405 - val_loss: 0.4969 - val_acc: 0.7650\n",
            "Epoch 12/100\n",
            "100/100 - 20s - loss: 0.5221 - acc: 0.7435 - val_loss: 0.4859 - val_acc: 0.7580\n",
            "Epoch 13/100\n",
            "100/100 - 20s - loss: 0.5120 - acc: 0.7490 - val_loss: 0.4707 - val_acc: 0.7850\n",
            "Epoch 14/100\n",
            "100/100 - 20s - loss: 0.5270 - acc: 0.7380 - val_loss: 0.4995 - val_acc: 0.7430\n",
            "Epoch 15/100\n",
            "100/100 - 19s - loss: 0.5137 - acc: 0.7565 - val_loss: 0.5166 - val_acc: 0.7530\n",
            "Epoch 16/100\n",
            "100/100 - 19s - loss: 0.5218 - acc: 0.7535 - val_loss: 0.4555 - val_acc: 0.7840\n",
            "Epoch 17/100\n",
            "100/100 - 19s - loss: 0.5082 - acc: 0.7390 - val_loss: 0.5047 - val_acc: 0.7510\n",
            "Epoch 18/100\n",
            "100/100 - 19s - loss: 0.5026 - acc: 0.7540 - val_loss: 0.4691 - val_acc: 0.7780\n",
            "Epoch 19/100\n",
            "100/100 - 19s - loss: 0.5185 - acc: 0.7375 - val_loss: 0.4976 - val_acc: 0.7520\n",
            "Epoch 20/100\n",
            "100/100 - 19s - loss: 0.5026 - acc: 0.7435 - val_loss: 0.4483 - val_acc: 0.7860\n",
            "Epoch 21/100\n",
            "100/100 - 19s - loss: 0.4951 - acc: 0.7695 - val_loss: 0.4915 - val_acc: 0.7570\n",
            "Epoch 22/100\n",
            "100/100 - 19s - loss: 0.4864 - acc: 0.7620 - val_loss: 0.5008 - val_acc: 0.7640\n",
            "Epoch 23/100\n",
            "100/100 - 19s - loss: 0.4846 - acc: 0.7740 - val_loss: 0.4660 - val_acc: 0.7870\n",
            "Epoch 24/100\n",
            "100/100 - 19s - loss: 0.4846 - acc: 0.7765 - val_loss: 0.4428 - val_acc: 0.7880\n",
            "Epoch 25/100\n",
            "100/100 - 19s - loss: 0.4855 - acc: 0.7585 - val_loss: 0.4500 - val_acc: 0.7830\n",
            "Epoch 26/100\n",
            "100/100 - 20s - loss: 0.4930 - acc: 0.7750 - val_loss: 0.4783 - val_acc: 0.7860\n",
            "Epoch 27/100\n",
            "100/100 - 19s - loss: 0.4751 - acc: 0.7735 - val_loss: 0.4520 - val_acc: 0.7870\n",
            "Epoch 28/100\n",
            "100/100 - 19s - loss: 0.4867 - acc: 0.7680 - val_loss: 0.4577 - val_acc: 0.7870\n",
            "Epoch 29/100\n",
            "100/100 - 19s - loss: 0.4808 - acc: 0.7675 - val_loss: 0.4444 - val_acc: 0.7930\n",
            "Epoch 30/100\n",
            "100/100 - 19s - loss: 0.4691 - acc: 0.7775 - val_loss: 0.4563 - val_acc: 0.7670\n",
            "Epoch 31/100\n",
            "100/100 - 19s - loss: 0.4748 - acc: 0.7680 - val_loss: 0.4628 - val_acc: 0.7710\n",
            "Epoch 32/100\n",
            "100/100 - 19s - loss: 0.4790 - acc: 0.7750 - val_loss: 0.4564 - val_acc: 0.7920\n",
            "Epoch 33/100\n",
            "100/100 - 19s - loss: 0.4752 - acc: 0.7735 - val_loss: 0.4466 - val_acc: 0.7930\n",
            "Epoch 34/100\n",
            "100/100 - 19s - loss: 0.4671 - acc: 0.7815 - val_loss: 0.4561 - val_acc: 0.7760\n",
            "Epoch 35/100\n",
            "100/100 - 19s - loss: 0.4806 - acc: 0.7635 - val_loss: 0.4468 - val_acc: 0.7970\n",
            "Epoch 36/100\n",
            "100/100 - 19s - loss: 0.4464 - acc: 0.7815 - val_loss: 0.5013 - val_acc: 0.7590\n",
            "Epoch 37/100\n",
            "100/100 - 19s - loss: 0.4636 - acc: 0.7880 - val_loss: 0.4390 - val_acc: 0.8020\n",
            "Epoch 38/100\n",
            "100/100 - 19s - loss: 0.4580 - acc: 0.7795 - val_loss: 0.4899 - val_acc: 0.7740\n",
            "Epoch 39/100\n",
            "100/100 - 19s - loss: 0.4498 - acc: 0.7935 - val_loss: 0.4564 - val_acc: 0.7800\n",
            "Epoch 40/100\n",
            "100/100 - 19s - loss: 0.4529 - acc: 0.7815 - val_loss: 0.4931 - val_acc: 0.7970\n",
            "Epoch 41/100\n",
            "100/100 - 19s - loss: 0.4766 - acc: 0.7750 - val_loss: 0.5000 - val_acc: 0.7530\n",
            "Epoch 42/100\n",
            "100/100 - 19s - loss: 0.4510 - acc: 0.7810 - val_loss: 0.4676 - val_acc: 0.7920\n",
            "Epoch 43/100\n",
            "100/100 - 19s - loss: 0.4547 - acc: 0.7905 - val_loss: 0.6297 - val_acc: 0.6950\n",
            "Epoch 44/100\n",
            "100/100 - 19s - loss: 0.4473 - acc: 0.7865 - val_loss: 0.4659 - val_acc: 0.7780\n",
            "Epoch 45/100\n",
            "100/100 - 19s - loss: 0.4504 - acc: 0.7930 - val_loss: 0.4367 - val_acc: 0.7980\n",
            "Epoch 46/100\n",
            "100/100 - 19s - loss: 0.4372 - acc: 0.7900 - val_loss: 0.4178 - val_acc: 0.8070\n",
            "Epoch 47/100\n",
            "100/100 - 19s - loss: 0.4403 - acc: 0.7985 - val_loss: 0.5013 - val_acc: 0.7660\n",
            "Epoch 48/100\n",
            "100/100 - 19s - loss: 0.4516 - acc: 0.7975 - val_loss: 0.4458 - val_acc: 0.7920\n",
            "Epoch 49/100\n",
            "100/100 - 19s - loss: 0.4436 - acc: 0.8010 - val_loss: 0.4390 - val_acc: 0.8050\n",
            "Epoch 50/100\n",
            "100/100 - 19s - loss: 0.4379 - acc: 0.7990 - val_loss: 0.4323 - val_acc: 0.8020\n",
            "Epoch 51/100\n",
            "100/100 - 19s - loss: 0.4542 - acc: 0.7840 - val_loss: 0.5435 - val_acc: 0.7510\n",
            "Epoch 52/100\n",
            "100/100 - 19s - loss: 0.4338 - acc: 0.8070 - val_loss: 0.4647 - val_acc: 0.7820\n",
            "Epoch 53/100\n",
            "100/100 - 19s - loss: 0.4575 - acc: 0.7865 - val_loss: 0.5000 - val_acc: 0.7590\n",
            "Epoch 54/100\n",
            "100/100 - 19s - loss: 0.4492 - acc: 0.7925 - val_loss: 0.4220 - val_acc: 0.8050\n",
            "Epoch 55/100\n",
            "100/100 - 19s - loss: 0.4340 - acc: 0.7935 - val_loss: 0.4503 - val_acc: 0.8030\n",
            "Epoch 56/100\n",
            "100/100 - 20s - loss: 0.4351 - acc: 0.7985 - val_loss: 0.4296 - val_acc: 0.8170\n",
            "Epoch 57/100\n",
            "100/100 - 19s - loss: 0.4405 - acc: 0.8010 - val_loss: 0.4989 - val_acc: 0.7800\n",
            "Epoch 58/100\n",
            "100/100 - 19s - loss: 0.4252 - acc: 0.8040 - val_loss: 0.4323 - val_acc: 0.8020\n",
            "Epoch 59/100\n",
            "100/100 - 19s - loss: 0.4303 - acc: 0.7955 - val_loss: 0.4642 - val_acc: 0.7890\n",
            "Epoch 60/100\n",
            "100/100 - 19s - loss: 0.4279 - acc: 0.8060 - val_loss: 0.5354 - val_acc: 0.7820\n",
            "Epoch 61/100\n",
            "100/100 - 19s - loss: 0.4121 - acc: 0.8150 - val_loss: 0.4743 - val_acc: 0.7960\n",
            "Epoch 62/100\n",
            "100/100 - 19s - loss: 0.4393 - acc: 0.7990 - val_loss: 0.4411 - val_acc: 0.7950\n",
            "Epoch 63/100\n",
            "100/100 - 19s - loss: 0.4283 - acc: 0.7975 - val_loss: 0.4340 - val_acc: 0.8000\n",
            "Epoch 64/100\n",
            "100/100 - 19s - loss: 0.4204 - acc: 0.8065 - val_loss: 0.4687 - val_acc: 0.7910\n",
            "Epoch 65/100\n",
            "100/100 - 19s - loss: 0.4482 - acc: 0.7865 - val_loss: 0.4425 - val_acc: 0.8020\n",
            "Epoch 66/100\n",
            "100/100 - 19s - loss: 0.4300 - acc: 0.8010 - val_loss: 0.4115 - val_acc: 0.8110\n",
            "Epoch 67/100\n",
            "100/100 - 19s - loss: 0.4197 - acc: 0.8025 - val_loss: 0.4945 - val_acc: 0.7730\n",
            "Epoch 68/100\n",
            "100/100 - 19s - loss: 0.4357 - acc: 0.7965 - val_loss: 0.4315 - val_acc: 0.8100\n",
            "Epoch 69/100\n",
            "100/100 - 19s - loss: 0.4023 - acc: 0.8230 - val_loss: 0.4617 - val_acc: 0.7920\n",
            "Epoch 70/100\n",
            "100/100 - 19s - loss: 0.4055 - acc: 0.8250 - val_loss: 0.4495 - val_acc: 0.8010\n",
            "Epoch 71/100\n",
            "100/100 - 19s - loss: 0.4106 - acc: 0.8100 - val_loss: 0.4307 - val_acc: 0.8030\n",
            "Epoch 72/100\n",
            "100/100 - 19s - loss: 0.4043 - acc: 0.8115 - val_loss: 0.4710 - val_acc: 0.7720\n",
            "Epoch 73/100\n",
            "100/100 - 19s - loss: 0.4203 - acc: 0.8095 - val_loss: 0.4637 - val_acc: 0.7930\n",
            "Epoch 74/100\n",
            "100/100 - 19s - loss: 0.4178 - acc: 0.8175 - val_loss: 0.4447 - val_acc: 0.7960\n",
            "Epoch 75/100\n",
            "100/100 - 19s - loss: 0.4165 - acc: 0.8120 - val_loss: 0.4382 - val_acc: 0.7930\n",
            "Epoch 76/100\n",
            "100/100 - 19s - loss: 0.4011 - acc: 0.8135 - val_loss: 0.4220 - val_acc: 0.8050\n",
            "Epoch 77/100\n",
            "100/100 - 19s - loss: 0.4241 - acc: 0.8080 - val_loss: 0.4237 - val_acc: 0.8190\n",
            "Epoch 78/100\n",
            "100/100 - 19s - loss: 0.4115 - acc: 0.8130 - val_loss: 0.4386 - val_acc: 0.8090\n",
            "Epoch 79/100\n",
            "100/100 - 19s - loss: 0.4095 - acc: 0.8220 - val_loss: 0.4827 - val_acc: 0.8210\n",
            "Epoch 80/100\n",
            "100/100 - 19s - loss: 0.3965 - acc: 0.8225 - val_loss: 0.4574 - val_acc: 0.7840\n",
            "Epoch 81/100\n",
            "100/100 - 19s - loss: 0.3863 - acc: 0.8350 - val_loss: 0.4506 - val_acc: 0.7920\n",
            "Epoch 82/100\n",
            "100/100 - 19s - loss: 0.4069 - acc: 0.8175 - val_loss: 0.4092 - val_acc: 0.8250\n",
            "Epoch 83/100\n",
            "100/100 - 19s - loss: 0.3919 - acc: 0.8325 - val_loss: 0.4077 - val_acc: 0.8120\n",
            "Epoch 84/100\n",
            "100/100 - 19s - loss: 0.3980 - acc: 0.8170 - val_loss: 0.4791 - val_acc: 0.7800\n",
            "Epoch 85/100\n",
            "100/100 - 19s - loss: 0.3979 - acc: 0.8325 - val_loss: 0.4927 - val_acc: 0.7810\n",
            "Epoch 86/100\n",
            "100/100 - 19s - loss: 0.3983 - acc: 0.8200 - val_loss: 0.4583 - val_acc: 0.7910\n",
            "Epoch 87/100\n",
            "100/100 - 19s - loss: 0.3995 - acc: 0.8320 - val_loss: 0.5721 - val_acc: 0.7980\n",
            "Epoch 88/100\n",
            "100/100 - 20s - loss: 0.3950 - acc: 0.8170 - val_loss: 0.5752 - val_acc: 0.7730\n",
            "Epoch 89/100\n",
            "100/100 - 19s - loss: 0.3942 - acc: 0.8250 - val_loss: 0.4657 - val_acc: 0.8010\n",
            "Epoch 90/100\n",
            "100/100 - 20s - loss: 0.3896 - acc: 0.8240 - val_loss: 0.4025 - val_acc: 0.8210\n",
            "Epoch 91/100\n",
            "100/100 - 19s - loss: 0.4002 - acc: 0.8200 - val_loss: 0.4115 - val_acc: 0.8130\n",
            "Epoch 92/100\n",
            "100/100 - 19s - loss: 0.4065 - acc: 0.8110 - val_loss: 0.4585 - val_acc: 0.7910\n",
            "Epoch 93/100\n",
            "100/100 - 19s - loss: 0.3887 - acc: 0.8290 - val_loss: 0.4299 - val_acc: 0.7990\n",
            "Epoch 94/100\n",
            "100/100 - 19s - loss: 0.4008 - acc: 0.8295 - val_loss: 0.4619 - val_acc: 0.7920\n",
            "Epoch 95/100\n",
            "100/100 - 20s - loss: 0.3852 - acc: 0.8325 - val_loss: 0.5330 - val_acc: 0.7740\n",
            "Epoch 96/100\n",
            "100/100 - 20s - loss: 0.3959 - acc: 0.8205 - val_loss: 0.4845 - val_acc: 0.8060\n",
            "Epoch 97/100\n",
            "100/100 - 20s - loss: 0.4002 - acc: 0.8295 - val_loss: 0.4100 - val_acc: 0.8130\n",
            "Epoch 98/100\n",
            "100/100 - 20s - loss: 0.3969 - acc: 0.8315 - val_loss: 0.4147 - val_acc: 0.8140\n",
            "Epoch 99/100\n",
            "100/100 - 19s - loss: 0.3638 - acc: 0.8490 - val_loss: 0.5072 - val_acc: 0.7940\n",
            "Epoch 100/100\n",
            "100/100 - 19s - loss: 0.4007 - acc: 0.8200 - val_loss: 0.4542 - val_acc: 0.7890\n"
          ],
          "name": "stdout"
        }
      ]
    },
    {
      "cell_type": "code",
      "metadata": {
        "id": "ZTfOtHwRL89s",
        "colab_type": "code",
        "colab": {
          "base_uri": "https://localhost:8080/",
          "height": 545
        },
        "outputId": "108df332-de41-4563-8b91-fcd59b6bbc5d"
      },
      "source": [
        "import matplotlib.pyplot as plt\n",
        "acc = history.history['acc']\n",
        "val_acc = history.history['val_acc']\n",
        "loss = history.history['loss']\n",
        "val_loss = history.history['val_loss']\n",
        "\n",
        "epochs = range(len(acc))\n",
        "\n",
        "plt.plot(epochs, acc, 'bo', label='Training accuracy')\n",
        "plt.plot(epochs, val_acc, 'b', label='Validation accuracy')\n",
        "plt.title('Training and validation accuracy')\n",
        "plt.legend()\n",
        "plt.figure()\n",
        "\n",
        "plt.plot(epochs, loss, 'bo', label='Training Loss')\n",
        "plt.plot(epochs, val_loss, 'b', label='Validation Loss')\n",
        "plt.title('Training and validation loss')\n",
        "plt.legend()\n",
        "\n",
        "plt.show()"
      ],
      "execution_count": 11,
      "outputs": [
        {
          "output_type": "display_data",
          "data": {
            "image/png": "[encoded data removed]",
            "text/plain": [
              "<Figure size 432x288 with 1 Axes>"
            ]
          },
          "metadata": {
            "tags": []
          }
        },
        {
          "output_type": "display_data",
          "data": {
            "image/png": "[encoded data removed]",
            "text/plain": [
              "<Figure size 432x288 with 1 Axes>"
            ]
          },
          "metadata": {
            "tags": []
          }
        }
      ]
    }
  ]
}