{
  "nbformat": 4,
  "nbformat_minor": 0,
  "metadata": {
    "colab": {
      "name": "Horse-or-Human-WithAugmentation.ipynb",
      "version": "0.3.2",
      "provenance": [],
      "include_colab_link": true
    },
    "kernelspec": {
      "name": "python3",
      "display_name": "Python 3"
    },
    "accelerator": "GPU"
  },
  "cells": [
    {
      "cell_type": "markdown",
      "metadata": {
        "id": "view-in-github",
        "colab_type": "text"
      },
      "source": [
        "<a href=\"https://colab.research.google.com/github/plaban1981/DEEP-LEARNING-/blob/master/Horse_or_Human_WithAugmentation.ipynb\" target=\"_parent\"><img src=\"https://colab.research.google.com/assets/colab-badge.svg\" alt=\"Open In Colab\"/></a>"
      ]
    },
    {
      "cell_type": "markdown",
      "metadata": {
        "id": "FLKng7_Gy6wc",
        "colab_type": "text"
      },
      "source": [
        "## Upload training data"
      ]
    },
    {
      "cell_type": "code",
      "metadata": {
        "id": "nfECLuDJt_pM",
        "colab_type": "code",
        "colab": {
          "base_uri": "https://localhost:8080/",
          "height": 204
        },
        "outputId": "c9f70d25-e5d8-430e-9d4b-e2119d31b3ed"
      },
      "source": [
        "!wget --no-check-certificate \\\n",
        "    https://storage.googleapis.com/laurencemoroney-blog.appspot.com/horse-or-human.zip \\\n",
        "    -O /tmp/horse-or-human.zip"
      ],
      "execution_count": 1,
      "outputs": [
        {
          "output_type": "stream",
          "text": [
            "--2019-07-24 07:05:31--  https://storage.googleapis.com/laurencemoroney-blog.appspot.com/horse-or-human.zip\n",
            "Resolving storage.googleapis.com (storage.googleapis.com)... 74.125.141.128, 2607:f8b0:400c:c06::80\n",
            "Connecting to storage.googleapis.com (storage.googleapis.com)|74.125.141.128|:443... connected.\n",
            "HTTP request sent, awaiting response... 200 OK\n",
            "Length: 149574867 (143M) [application/zip]\n",
            "Saving to: ‘/tmp/horse-or-human.zip’\n",
            "\n",
            "/tmp/horse-or-human 100%[===================>] 142.65M   189MB/s    in 0.8s    \n",
            "\n",
            "2019-07-24 07:05:32 (189 MB/s) - ‘/tmp/horse-or-human.zip’ saved [149574867/149574867]\n",
            "\n"
          ],
          "name": "stdout"
        }
      ]
    },
    {
      "cell_type": "markdown",
      "metadata": {
        "id": "cw17uxgpzdQr",
        "colab_type": "text"
      },
      "source": [
        "## Upload Validation Data"
      ]
    },
    {
      "cell_type": "code",
      "metadata": {
        "id": "n1cZu-ArzcaJ",
        "colab_type": "code",
        "colab": {
          "base_uri": "https://localhost:8080/",
          "height": 224
        },
        "outputId": "ba08402d-e26a-4b0f-8537-63a3ca74a40c"
      },
      "source": [
        "!wget --no-check-certificate \\\n",
        "    https://storage.googleapis.com/laurencemoroney-blog.appspot.com/validation-horse-or-human.zip \\\n",
        "    -O /tmp/validation-horse-or-human.zip"
      ],
      "execution_count": 2,
      "outputs": [
        {
          "output_type": "stream",
          "text": [
            "--2019-07-24 07:07:43--  https://storage.googleapis.com/laurencemoroney-blog.appspot.com/validation-horse-or-human.zip\n",
            "Resolving storage.googleapis.com (storage.googleapis.com)... 74.125.141.128, 2607:f8b0:400c:c06::80\n",
            "Connecting to storage.googleapis.com (storage.googleapis.com)|74.125.141.128|:443... connected.\n",
            "HTTP request sent, awaiting response... 200 OK\n",
            "Length: 11480187 (11M) [application/zip]\n",
            "Saving to: ‘/tmp/validation-horse-or-human.zip’\n",
            "\n",
            "\r          /tmp/vali   0%[                    ]       0  --.-KB/s               \r/tmp/validation-hor 100%[===================>]  10.95M  --.-KB/s    in 0.1s    \n",
            "\n",
            "2019-07-24 07:07:43 (79.2 MB/s) - ‘/tmp/validation-horse-or-human.zip’ saved [11480187/11480187]\n",
            "\n"
          ],
          "name": "stdout"
        }
      ]
    },
    {
      "cell_type": "code",
      "metadata": {
        "id": "Sh2jUCMxzxT3",
        "colab_type": "code",
        "colab": {}
      },
      "source": [
        "import os\n",
        "import zipfile\n",
        "\n",
        "local_zip = '/tmp/horse-or-human.zip'\n",
        "zip_ref = zipfile.ZipFile(local_zip, 'r')\n",
        "zip_ref.extractall('/tmp/horse-or-human')\n",
        "local_zip = '/tmp/validation-horse-or-human.zip'\n",
        "zip_ref = zipfile.ZipFile(local_zip, 'r')\n",
        "zip_ref.extractall('/tmp/validation-horse-or-human')\n",
        "zip_ref.close()\n",
        "# Directory with our training horse pictures\n",
        "train_horse_dir = os.path.join('/tmp/horse-or-human/horses')\n",
        "\n",
        "# Directory with our training human pictures\n",
        "train_human_dir = os.path.join('/tmp/horse-or-human/humans')\n",
        "\n",
        "# Directory with our training horse pictures\n",
        "validation_horse_dir = os.path.join('/tmp/validation-horse-or-human/horses')\n",
        "\n",
        "# Directory with our training human pictures\n",
        "validation_human_dir = os.path.join('/tmp/validation-horse-or-human/humans')"
      ],
      "execution_count": 0,
      "outputs": []
    },
    {
      "cell_type": "markdown",
      "metadata": {
        "id": "UNdqug-05wg4",
        "colab_type": "text"
      },
      "source": [
        "##Building a Small Model from Scratch"
      ]
    },
    {
      "cell_type": "code",
      "metadata": {
        "id": "s2PMp_Me5xqV",
        "colab_type": "code",
        "colab": {}
      },
      "source": [
        "import tensorflow as tf"
      ],
      "execution_count": 0,
      "outputs": []
    },
    {
      "cell_type": "code",
      "metadata": {
        "id": "9mWJvXvY6NXo",
        "colab_type": "code",
        "colab": {
          "base_uri": "https://localhost:8080/",
          "height": 105
        },
        "outputId": "abe9493c-2707-47d0-e1e0-98abb66ae1b5"
      },
      "source": [
        "model = tf.keras.models.Sequential([\n",
        "    # Note the input shape is the desired size of the image 300x300 with 3 bytes color\n",
        "    # This is the first convolution\n",
        "    tf.keras.layers.Conv2D(16, (3,3), activation='relu', input_shape=(300, 300, 3)),\n",
        "    tf.keras.layers.MaxPooling2D(2, 2),\n",
        "    # The second convolution\n",
        "    tf.keras.layers.Conv2D(32, (3,3), activation='relu'),\n",
        "    tf.keras.layers.MaxPooling2D(2,2),\n",
        "    # The third convolution\n",
        "    tf.keras.layers.Conv2D(64, (3,3), activation='relu'),\n",
        "    tf.keras.layers.MaxPooling2D(2,2),\n",
        "    # The fourth convolution\n",
        "    tf.keras.layers.Conv2D(64, (3,3), activation='relu'),\n",
        "    tf.keras.layers.MaxPooling2D(2,2),\n",
        "    # The fifth convolution\n",
        "    tf.keras.layers.Conv2D(64, (3,3), activation='relu'),\n",
        "    tf.keras.layers.MaxPooling2D(2,2),\n",
        "    # Flatten the results to feed into a DNN\n",
        "    tf.keras.layers.Flatten(),\n",
        "    # 512 neuron hidden layer\n",
        "    tf.keras.layers.Dense(512, activation='relu'),\n",
        "    # Only 1 output neuron. It will contain a value from 0-1 where 0 for 1 class ('horses') and 1 for the other ('humans')\n",
        "    tf.keras.layers.Dense(1, activation='sigmoid')\n",
        "])"
      ],
      "execution_count": 5,
      "outputs": [
        {
          "output_type": "stream",
          "text": [
            "WARNING: Logging before flag parsing goes to stderr.\n",
            "W0724 07:36:34.133507 139917540652928 deprecation.py:506] From /usr/local/lib/python3.6/dist-packages/tensorflow/python/ops/init_ops.py:1251: calling VarianceScaling.__init__ (from tensorflow.python.ops.init_ops) with dtype is deprecated and will be removed in a future version.\n",
            "Instructions for updating:\n",
            "Call initializer instance with the dtype argument instead of passing it to the constructor\n"
          ],
          "name": "stderr"
        }
      ]
    },
    {
      "cell_type": "code",
      "metadata": {
        "id": "f5pWfLxw6Tem",
        "colab_type": "code",
        "colab": {
          "base_uri": "https://localhost:8080/",
          "height": 595
        },
        "outputId": "59ea3084-fbe6-46bd-f4a1-abfefea64e7d"
      },
      "source": [
        "model.summary()"
      ],
      "execution_count": 6,
      "outputs": [
        {
          "output_type": "stream",
          "text": [
            "Model: \"sequential\"\n",
            "_________________________________________________________________\n",
            "Layer (type)                 Output Shape              Param #   \n",
            "=================================================================\n",
            "conv2d (Conv2D)              (None, 298, 298, 16)      448       \n",
            "_________________________________________________________________\n",
            "max_pooling2d (MaxPooling2D) (None, 149, 149, 16)      0         \n",
            "_________________________________________________________________\n",
            "conv2d_1 (Conv2D)            (None, 147, 147, 32)      4640      \n",
            "_________________________________________________________________\n",
            "max_pooling2d_1 (MaxPooling2 (None, 73, 73, 32)        0         \n",
            "_________________________________________________________________\n",
            "conv2d_2 (Conv2D)            (None, 71, 71, 64)        18496     \n",
            "_________________________________________________________________\n",
            "max_pooling2d_2 (MaxPooling2 (None, 35, 35, 64)        0         \n",
            "_________________________________________________________________\n",
            "conv2d_3 (Conv2D)            (None, 33, 33, 64)        36928     \n",
            "_________________________________________________________________\n",
            "max_pooling2d_3 (MaxPooling2 (None, 16, 16, 64)        0         \n",
            "_________________________________________________________________\n",
            "conv2d_4 (Conv2D)            (None, 14, 14, 64)        36928     \n",
            "_________________________________________________________________\n",
            "max_pooling2d_4 (MaxPooling2 (None, 7, 7, 64)          0         \n",
            "_________________________________________________________________\n",
            "flatten (Flatten)            (None, 3136)              0         \n",
            "_________________________________________________________________\n",
            "dense (Dense)                (None, 512)               1606144   \n",
            "_________________________________________________________________\n",
            "dense_1 (Dense)              (None, 1)                 513       \n",
            "=================================================================\n",
            "Total params: 1,704,097\n",
            "Trainable params: 1,704,097\n",
            "Non-trainable params: 0\n",
            "_________________________________________________________________\n"
          ],
          "name": "stdout"
        }
      ]
    },
    {
      "cell_type": "markdown",
      "metadata": {
        "id": "WzSHj6NP8Dfm",
        "colab_type": "text"
      },
      "source": [
        "## Compile the Model"
      ]
    },
    {
      "cell_type": "code",
      "metadata": {
        "id": "NJ0Wf5jt6lMt",
        "colab_type": "code",
        "colab": {
          "base_uri": "https://localhost:8080/",
          "height": 88
        },
        "outputId": "e96101b2-fe00-469e-b778-26b952ad6bf9"
      },
      "source": [
        "from tensorflow.keras.optimizers import RMSprop\n",
        "model.compile(loss='binary_crossentropy',optimizer=RMSprop(lr=1e-4),metrics=['accuracy'])"
      ],
      "execution_count": 7,
      "outputs": [
        {
          "output_type": "stream",
          "text": [
            "W0724 07:44:42.157269 139917540652928 deprecation.py:323] From /usr/local/lib/python3.6/dist-packages/tensorflow/python/ops/nn_impl.py:180: add_dispatch_support.<locals>.wrapper (from tensorflow.python.ops.array_ops) is deprecated and will be removed in a future version.\n",
            "Instructions for updating:\n",
            "Use tf.where in 2.0, which has the same broadcast rule as np.where\n"
          ],
          "name": "stderr"
        }
      ]
    },
    {
      "cell_type": "markdown",
      "metadata": {
        "id": "QUbLqTCP8Lur",
        "colab_type": "text"
      },
      "source": [
        "## Data Augmentation"
      ]
    },
    {
      "cell_type": "code",
      "metadata": {
        "id": "X1IRY1Qx8TKh",
        "colab_type": "code",
        "colab": {}
      },
      "source": [
        "from tensorflow.keras.preprocessing.image import ImageDataGenerator\n",
        "\n",
        "# All images will be rescaled by 1./255\n",
        "train_datagen = ImageDataGenerator(\n",
        "      rescale=1./255,\n",
        "      rotation_range=40,\n",
        "      width_shift_range=0.2,\n",
        "      height_shift_range=0.2,\n",
        "      shear_range=0.2,\n",
        "      zoom_range=0.2,\n",
        "      horizontal_flip=True,\n",
        "      fill_mode='nearest')\n",
        "\n",
        "validation_datagen = ImageDataGenerator(rescale=1/255)"
      ],
      "execution_count": 0,
      "outputs": []
    },
    {
      "cell_type": "markdown",
      "metadata": {
        "id": "MYTQ0d6b9bbP",
        "colab_type": "text"
      },
      "source": [
        "## # Flow training images in batches of 128 using train_datagen generator"
      ]
    },
    {
      "cell_type": "code",
      "metadata": {
        "id": "sOchK0B-9pL8",
        "colab_type": "code",
        "colab": {
          "base_uri": "https://localhost:8080/",
          "height": 34
        },
        "outputId": "9194fdad-2b4b-4c0c-c223-1d734254c629"
      },
      "source": [
        "train_generator = train_datagen.flow_from_directory(\n",
        "        '/tmp/horse-or-human/',  # This is the source directory for training images\n",
        "        target_size=(300, 300),  # All images will be resized to 150x150\n",
        "        batch_size=128,\n",
        "        # Since we use binary_crossentropy loss, we need binary labels\n",
        "        class_mode='binary')"
      ],
      "execution_count": 10,
      "outputs": [
        {
          "output_type": "stream",
          "text": [
            "Found 1027 images belonging to 2 classes.\n"
          ],
          "name": "stdout"
        }
      ]
    },
    {
      "cell_type": "markdown",
      "metadata": {
        "id": "PORNwt70-HoZ",
        "colab_type": "text"
      },
      "source": [
        "## # Flow training images in batches of 128 using train_datagen generator"
      ]
    },
    {
      "cell_type": "code",
      "metadata": {
        "id": "zdvCWTx0-K1H",
        "colab_type": "code",
        "colab": {
          "base_uri": "https://localhost:8080/",
          "height": 34
        },
        "outputId": "98234a4b-1d20-4a7e-b294-562a1d0a846e"
      },
      "source": [
        "validation_generator = validation_datagen.flow_from_directory(\n",
        "        '/tmp/validation-horse-or-human/',  # This is the source directory for training images\n",
        "        target_size=(300, 300),  # All images will be resized to 150x150\n",
        "        batch_size=32,\n",
        "        # Since we use binary_crossentropy loss, we need binary labels\n",
        "        class_mode='binary')"
      ],
      "execution_count": 11,
      "outputs": [
        {
          "output_type": "stream",
          "text": [
            "Found 256 images belonging to 2 classes.\n"
          ],
          "name": "stdout"
        }
      ]
    },
    {
      "cell_type": "markdown",
      "metadata": {
        "id": "CRIixH2K_hfa",
        "colab_type": "text"
      },
      "source": [
        "## Training the model"
      ]
    },
    {
      "cell_type": "code",
      "metadata": {
        "id": "iVIn1BSUAR12",
        "colab_type": "code",
        "colab": {
          "base_uri": "https://localhost:8080/",
          "height": 1000
        },
        "outputId": "b6f949f0-69a7-45c9-b359-cc65ff68ce8a"
      },
      "source": [
        "history = model.fit_generator(\n",
        "      train_generator,\n",
        "      steps_per_epoch=8,  \n",
        "      epochs=100,\n",
        "      verbose=1,\n",
        "      validation_data = validation_generator,\n",
        "      validation_steps=8)"
      ],
      "execution_count": 12,
      "outputs": [
        {
          "output_type": "stream",
          "text": [
            "Epoch 1/100\n",
            "8/8 [==============================] - 25s 3s/step - loss: 0.6830 - acc: 0.5695 - val_loss: 0.6727 - val_acc: 0.5000\n",
            "Epoch 2/100\n",
            "8/8 [==============================] - 24s 3s/step - loss: 0.6589 - acc: 0.6374 - val_loss: 0.6286 - val_acc: 0.4961\n",
            "Epoch 3/100\n",
            "8/8 [==============================] - 27s 3s/step - loss: 0.6218 - acc: 0.7373 - val_loss: 0.8122 - val_acc: 0.5000\n",
            "Epoch 4/100\n",
            "8/8 [==============================] - 21s 3s/step - loss: 0.6435 - acc: 0.6034 - val_loss: 0.6184 - val_acc: 0.5938\n",
            "Epoch 5/100\n",
            "8/8 [==============================] - 24s 3s/step - loss: 0.5511 - acc: 0.7642 - val_loss: 0.5578 - val_acc: 0.6992\n",
            "Epoch 6/100\n",
            "8/8 [==============================] - 24s 3s/step - loss: 0.5293 - acc: 0.7853 - val_loss: 1.6407 - val_acc: 0.5000\n",
            "Epoch 7/100\n",
            "8/8 [==============================] - 28s 3s/step - loss: 0.5564 - acc: 0.7373 - val_loss: 0.6919 - val_acc: 0.5703\n",
            "Epoch 8/100\n",
            "8/8 [==============================] - 25s 3s/step - loss: 0.5822 - acc: 0.7275 - val_loss: 0.5462 - val_acc: 0.6719\n",
            "Epoch 9/100\n",
            "8/8 [==============================] - 25s 3s/step - loss: 0.4503 - acc: 0.8131 - val_loss: 0.7649 - val_acc: 0.5586\n",
            "Epoch 10/100\n",
            "8/8 [==============================] - 27s 3s/step - loss: 0.4590 - acc: 0.8047 - val_loss: 0.8158 - val_acc: 0.5625\n",
            "Epoch 11/100\n",
            "8/8 [==============================] - 25s 3s/step - loss: 0.4228 - acc: 0.8254 - val_loss: 1.3898 - val_acc: 0.5039\n",
            "Epoch 12/100\n",
            "8/8 [==============================] - 21s 3s/step - loss: 0.4097 - acc: 0.8191 - val_loss: 1.1295 - val_acc: 0.5391\n",
            "Epoch 13/100\n",
            "8/8 [==============================] - 27s 3s/step - loss: 0.4484 - acc: 0.7939 - val_loss: 1.0093 - val_acc: 0.5625\n",
            "Epoch 14/100\n",
            "8/8 [==============================] - 21s 3s/step - loss: 0.3685 - acc: 0.8307 - val_loss: 0.9328 - val_acc: 0.6016\n",
            "Epoch 15/100\n",
            "8/8 [==============================] - 28s 4s/step - loss: 0.3594 - acc: 0.8555 - val_loss: 1.1797 - val_acc: 0.5703\n",
            "Epoch 16/100\n",
            "8/8 [==============================] - 25s 3s/step - loss: 0.3964 - acc: 0.7809 - val_loss: 0.9578 - val_acc: 0.6094\n",
            "Epoch 17/100\n",
            "8/8 [==============================] - 24s 3s/step - loss: 0.4062 - acc: 0.8165 - val_loss: 1.2547 - val_acc: 0.5703\n",
            "Epoch 18/100\n",
            "8/8 [==============================] - 25s 3s/step - loss: 0.3331 - acc: 0.8521 - val_loss: 3.2245 - val_acc: 0.5000\n",
            "Epoch 19/100\n",
            "8/8 [==============================] - 28s 3s/step - loss: 0.4248 - acc: 0.8105 - val_loss: 1.3779 - val_acc: 0.5742\n",
            "Epoch 20/100\n",
            "8/8 [==============================] - 23s 3s/step - loss: 0.3743 - acc: 0.8295 - val_loss: 1.4504 - val_acc: 0.5664\n",
            "Epoch 21/100\n",
            "8/8 [==============================] - 25s 3s/step - loss: 0.3709 - acc: 0.8498 - val_loss: 1.3673 - val_acc: 0.5859\n",
            "Epoch 22/100\n",
            "8/8 [==============================] - 24s 3s/step - loss: 0.4082 - acc: 0.8576 - val_loss: 3.0507 - val_acc: 0.5000\n",
            "Epoch 23/100\n",
            "8/8 [==============================] - 25s 3s/step - loss: 0.4164 - acc: 0.8142 - val_loss: 1.3687 - val_acc: 0.5781\n",
            "Epoch 24/100\n",
            "8/8 [==============================] - 28s 3s/step - loss: 0.3190 - acc: 0.8613 - val_loss: 1.2333 - val_acc: 0.6172\n",
            "Epoch 25/100\n",
            "8/8 [==============================] - 25s 3s/step - loss: 0.2789 - acc: 0.8799 - val_loss: 1.9866 - val_acc: 0.5508\n",
            "Epoch 26/100\n",
            "8/8 [==============================] - 25s 3s/step - loss: 0.3687 - acc: 0.8109 - val_loss: 1.7908 - val_acc: 0.5547\n",
            "Epoch 27/100\n",
            "8/8 [==============================] - 24s 3s/step - loss: 0.3537 - acc: 0.8476 - val_loss: 1.6912 - val_acc: 0.5586\n",
            "Epoch 28/100\n",
            "8/8 [==============================] - 27s 3s/step - loss: 0.2695 - acc: 0.9004 - val_loss: 1.9084 - val_acc: 0.5547\n",
            "Epoch 29/100\n",
            "8/8 [==============================] - 22s 3s/step - loss: 0.2880 - acc: 0.8760 - val_loss: 1.5931 - val_acc: 0.6055\n",
            "Epoch 30/100\n",
            "8/8 [==============================] - 24s 3s/step - loss: 0.3993 - acc: 0.8376 - val_loss: 1.4714 - val_acc: 0.5977\n",
            "Epoch 31/100\n",
            "8/8 [==============================] - 24s 3s/step - loss: 0.3794 - acc: 0.8365 - val_loss: 1.6013 - val_acc: 0.5742\n",
            "Epoch 32/100\n",
            "8/8 [==============================] - 28s 4s/step - loss: 0.2587 - acc: 0.8955 - val_loss: 1.8709 - val_acc: 0.5664\n",
            "Epoch 33/100\n",
            "8/8 [==============================] - 21s 3s/step - loss: 0.3011 - acc: 0.8850 - val_loss: 1.8853 - val_acc: 0.5625\n",
            "Epoch 34/100\n",
            "8/8 [==============================] - 25s 3s/step - loss: 0.2538 - acc: 0.8877 - val_loss: 3.0909 - val_acc: 0.5039\n",
            "Epoch 35/100\n",
            "8/8 [==============================] - 28s 3s/step - loss: 0.2810 - acc: 0.8682 - val_loss: 2.4794 - val_acc: 0.5469\n",
            "Epoch 36/100\n",
            "8/8 [==============================] - 24s 3s/step - loss: 0.2932 - acc: 0.8810 - val_loss: 1.4721 - val_acc: 0.6562\n",
            "Epoch 37/100\n",
            "8/8 [==============================] - 25s 3s/step - loss: 0.3551 - acc: 0.8610 - val_loss: 1.9739 - val_acc: 0.5586\n",
            "Epoch 38/100\n",
            "8/8 [==============================] - 25s 3s/step - loss: 0.2516 - acc: 0.9110 - val_loss: 3.8552 - val_acc: 0.5000\n",
            "Epoch 39/100\n",
            "8/8 [==============================] - 28s 3s/step - loss: 0.2846 - acc: 0.8799 - val_loss: 2.4809 - val_acc: 0.5508\n",
            "Epoch 40/100\n",
            "8/8 [==============================] - 22s 3s/step - loss: 0.2776 - acc: 0.8773 - val_loss: 2.5814 - val_acc: 0.5469\n",
            "Epoch 41/100\n",
            "8/8 [==============================] - 25s 3s/step - loss: 0.3074 - acc: 0.8754 - val_loss: 2.5479 - val_acc: 0.5430\n",
            "Epoch 42/100\n",
            "8/8 [==============================] - 25s 3s/step - loss: 0.2976 - acc: 0.8999 - val_loss: 2.1152 - val_acc: 0.5742\n",
            "Epoch 43/100\n",
            "8/8 [==============================] - 28s 3s/step - loss: 0.2265 - acc: 0.9141 - val_loss: 2.7319 - val_acc: 0.5469\n",
            "Epoch 44/100\n",
            "8/8 [==============================] - 21s 3s/step - loss: 0.2494 - acc: 0.8941 - val_loss: 2.4511 - val_acc: 0.5625\n",
            "Epoch 45/100\n",
            "8/8 [==============================] - 28s 3s/step - loss: 0.2483 - acc: 0.8906 - val_loss: 1.1445 - val_acc: 0.7070\n",
            "Epoch 46/100\n",
            "8/8 [==============================] - 24s 3s/step - loss: 0.1870 - acc: 0.9210 - val_loss: 1.5719 - val_acc: 0.6562\n",
            "Epoch 47/100\n",
            "8/8 [==============================] - 24s 3s/step - loss: 0.2352 - acc: 0.8854 - val_loss: 3.4672 - val_acc: 0.5156\n",
            "Epoch 48/100\n",
            "8/8 [==============================] - 27s 3s/step - loss: 0.2222 - acc: 0.9092 - val_loss: 3.1619 - val_acc: 0.5352\n",
            "Epoch 49/100\n",
            "8/8 [==============================] - 25s 3s/step - loss: 0.2384 - acc: 0.8799 - val_loss: 2.3596 - val_acc: 0.5742\n",
            "Epoch 50/100\n",
            "8/8 [==============================] - 25s 3s/step - loss: 0.3429 - acc: 0.8710 - val_loss: 2.4066 - val_acc: 0.5664\n",
            "Epoch 51/100\n",
            "8/8 [==============================] - 22s 3s/step - loss: 0.3233 - acc: 0.8695 - val_loss: 2.3517 - val_acc: 0.5625\n",
            "Epoch 52/100\n",
            "8/8 [==============================] - 28s 3s/step - loss: 0.1876 - acc: 0.9277 - val_loss: 2.4868 - val_acc: 0.5625\n",
            "Epoch 53/100\n",
            "8/8 [==============================] - 24s 3s/step - loss: 0.1883 - acc: 0.9199 - val_loss: 3.1214 - val_acc: 0.5391\n",
            "Epoch 54/100\n",
            "8/8 [==============================] - 24s 3s/step - loss: 0.1968 - acc: 0.9110 - val_loss: 3.3904 - val_acc: 0.5195\n",
            "Epoch 55/100\n",
            "8/8 [==============================] - 25s 3s/step - loss: 0.2181 - acc: 0.8910 - val_loss: 2.4003 - val_acc: 0.5820\n",
            "Epoch 56/100\n",
            "8/8 [==============================] - 25s 3s/step - loss: 0.1859 - acc: 0.9177 - val_loss: 2.1576 - val_acc: 0.6211\n",
            "Epoch 57/100\n",
            "8/8 [==============================] - 25s 3s/step - loss: 0.2130 - acc: 0.9132 - val_loss: 2.4372 - val_acc: 0.5938\n",
            "Epoch 58/100\n",
            "8/8 [==============================] - 29s 4s/step - loss: 0.1618 - acc: 0.9375 - val_loss: 2.5100 - val_acc: 0.5938\n",
            "Epoch 59/100\n",
            "8/8 [==============================] - 25s 3s/step - loss: 0.2504 - acc: 0.9021 - val_loss: 2.9704 - val_acc: 0.5547\n",
            "Epoch 60/100\n",
            "8/8 [==============================] - 25s 3s/step - loss: 0.2386 - acc: 0.8877 - val_loss: 2.6173 - val_acc: 0.5625\n",
            "Epoch 61/100\n",
            "8/8 [==============================] - 25s 3s/step - loss: 0.1739 - acc: 0.9344 - val_loss: 3.6057 - val_acc: 0.5273\n",
            "Epoch 62/100\n",
            "8/8 [==============================] - 24s 3s/step - loss: 0.1988 - acc: 0.9177 - val_loss: 3.6247 - val_acc: 0.5156\n",
            "Epoch 63/100\n",
            "8/8 [==============================] - 24s 3s/step - loss: 0.1750 - acc: 0.9221 - val_loss: 3.4707 - val_acc: 0.5195\n",
            "Epoch 64/100\n",
            "8/8 [==============================] - 25s 3s/step - loss: 0.1600 - acc: 0.9333 - val_loss: 2.9144 - val_acc: 0.5742\n",
            "Epoch 65/100\n",
            "8/8 [==============================] - 25s 3s/step - loss: 0.3324 - acc: 0.8910 - val_loss: 2.7576 - val_acc: 0.5586\n",
            "Epoch 66/100\n",
            "8/8 [==============================] - 24s 3s/step - loss: 0.2013 - acc: 0.9221 - val_loss: 3.4921 - val_acc: 0.5156\n",
            "Epoch 67/100\n",
            "8/8 [==============================] - 24s 3s/step - loss: 0.1398 - acc: 0.9433 - val_loss: 3.2253 - val_acc: 0.5508\n",
            "Epoch 68/100\n",
            "8/8 [==============================] - 24s 3s/step - loss: 0.1532 - acc: 0.9377 - val_loss: 4.1302 - val_acc: 0.5156\n",
            "Epoch 69/100\n",
            "8/8 [==============================] - 28s 3s/step - loss: 0.2837 - acc: 0.8877 - val_loss: 2.9135 - val_acc: 0.5547\n",
            "Epoch 70/100\n",
            "8/8 [==============================] - 24s 3s/step - loss: 0.1525 - acc: 0.9388 - val_loss: 3.6479 - val_acc: 0.5195\n",
            "Epoch 71/100\n",
            "8/8 [==============================] - 24s 3s/step - loss: 0.1527 - acc: 0.9410 - val_loss: 3.1342 - val_acc: 0.5703\n",
            "Epoch 72/100\n",
            "8/8 [==============================] - 24s 3s/step - loss: 0.1390 - acc: 0.9366 - val_loss: 3.2716 - val_acc: 0.5586\n",
            "Epoch 73/100\n",
            "8/8 [==============================] - 24s 3s/step - loss: 0.2274 - acc: 0.8999 - val_loss: 2.2872 - val_acc: 0.6133\n",
            "Epoch 74/100\n",
            "8/8 [==============================] - 24s 3s/step - loss: 0.1455 - acc: 0.9399 - val_loss: 4.9674 - val_acc: 0.5078\n",
            "Epoch 75/100\n",
            "8/8 [==============================] - 24s 3s/step - loss: 0.1532 - acc: 0.9288 - val_loss: 2.9768 - val_acc: 0.5703\n",
            "Epoch 76/100\n",
            "8/8 [==============================] - 27s 3s/step - loss: 0.2065 - acc: 0.9033 - val_loss: 2.8454 - val_acc: 0.5703\n",
            "Epoch 77/100\n",
            "8/8 [==============================] - 24s 3s/step - loss: 0.1946 - acc: 0.8988 - val_loss: 3.0667 - val_acc: 0.5625\n",
            "Epoch 78/100\n",
            "8/8 [==============================] - 24s 3s/step - loss: 0.0989 - acc: 0.9689 - val_loss: 3.1327 - val_acc: 0.5820\n",
            "Epoch 79/100\n",
            "8/8 [==============================] - 21s 3s/step - loss: 0.1575 - acc: 0.9419 - val_loss: 5.6164 - val_acc: 0.5000\n",
            "Epoch 80/100\n",
            "8/8 [==============================] - 27s 3s/step - loss: 0.1667 - acc: 0.9336 - val_loss: 4.4332 - val_acc: 0.5156\n",
            "Epoch 81/100\n",
            "8/8 [==============================] - 24s 3s/step - loss: 0.1690 - acc: 0.9210 - val_loss: 2.4150 - val_acc: 0.6250\n",
            "Epoch 82/100\n",
            "8/8 [==============================] - 25s 3s/step - loss: 0.1968 - acc: 0.9221 - val_loss: 3.4007 - val_acc: 0.5586\n",
            "Epoch 83/100\n",
            "8/8 [==============================] - 24s 3s/step - loss: 0.2538 - acc: 0.9199 - val_loss: 3.3048 - val_acc: 0.5508\n",
            "Epoch 84/100\n",
            "8/8 [==============================] - 27s 3s/step - loss: 0.1367 - acc: 0.9453 - val_loss: 3.3489 - val_acc: 0.5664\n",
            "Epoch 85/100\n",
            "8/8 [==============================] - 21s 3s/step - loss: 0.2057 - acc: 0.9561 - val_loss: 6.7481 - val_acc: 0.5000\n",
            "Epoch 86/100\n",
            "8/8 [==============================] - 28s 3s/step - loss: 0.2594 - acc: 0.9082 - val_loss: 3.1726 - val_acc: 0.5625\n",
            "Epoch 87/100\n",
            "8/8 [==============================] - 24s 3s/step - loss: 0.0979 - acc: 0.9644 - val_loss: 4.0560 - val_acc: 0.5273\n",
            "Epoch 88/100\n",
            "8/8 [==============================] - 25s 3s/step - loss: 0.1087 - acc: 0.9544 - val_loss: 3.6725 - val_acc: 0.5547\n",
            "Epoch 89/100\n",
            "8/8 [==============================] - 25s 3s/step - loss: 0.1129 - acc: 0.9566 - val_loss: 4.0845 - val_acc: 0.5391\n",
            "Epoch 90/100\n",
            "8/8 [==============================] - 24s 3s/step - loss: 0.1361 - acc: 0.9511 - val_loss: 3.2633 - val_acc: 0.5742\n",
            "Epoch 91/100\n",
            "8/8 [==============================] - 25s 3s/step - loss: 0.1522 - acc: 0.9199 - val_loss: 3.4067 - val_acc: 0.5547\n",
            "Epoch 92/100\n",
            "8/8 [==============================] - 24s 3s/step - loss: 0.2275 - acc: 0.9333 - val_loss: 3.8695 - val_acc: 0.5273\n",
            "Epoch 93/100\n",
            "8/8 [==============================] - 24s 3s/step - loss: 0.1486 - acc: 0.9344 - val_loss: 3.7704 - val_acc: 0.5312\n",
            "Epoch 94/100\n",
            "8/8 [==============================] - 27s 3s/step - loss: 0.1227 - acc: 0.9570 - val_loss: 4.5661 - val_acc: 0.5117\n",
            "Epoch 95/100\n",
            "8/8 [==============================] - 21s 3s/step - loss: 0.1300 - acc: 0.9393 - val_loss: 4.4547 - val_acc: 0.5156\n",
            "Epoch 96/100\n",
            "8/8 [==============================] - 27s 3s/step - loss: 0.0998 - acc: 0.9678 - val_loss: 3.7872 - val_acc: 0.5508\n",
            "Epoch 97/100\n",
            "8/8 [==============================] - 24s 3s/step - loss: 0.1913 - acc: 0.9221 - val_loss: 4.1516 - val_acc: 0.5352\n",
            "Epoch 98/100\n",
            "8/8 [==============================] - 24s 3s/step - loss: 0.1115 - acc: 0.9522 - val_loss: 4.3808 - val_acc: 0.5273\n",
            "Epoch 99/100\n",
            "8/8 [==============================] - 23s 3s/step - loss: 0.2476 - acc: 0.9177 - val_loss: 3.6757 - val_acc: 0.5391\n",
            "Epoch 100/100\n",
            "8/8 [==============================] - 27s 3s/step - loss: 0.0882 - acc: 0.9736 - val_loss: 3.7483 - val_acc: 0.5469\n"
          ],
          "name": "stdout"
        }
      ]
    },
    {
      "cell_type": "code",
      "metadata": {
        "id": "BGxzlRWZP2De",
        "colab_type": "code",
        "colab": {
          "base_uri": "https://localhost:8080/",
          "height": 545
        },
        "outputId": "15545a7f-3182-4126-fabb-2b9e6db43ef4"
      },
      "source": [
        "import matplotlib.pyplot as plt\n",
        "acc = history.history['acc']\n",
        "val_acc = history.history['val_acc']\n",
        "loss = history.history['loss']\n",
        "val_loss = history.history['val_loss']\n",
        "\n",
        "epochs = range(len(acc))\n",
        "\n",
        "plt.plot(epochs, acc, 'r', label='Training accuracy')\n",
        "plt.plot(epochs, val_acc, 'b', label='Validation accuracy')\n",
        "plt.title('Training and validation accuracy')\n",
        "\n",
        "plt.figure()\n",
        "\n",
        "plt.plot(epochs, loss, 'r', label='Training Loss')\n",
        "plt.plot(epochs, val_loss, 'b', label='Validation Loss')\n",
        "plt.title('Training and validation loss')\n",
        "plt.legend()\n",
        "\n",
        "plt.show()"
      ],
      "execution_count": 13,
      "outputs": [
        {
          "output_type": "display_data",
          "data": {
            "image/png": "[encoded data removed]",
            "text/plain": [
              "<Figure size 432x288 with 1 Axes>"
            ]
          },
          "metadata": {
            "tags": []
          }
        },
        {
          "output_type": "display_data",
          "data": {
            "image/png": "[encoded data removed]",
            "text/plain": [
              "<Figure size 432x288 with 1 Axes>"
            ]
          },
          "metadata": {
            "tags": []
          }
        }
      ]
    },
    {
      "cell_type": "markdown",
      "metadata": {
        "id": "Hcv9JTTSP6Nm",
        "colab_type": "text"
      },
      "source": [
        "## Note:\n",
        "validation accuracy is less as compared to training accuracy as augmentation applied only to training data"
      ]
    },
    {
      "cell_type": "code",
      "metadata": {
        "id": "Ua1QGBAjWbpB",
        "colab_type": "code",
        "colab": {}
      },
      "source": [
        "train_datagen = ImageDataGenerator(\n",
        "      rescale=1./255,\n",
        "      rotation_range=40,\n",
        "      width_shift_range=0.2,\n",
        "      height_shift_range=0.2,\n",
        "      shear_range=0.2,\n",
        "      zoom_range=0.2,\n",
        "      horizontal_flip=True,\n",
        "      fill_mode='nearest')\n",
        "\n",
        "validation_datagen = ImageDataGenerator( rescale=1./255,\n",
        "      rotation_range=40,\n",
        "      width_shift_range=0.2,\n",
        "      height_shift_range=0.2,\n",
        "      shear_range=0.2,\n",
        "      zoom_range=0.2,\n",
        "      horizontal_flip=True,\n",
        "      fill_mode='nearest')\n"
      ],
      "execution_count": 0,
      "outputs": []
    },
    {
      "cell_type": "code",
      "metadata": {
        "id": "W4GPPPt9a8zJ",
        "colab_type": "code",
        "colab": {
          "base_uri": "https://localhost:8080/",
          "height": 51
        },
        "outputId": "40b5aebd-1f80-4d31-bf33-75f65e0a8ed4"
      },
      "source": [
        "train_generator = train_datagen.flow_from_directory(\n",
        "        '/tmp/horse-or-human/',  # This is the source directory for training images\n",
        "        target_size=(300, 300),  # All images will be resized to 150x150\n",
        "        batch_size=128,\n",
        "        # Since we use binary_crossentropy loss, we need binary labels\n",
        "        class_mode='binary')\n",
        "\n",
        "validation_generator = validation_datagen.flow_from_directory(\n",
        "        '/tmp/validation-horse-or-human/',  # This is the source directory for training images\n",
        "        target_size=(300, 300),  # All images will be resized to 150x150\n",
        "        batch_size=128,\n",
        "        # Since we use binary_crossentropy loss, we need binary labels\n",
        "        class_mode='binary')"
      ],
      "execution_count": 18,
      "outputs": [
        {
          "output_type": "stream",
          "text": [
            "Found 1027 images belonging to 2 classes.\n",
            "Found 256 images belonging to 2 classes.\n"
          ],
          "name": "stdout"
        }
      ]
    },
    {
      "cell_type": "markdown",
      "metadata": {
        "id": "RGF9fbffbHaz",
        "colab_type": "text"
      },
      "source": [
        "## Retraining the model"
      ]
    },
    {
      "cell_type": "code",
      "metadata": {
        "id": "_5oBh1ZciWdg",
        "colab_type": "code",
        "colab": {
          "base_uri": "https://localhost:8080/",
          "height": 867
        },
        "outputId": "e1b2b2a7-3441-4775-920a-e19b83b7a696"
      },
      "source": [
        "history = model.fit_generator(\n",
        "      train_generator,\n",
        "      steps_per_epoch=8,  \n",
        "      epochs=25,\n",
        "      verbose=1,\n",
        "      validation_data = validation_generator,\n",
        "      validation_steps=8)"
      ],
      "execution_count": 19,
      "outputs": [
        {
          "output_type": "stream",
          "text": [
            "Epoch 1/25\n",
            "8/8 [==============================] - 49s 6s/step - loss: 0.0762 - acc: 0.9700 - val_loss: 3.2787 - val_acc: 0.5254\n",
            "Epoch 2/25\n",
            "8/8 [==============================] - 50s 6s/step - loss: 0.4521 - acc: 0.9811 - val_loss: 0.3295 - val_acc: 0.8789\n",
            "Epoch 3/25\n",
            "8/8 [==============================] - 49s 6s/step - loss: 0.2831 - acc: 0.9177 - val_loss: 2.4364 - val_acc: 0.5615\n",
            "Epoch 4/25\n",
            "8/8 [==============================] - 48s 6s/step - loss: 0.1625 - acc: 0.9533 - val_loss: 2.6156 - val_acc: 0.5400\n",
            "Epoch 5/25\n",
            "8/8 [==============================] - 47s 6s/step - loss: 0.0598 - acc: 0.9863 - val_loss: 2.8279 - val_acc: 0.5439\n",
            "Epoch 6/25\n",
            "8/8 [==============================] - 44s 6s/step - loss: 0.0478 - acc: 0.9819 - val_loss: 3.6012 - val_acc: 0.5195\n",
            "Epoch 7/25\n",
            "8/8 [==============================] - 45s 6s/step - loss: 0.1464 - acc: 0.9644 - val_loss: 6.3631 - val_acc: 0.5000\n",
            "Epoch 8/25\n",
            "8/8 [==============================] - 45s 6s/step - loss: 0.2014 - acc: 0.9375 - val_loss: 2.6213 - val_acc: 0.5439\n",
            "Epoch 9/25\n",
            "8/8 [==============================] - 43s 5s/step - loss: 0.0539 - acc: 0.9811 - val_loss: 3.0849 - val_acc: 0.5342\n",
            "Epoch 10/25\n",
            "8/8 [==============================] - 28s 3s/step - loss: 0.0525 - acc: 0.9883 - val_loss: 2.7868 - val_acc: 0.5469\n",
            "Epoch 11/25\n",
            "8/8 [==============================] - 50s 6s/step - loss: 0.0493 - acc: 0.9867 - val_loss: 3.6149 - val_acc: 0.5156\n",
            "Epoch 12/25\n",
            "8/8 [==============================] - 50s 6s/step - loss: 0.0988 - acc: 0.9600 - val_loss: 3.2867 - val_acc: 0.5273\n",
            "Epoch 13/25\n",
            "8/8 [==============================] - 49s 6s/step - loss: 0.0691 - acc: 0.9789 - val_loss: 3.7067 - val_acc: 0.5205\n",
            "Epoch 14/25\n",
            "8/8 [==============================] - 47s 6s/step - loss: 0.0860 - acc: 0.9755 - val_loss: 6.3316 - val_acc: 0.5000\n",
            "Epoch 15/25\n",
            "8/8 [==============================] - 47s 6s/step - loss: 0.1668 - acc: 0.9434 - val_loss: 3.2176 - val_acc: 0.5342\n",
            "Epoch 16/25\n",
            "8/8 [==============================] - 46s 6s/step - loss: 0.0452 - acc: 0.9833 - val_loss: 4.2213 - val_acc: 0.5127\n",
            "Epoch 17/25\n",
            "8/8 [==============================] - 45s 6s/step - loss: 0.0438 - acc: 0.9822 - val_loss: 3.5736 - val_acc: 0.5342\n",
            "Epoch 18/25\n",
            "8/8 [==============================] - 42s 5s/step - loss: 0.1886 - acc: 0.9221 - val_loss: 3.1435 - val_acc: 0.5322\n",
            "Epoch 19/25\n",
            "8/8 [==============================] - 28s 3s/step - loss: 0.0414 - acc: 0.9922 - val_loss: 3.3990 - val_acc: 0.5361\n",
            "Epoch 20/25\n",
            "8/8 [==============================] - 48s 6s/step - loss: 0.0571 - acc: 0.9789 - val_loss: 4.5809 - val_acc: 0.5098\n",
            "Epoch 21/25\n",
            "8/8 [==============================] - 49s 6s/step - loss: 0.0886 - acc: 0.9622 - val_loss: 2.7211 - val_acc: 0.5576\n",
            "Epoch 22/25\n",
            "8/8 [==============================] - 49s 6s/step - loss: 0.0587 - acc: 0.9795 - val_loss: 3.6798 - val_acc: 0.5273\n",
            "Epoch 23/25\n",
            "8/8 [==============================] - 47s 6s/step - loss: 0.1361 - acc: 0.9544 - val_loss: 3.2325 - val_acc: 0.5410\n",
            "Epoch 24/25\n",
            "8/8 [==============================] - 46s 6s/step - loss: 0.0600 - acc: 0.9789 - val_loss: 3.9416 - val_acc: 0.5156\n",
            "Epoch 25/25\n",
            "8/8 [==============================] - 45s 6s/step - loss: 0.3293 - acc: 0.9444 - val_loss: 4.3285 - val_acc: 0.5137\n"
          ],
          "name": "stdout"
        }
      ]
    }
  ]
}