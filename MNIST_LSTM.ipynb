{
  "nbformat": 4,
  "nbformat_minor": 0,
  "metadata": {
    "colab": {
      "name": "MNIST_LSTM.ipynb",
      "version": "0.3.2",
      "provenance": [],
      "include_colab_link": true
    },
    "kernelspec": {
      "name": "python3",
      "display_name": "Python 3"
    },
    "accelerator": "GPU"
  },
  "cells": [
    {
      "cell_type": "markdown",
      "metadata": {
        "id": "view-in-github",
        "colab_type": "text"
      },
      "source": [
        "<a href=\"https://colab.research.google.com/github/plaban1981/DEEP-LEARNING-/blob/master/MNIST_LSTM.ipynb\" target=\"_parent\"><img src=\"https://colab.research.google.com/assets/colab-badge.svg\" alt=\"Open In Colab\"/></a>"
      ]
    },
    {
      "cell_type": "code",
      "metadata": {
        "id": "uNJ_juIptVBb",
        "colab_type": "code",
        "colab": {}
      },
      "source": [
        "import keras\n",
        "from keras.models import Sequential\n",
        "from keras.layers import LSTM,Dense\n",
        "import keras.backend as K\n",
        "import numpy as np\n",
        "from keras.datasets import mnist\n",
        "from keras.utils.np_utils import to_categorical"
      ],
      "execution_count": 0,
      "outputs": []
    },
    {
      "cell_type": "code",
      "metadata": {
        "id": "UAyOLxW1ujD8",
        "colab_type": "code",
        "colab": {
          "base_uri": "https://localhost:8080/",
          "height": 51
        },
        "outputId": "17e6fd36-dbbd-4a4f-ded0-35d97b680f7b"
      },
      "source": [
        "(x_train,y_train),(x_test,y_test) = mnist.load_data()"
      ],
      "execution_count": 3,
      "outputs": [
        {
          "output_type": "stream",
          "text": [
            "Downloading data from https://s3.amazonaws.com/img-datasets/mnist.npz\n",
            "11493376/11490434 [==============================] - 0s 0us/step\n"
          ],
          "name": "stdout"
        }
      ]
    },
    {
      "cell_type": "code",
      "metadata": {
        "id": "J9FJNSm9voGy",
        "colab_type": "code",
        "colab": {
          "base_uri": "https://localhost:8080/",
          "height": 34
        },
        "outputId": "6771419d-afce-41cb-ae83-e96cbf92ad83"
      },
      "source": [
        "x_train.shape"
      ],
      "execution_count": 4,
      "outputs": [
        {
          "output_type": "execute_result",
          "data": {
            "text/plain": [
              "(60000, 28, 28)"
            ]
          },
          "metadata": {
            "tags": []
          },
          "execution_count": 4
        }
      ]
    },
    {
      "cell_type": "code",
      "metadata": {
        "id": "cXmwazX9vrtg",
        "colab_type": "code",
        "colab": {
          "base_uri": "https://localhost:8080/",
          "height": 34
        },
        "outputId": "4ba93023-9d30-42a5-f131-7e1483baa1ba"
      },
      "source": [
        "x_test.shape"
      ],
      "execution_count": 5,
      "outputs": [
        {
          "output_type": "execute_result",
          "data": {
            "text/plain": [
              "(10000, 28, 28)"
            ]
          },
          "metadata": {
            "tags": []
          },
          "execution_count": 5
        }
      ]
    },
    {
      "cell_type": "code",
      "metadata": {
        "id": "Mv9GFC6cv9Sx",
        "colab_type": "code",
        "colab": {}
      },
      "source": [
        "# parameters\n",
        "n_steps = 28 # 28 rows\n",
        "n_inputs = 28 # 28 cols\n",
        "n_outputs = 10 # 10 classes"
      ],
      "execution_count": 0,
      "outputs": []
    },
    {
      "cell_type": "code",
      "metadata": {
        "id": "agK5J3Vxvxlm",
        "colab_type": "code",
        "colab": {}
      },
      "source": [
        "X_train = x_train.reshape(-1,n_steps,n_inputs)\n",
        "X_test = x_test.reshape(-1,n_steps,n_inputs)"
      ],
      "execution_count": 0,
      "outputs": []
    },
    {
      "cell_type": "code",
      "metadata": {
        "id": "JIKZa3acwNlu",
        "colab_type": "code",
        "colab": {
          "base_uri": "https://localhost:8080/",
          "height": 34
        },
        "outputId": "8f9237a1-ca52-4cad-ab3c-ecf1d6efe2f0"
      },
      "source": [
        "X_train.shape"
      ],
      "execution_count": 8,
      "outputs": [
        {
          "output_type": "execute_result",
          "data": {
            "text/plain": [
              "(60000, 28, 28)"
            ]
          },
          "metadata": {
            "tags": []
          },
          "execution_count": 8
        }
      ]
    },
    {
      "cell_type": "code",
      "metadata": {
        "id": "Jgfky0dnw5zP",
        "colab_type": "code",
        "colab": {
          "base_uri": "https://localhost:8080/",
          "height": 34
        },
        "outputId": "099d0138-5865-495e-d9e3-182460090ecb"
      },
      "source": [
        "y_train.shape,y_test.shape"
      ],
      "execution_count": 13,
      "outputs": [
        {
          "output_type": "execute_result",
          "data": {
            "text/plain": [
              "((60000,), (10000,))"
            ]
          },
          "metadata": {
            "tags": []
          },
          "execution_count": 13
        }
      ]
    },
    {
      "cell_type": "code",
      "metadata": {
        "id": "D_yytnZNzSQy",
        "colab_type": "code",
        "colab": {}
      },
      "source": [
        "y_train_cat = to_categorical(y_train)\n",
        "y_test_cat = to_categorical(y_test)"
      ],
      "execution_count": 0,
      "outputs": []
    },
    {
      "cell_type": "code",
      "metadata": {
        "id": "EYHGAw_OwZ0y",
        "colab_type": "code",
        "colab": {
          "base_uri": "https://localhost:8080/",
          "height": 204
        },
        "outputId": "345d95bb-a82c-4291-9317-0f2eafff4b9e"
      },
      "source": [
        "K.clear_session()\n",
        "model = Sequential()\n",
        "model.add(LSTM(28,input_shape=(28,28)))\n",
        "model.add(Dense(10,activation='softmax'))\n",
        "model.compile(loss='categorical_crossentropy',optimizer='adam',metrics=['accuracy'])\n",
        "model.summary()"
      ],
      "execution_count": 19,
      "outputs": [
        {
          "output_type": "stream",
          "text": [
            "_________________________________________________________________\n",
            "Layer (type)                 Output Shape              Param #   \n",
            "=================================================================\n",
            "lstm_1 (LSTM)                (None, 28)                6384      \n",
            "_________________________________________________________________\n",
            "dense_1 (Dense)              (None, 10)                290       \n",
            "=================================================================\n",
            "Total params: 6,674\n",
            "Trainable params: 6,674\n",
            "Non-trainable params: 0\n",
            "_________________________________________________________________\n"
          ],
          "name": "stdout"
        }
      ]
    },
    {
      "cell_type": "code",
      "metadata": {
        "id": "X13vPWu7xX9G",
        "colab_type": "code",
        "colab": {
          "base_uri": "https://localhost:8080/",
          "height": 394
        },
        "outputId": "3e3b401d-63b7-445f-9dc9-9d4f290c47f7"
      },
      "source": [
        "history = model.fit(X_train,y_train_cat,epochs=10,batch_size=32,verbose=1,validation_data=(X_test,y_test_cat))"
      ],
      "execution_count": 20,
      "outputs": [
        {
          "output_type": "stream",
          "text": [
            "Train on 60000 samples, validate on 10000 samples\n",
            "Epoch 1/10\n",
            "60000/60000 [==============================] - 124s 2ms/step - loss: 0.9909 - acc: 0.6640 - val_loss: 0.6272 - val_acc: 0.7888\n",
            "Epoch 2/10\n",
            "60000/60000 [==============================] - 122s 2ms/step - loss: 0.5663 - acc: 0.8086 - val_loss: 0.5147 - val_acc: 0.8266\n",
            "Epoch 3/10\n",
            "60000/60000 [==============================] - 122s 2ms/step - loss: 0.4945 - acc: 0.8315 - val_loss: 0.4674 - val_acc: 0.8372\n",
            "Epoch 4/10\n",
            "60000/60000 [==============================] - 122s 2ms/step - loss: 0.4490 - acc: 0.8467 - val_loss: 0.4253 - val_acc: 0.8528\n",
            "Epoch 5/10\n",
            "60000/60000 [==============================] - 122s 2ms/step - loss: 0.4156 - acc: 0.8584 - val_loss: 0.4093 - val_acc: 0.8613\n",
            "Epoch 6/10\n",
            "60000/60000 [==============================] - 121s 2ms/step - loss: 0.3972 - acc: 0.8666 - val_loss: 0.3900 - val_acc: 0.8696\n",
            "Epoch 7/10\n",
            "60000/60000 [==============================] - 122s 2ms/step - loss: 0.3809 - acc: 0.8702 - val_loss: 0.3682 - val_acc: 0.8724\n",
            "Epoch 8/10\n",
            "60000/60000 [==============================] - 121s 2ms/step - loss: 0.3580 - acc: 0.8777 - val_loss: 0.3714 - val_acc: 0.8733\n",
            "Epoch 9/10\n",
            "60000/60000 [==============================] - 122s 2ms/step - loss: 0.3510 - acc: 0.8810 - val_loss: 0.3560 - val_acc: 0.8798\n",
            "Epoch 10/10\n",
            "60000/60000 [==============================] - 122s 2ms/step - loss: 0.3399 - acc: 0.8843 - val_loss: 0.3362 - val_acc: 0.8857\n"
          ],
          "name": "stdout"
        }
      ]
    },
    {
      "cell_type": "markdown",
      "metadata": {
        "id": "9vXA4B908pZC",
        "colab_type": "text"
      },
      "source": [
        "Visuialize the loss and accuracy"
      ]
    },
    {
      "cell_type": "code",
      "metadata": {
        "id": "6F7aGEcY8cyH",
        "colab_type": "code",
        "colab": {
          "base_uri": "https://localhost:8080/",
          "height": 312
        },
        "outputId": "c1c57266-0063-4eec-bdaf-980973400f27"
      },
      "source": [
        "import matplotlib.pyplot as plt\n",
        "plt.plot(history.history['loss'])\n",
        "plt.plot(history.history['val_loss'])\n",
        "plt.legend(['Training','Validation'])\n",
        "plt.title('Loss')\n",
        "plt.xlabel('Epochs')"
      ],
      "execution_count": 21,
      "outputs": [
        {
          "output_type": "execute_result",
          "data": {
            "text/plain": [
              "Text(0.5, 0, 'Epochs')"
            ]
          },
          "metadata": {
            "tags": []
          },
          "execution_count": 21
        },
        {
          "output_type": "display_data",
          "data": {
            "image/png": "[encoded data removed]",
            "text/plain": [
              "<Figure size 432x288 with 1 Axes>"
            ]
          },
          "metadata": {
            "tags": []
          }
        }
      ]
    },
    {
      "cell_type": "code",
      "metadata": {
        "id": "chw3Y76M9z8d",
        "colab_type": "code",
        "colab": {
          "base_uri": "https://localhost:8080/",
          "height": 312
        },
        "outputId": "23865e54-082a-417a-ed28-41f4c733e79d"
      },
      "source": [
        "plt.plot(history.history['acc'])\n",
        "plt.plot(history.history['val_acc'])\n",
        "plt.legend(['Training','Validation'])\n",
        "plt.title('Accuracy')\n",
        "plt.xlabel('Epochs')"
      ],
      "execution_count": 22,
      "outputs": [
        {
          "output_type": "execute_result",
          "data": {
            "text/plain": [
              "Text(0.5, 0, 'Epochs')"
            ]
          },
          "metadata": {
            "tags": []
          },
          "execution_count": 22
        },
        {
          "output_type": "display_data",
          "data": {
            "image/png": "[encoded data removed]",
            "text/plain": [
              "<Figure size 432x288 with 1 Axes>"
            ]
          },
          "metadata": {
            "tags": []
          }
        }
      ]
    },
    {
      "cell_type": "code",
      "metadata": {
        "id": "oWXdDSdE--lV",
        "colab_type": "code",
        "colab": {
          "base_uri": "https://localhost:8080/",
          "height": 34
        },
        "outputId": "24824767-7859-4a18-d325-f8a77860fa56"
      },
      "source": [
        "Test_loss,Test_Accuracy = model.evaluate(X_test,y_test_cat,steps=50)"
      ],
      "execution_count": 26,
      "outputs": [
        {
          "output_type": "stream",
          "text": [
            "50/50 [==============================] - 3s 57ms/step\n"
          ],
          "name": "stdout"
        }
      ]
    },
    {
      "cell_type": "code",
      "metadata": {
        "id": "FOp53MnJ_gMm",
        "colab_type": "code",
        "colab": {
          "base_uri": "https://localhost:8080/",
          "height": 34
        },
        "outputId": "d53a4c4f-1bea-490f-eaae-9f25ad173972"
      },
      "source": [
        "print(\"Test_Loss : {}% Test_Accuracy {}% \".format(np.round(Test_loss * 100,2),np.round(Test_Accuracy * 100,2)))"
      ],
      "execution_count": 30,
      "outputs": [
        {
          "output_type": "stream",
          "text": [
            "Test_Loss : 33.62% Test_Accuracy 88.57% \n"
          ],
          "name": "stdout"
        }
      ]
    }
  ]
}