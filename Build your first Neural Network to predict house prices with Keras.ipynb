{
 "cells": [
  {
   "cell_type": "markdown",
   "metadata": {},
   "source": [
    "# A step-by-step complete beginner’s guide to building your first Neural Network in a couple lines of code using KERAS"
   ]
  },
  {
   "cell_type": "markdown",
   "metadata": {},
   "source": [
    "# Deep Learning pipeline :\n",
    "    \n",
    "* Exploring and Processing the Data\n",
    "\n",
    "* Building and Training our Neural Network\n",
    "\n",
    "* Visualizing Loss and Accuracy\n",
    "\n",
    "* Adding Regularization to our Neural Network"
   ]
  },
  {
   "cell_type": "markdown",
   "metadata": {},
   "source": [
    "#### Data Set : Zillow’s Home Value Prediction Kaggle competition data.(Kaggle)"
   ]
  },
  {
   "cell_type": "markdown",
   "metadata": {},
   "source": [
    "#### Input features in the first ten columns:\n",
    "\n",
    "* Lot Area (in sq ft)\n",
    "\n",
    "* Overall Quality (scale from 1 to 10)\n",
    "\n",
    "* Overall Condition (scale from 1 to 10)\n",
    "\n",
    "* Total Basement Area (in sq ft)\n",
    "\n",
    "* Number of Full Bathrooms\n",
    "\n",
    "* Number of Half Bathrooms\n",
    "\n",
    "* Number of Bedrooms above ground\n",
    "\n",
    "* Total Number of Rooms above ground\n",
    "\n",
    "* Number of Fireplaces\n",
    "\n",
    "* Garage Area (in sq ft)\n",
    "\n",
    "#### The feature that we would like to predict:\n",
    "\n",
    "Is the house price above the median or not? (1 for yes and 0 for no)"
   ]
  },
  {
   "cell_type": "markdown",
   "metadata": {},
   "source": [
    "# Exploring and Processing the Data"
   ]
  },
  {
   "cell_type": "markdown",
   "metadata": {},
   "source": [
    "# Read the input data"
   ]
  },
  {
   "cell_type": "code",
   "execution_count": 11,
   "metadata": {},
   "outputs": [],
   "source": [
    "#importing libraries\n",
    "import pandas as pd\n",
    "from sklearn.preprocessing import MinMaxScaler\n",
    "from sklearn.model_selection import train_test_split"
   ]
  },
  {
   "cell_type": "code",
   "execution_count": 2,
   "metadata": {},
   "outputs": [
    {
     "data": {
      "text/html": [
       "<div>\n",
       "<style scoped>\n",
       "    .dataframe tbody tr th:only-of-type {\n",
       "        vertical-align: middle;\n",
       "    }\n",
       "\n",
       "    .dataframe tbody tr th {\n",
       "        vertical-align: top;\n",
       "    }\n",
       "\n",
       "    .dataframe thead th {\n",
       "        text-align: right;\n",
       "    }\n",
       "</style>\n",
       "<table border=\"1\" class=\"dataframe\">\n",
       "  <thead>\n",
       "    <tr style=\"text-align: right;\">\n",
       "      <th></th>\n",
       "      <th>LotArea</th>\n",
       "      <th>OverallQual</th>\n",
       "      <th>OverallCond</th>\n",
       "      <th>TotalBsmtSF</th>\n",
       "      <th>FullBath</th>\n",
       "      <th>HalfBath</th>\n",
       "      <th>BedroomAbvGr</th>\n",
       "      <th>TotRmsAbvGrd</th>\n",
       "      <th>Fireplaces</th>\n",
       "      <th>GarageArea</th>\n",
       "      <th>AboveMedianPrice</th>\n",
       "    </tr>\n",
       "  </thead>\n",
       "  <tbody>\n",
       "    <tr>\n",
       "      <th>0</th>\n",
       "      <td>8450</td>\n",
       "      <td>7</td>\n",
       "      <td>5</td>\n",
       "      <td>856</td>\n",
       "      <td>2</td>\n",
       "      <td>1</td>\n",
       "      <td>3</td>\n",
       "      <td>8</td>\n",
       "      <td>0</td>\n",
       "      <td>548</td>\n",
       "      <td>1</td>\n",
       "    </tr>\n",
       "    <tr>\n",
       "      <th>1</th>\n",
       "      <td>9600</td>\n",
       "      <td>6</td>\n",
       "      <td>8</td>\n",
       "      <td>1262</td>\n",
       "      <td>2</td>\n",
       "      <td>0</td>\n",
       "      <td>3</td>\n",
       "      <td>6</td>\n",
       "      <td>1</td>\n",
       "      <td>460</td>\n",
       "      <td>1</td>\n",
       "    </tr>\n",
       "    <tr>\n",
       "      <th>2</th>\n",
       "      <td>11250</td>\n",
       "      <td>7</td>\n",
       "      <td>5</td>\n",
       "      <td>920</td>\n",
       "      <td>2</td>\n",
       "      <td>1</td>\n",
       "      <td>3</td>\n",
       "      <td>6</td>\n",
       "      <td>1</td>\n",
       "      <td>608</td>\n",
       "      <td>1</td>\n",
       "    </tr>\n",
       "    <tr>\n",
       "      <th>3</th>\n",
       "      <td>9550</td>\n",
       "      <td>7</td>\n",
       "      <td>5</td>\n",
       "      <td>756</td>\n",
       "      <td>1</td>\n",
       "      <td>0</td>\n",
       "      <td>3</td>\n",
       "      <td>7</td>\n",
       "      <td>1</td>\n",
       "      <td>642</td>\n",
       "      <td>0</td>\n",
       "    </tr>\n",
       "    <tr>\n",
       "      <th>4</th>\n",
       "      <td>14260</td>\n",
       "      <td>8</td>\n",
       "      <td>5</td>\n",
       "      <td>1145</td>\n",
       "      <td>2</td>\n",
       "      <td>1</td>\n",
       "      <td>4</td>\n",
       "      <td>9</td>\n",
       "      <td>1</td>\n",
       "      <td>836</td>\n",
       "      <td>1</td>\n",
       "    </tr>\n",
       "  </tbody>\n",
       "</table>\n",
       "</div>"
      ],
      "text/plain": [
       "   LotArea  OverallQual  OverallCond  TotalBsmtSF  FullBath  HalfBath  \\\n",
       "0     8450            7            5          856         2         1   \n",
       "1     9600            6            8         1262         2         0   \n",
       "2    11250            7            5          920         2         1   \n",
       "3     9550            7            5          756         1         0   \n",
       "4    14260            8            5         1145         2         1   \n",
       "\n",
       "   BedroomAbvGr  TotRmsAbvGrd  Fireplaces  GarageArea  AboveMedianPrice  \n",
       "0             3             8           0         548                 1  \n",
       "1             3             6           1         460                 1  \n",
       "2             3             6           1         608                 1  \n",
       "3             3             7           1         642                 0  \n",
       "4             4             9           1         836                 1  "
      ]
     },
     "execution_count": 2,
     "metadata": {},
     "output_type": "execute_result"
    }
   ],
   "source": [
    "df = pd.read_csv('housepricedata.csv')\n",
    "df.head()"
   ]
  },
  {
   "cell_type": "markdown",
   "metadata": {},
   "source": [
    "# Split our dataset into the input features (which we call x) and the label (which we call y)."
   ]
  },
  {
   "cell_type": "code",
   "execution_count": 3,
   "metadata": {},
   "outputs": [],
   "source": [
    "x = df.drop('AboveMedianPrice',axis=1).values\n",
    "y = df['AboveMedianPrice'].values"
   ]
  },
  {
   "cell_type": "code",
   "execution_count": 7,
   "metadata": {},
   "outputs": [
    {
     "name": "stdout",
     "output_type": "stream",
     "text": [
      " number of Features  \t : 10 \tnumber of training samples \t: 1460\n",
      " number of Labels \t : (1460,)\n"
     ]
    }
   ],
   "source": [
    "print(' number of Features  \\t :',x.shape[1],'\\tnumber of training samples \\t:',x.shape[0])\n",
    "print(' number of Labels \\t :',y.shape)"
   ]
  },
  {
   "cell_type": "markdown",
   "metadata": {},
   "source": [
    "# Scale the data (Normalization) so that the input features have similar orders of magnitude."
   ]
  },
  {
   "cell_type": "markdown",
   "metadata": {},
   "source": [
    "The next step in our processing is to make sure that the scale of the input features are similar. Right now, features such as lot area are in the order of the thousands, a score for overall quality is ranged from 1 to 10, and the number of fireplaces tend to be 0, 1 or 2.\n",
    "\n",
    "This makes it difficult for the initialization of the neural network, which causes some practical problems. One way to scale the data is to use an existing package from scikit-learn MinMaxScaler"
   ]
  },
  {
   "cell_type": "markdown",
   "metadata": {},
   "source": [
    "#### The min-max scaler, which scales the dataset so that all the input features lie between 0 and 1 inclusive."
   ]
  },
  {
   "cell_type": "code",
   "execution_count": 10,
   "metadata": {},
   "outputs": [
    {
     "name": "stderr",
     "output_type": "stream",
     "text": [
      "C:\\Users\\INTEL\\Anaconda3\\lib\\site-packages\\sklearn\\utils\\validation.py:595: DataConversionWarning: Data with input dtype int64 was converted to float64 by MinMaxScaler.\n",
      "  warnings.warn(msg, DataConversionWarning)\n"
     ]
    }
   ],
   "source": [
    "min_max_scaler = MinMaxScaler()\n",
    "X_scale = min_max_scaler.fit_transform(x)"
   ]
  },
  {
   "cell_type": "markdown",
   "metadata": {},
   "source": [
    "# Split our dataset into the training set, the validation set and the test set"
   ]
  },
  {
   "cell_type": "code",
   "execution_count": 13,
   "metadata": {},
   "outputs": [
    {
     "name": "stdout",
     "output_type": "stream",
     "text": [
      "(1022, 10) (219, 10) (219, 10) (1022,) (219,) (219,)\n"
     ]
    }
   ],
   "source": [
    "X_train, X_val_and_test, Y_train, Y_val_and_test = train_test_split(X_scale, y, test_size=0.3)\n",
    "\n",
    "X_val, X_test, Y_val, Y_test = train_test_split(X_val_and_test, Y_val_and_test, test_size=0.5)\n",
    "\n",
    "print(X_train.shape, X_val.shape, X_test.shape, Y_train.shape, Y_val.shape, Y_test.shape)"
   ]
  },
  {
   "cell_type": "markdown",
   "metadata": {},
   "source": [
    "# Building and Training Neural Network"
   ]
  },
  {
   "cell_type": "markdown",
   "metadata": {},
   "source": [
    "The first thing we have to do is to set up the architecture. \n",
    "\n",
    "We need to decide on the kind of neural network architecture we want. \n",
    "Suppose we want this neural network:\n",
    "The layers \n",
    "\n",
    "#### One  Input Layer \n",
    "\n",
    "#### Two Hidden Layers\n",
    "\n",
    "Hidden layer 1: 32 neurons, ReLU activation\n",
    "Hidden layer 2: 32 neurons, ReLU activation\n",
    "\n",
    "#### Output Layer:\n",
    "    \n",
    "Output Layer: 1 neuron, Sigmoid activation\n",
    "    \n",
    "Now, we need to describe this architecture to Keras. We will be using the Sequential model, which means that we merely need to describe the layers above in sequence."
   ]
  },
  {
   "cell_type": "code",
   "execution_count": 29,
   "metadata": {},
   "outputs": [],
   "source": [
    "from keras.models import Sequential\n",
    "from keras.layers import Dense"
   ]
  },
  {
   "cell_type": "markdown",
   "metadata": {},
   "source": [
    "# Build Keras Model"
   ]
  },
  {
   "cell_type": "markdown",
   "metadata": {},
   "source": [
    "* This says that we will store our model in the variable ‘model’\n",
    "\n",
    "* We have our first layer as a dense layer with 32 neurons, ReLU activation and the input shape is 10 since we have 10 input features. \n",
    "  #### Note that ‘Dense’ refers to a fully-connected layer.\n",
    "    \n",
    "* second layer is also a dense layer with 32 neurons, ReLU activation. \n",
    "  #### Note that we do not have to describe the input shape since Keras can infer from the output of our first layer\n",
    "    \n",
    "* Our third layer is a dense layer with 1 neuron, sigmoid activation."
   ]
  },
  {
   "cell_type": "code",
   "execution_count": 15,
   "metadata": {},
   "outputs": [
    {
     "name": "stdout",
     "output_type": "stream",
     "text": [
      "WARNING:tensorflow:From C:\\Users\\INTEL\\Anaconda3\\lib\\site-packages\\tensorflow\\python\\framework\\op_def_library.py:263: colocate_with (from tensorflow.python.framework.ops) is deprecated and will be removed in a future version.\n",
      "Instructions for updating:\n",
      "Colocations handled automatically by placer.\n"
     ]
    }
   ],
   "source": [
    "model = Sequential([\n",
    "    Dense(32, activation='relu', input_shape=(10,)), #### input shape is 10 since we have 10 features\n",
    "    Dense(32, activation='relu'),\n",
    "    Dense(1, activation='sigmoid'),#### the output layer \n",
    "])"
   ]
  },
  {
   "cell_type": "markdown",
   "metadata": {},
   "source": [
    "#### Configure the model \n",
    "\n",
    "* Telling it which algorithm you want to use to do the optimization\n",
    "\n",
    "* Telling it what loss function to use\n",
    "\n",
    "* Telling it what other metrics you want to track apart from the loss function\n",
    "\n",
    "Configuring the model with these settings requires us to call the function model.compile"
   ]
  },
  {
   "cell_type": "markdown",
   "metadata": {},
   "source": [
    "* optimizer='sgd' ==>‘sgd’ refers to stochastic gradient descent\n",
    "\n",
    "* loss='binary_crossentropy' ==> The loss function for outputs that take the values 1 or 0 is called binary cross entropy.\n",
    "\n"
   ]
  },
  {
   "cell_type": "code",
   "execution_count": 16,
   "metadata": {},
   "outputs": [],
   "source": [
    "model.compile(optimizer='sgd',\n",
    "              loss='binary_crossentropy',\n",
    "              metrics=['accuracy'])"
   ]
  },
  {
   "cell_type": "markdown",
   "metadata": {},
   "source": [
    "# Training on the data"
   ]
  },
  {
   "cell_type": "code",
   "execution_count": 17,
   "metadata": {},
   "outputs": [
    {
     "name": "stdout",
     "output_type": "stream",
     "text": [
      "WARNING:tensorflow:From C:\\Users\\INTEL\\Anaconda3\\lib\\site-packages\\tensorflow\\python\\ops\\math_ops.py:3066: to_int32 (from tensorflow.python.ops.math_ops) is deprecated and will be removed in a future version.\n",
      "Instructions for updating:\n",
      "Use tf.cast instead.\n",
      "Train on 1022 samples, validate on 219 samples\n",
      "Epoch 1/100\n",
      "1022/1022 [==============================] - 1s 1ms/step - loss: 0.6890 - acc: 0.5088 - val_loss: 0.6861 - val_acc: 0.5068\n",
      "Epoch 2/100\n",
      "1022/1022 [==============================] - 0s 66us/step - loss: 0.6809 - acc: 0.5098 - val_loss: 0.6790 - val_acc: 0.5068\n",
      "Epoch 3/100\n",
      "1022/1022 [==============================] - 0s 76us/step - loss: 0.6747 - acc: 0.5108 - val_loss: 0.6733 - val_acc: 0.5114\n",
      "Epoch 4/100\n",
      "1022/1022 [==============================] - 0s 78us/step - loss: 0.6696 - acc: 0.5127 - val_loss: 0.6683 - val_acc: 0.5114\n",
      "Epoch 5/100\n",
      "1022/1022 [==============================] - 0s 74us/step - loss: 0.6647 - acc: 0.5166 - val_loss: 0.6635 - val_acc: 0.5114\n",
      "Epoch 6/100\n",
      "1022/1022 [==============================] - 0s 78us/step - loss: 0.6599 - acc: 0.5186 - val_loss: 0.6588 - val_acc: 0.5297\n",
      "Epoch 7/100\n",
      "1022/1022 [==============================] - 0s 72us/step - loss: 0.6552 - acc: 0.5499 - val_loss: 0.6543 - val_acc: 0.5616\n",
      "Epoch 8/100\n",
      "1022/1022 [==============================] - 0s 68us/step - loss: 0.6506 - acc: 0.5705 - val_loss: 0.6497 - val_acc: 0.5845\n",
      "Epoch 9/100\n",
      "1022/1022 [==============================] - 0s 73us/step - loss: 0.6459 - acc: 0.5881 - val_loss: 0.6450 - val_acc: 0.6758\n",
      "Epoch 10/100\n",
      "1022/1022 [==============================] - 0s 74us/step - loss: 0.6411 - acc: 0.6947 - val_loss: 0.6403 - val_acc: 0.7078\n",
      "Epoch 11/100\n",
      "1022/1022 [==============================] - 0s 86us/step - loss: 0.6362 - acc: 0.6859 - val_loss: 0.6353 - val_acc: 0.7306\n",
      "Epoch 12/100\n",
      "1022/1022 [==============================] - 0s 92us/step - loss: 0.6312 - acc: 0.7211 - val_loss: 0.6303 - val_acc: 0.7443\n",
      "Epoch 13/100\n",
      "1022/1022 [==============================] - 0s 75us/step - loss: 0.6259 - acc: 0.7417 - val_loss: 0.6251 - val_acc: 0.7443\n",
      "Epoch 14/100\n",
      "1022/1022 [==============================] - 0s 74us/step - loss: 0.6206 - acc: 0.7652 - val_loss: 0.6197 - val_acc: 0.7443\n",
      "Epoch 15/100\n",
      "1022/1022 [==============================] - 0s 64us/step - loss: 0.6151 - acc: 0.7681 - val_loss: 0.6141 - val_acc: 0.7443\n",
      "Epoch 16/100\n",
      "1022/1022 [==============================] - 0s 64us/step - loss: 0.6094 - acc: 0.7730 - val_loss: 0.6083 - val_acc: 0.7534\n",
      "Epoch 17/100\n",
      "1022/1022 [==============================] - 0s 72us/step - loss: 0.6035 - acc: 0.7730 - val_loss: 0.6023 - val_acc: 0.7626\n",
      "Epoch 18/100\n",
      "1022/1022 [==============================] - 0s 51us/step - loss: 0.5972 - acc: 0.7935 - val_loss: 0.5960 - val_acc: 0.7763\n",
      "Epoch 19/100\n",
      "1022/1022 [==============================] - 0s 51us/step - loss: 0.5909 - acc: 0.8082 - val_loss: 0.5895 - val_acc: 0.7717\n",
      "Epoch 20/100\n",
      "1022/1022 [==============================] - 0s 58us/step - loss: 0.5843 - acc: 0.8121 - val_loss: 0.5828 - val_acc: 0.7900\n",
      "Epoch 21/100\n",
      "1022/1022 [==============================] - 0s 68us/step - loss: 0.5773 - acc: 0.8180 - val_loss: 0.5759 - val_acc: 0.7945\n",
      "Epoch 22/100\n",
      "1022/1022 [==============================] - 0s 67us/step - loss: 0.5703 - acc: 0.8209 - val_loss: 0.5688 - val_acc: 0.7991\n",
      "Epoch 23/100\n",
      "1022/1022 [==============================] - 0s 47us/step - loss: 0.5630 - acc: 0.8288 - val_loss: 0.5614 - val_acc: 0.7991\n",
      "Epoch 24/100\n",
      "1022/1022 [==============================] - 0s 55us/step - loss: 0.5556 - acc: 0.8258 - val_loss: 0.5539 - val_acc: 0.8037\n",
      "Epoch 25/100\n",
      "1022/1022 [==============================] - 0s 47us/step - loss: 0.5479 - acc: 0.8444 - val_loss: 0.5462 - val_acc: 0.7991\n",
      "Epoch 26/100\n",
      "1022/1022 [==============================] - 0s 47us/step - loss: 0.5401 - acc: 0.8356 - val_loss: 0.5383 - val_acc: 0.7991\n",
      "Epoch 27/100\n",
      "1022/1022 [==============================] - 0s 50us/step - loss: 0.5323 - acc: 0.8386 - val_loss: 0.5304 - val_acc: 0.8082\n",
      "Epoch 28/100\n",
      "1022/1022 [==============================] - 0s 67us/step - loss: 0.5241 - acc: 0.8395 - val_loss: 0.5226 - val_acc: 0.8265\n",
      "Epoch 29/100\n",
      "1022/1022 [==============================] - 0s 59us/step - loss: 0.5161 - acc: 0.8474 - val_loss: 0.5144 - val_acc: 0.8265\n",
      "Epoch 30/100\n",
      "1022/1022 [==============================] - 0s 50us/step - loss: 0.5082 - acc: 0.8503 - val_loss: 0.5062 - val_acc: 0.8265\n",
      "Epoch 31/100\n",
      "1022/1022 [==============================] - 0s 48us/step - loss: 0.4998 - acc: 0.8474 - val_loss: 0.4980 - val_acc: 0.8265\n",
      "Epoch 32/100\n",
      "1022/1022 [==============================] - 0s 62us/step - loss: 0.4916 - acc: 0.8513 - val_loss: 0.4901 - val_acc: 0.8402\n",
      "Epoch 33/100\n",
      "1022/1022 [==============================] - 0s 68us/step - loss: 0.4839 - acc: 0.8562 - val_loss: 0.4819 - val_acc: 0.8311\n",
      "Epoch 34/100\n",
      "1022/1022 [==============================] - 0s 51us/step - loss: 0.4755 - acc: 0.8532 - val_loss: 0.4740 - val_acc: 0.8447\n",
      "Epoch 35/100\n",
      "1022/1022 [==============================] - 0s 49us/step - loss: 0.4677 - acc: 0.8630 - val_loss: 0.4661 - val_acc: 0.8402\n",
      "Epoch 36/100\n",
      "1022/1022 [==============================] - 0s 55us/step - loss: 0.4600 - acc: 0.8562 - val_loss: 0.4584 - val_acc: 0.8447\n",
      "Epoch 37/100\n",
      "1022/1022 [==============================] - 0s 65us/step - loss: 0.4522 - acc: 0.8659 - val_loss: 0.4508 - val_acc: 0.8447\n",
      "Epoch 38/100\n",
      "1022/1022 [==============================] - 0s 74us/step - loss: 0.4452 - acc: 0.8601 - val_loss: 0.4434 - val_acc: 0.8493\n",
      "Epoch 39/100\n",
      "1022/1022 [==============================] - 0s 62us/step - loss: 0.4377 - acc: 0.8669 - val_loss: 0.4363 - val_acc: 0.8721\n",
      "Epoch 40/100\n",
      "1022/1022 [==============================] - 0s 63us/step - loss: 0.4307 - acc: 0.8689 - val_loss: 0.4292 - val_acc: 0.8493\n",
      "Epoch 41/100\n",
      "1022/1022 [==============================] - 0s 52us/step - loss: 0.4239 - acc: 0.8640 - val_loss: 0.4227 - val_acc: 0.8721\n",
      "Epoch 42/100\n",
      "1022/1022 [==============================] - 0s 66us/step - loss: 0.4174 - acc: 0.8699 - val_loss: 0.4165 - val_acc: 0.8721\n",
      "Epoch 43/100\n",
      "1022/1022 [==============================] - 0s 47us/step - loss: 0.4109 - acc: 0.8679 - val_loss: 0.4097 - val_acc: 0.8767\n",
      "Epoch 44/100\n",
      "1022/1022 [==============================] - 0s 48us/step - loss: 0.4053 - acc: 0.8659 - val_loss: 0.4036 - val_acc: 0.8813\n",
      "Epoch 45/100\n",
      "1022/1022 [==============================] - 0s 54us/step - loss: 0.3991 - acc: 0.8708 - val_loss: 0.3977 - val_acc: 0.8767\n",
      "Epoch 46/100\n",
      "1022/1022 [==============================] - 0s 65us/step - loss: 0.3938 - acc: 0.8708 - val_loss: 0.3922 - val_acc: 0.8858\n",
      "Epoch 47/100\n",
      "1022/1022 [==============================] - 0s 56us/step - loss: 0.3883 - acc: 0.8708 - val_loss: 0.3868 - val_acc: 0.8904\n",
      "Epoch 48/100\n",
      "1022/1022 [==============================] - 0s 51us/step - loss: 0.3833 - acc: 0.8728 - val_loss: 0.3815 - val_acc: 0.8950\n",
      "Epoch 49/100\n",
      "1022/1022 [==============================] - 0s 46us/step - loss: 0.3784 - acc: 0.8728 - val_loss: 0.3773 - val_acc: 0.8813\n",
      "Epoch 50/100\n",
      "1022/1022 [==============================] - 0s 46us/step - loss: 0.3733 - acc: 0.8728 - val_loss: 0.3718 - val_acc: 0.8904\n",
      "Epoch 51/100\n",
      "1022/1022 [==============================] - 0s 48us/step - loss: 0.3695 - acc: 0.8728 - val_loss: 0.3676 - val_acc: 0.8813\n",
      "Epoch 52/100\n",
      "1022/1022 [==============================] - 0s 51us/step - loss: 0.3648 - acc: 0.8738 - val_loss: 0.3633 - val_acc: 0.8813\n",
      "Epoch 53/100\n",
      "1022/1022 [==============================] - 0s 46us/step - loss: 0.3609 - acc: 0.8708 - val_loss: 0.3594 - val_acc: 0.8813\n",
      "Epoch 54/100\n",
      "1022/1022 [==============================] - 0s 47us/step - loss: 0.3572 - acc: 0.8748 - val_loss: 0.3556 - val_acc: 0.8858\n",
      "Epoch 55/100\n",
      "1022/1022 [==============================] - 0s 47us/step - loss: 0.3534 - acc: 0.8738 - val_loss: 0.3511 - val_acc: 0.8858\n",
      "Epoch 56/100\n",
      "1022/1022 [==============================] - 0s 45us/step - loss: 0.3495 - acc: 0.8718 - val_loss: 0.3489 - val_acc: 0.8858\n",
      "Epoch 57/100\n",
      "1022/1022 [==============================] - 0s 63us/step - loss: 0.3469 - acc: 0.8728 - val_loss: 0.3441 - val_acc: 0.8858\n",
      "Epoch 58/100\n"
     ]
    },
    {
     "name": "stdout",
     "output_type": "stream",
     "text": [
      "1022/1022 [==============================] - 0s 54us/step - loss: 0.3434 - acc: 0.8738 - val_loss: 0.3418 - val_acc: 0.8813\n",
      "Epoch 59/100\n",
      "1022/1022 [==============================] - 0s 49us/step - loss: 0.3405 - acc: 0.8777 - val_loss: 0.3380 - val_acc: 0.8813\n",
      "Epoch 60/100\n",
      "1022/1022 [==============================] - 0s 56us/step - loss: 0.3378 - acc: 0.8748 - val_loss: 0.3349 - val_acc: 0.8813\n",
      "Epoch 61/100\n",
      "1022/1022 [==============================] - 0s 55us/step - loss: 0.3353 - acc: 0.8757 - val_loss: 0.3317 - val_acc: 0.8858\n",
      "Epoch 62/100\n",
      "1022/1022 [==============================] - 0s 64us/step - loss: 0.3326 - acc: 0.8787 - val_loss: 0.3287 - val_acc: 0.8904\n",
      "Epoch 63/100\n",
      "1022/1022 [==============================] - ETA: 0s - loss: 0.7411 - acc: 0.718 - 0s 50us/step - loss: 0.3299 - acc: 0.8777 - val_loss: 0.3261 - val_acc: 0.8904\n",
      "Epoch 64/100\n",
      "1022/1022 [==============================] - 0s 51us/step - loss: 0.3278 - acc: 0.8777 - val_loss: 0.3237 - val_acc: 0.8858\n",
      "Epoch 65/100\n",
      "1022/1022 [==============================] - 0s 45us/step - loss: 0.3254 - acc: 0.8796 - val_loss: 0.3223 - val_acc: 0.8904\n",
      "Epoch 66/100\n",
      "1022/1022 [==============================] - 0s 48us/step - loss: 0.3239 - acc: 0.8787 - val_loss: 0.3198 - val_acc: 0.8904\n",
      "Epoch 67/100\n",
      "1022/1022 [==============================] - 0s 45us/step - loss: 0.3216 - acc: 0.8787 - val_loss: 0.3172 - val_acc: 0.8904\n",
      "Epoch 68/100\n",
      "1022/1022 [==============================] - 0s 46us/step - loss: 0.3195 - acc: 0.8787 - val_loss: 0.3163 - val_acc: 0.8904\n",
      "Epoch 69/100\n",
      "1022/1022 [==============================] - 0s 48us/step - loss: 0.3180 - acc: 0.8796 - val_loss: 0.3131 - val_acc: 0.8950\n",
      "Epoch 70/100\n",
      "1022/1022 [==============================] - 0s 45us/step - loss: 0.3166 - acc: 0.8816 - val_loss: 0.3110 - val_acc: 0.8950\n",
      "Epoch 71/100\n",
      "1022/1022 [==============================] - 0s 47us/step - loss: 0.3149 - acc: 0.8806 - val_loss: 0.3099 - val_acc: 0.8950\n",
      "Epoch 72/100\n",
      "1022/1022 [==============================] - 0s 47us/step - loss: 0.3133 - acc: 0.8826 - val_loss: 0.3075 - val_acc: 0.8950\n",
      "Epoch 73/100\n",
      "1022/1022 [==============================] - 0s 46us/step - loss: 0.3122 - acc: 0.8796 - val_loss: 0.3061 - val_acc: 0.8995\n",
      "Epoch 74/100\n",
      "1022/1022 [==============================] - 0s 47us/step - loss: 0.3105 - acc: 0.8845 - val_loss: 0.3051 - val_acc: 0.8950\n",
      "Epoch 75/100\n",
      "1022/1022 [==============================] - 0s 47us/step - loss: 0.3090 - acc: 0.8826 - val_loss: 0.3027 - val_acc: 0.8950\n",
      "Epoch 76/100\n",
      "1022/1022 [==============================] - 0s 45us/step - loss: 0.3078 - acc: 0.8826 - val_loss: 0.3021 - val_acc: 0.8950\n",
      "Epoch 77/100\n",
      "1022/1022 [==============================] - 0s 53us/step - loss: 0.3061 - acc: 0.8836 - val_loss: 0.3023 - val_acc: 0.8904\n",
      "Epoch 78/100\n",
      "1022/1022 [==============================] - 0s 51us/step - loss: 0.3057 - acc: 0.8806 - val_loss: 0.2992 - val_acc: 0.8995\n",
      "Epoch 79/100\n",
      "1022/1022 [==============================] - 0s 48us/step - loss: 0.3042 - acc: 0.8816 - val_loss: 0.2978 - val_acc: 0.8995\n",
      "Epoch 80/100\n",
      "1022/1022 [==============================] - 0s 48us/step - loss: 0.3029 - acc: 0.8826 - val_loss: 0.2982 - val_acc: 0.8904\n",
      "Epoch 81/100\n",
      "1022/1022 [==============================] - 0s 47us/step - loss: 0.3020 - acc: 0.8845 - val_loss: 0.2955 - val_acc: 0.8995\n",
      "Epoch 82/100\n",
      "1022/1022 [==============================] - 0s 50us/step - loss: 0.3010 - acc: 0.8875 - val_loss: 0.2953 - val_acc: 0.8904\n",
      "Epoch 83/100\n",
      "1022/1022 [==============================] - 0s 47us/step - loss: 0.2998 - acc: 0.8796 - val_loss: 0.2931 - val_acc: 0.8995\n",
      "Epoch 84/100\n",
      "1022/1022 [==============================] - 0s 47us/step - loss: 0.2990 - acc: 0.8865 - val_loss: 0.2924 - val_acc: 0.8995\n",
      "Epoch 85/100\n",
      "1022/1022 [==============================] - 0s 47us/step - loss: 0.2976 - acc: 0.8855 - val_loss: 0.2905 - val_acc: 0.8995\n",
      "Epoch 86/100\n",
      "1022/1022 [==============================] - 0s 47us/step - loss: 0.2972 - acc: 0.8836 - val_loss: 0.2913 - val_acc: 0.8904\n",
      "Epoch 87/100\n",
      "1022/1022 [==============================] - 0s 49us/step - loss: 0.2960 - acc: 0.8885 - val_loss: 0.2881 - val_acc: 0.8995\n",
      "Epoch 88/100\n",
      "1022/1022 [==============================] - 0s 47us/step - loss: 0.2956 - acc: 0.8855 - val_loss: 0.2901 - val_acc: 0.8950\n",
      "Epoch 89/100\n",
      "1022/1022 [==============================] - 0s 50us/step - loss: 0.2941 - acc: 0.8885 - val_loss: 0.2858 - val_acc: 0.8995\n",
      "Epoch 90/100\n",
      "1022/1022 [==============================] - 0s 50us/step - loss: 0.2942 - acc: 0.8865 - val_loss: 0.2854 - val_acc: 0.8995\n",
      "Epoch 91/100\n",
      "1022/1022 [==============================] - 0s 47us/step - loss: 0.2928 - acc: 0.8826 - val_loss: 0.2858 - val_acc: 0.8995\n",
      "Epoch 92/100\n",
      "1022/1022 [==============================] - 0s 49us/step - loss: 0.2923 - acc: 0.8914 - val_loss: 0.2843 - val_acc: 0.8995\n",
      "Epoch 93/100\n",
      "1022/1022 [==============================] - 0s 46us/step - loss: 0.2920 - acc: 0.8875 - val_loss: 0.2829 - val_acc: 0.8995\n",
      "Epoch 94/100\n",
      "1022/1022 [==============================] - 0s 46us/step - loss: 0.2904 - acc: 0.8885 - val_loss: 0.2829 - val_acc: 0.8995\n",
      "Epoch 95/100\n",
      "1022/1022 [==============================] - 0s 49us/step - loss: 0.2901 - acc: 0.8933 - val_loss: 0.2836 - val_acc: 0.9041\n",
      "Epoch 96/100\n",
      "1022/1022 [==============================] - 0s 49us/step - loss: 0.2894 - acc: 0.8904 - val_loss: 0.2810 - val_acc: 0.8995\n",
      "Epoch 97/100\n",
      "1022/1022 [==============================] - 0s 45us/step - loss: 0.2888 - acc: 0.8885 - val_loss: 0.2806 - val_acc: 0.8995\n",
      "Epoch 98/100\n",
      "1022/1022 [==============================] - 0s 45us/step - loss: 0.2881 - acc: 0.8855 - val_loss: 0.2797 - val_acc: 0.8995\n",
      "Epoch 99/100\n",
      "1022/1022 [==============================] - 0s 45us/step - loss: 0.2871 - acc: 0.8855 - val_loss: 0.2784 - val_acc: 0.8995\n",
      "Epoch 100/100\n",
      "1022/1022 [==============================] - 0s 47us/step - loss: 0.2872 - acc: 0.8885 - val_loss: 0.2788 - val_acc: 0.8995\n"
     ]
    }
   ],
   "source": [
    "hist = model.fit(X_train, Y_train,\n",
    "          batch_size=32, epochs=100,\n",
    "          validation_data=(X_val, Y_val))"
   ]
  },
  {
   "cell_type": "markdown",
   "metadata": {},
   "source": [
    "# Evaluate the Model"
   ]
  },
  {
   "cell_type": "code",
   "execution_count": 18,
   "metadata": {},
   "outputs": [
    {
     "name": "stdout",
     "output_type": "stream",
     "text": [
      "219/219 [==============================] - 0s 66us/step\n"
     ]
    },
    {
     "data": {
      "text/plain": [
       "0.8538812801718167"
      ]
     },
     "execution_count": 18,
     "metadata": {},
     "output_type": "execute_result"
    }
   ],
   "source": [
    "model.evaluate(X_test, Y_test)[1]"
   ]
  },
  {
   "cell_type": "markdown",
   "metadata": {},
   "source": [
    "# Visualizing Loss and Accuracy"
   ]
  },
  {
   "cell_type": "code",
   "execution_count": 19,
   "metadata": {},
   "outputs": [
    {
     "data": {
      "image/png": "[encoded data removed]",
      "text/plain": [
       "<Figure size 432x288 with 1 Axes>"
      ]
     },
     "metadata": {
      "needs_background": "light"
     },
     "output_type": "display_data"
    }
   ],
   "source": [
    "import matplotlib.pyplot as plt\n",
    "%matplotlib inline\n",
    "\n",
    "#plot the loss and the val_loss\n",
    "plt.plot(hist.history['loss'])\n",
    "plt.plot(hist.history['val_loss'])\n",
    "#the title of this graph\n",
    "plt.title('Model loss')\n",
    "# labels for x axis and y axis\n",
    "plt.ylabel('Loss')\n",
    "plt.xlabel('Epoch')\n",
    "#legend for our graph, and the location of the legend will be in the upper right\n",
    "plt.legend(['Train', 'Val'], loc='upper right')\n",
    "plt.show()"
   ]
  },
  {
   "cell_type": "markdown",
   "metadata": {},
   "source": [
    "# Plot training accuracy and validation accuracy :"
   ]
  },
  {
   "cell_type": "code",
   "execution_count": 20,
   "metadata": {},
   "outputs": [
    {
     "data": {
      "image/png": "[encoded data removed]",
      "text/plain": [
       "<Figure size 432x288 with 1 Axes>"
      ]
     },
     "metadata": {
      "needs_background": "light"
     },
     "output_type": "display_data"
    }
   ],
   "source": [
    "plt.plot(hist.history['acc'])\n",
    "plt.plot(hist.history['val_acc'])\n",
    "plt.title('Model accuracy')\n",
    "plt.ylabel('Accuracy')\n",
    "plt.xlabel('Epoch')\n",
    "plt.legend(['Train', 'Val'], loc='lower right')\n",
    "plt.show()"
   ]
  },
  {
   "cell_type": "markdown",
   "metadata": {},
   "source": [
    "Since the improvements in our model to the training set looks somewhat matched up with improvements to the validation set, it doesn’t seem like overfitting is a huge problem in the  model."
   ]
  },
  {
   "cell_type": "markdown",
   "metadata": {},
   "source": [
    "# Adding Regularization to our Neural Network"
   ]
  },
  {
   "cell_type": "markdown",
   "metadata": {},
   "source": [
    "For the sake of introducing regularization to our neural network, let’s formulate with a neural network that will badly overfit on our training set. "
   ]
  },
  {
   "cell_type": "code",
   "execution_count": 21,
   "metadata": {},
   "outputs": [
    {
     "name": "stdout",
     "output_type": "stream",
     "text": [
      "Train on 1022 samples, validate on 219 samples\n",
      "Epoch 1/100\n",
      "1022/1022 [==============================] - 4s 4ms/step - loss: 0.4818 - acc: 0.7505 - val_loss: 0.3735 - val_acc: 0.8356\n",
      "Epoch 2/100\n",
      "1022/1022 [==============================] - 3s 3ms/step - loss: 0.3438 - acc: 0.8640 - val_loss: 0.3041 - val_acc: 0.8813\n",
      "Epoch 3/100\n",
      "1022/1022 [==============================] - 3s 3ms/step - loss: 0.3056 - acc: 0.8796 - val_loss: 0.3790 - val_acc: 0.8265\n",
      "Epoch 4/100\n",
      "1022/1022 [==============================] - 3s 3ms/step - loss: 0.3270 - acc: 0.8728 - val_loss: 0.3018 - val_acc: 0.8858\n",
      "Epoch 5/100\n",
      "1022/1022 [==============================] - 3s 3ms/step - loss: 0.2763 - acc: 0.8933 - val_loss: 0.2687 - val_acc: 0.8813\n",
      "Epoch 6/100\n",
      "1022/1022 [==============================] - 3s 3ms/step - loss: 0.2679 - acc: 0.8885 - val_loss: 0.4026 - val_acc: 0.8493\n",
      "Epoch 7/100\n",
      "1022/1022 [==============================] - 3s 3ms/step - loss: 0.2575 - acc: 0.8924 - val_loss: 0.2759 - val_acc: 0.8721\n",
      "Epoch 8/100\n",
      "1022/1022 [==============================] - 3s 3ms/step - loss: 0.2436 - acc: 0.8982 - val_loss: 0.2579 - val_acc: 0.8950\n",
      "Epoch 9/100\n",
      "1022/1022 [==============================] - 3s 3ms/step - loss: 0.2331 - acc: 0.8963 - val_loss: 0.2800 - val_acc: 0.8950\n",
      "Epoch 10/100\n",
      "1022/1022 [==============================] - 3s 3ms/step - loss: 0.2107 - acc: 0.9159 - val_loss: 0.2499 - val_acc: 0.9041\n",
      "Epoch 11/100\n",
      "1022/1022 [==============================] - 3s 3ms/step - loss: 0.2137 - acc: 0.9178 - val_loss: 0.2682 - val_acc: 0.8950\n",
      "Epoch 12/100\n",
      "1022/1022 [==============================] - 3s 3ms/step - loss: 0.2095 - acc: 0.9149 - val_loss: 0.2589 - val_acc: 0.9041\n",
      "Epoch 13/100\n",
      "1022/1022 [==============================] - 3s 3ms/step - loss: 0.2214 - acc: 0.9149 - val_loss: 0.2545 - val_acc: 0.9041\n",
      "Epoch 14/100\n",
      "1022/1022 [==============================] - 3s 3ms/step - loss: 0.2445 - acc: 0.9139 - val_loss: 0.2651 - val_acc: 0.9041\n",
      "Epoch 15/100\n",
      "1022/1022 [==============================] - 3s 3ms/step - loss: 0.2160 - acc: 0.9129 - val_loss: 0.2553 - val_acc: 0.8904\n",
      "Epoch 16/100\n",
      "1022/1022 [==============================] - 3s 3ms/step - loss: 0.2035 - acc: 0.9159 - val_loss: 0.2795 - val_acc: 0.8995\n",
      "Epoch 17/100\n",
      "1022/1022 [==============================] - 3s 3ms/step - loss: 0.2064 - acc: 0.9207 - val_loss: 0.2828 - val_acc: 0.8858\n",
      "Epoch 18/100\n",
      "1022/1022 [==============================] - 3s 3ms/step - loss: 0.2061 - acc: 0.9149 - val_loss: 0.2578 - val_acc: 0.9041\n",
      "Epoch 19/100\n",
      "1022/1022 [==============================] - 3s 3ms/step - loss: 0.2052 - acc: 0.9080 - val_loss: 0.2609 - val_acc: 0.8904\n",
      "Epoch 20/100\n",
      "1022/1022 [==============================] - 3s 3ms/step - loss: 0.1962 - acc: 0.9149 - val_loss: 0.3115 - val_acc: 0.8721\n",
      "Epoch 21/100\n",
      "1022/1022 [==============================] - 3s 3ms/step - loss: 0.1910 - acc: 0.9168 - val_loss: 0.2690 - val_acc: 0.8950\n",
      "Epoch 22/100\n",
      "1022/1022 [==============================] - 3s 3ms/step - loss: 0.2123 - acc: 0.9100 - val_loss: 0.3470 - val_acc: 0.8767\n",
      "Epoch 23/100\n",
      "1022/1022 [==============================] - 3s 3ms/step - loss: 0.2163 - acc: 0.9139 - val_loss: 0.3443 - val_acc: 0.8904\n",
      "Epoch 24/100\n",
      "1022/1022 [==============================] - 3s 3ms/step - loss: 0.1951 - acc: 0.9168 - val_loss: 0.2602 - val_acc: 0.8858\n",
      "Epoch 25/100\n",
      "1022/1022 [==============================] - 3s 3ms/step - loss: 0.2030 - acc: 0.9168 - val_loss: 0.2744 - val_acc: 0.8858\n",
      "Epoch 26/100\n",
      "1022/1022 [==============================] - 3s 3ms/step - loss: 0.1853 - acc: 0.9256 - val_loss: 0.2877 - val_acc: 0.9087\n",
      "Epoch 27/100\n",
      "1022/1022 [==============================] - 3s 3ms/step - loss: 0.1775 - acc: 0.9266 - val_loss: 0.3214 - val_acc: 0.8904\n",
      "Epoch 28/100\n",
      "1022/1022 [==============================] - 3s 3ms/step - loss: 0.1870 - acc: 0.9168 - val_loss: 0.3205 - val_acc: 0.8813\n",
      "Epoch 29/100\n",
      "1022/1022 [==============================] - 3s 3ms/step - loss: 0.1857 - acc: 0.9188 - val_loss: 0.2886 - val_acc: 0.8950\n",
      "Epoch 30/100\n",
      "1022/1022 [==============================] - 3s 3ms/step - loss: 0.1765 - acc: 0.9286 - val_loss: 0.3132 - val_acc: 0.8721\n",
      "Epoch 31/100\n",
      "1022/1022 [==============================] - 3s 3ms/step - loss: 0.1828 - acc: 0.9227 - val_loss: 0.2922 - val_acc: 0.8995\n",
      "Epoch 32/100\n",
      "1022/1022 [==============================] - 3s 3ms/step - loss: 0.1717 - acc: 0.9256 - val_loss: 0.3446 - val_acc: 0.8858\n",
      "Epoch 33/100\n",
      "1022/1022 [==============================] - 3s 3ms/step - loss: 0.1669 - acc: 0.9325 - val_loss: 0.2943 - val_acc: 0.8995\n",
      "Epoch 34/100\n",
      "1022/1022 [==============================] - 3s 3ms/step - loss: 0.1615 - acc: 0.9374 - val_loss: 0.3211 - val_acc: 0.8995\n",
      "Epoch 35/100\n",
      "1022/1022 [==============================] - 3s 3ms/step - loss: 0.1790 - acc: 0.9256 - val_loss: 0.3349 - val_acc: 0.8767\n",
      "Epoch 36/100\n",
      "1022/1022 [==============================] - 3s 3ms/step - loss: 0.1811 - acc: 0.9344 - val_loss: 0.3311 - val_acc: 0.8813\n",
      "Epoch 37/100\n",
      "1022/1022 [==============================] - 3s 3ms/step - loss: 0.1656 - acc: 0.9364 - val_loss: 0.2774 - val_acc: 0.8950\n",
      "Epoch 38/100\n",
      "1022/1022 [==============================] - 3s 3ms/step - loss: 0.1570 - acc: 0.9403 - val_loss: 0.3326 - val_acc: 0.8858\n",
      "Epoch 39/100\n",
      "1022/1022 [==============================] - 3s 3ms/step - loss: 0.1653 - acc: 0.9315 - val_loss: 0.3475 - val_acc: 0.8813\n",
      "Epoch 40/100\n",
      "1022/1022 [==============================] - 3s 3ms/step - loss: 0.1566 - acc: 0.9384 - val_loss: 0.3918 - val_acc: 0.8813\n",
      "Epoch 41/100\n",
      "1022/1022 [==============================] - 3s 3ms/step - loss: 0.1508 - acc: 0.9374 - val_loss: 0.3121 - val_acc: 0.8995\n",
      "Epoch 42/100\n",
      "1022/1022 [==============================] - 3s 3ms/step - loss: 0.1636 - acc: 0.9335 - val_loss: 0.3581 - val_acc: 0.8904\n",
      "Epoch 43/100\n",
      "1022/1022 [==============================] - 3s 3ms/step - loss: 0.1836 - acc: 0.9207 - val_loss: 0.3248 - val_acc: 0.8813\n",
      "Epoch 44/100\n",
      "1022/1022 [==============================] - 3s 3ms/step - loss: 0.1594 - acc: 0.9305 - val_loss: 0.3778 - val_acc: 0.8767\n",
      "Epoch 45/100\n",
      "1022/1022 [==============================] - 3s 3ms/step - loss: 0.1732 - acc: 0.9276 - val_loss: 0.3376 - val_acc: 0.8813\n",
      "Epoch 46/100\n",
      "1022/1022 [==============================] - 3s 3ms/step - loss: 0.1676 - acc: 0.9364 - val_loss: 0.3729 - val_acc: 0.8721\n",
      "Epoch 47/100\n",
      "1022/1022 [==============================] - 3s 3ms/step - loss: 0.1505 - acc: 0.9423 - val_loss: 0.3331 - val_acc: 0.8813\n",
      "Epoch 48/100\n",
      "1022/1022 [==============================] - 3s 3ms/step - loss: 0.1376 - acc: 0.9511 - val_loss: 0.3608 - val_acc: 0.8767\n",
      "Epoch 49/100\n",
      "1022/1022 [==============================] - 3s 3ms/step - loss: 0.1512 - acc: 0.9354 - val_loss: 0.3512 - val_acc: 0.8995\n",
      "Epoch 50/100\n",
      "1022/1022 [==============================] - 3s 3ms/step - loss: 0.1524 - acc: 0.9423 - val_loss: 0.3881 - val_acc: 0.8858\n",
      "Epoch 51/100\n",
      "1022/1022 [==============================] - 3s 3ms/step - loss: 0.1708 - acc: 0.9325 - val_loss: 0.4081 - val_acc: 0.8721\n",
      "Epoch 52/100\n",
      "1022/1022 [==============================] - 3s 3ms/step - loss: 0.1690 - acc: 0.9276 - val_loss: 0.3598 - val_acc: 0.8813\n",
      "Epoch 53/100\n",
      "1022/1022 [==============================] - 3s 3ms/step - loss: 0.1753 - acc: 0.9325 - val_loss: 0.3972 - val_acc: 0.8630\n",
      "Epoch 54/100\n",
      "1022/1022 [==============================] - 3s 3ms/step - loss: 0.1459 - acc: 0.9432 - val_loss: 0.4393 - val_acc: 0.8904\n",
      "Epoch 55/100\n",
      "1022/1022 [==============================] - 3s 3ms/step - loss: 0.1497 - acc: 0.9374 - val_loss: 0.4443 - val_acc: 0.8813\n",
      "Epoch 56/100\n",
      "1022/1022 [==============================] - 3s 3ms/step - loss: 0.1349 - acc: 0.9491 - val_loss: 0.4244 - val_acc: 0.8858\n",
      "Epoch 57/100\n",
      "1022/1022 [==============================] - 3s 3ms/step - loss: 0.1525 - acc: 0.9374 - val_loss: 0.4211 - val_acc: 0.8676\n",
      "Epoch 58/100\n",
      "1022/1022 [==============================] - 3s 3ms/step - loss: 0.1338 - acc: 0.9472 - val_loss: 0.4339 - val_acc: 0.8539\n",
      "Epoch 59/100\n",
      "1022/1022 [==============================] - 3s 3ms/step - loss: 0.1391 - acc: 0.9384 - val_loss: 0.4185 - val_acc: 0.8858\n",
      "Epoch 60/100\n",
      "1022/1022 [==============================] - 3s 3ms/step - loss: 0.1391 - acc: 0.9472 - val_loss: 0.4493 - val_acc: 0.8904\n"
     ]
    },
    {
     "name": "stdout",
     "output_type": "stream",
     "text": [
      "Epoch 61/100\n",
      "1022/1022 [==============================] - 3s 3ms/step - loss: 0.1475 - acc: 0.9423 - val_loss: 0.3863 - val_acc: 0.8858s - loss: 0.1463 - acc: 0.94\n",
      "Epoch 62/100\n",
      "1022/1022 [==============================] - 3s 3ms/step - loss: 0.1500 - acc: 0.9472 - val_loss: 0.4747 - val_acc: 0.8721\n",
      "Epoch 63/100\n",
      "1022/1022 [==============================] - 3s 3ms/step - loss: 0.1430 - acc: 0.9462 - val_loss: 0.5149 - val_acc: 0.8493\n",
      "Epoch 64/100\n",
      "1022/1022 [==============================] - 3s 3ms/step - loss: 0.1368 - acc: 0.9462 - val_loss: 0.4898 - val_acc: 0.8813\n",
      "Epoch 65/100\n",
      "1022/1022 [==============================] - 3s 3ms/step - loss: 0.1457 - acc: 0.9384 - val_loss: 0.3913 - val_acc: 0.8676\n",
      "Epoch 66/100\n",
      "1022/1022 [==============================] - 3s 3ms/step - loss: 0.1298 - acc: 0.9481 - val_loss: 0.4087 - val_acc: 0.8950\n",
      "Epoch 67/100\n",
      "1022/1022 [==============================] - 3s 3ms/step - loss: 0.1384 - acc: 0.9423 - val_loss: 0.4118 - val_acc: 0.8813\n",
      "Epoch 68/100\n",
      "1022/1022 [==============================] - 3s 3ms/step - loss: 0.1277 - acc: 0.9423 - val_loss: 0.5308 - val_acc: 0.8767\n",
      "Epoch 69/100\n",
      "1022/1022 [==============================] - 3s 3ms/step - loss: 0.1115 - acc: 0.9560 - val_loss: 0.4654 - val_acc: 0.8995\n",
      "Epoch 70/100\n",
      "1022/1022 [==============================] - 3s 3ms/step - loss: 0.1047 - acc: 0.9599 - val_loss: 0.4917 - val_acc: 0.8767\n",
      "Epoch 71/100\n",
      "1022/1022 [==============================] - 3s 3ms/step - loss: 0.1050 - acc: 0.9579 - val_loss: 0.5681 - val_acc: 0.8630\n",
      "Epoch 72/100\n",
      "1022/1022 [==============================] - 3s 3ms/step - loss: 0.1082 - acc: 0.9599 - val_loss: 0.5237 - val_acc: 0.8676\n",
      "Epoch 73/100\n",
      "1022/1022 [==============================] - 3s 3ms/step - loss: 0.1084 - acc: 0.9530 - val_loss: 0.6635 - val_acc: 0.8721\n",
      "Epoch 74/100\n",
      "1022/1022 [==============================] - 3s 3ms/step - loss: 0.1159 - acc: 0.9511 - val_loss: 0.5643 - val_acc: 0.8721\n",
      "Epoch 75/100\n",
      "1022/1022 [==============================] - 3s 3ms/step - loss: 0.1281 - acc: 0.9393 - val_loss: 0.5463 - val_acc: 0.8767\n",
      "Epoch 76/100\n",
      "1022/1022 [==============================] - 3s 3ms/step - loss: 0.1163 - acc: 0.9511 - val_loss: 0.5824 - val_acc: 0.8813\n",
      "Epoch 77/100\n",
      "1022/1022 [==============================] - 3s 3ms/step - loss: 0.1023 - acc: 0.9618 - val_loss: 0.5340 - val_acc: 0.8721\n",
      "Epoch 78/100\n",
      "1022/1022 [==============================] - 3s 3ms/step - loss: 0.0930 - acc: 0.9589 - val_loss: 0.6243 - val_acc: 0.8767\n",
      "Epoch 79/100\n",
      "1022/1022 [==============================] - 3s 3ms/step - loss: 0.0971 - acc: 0.9550 - val_loss: 0.6524 - val_acc: 0.8813\n",
      "Epoch 80/100\n",
      "1022/1022 [==============================] - 3s 3ms/step - loss: 0.1183 - acc: 0.9521 - val_loss: 0.6032 - val_acc: 0.8858\n",
      "Epoch 81/100\n",
      "1022/1022 [==============================] - 3s 3ms/step - loss: 0.1432 - acc: 0.9354 - val_loss: 0.4969 - val_acc: 0.8630\n",
      "Epoch 82/100\n",
      "1022/1022 [==============================] - 3s 3ms/step - loss: 0.1329 - acc: 0.9442 - val_loss: 0.5999 - val_acc: 0.8767\n",
      "Epoch 83/100\n",
      "1022/1022 [==============================] - 3s 3ms/step - loss: 0.1254 - acc: 0.9521 - val_loss: 0.5170 - val_acc: 0.8813\n",
      "Epoch 84/100\n",
      "1022/1022 [==============================] - 3s 3ms/step - loss: 0.1019 - acc: 0.9609 - val_loss: 0.5293 - val_acc: 0.8539\n",
      "Epoch 85/100\n",
      "1022/1022 [==============================] - 3s 3ms/step - loss: 0.1257 - acc: 0.9511 - val_loss: 0.5318 - val_acc: 0.8813\n",
      "Epoch 86/100\n",
      "1022/1022 [==============================] - 3s 3ms/step - loss: 0.1072 - acc: 0.9569 - val_loss: 0.4850 - val_acc: 0.8539\n",
      "Epoch 87/100\n",
      "1022/1022 [==============================] - 3s 3ms/step - loss: 0.1022 - acc: 0.9560 - val_loss: 0.7166 - val_acc: 0.8813\n",
      "Epoch 88/100\n",
      "1022/1022 [==============================] - 3s 3ms/step - loss: 0.0915 - acc: 0.9569 - val_loss: 0.6331 - val_acc: 0.8630\n",
      "Epoch 89/100\n",
      "1022/1022 [==============================] - 3s 3ms/step - loss: 0.1292 - acc: 0.9560 - val_loss: 0.5040 - val_acc: 0.8858\n",
      "Epoch 90/100\n",
      "1022/1022 [==============================] - 3s 3ms/step - loss: 0.1548 - acc: 0.9393 - val_loss: 0.3932 - val_acc: 0.8584\n",
      "Epoch 91/100\n",
      "1022/1022 [==============================] - 3s 3ms/step - loss: 0.1252 - acc: 0.9540 - val_loss: 0.5286 - val_acc: 0.8813\n",
      "Epoch 92/100\n",
      "1022/1022 [==============================] - 3s 3ms/step - loss: 0.0924 - acc: 0.9648 - val_loss: 0.5021 - val_acc: 0.8676\n",
      "Epoch 93/100\n",
      "1022/1022 [==============================] - 3s 3ms/step - loss: 0.0892 - acc: 0.9648 - val_loss: 0.5951 - val_acc: 0.8858\n",
      "Epoch 94/100\n",
      "1022/1022 [==============================] - 3s 3ms/step - loss: 0.0797 - acc: 0.9687 - val_loss: 0.7225 - val_acc: 0.8676\n",
      "Epoch 95/100\n",
      "1022/1022 [==============================] - 3s 3ms/step - loss: 0.1172 - acc: 0.9491 - val_loss: 0.5552 - val_acc: 0.8904\n",
      "Epoch 96/100\n",
      "1022/1022 [==============================] - 3s 3ms/step - loss: 0.0738 - acc: 0.9736 - val_loss: 0.7313 - val_acc: 0.8813\n",
      "Epoch 97/100\n",
      "1022/1022 [==============================] - 3s 3ms/step - loss: 0.0908 - acc: 0.9628 - val_loss: 0.6749 - val_acc: 0.8630\n",
      "Epoch 98/100\n",
      "1022/1022 [==============================] - 3s 3ms/step - loss: 0.1058 - acc: 0.9511 - val_loss: 0.4753 - val_acc: 0.8950\n",
      "Epoch 99/100\n",
      "1022/1022 [==============================] - 3s 3ms/step - loss: 0.0887 - acc: 0.9618 - val_loss: 0.5579 - val_acc: 0.8721\n",
      "Epoch 100/100\n",
      "1022/1022 [==============================] - 3s 3ms/step - loss: 0.0825 - acc: 0.9648 - val_loss: 0.6287 - val_acc: 0.8767\n"
     ]
    }
   ],
   "source": [
    "model_2 = Sequential([\n",
    "    Dense(1000, activation='relu', input_shape=(10,)),\n",
    "    Dense(1000, activation='relu'),\n",
    "    Dense(1000, activation='relu'),\n",
    "    Dense(1000, activation='relu'),\n",
    "    Dense(1, activation='sigmoid'),\n",
    "])\n",
    "model_2.compile(optimizer='adam',\n",
    "              loss='binary_crossentropy',\n",
    "              metrics=['accuracy'])\n",
    "hist_2 = model_2.fit(X_train, Y_train,\n",
    "          batch_size=32, epochs=100,\n",
    "          validation_data=(X_val, Y_val))"
   ]
  },
  {
   "cell_type": "code",
   "execution_count": 22,
   "metadata": {},
   "outputs": [
    {
     "data": {
      "image/png": "[encoded data removed]",
      "text/plain": [
       "<Figure size 432x288 with 1 Axes>"
      ]
     },
     "metadata": {
      "needs_background": "light"
     },
     "output_type": "display_data"
    }
   ],
   "source": [
    "plt.plot(hist_2.history['loss'])\n",
    "plt.plot(hist_2.history['val_loss'])\n",
    "plt.title('Model loss')\n",
    "plt.ylabel('Loss')\n",
    "plt.xlabel('Epoch')\n",
    "plt.legend(['Train', 'Val'], loc='upper right')\n",
    "plt.show()"
   ]
  },
  {
   "cell_type": "markdown",
   "metadata": {},
   "source": [
    "#### Note\n",
    "The training loss is decreasing, but the validation loss is way above the training loss and increasing,hence overfitting scenario confirmed."
   ]
  },
  {
   "cell_type": "code",
   "execution_count": 23,
   "metadata": {},
   "outputs": [
    {
     "data": {
      "image/png": "[encoded data removed]",
      "text/plain": [
       "<Figure size 432x288 with 1 Axes>"
      ]
     },
     "metadata": {
      "needs_background": "light"
     },
     "output_type": "display_data"
    }
   ],
   "source": [
    "plt.plot(hist_2.history['acc'])\n",
    "plt.plot(hist_2.history['val_acc'])\n",
    "plt.title('Model accuracy')\n",
    "plt.ylabel('Accuracy')\n",
    "plt.xlabel('Epoch')\n",
    "plt.legend(['Train', 'Val'], loc='lower right')\n",
    "plt.show()"
   ]
  },
  {
   "cell_type": "markdown",
   "metadata": {},
   "source": [
    "We can see a clearer divergence between train and validation accuracy as well"
   ]
  },
  {
   "cell_type": "markdown",
   "metadata": {},
   "source": [
    "#### Strategies to reduce over-fitting \n",
    "\n",
    "(Apart from changing our architecture back to our first model) incorporating  L2 regularization and dropout"
   ]
  },
  {
   "cell_type": "code",
   "execution_count": 24,
   "metadata": {},
   "outputs": [],
   "source": [
    "from keras.layers import Dropout\n",
    "from keras import regularizers"
   ]
  },
  {
   "cell_type": "code",
   "execution_count": 35,
   "metadata": {},
   "outputs": [],
   "source": [
    "model_3 = Sequential([\n",
    "    Dense(1000, activation='relu', kernel_regularizer=regularizers.l2(0.01), input_shape=(10,)),\n",
    "    Dropout(rate =0.3),\n",
    "    Dense(1000, activation='relu', kernel_regularizer=regularizers.l2(0.01)),\n",
    "    Dropout(rate=0.3),\n",
    "    Dense(1000, activation='relu', kernel_regularizer=regularizers.l2(0.01)),\n",
    "    Dropout(rate=0.3),\n",
    "    Dense(1000, activation='relu', kernel_regularizer=regularizers.l2(0.01)),\n",
    "    Dropout(rate=0.3),\n",
    "    Dense(1, activation='sigmoid', kernel_regularizer=regularizers.l2(0.01)),\n",
    "])"
   ]
  },
  {
   "cell_type": "markdown",
   "metadata": {},
   "source": [
    "#### Dropout --> This means that the neurons in the previous layer has a probability of 0.3 in dropping out during training"
   ]
  },
  {
   "cell_type": "markdown",
   "metadata": {},
   "source": [
    "Compile the model"
   ]
  },
  {
   "cell_type": "code",
   "execution_count": 36,
   "metadata": {},
   "outputs": [],
   "source": [
    "model_3.compile(optimizer='adam',loss='binary_crossentropy',metrics=['accuracy'])"
   ]
  },
  {
   "cell_type": "markdown",
   "metadata": {},
   "source": [
    "Train the model"
   ]
  },
  {
   "cell_type": "code",
   "execution_count": 37,
   "metadata": {},
   "outputs": [
    {
     "name": "stdout",
     "output_type": "stream",
     "text": [
      "Train on 1022 samples, validate on 219 samples\n",
      "Epoch 1/100\n",
      "1022/1022 [==============================] - 1s 552us/step - loss: 0.2856 - acc: 0.8855 - val_loss: 0.2761 - val_acc: 0.8858\n",
      "Epoch 2/100\n",
      "1022/1022 [==============================] - 0s 58us/step - loss: 0.2860 - acc: 0.8894 - val_loss: 0.2764 - val_acc: 0.8995\n",
      "Epoch 3/100\n",
      "1022/1022 [==============================] - 0s 73us/step - loss: 0.2848 - acc: 0.8924 - val_loss: 0.2751 - val_acc: 0.8995\n",
      "Epoch 4/100\n",
      "1022/1022 [==============================] - 0s 75us/step - loss: 0.2840 - acc: 0.8865 - val_loss: 0.2771 - val_acc: 0.9041\n",
      "Epoch 5/100\n",
      "1022/1022 [==============================] - 0s 63us/step - loss: 0.2839 - acc: 0.8894 - val_loss: 0.2749 - val_acc: 0.8995\n",
      "Epoch 6/100\n",
      "1022/1022 [==============================] - 0s 54us/step - loss: 0.2836 - acc: 0.8885 - val_loss: 0.2750 - val_acc: 0.9041\n",
      "Epoch 7/100\n",
      "1022/1022 [==============================] - 0s 61us/step - loss: 0.2829 - acc: 0.8885 - val_loss: 0.2729 - val_acc: 0.8995\n",
      "Epoch 8/100\n",
      "1022/1022 [==============================] - 0s 55us/step - loss: 0.2821 - acc: 0.8875 - val_loss: 0.2736 - val_acc: 0.9041\n",
      "Epoch 9/100\n",
      "1022/1022 [==============================] - 0s 81us/step - loss: 0.2818 - acc: 0.8865 - val_loss: 0.2713 - val_acc: 0.8995\n",
      "Epoch 10/100\n",
      "1022/1022 [==============================] - 0s 80us/step - loss: 0.2803 - acc: 0.8894 - val_loss: 0.2735 - val_acc: 0.9041\n",
      "Epoch 11/100\n",
      "1022/1022 [==============================] - 0s 96us/step - loss: 0.2805 - acc: 0.8865 - val_loss: 0.2720 - val_acc: 0.9041\n",
      "Epoch 12/100\n",
      "1022/1022 [==============================] - 0s 86us/step - loss: 0.2797 - acc: 0.8894 - val_loss: 0.2701 - val_acc: 0.8995\n",
      "Epoch 13/100\n",
      "1022/1022 [==============================] - 0s 52us/step - loss: 0.2784 - acc: 0.8885 - val_loss: 0.2736 - val_acc: 0.8995\n",
      "Epoch 14/100\n",
      "1022/1022 [==============================] - 0s 85us/step - loss: 0.2796 - acc: 0.8875 - val_loss: 0.2686 - val_acc: 0.8995\n",
      "Epoch 15/100\n",
      "1022/1022 [==============================] - 0s 87us/step - loss: 0.2789 - acc: 0.8875 - val_loss: 0.2697 - val_acc: 0.9041\n",
      "Epoch 16/100\n",
      "1022/1022 [==============================] - 0s 65us/step - loss: 0.2781 - acc: 0.8865 - val_loss: 0.2679 - val_acc: 0.8995\n",
      "Epoch 17/100\n",
      "1022/1022 [==============================] - 0s 85us/step - loss: 0.2777 - acc: 0.8914 - val_loss: 0.2683 - val_acc: 0.9041\n",
      "Epoch 18/100\n",
      "1022/1022 [==============================] - 0s 77us/step - loss: 0.2771 - acc: 0.8933 - val_loss: 0.2705 - val_acc: 0.8995\n",
      "Epoch 19/100\n",
      "1022/1022 [==============================] - 0s 81us/step - loss: 0.2776 - acc: 0.8855 - val_loss: 0.2663 - val_acc: 0.8995\n",
      "Epoch 20/100\n",
      "1022/1022 [==============================] - 0s 67us/step - loss: 0.2769 - acc: 0.8904 - val_loss: 0.2658 - val_acc: 0.9041\n",
      "Epoch 21/100\n",
      "1022/1022 [==============================] - 0s 47us/step - loss: 0.2760 - acc: 0.8885 - val_loss: 0.2667 - val_acc: 0.9041\n",
      "Epoch 22/100\n",
      "1022/1022 [==============================] - 0s 47us/step - loss: 0.2755 - acc: 0.8914 - val_loss: 0.2647 - val_acc: 0.9041\n",
      "Epoch 23/100\n",
      "1022/1022 [==============================] - 0s 67us/step - loss: 0.2753 - acc: 0.8885 - val_loss: 0.2670 - val_acc: 0.8995\n",
      "Epoch 24/100\n",
      "1022/1022 [==============================] - 0s 66us/step - loss: 0.2750 - acc: 0.8904 - val_loss: 0.2637 - val_acc: 0.9041\n",
      "Epoch 25/100\n",
      "1022/1022 [==============================] - 0s 63us/step - loss: 0.2739 - acc: 0.8875 - val_loss: 0.2630 - val_acc: 0.8950\n",
      "Epoch 26/100\n",
      "1022/1022 [==============================] - 0s 47us/step - loss: 0.2741 - acc: 0.8885 - val_loss: 0.2659 - val_acc: 0.8995\n",
      "Epoch 27/100\n",
      "1022/1022 [==============================] - 0s 67us/step - loss: 0.2737 - acc: 0.8904 - val_loss: 0.2622 - val_acc: 0.9041\n",
      "Epoch 28/100\n",
      "1022/1022 [==============================] - 0s 67us/step - loss: 0.2729 - acc: 0.8924 - val_loss: 0.2665 - val_acc: 0.8995\n",
      "Epoch 29/100\n",
      "1022/1022 [==============================] - 0s 67us/step - loss: 0.2733 - acc: 0.8875 - val_loss: 0.2614 - val_acc: 0.9041\n",
      "Epoch 30/100\n",
      "1022/1022 [==============================] - 0s 51us/step - loss: 0.2728 - acc: 0.8904 - val_loss: 0.2632 - val_acc: 0.8995\n",
      "Epoch 31/100\n",
      "1022/1022 [==============================] - 0s 47us/step - loss: 0.2726 - acc: 0.8914 - val_loss: 0.2615 - val_acc: 0.9041\n",
      "Epoch 32/100\n",
      "1022/1022 [==============================] - 0s 63us/step - loss: 0.2723 - acc: 0.8904 - val_loss: 0.2615 - val_acc: 0.9041\n",
      "Epoch 33/100\n",
      "1022/1022 [==============================] - 0s 51us/step - loss: 0.2721 - acc: 0.8894 - val_loss: 0.2600 - val_acc: 0.9041\n",
      "Epoch 34/100\n",
      "1022/1022 [==============================] - 0s 47us/step - loss: 0.2711 - acc: 0.8904 - val_loss: 0.2626 - val_acc: 0.8995\n",
      "Epoch 35/100\n",
      "1022/1022 [==============================] - 0s 47us/step - loss: 0.2711 - acc: 0.8894 - val_loss: 0.2588 - val_acc: 0.9041\n",
      "Epoch 36/100\n",
      "1022/1022 [==============================] - 0s 51us/step - loss: 0.2708 - acc: 0.8845 - val_loss: 0.2583 - val_acc: 0.9087\n",
      "Epoch 37/100\n",
      "1022/1022 [==============================] - 0s 59us/step - loss: 0.2703 - acc: 0.8904 - val_loss: 0.2589 - val_acc: 0.9041\n",
      "Epoch 38/100\n",
      "1022/1022 [==============================] - 0s 47us/step - loss: 0.2703 - acc: 0.8924 - val_loss: 0.2575 - val_acc: 0.9041\n",
      "Epoch 39/100\n",
      "1022/1022 [==============================] - 0s 47us/step - loss: 0.2696 - acc: 0.8885 - val_loss: 0.2571 - val_acc: 0.9087\n",
      "Epoch 40/100\n",
      "1022/1022 [==============================] - 0s 54us/step - loss: 0.2691 - acc: 0.8894 - val_loss: 0.2569 - val_acc: 0.8950\n",
      "Epoch 41/100\n",
      "1022/1022 [==============================] - 0s 59us/step - loss: 0.2695 - acc: 0.8914 - val_loss: 0.2574 - val_acc: 0.9041\n",
      "Epoch 42/100\n",
      "1022/1022 [==============================] - 0s 47us/step - loss: 0.2687 - acc: 0.8933 - val_loss: 0.2575 - val_acc: 0.9041\n",
      "Epoch 43/100\n",
      "1022/1022 [==============================] - 0s 47us/step - loss: 0.2689 - acc: 0.8924 - val_loss: 0.2588 - val_acc: 0.8995\n",
      "Epoch 44/100\n",
      "1022/1022 [==============================] - 0s 47us/step - loss: 0.2688 - acc: 0.8875 - val_loss: 0.2580 - val_acc: 0.8995\n",
      "Epoch 45/100\n",
      "1022/1022 [==============================] - 0s 51us/step - loss: 0.2673 - acc: 0.8855 - val_loss: 0.2550 - val_acc: 0.9087\n",
      "Epoch 46/100\n",
      "1022/1022 [==============================] - 0s 51us/step - loss: 0.2681 - acc: 0.8865 - val_loss: 0.2551 - val_acc: 0.9087\n",
      "Epoch 47/100\n",
      "1022/1022 [==============================] - 0s 47us/step - loss: 0.2673 - acc: 0.8885 - val_loss: 0.2552 - val_acc: 0.9041\n",
      "Epoch 48/100\n",
      "1022/1022 [==============================] - 0s 47us/step - loss: 0.2669 - acc: 0.8875 - val_loss: 0.2567 - val_acc: 0.8995\n",
      "Epoch 49/100\n",
      "1022/1022 [==============================] - 0s 55us/step - loss: 0.2677 - acc: 0.8924 - val_loss: 0.2547 - val_acc: 0.9041\n",
      "Epoch 50/100\n",
      "1022/1022 [==============================] - 0s 47us/step - loss: 0.2671 - acc: 0.8875 - val_loss: 0.2551 - val_acc: 0.8995\n",
      "Epoch 51/100\n",
      "1022/1022 [==============================] - 0s 47us/step - loss: 0.2670 - acc: 0.8904 - val_loss: 0.2557 - val_acc: 0.8995\n",
      "Epoch 52/100\n",
      "1022/1022 [==============================] - 0s 51us/step - loss: 0.2661 - acc: 0.8865 - val_loss: 0.2559 - val_acc: 0.8995\n",
      "Epoch 53/100\n",
      "1022/1022 [==============================] - 0s 59us/step - loss: 0.2666 - acc: 0.8904 - val_loss: 0.2525 - val_acc: 0.9087\n",
      "Epoch 54/100\n",
      "1022/1022 [==============================] - 0s 47us/step - loss: 0.2659 - acc: 0.8904 - val_loss: 0.2527 - val_acc: 0.9087\n",
      "Epoch 55/100\n",
      "1022/1022 [==============================] - 0s 47us/step - loss: 0.2658 - acc: 0.8894 - val_loss: 0.2533 - val_acc: 0.8995\n",
      "Epoch 56/100\n",
      "1022/1022 [==============================] - 0s 51us/step - loss: 0.2647 - acc: 0.8924 - val_loss: 0.2517 - val_acc: 0.9087\n",
      "Epoch 57/100\n",
      "1022/1022 [==============================] - 0s 51us/step - loss: 0.2647 - acc: 0.8894 - val_loss: 0.2515 - val_acc: 0.9087\n",
      "Epoch 58/100\n",
      "1022/1022 [==============================] - 0s 55us/step - loss: 0.2643 - acc: 0.8914 - val_loss: 0.2544 - val_acc: 0.8995\n",
      "Epoch 59/100\n",
      "1022/1022 [==============================] - 0s 51us/step - loss: 0.2640 - acc: 0.8924 - val_loss: 0.2539 - val_acc: 0.8995\n",
      "Epoch 60/100\n"
     ]
    },
    {
     "name": "stdout",
     "output_type": "stream",
     "text": [
      "1022/1022 [==============================] - 0s 67us/step - loss: 0.2644 - acc: 0.8933 - val_loss: 0.2514 - val_acc: 0.9041\n",
      "Epoch 61/100\n",
      "1022/1022 [==============================] - 0s 47us/step - loss: 0.2630 - acc: 0.8894 - val_loss: 0.2570 - val_acc: 0.8995\n",
      "Epoch 62/100\n",
      "1022/1022 [==============================] - 0s 55us/step - loss: 0.2641 - acc: 0.8914 - val_loss: 0.2505 - val_acc: 0.9041\n",
      "Epoch 63/100\n",
      "1022/1022 [==============================] - 0s 42us/step - loss: 0.2638 - acc: 0.8914 - val_loss: 0.2501 - val_acc: 0.9087\n",
      "Epoch 64/100\n",
      "1022/1022 [==============================] - 0s 42us/step - loss: 0.2634 - acc: 0.8924 - val_loss: 0.2511 - val_acc: 0.8995\n",
      "Epoch 65/100\n",
      "1022/1022 [==============================] - 0s 66us/step - loss: 0.2628 - acc: 0.8904 - val_loss: 0.2527 - val_acc: 0.8995\n",
      "Epoch 66/100\n",
      "1022/1022 [==============================] - 0s 46us/step - loss: 0.2633 - acc: 0.8914 - val_loss: 0.2505 - val_acc: 0.8995\n",
      "Epoch 67/100\n",
      "1022/1022 [==============================] - 0s 52us/step - loss: 0.2629 - acc: 0.8933 - val_loss: 0.2487 - val_acc: 0.9087\n",
      "Epoch 68/100\n",
      "1022/1022 [==============================] - 0s 46us/step - loss: 0.2636 - acc: 0.8933 - val_loss: 0.2489 - val_acc: 0.9041\n",
      "Epoch 69/100\n",
      "1022/1022 [==============================] - 0s 66us/step - loss: 0.2620 - acc: 0.8924 - val_loss: 0.2521 - val_acc: 0.8995\n",
      "Epoch 70/100\n",
      "1022/1022 [==============================] - 0s 45us/step - loss: 0.2619 - acc: 0.8904 - val_loss: 0.2488 - val_acc: 0.9041\n",
      "Epoch 71/100\n",
      "1022/1022 [==============================] - 0s 55us/step - loss: 0.2604 - acc: 0.8943 - val_loss: 0.2489 - val_acc: 0.8904\n",
      "Epoch 72/100\n",
      "1022/1022 [==============================] - 0s 46us/step - loss: 0.2617 - acc: 0.8943 - val_loss: 0.2476 - val_acc: 0.9041\n",
      "Epoch 73/100\n",
      "1022/1022 [==============================] - 0s 50us/step - loss: 0.2616 - acc: 0.8904 - val_loss: 0.2523 - val_acc: 0.8995\n",
      "Epoch 74/100\n",
      "1022/1022 [==============================] - 0s 48us/step - loss: 0.2603 - acc: 0.8924 - val_loss: 0.2475 - val_acc: 0.9041\n",
      "Epoch 75/100\n",
      "1022/1022 [==============================] - 0s 42us/step - loss: 0.2617 - acc: 0.8933 - val_loss: 0.2492 - val_acc: 0.8995\n",
      "Epoch 76/100\n",
      "1022/1022 [==============================] - 0s 44us/step - loss: 0.2608 - acc: 0.8953 - val_loss: 0.2466 - val_acc: 0.9087\n",
      "Epoch 77/100\n",
      "1022/1022 [==============================] - 0s 45us/step - loss: 0.2606 - acc: 0.8933 - val_loss: 0.2466 - val_acc: 0.9041\n",
      "Epoch 78/100\n",
      "1022/1022 [==============================] - 0s 64us/step - loss: 0.2597 - acc: 0.8943 - val_loss: 0.2462 - val_acc: 0.9087\n",
      "Epoch 79/100\n",
      "1022/1022 [==============================] - 0s 38us/step - loss: 0.2598 - acc: 0.8943 - val_loss: 0.2478 - val_acc: 0.9041\n",
      "Epoch 80/100\n",
      "1022/1022 [==============================] - 0s 40us/step - loss: 0.2601 - acc: 0.8963 - val_loss: 0.2457 - val_acc: 0.9087\n",
      "Epoch 81/100\n",
      "1022/1022 [==============================] - 0s 57us/step - loss: 0.2598 - acc: 0.8943 - val_loss: 0.2454 - val_acc: 0.9087\n",
      "Epoch 82/100\n",
      "1022/1022 [==============================] - 0s 51us/step - loss: 0.2601 - acc: 0.8943 - val_loss: 0.2460 - val_acc: 0.9041\n",
      "Epoch 83/100\n",
      "1022/1022 [==============================] - 0s 48us/step - loss: 0.2593 - acc: 0.8963 - val_loss: 0.2450 - val_acc: 0.9041\n",
      "Epoch 84/100\n",
      "1022/1022 [==============================] - 0s 49us/step - loss: 0.2604 - acc: 0.8924 - val_loss: 0.2460 - val_acc: 0.9041\n",
      "Epoch 85/100\n",
      "1022/1022 [==============================] - 0s 47us/step - loss: 0.2600 - acc: 0.8904 - val_loss: 0.2458 - val_acc: 0.9041\n",
      "Epoch 86/100\n",
      "1022/1022 [==============================] - 0s 52us/step - loss: 0.2591 - acc: 0.8933 - val_loss: 0.2462 - val_acc: 0.9041\n",
      "Epoch 87/100\n",
      "1022/1022 [==============================] - 0s 53us/step - loss: 0.2586 - acc: 0.8973 - val_loss: 0.2461 - val_acc: 0.9041\n",
      "Epoch 88/100\n",
      "1022/1022 [==============================] - 0s 46us/step - loss: 0.2592 - acc: 0.8953 - val_loss: 0.2442 - val_acc: 0.9041\n",
      "Epoch 89/100\n",
      "1022/1022 [==============================] - 0s 47us/step - loss: 0.2592 - acc: 0.8973 - val_loss: 0.2464 - val_acc: 0.9041\n",
      "Epoch 90/100\n",
      "1022/1022 [==============================] - 0s 48us/step - loss: 0.2583 - acc: 0.8943 - val_loss: 0.2441 - val_acc: 0.9041\n",
      "Epoch 91/100\n",
      "1022/1022 [==============================] - 0s 49us/step - loss: 0.2581 - acc: 0.8973 - val_loss: 0.2468 - val_acc: 0.8995\n",
      "Epoch 92/100\n",
      "1022/1022 [==============================] - 0s 48us/step - loss: 0.2589 - acc: 0.8973 - val_loss: 0.2446 - val_acc: 0.9041\n",
      "Epoch 93/100\n",
      "1022/1022 [==============================] - 0s 67us/step - loss: 0.2585 - acc: 0.8933 - val_loss: 0.2436 - val_acc: 0.9041\n",
      "Epoch 94/100\n",
      "1022/1022 [==============================] - 0s 55us/step - loss: 0.2564 - acc: 0.8992 - val_loss: 0.2430 - val_acc: 0.9041\n",
      "Epoch 95/100\n",
      "1022/1022 [==============================] - 0s 48us/step - loss: 0.2577 - acc: 0.8894 - val_loss: 0.2440 - val_acc: 0.9041\n",
      "Epoch 96/100\n",
      "1022/1022 [==============================] - 0s 46us/step - loss: 0.2576 - acc: 0.8982 - val_loss: 0.2458 - val_acc: 0.9087\n",
      "Epoch 97/100\n",
      "1022/1022 [==============================] - 0s 76us/step - loss: 0.2582 - acc: 0.8943 - val_loss: 0.2431 - val_acc: 0.9041\n",
      "Epoch 98/100\n",
      "1022/1022 [==============================] - 0s 51us/step - loss: 0.2579 - acc: 0.8953 - val_loss: 0.2429 - val_acc: 0.9041\n",
      "Epoch 99/100\n",
      "1022/1022 [==============================] - 0s 64us/step - loss: 0.2570 - acc: 0.8933 - val_loss: 0.2461 - val_acc: 0.8995\n",
      "Epoch 100/100\n",
      "1022/1022 [==============================] - 0s 70us/step - loss: 0.2575 - acc: 0.8963 - val_loss: 0.2424 - val_acc: 0.9041\n"
     ]
    }
   ],
   "source": [
    "hist_3 = model.fit(X_train,Y_train,batch_size=32,epochs=100,validation_data=(X_val,Y_val))"
   ]
  },
  {
   "cell_type": "code",
   "execution_count": 51,
   "metadata": {},
   "outputs": [
    {
     "name": "stdout",
     "output_type": "stream",
     "text": [
      "Epoch 1/100\n",
      "1022/1022 [==============================] - 0s 76us/step - loss: 0.2565 - acc: 0.8992\n",
      "Epoch 2/100\n",
      "1022/1022 [==============================] - 0s 64us/step - loss: 0.2572 - acc: 0.8982\n",
      "Epoch 3/100\n",
      "1022/1022 [==============================] - 0s 73us/step - loss: 0.2558 - acc: 0.8933\n",
      "Epoch 4/100\n",
      "1022/1022 [==============================] - 0s 86us/step - loss: 0.2563 - acc: 0.8943\n",
      "Epoch 5/100\n",
      "1022/1022 [==============================] - 0s 78us/step - loss: 0.2561 - acc: 0.8953\n",
      "Epoch 6/100\n",
      "1022/1022 [==============================] - 0s 59us/step - loss: 0.2559 - acc: 0.8973\n",
      "Epoch 7/100\n",
      "1022/1022 [==============================] - 0s 62us/step - loss: 0.2566 - acc: 0.8973\n",
      "Epoch 8/100\n",
      "1022/1022 [==============================] - 0s 68us/step - loss: 0.2558 - acc: 0.8982\n",
      "Epoch 9/100\n",
      "1022/1022 [==============================] - 0s 50us/step - loss: 0.2550 - acc: 0.8963\n",
      "Epoch 10/100\n",
      "1022/1022 [==============================] - 0s 77us/step - loss: 0.2557 - acc: 0.8982\n",
      "Epoch 11/100\n",
      "1022/1022 [==============================] - 0s 64us/step - loss: 0.2545 - acc: 0.8963\n",
      "Epoch 12/100\n",
      "1022/1022 [==============================] - 0s 47us/step - loss: 0.2560 - acc: 0.8953\n",
      "Epoch 13/100\n",
      "1022/1022 [==============================] - 0s 59us/step - loss: 0.2551 - acc: 0.8982\n",
      "Epoch 14/100\n",
      "1022/1022 [==============================] - 0s 76us/step - loss: 0.2547 - acc: 0.8992\n",
      "Epoch 15/100\n",
      "1022/1022 [==============================] - 0s 52us/step - loss: 0.2556 - acc: 0.8973\n",
      "Epoch 16/100\n",
      "1022/1022 [==============================] - 0s 71us/step - loss: 0.2545 - acc: 0.8953\n",
      "Epoch 17/100\n",
      "1022/1022 [==============================] - 0s 42us/step - loss: 0.2541 - acc: 0.8943\n",
      "Epoch 18/100\n",
      "1022/1022 [==============================] - 0s 61us/step - loss: 0.2541 - acc: 0.8992\n",
      "Epoch 19/100\n",
      "1022/1022 [==============================] - 0s 83us/step - loss: 0.2545 - acc: 0.8973\n",
      "Epoch 20/100\n",
      "1022/1022 [==============================] - 0s 88us/step - loss: 0.2547 - acc: 0.8953\n",
      "Epoch 21/100\n",
      "1022/1022 [==============================] - 0s 106us/step - loss: 0.2545 - acc: 0.8973\n",
      "Epoch 22/100\n",
      "1022/1022 [==============================] - 0s 51us/step - loss: 0.2524 - acc: 0.8963\n",
      "Epoch 23/100\n",
      "1022/1022 [==============================] - 0s 84us/step - loss: 0.2539 - acc: 0.8982\n",
      "Epoch 24/100\n",
      "1022/1022 [==============================] - 0s 72us/step - loss: 0.2544 - acc: 0.8982\n",
      "Epoch 25/100\n",
      "1022/1022 [==============================] - 0s 60us/step - loss: 0.2541 - acc: 0.8953\n",
      "Epoch 26/100\n",
      "1022/1022 [==============================] - 0s 70us/step - loss: 0.2529 - acc: 0.8982\n",
      "Epoch 27/100\n",
      "1022/1022 [==============================] - 0s 68us/step - loss: 0.2538 - acc: 0.8992\n",
      "Epoch 28/100\n",
      "1022/1022 [==============================] - 0s 44us/step - loss: 0.2531 - acc: 0.9002\n",
      "Epoch 29/100\n",
      "1022/1022 [==============================] - 0s 73us/step - loss: 0.2536 - acc: 0.9022\n",
      "Epoch 30/100\n",
      "1022/1022 [==============================] - 0s 75us/step - loss: 0.2517 - acc: 0.8992\n",
      "Epoch 31/100\n",
      "1022/1022 [==============================] - 0s 73us/step - loss: 0.2532 - acc: 0.8982\n",
      "Epoch 32/100\n",
      "1022/1022 [==============================] - 0s 67us/step - loss: 0.2527 - acc: 0.9031\n",
      "Epoch 33/100\n",
      "1022/1022 [==============================] - 0s 67us/step - loss: 0.2529 - acc: 0.8992\n",
      "Epoch 34/100\n",
      "1022/1022 [==============================] - 0s 60us/step - loss: 0.2532 - acc: 0.8973\n",
      "Epoch 35/100\n",
      "1022/1022 [==============================] - 0s 70us/step - loss: 0.2530 - acc: 0.8982\n",
      "Epoch 36/100\n",
      "1022/1022 [==============================] - 0s 53us/step - loss: 0.2511 - acc: 0.8992\n",
      "Epoch 37/100\n",
      "1022/1022 [==============================] - 0s 75us/step - loss: 0.2521 - acc: 0.9012\n",
      "Epoch 38/100\n",
      "1022/1022 [==============================] - 0s 47us/step - loss: 0.2523 - acc: 0.8992\n",
      "Epoch 39/100\n",
      "1022/1022 [==============================] - 0s 83us/step - loss: 0.2533 - acc: 0.8973\n",
      "Epoch 40/100\n",
      "1022/1022 [==============================] - 0s 65us/step - loss: 0.2513 - acc: 0.8992\n",
      "Epoch 41/100\n",
      "1022/1022 [==============================] - 0s 60us/step - loss: 0.2513 - acc: 0.8992\n",
      "Epoch 42/100\n",
      "1022/1022 [==============================] - 0s 63us/step - loss: 0.2518 - acc: 0.8973\n",
      "Epoch 43/100\n",
      "1022/1022 [==============================] - 0s 74us/step - loss: 0.2516 - acc: 0.9022\n",
      "Epoch 44/100\n",
      "1022/1022 [==============================] - 0s 69us/step - loss: 0.2515 - acc: 0.8982\n",
      "Epoch 45/100\n",
      "1022/1022 [==============================] - 0s 65us/step - loss: 0.2510 - acc: 0.8943\n",
      "Epoch 46/100\n",
      "1022/1022 [==============================] - 0s 67us/step - loss: 0.2503 - acc: 0.8982\n",
      "Epoch 47/100\n",
      "1022/1022 [==============================] - 0s 67us/step - loss: 0.2506 - acc: 0.9051\n",
      "Epoch 48/100\n",
      "1022/1022 [==============================] - 0s 55us/step - loss: 0.2517 - acc: 0.8982\n",
      "Epoch 49/100\n",
      "1022/1022 [==============================] - 0s 66us/step - loss: 0.2510 - acc: 0.8992\n",
      "Epoch 50/100\n",
      "1022/1022 [==============================] - 0s 70us/step - loss: 0.2507 - acc: 0.9012\n",
      "Epoch 51/100\n",
      "1022/1022 [==============================] - 0s 74us/step - loss: 0.2509 - acc: 0.9012\n",
      "Epoch 52/100\n",
      "1022/1022 [==============================] - 0s 78us/step - loss: 0.2513 - acc: 0.8953\n",
      "Epoch 53/100\n",
      "1022/1022 [==============================] - 0s 67us/step - loss: 0.2508 - acc: 0.9041\n",
      "Epoch 54/100\n",
      "1022/1022 [==============================] - 0s 70us/step - loss: 0.2497 - acc: 0.9012\n",
      "Epoch 55/100\n",
      "1022/1022 [==============================] - 0s 70us/step - loss: 0.2509 - acc: 0.8992\n",
      "Epoch 56/100\n",
      "1022/1022 [==============================] - 0s 67us/step - loss: 0.2499 - acc: 0.9002\n",
      "Epoch 57/100\n",
      "1022/1022 [==============================] - 0s 70us/step - loss: 0.2503 - acc: 0.9002\n",
      "Epoch 58/100\n",
      "1022/1022 [==============================] - 0s 63us/step - loss: 0.2504 - acc: 0.9002\n",
      "Epoch 59/100\n",
      "1022/1022 [==============================] - 0s 67us/step - loss: 0.2494 - acc: 0.9002\n",
      "Epoch 60/100\n",
      "1022/1022 [==============================] - 0s 67us/step - loss: 0.2490 - acc: 0.8982\n",
      "Epoch 61/100\n",
      "1022/1022 [==============================] - 0s 45us/step - loss: 0.2497 - acc: 0.9002\n",
      "Epoch 62/100\n",
      "1022/1022 [==============================] - 0s 63us/step - loss: 0.2500 - acc: 0.9022\n",
      "Epoch 63/100\n",
      "1022/1022 [==============================] - 0s 55us/step - loss: 0.2490 - acc: 0.8982\n",
      "Epoch 64/100\n",
      "1022/1022 [==============================] - 0s 59us/step - loss: 0.2498 - acc: 0.9002\n",
      "Epoch 65/100\n",
      "1022/1022 [==============================] - 0s 63us/step - loss: 0.2497 - acc: 0.8992\n",
      "Epoch 66/100\n",
      "1022/1022 [==============================] - 0s 64us/step - loss: 0.2495 - acc: 0.9022\n",
      "Epoch 67/100\n",
      "1022/1022 [==============================] - 0s 70us/step - loss: 0.2484 - acc: 0.9002\n",
      "Epoch 68/100\n",
      "1022/1022 [==============================] - 0s 67us/step - loss: 0.2491 - acc: 0.8992\n",
      "Epoch 69/100\n",
      "1022/1022 [==============================] - 0s 70us/step - loss: 0.2477 - acc: 0.9002\n",
      "Epoch 70/100\n",
      "1022/1022 [==============================] - 0s 63us/step - loss: 0.2491 - acc: 0.8982\n",
      "Epoch 71/100\n",
      "1022/1022 [==============================] - 0s 47us/step - loss: 0.2485 - acc: 0.8992\n",
      "Epoch 72/100\n",
      "1022/1022 [==============================] - 0s 59us/step - loss: 0.2484 - acc: 0.8982\n",
      "Epoch 73/100\n",
      "1022/1022 [==============================] - 0s 55us/step - loss: 0.2478 - acc: 0.8992\n",
      "Epoch 74/100\n",
      "1022/1022 [==============================] - 0s 70us/step - loss: 0.2477 - acc: 0.9041\n",
      "Epoch 75/100\n",
      "1022/1022 [==============================] - 0s 67us/step - loss: 0.2490 - acc: 0.8973\n",
      "Epoch 76/100\n",
      "1022/1022 [==============================] - 0s 63us/step - loss: 0.2480 - acc: 0.9022\n",
      "Epoch 77/100\n",
      "1022/1022 [==============================] - 0s 63us/step - loss: 0.2483 - acc: 0.9041\n",
      "Epoch 78/100\n",
      "1022/1022 [==============================] - 0s 67us/step - loss: 0.2477 - acc: 0.9031\n",
      "Epoch 79/100\n",
      "1022/1022 [==============================] - 0s 63us/step - loss: 0.2490 - acc: 0.9002\n",
      "Epoch 80/100\n",
      "1022/1022 [==============================] - 0s 72us/step - loss: 0.2475 - acc: 0.9002\n",
      "Epoch 81/100\n",
      "1022/1022 [==============================] - 0s 63us/step - loss: 0.2473 - acc: 0.9012\n",
      "Epoch 82/100\n",
      "1022/1022 [==============================] - 0s 59us/step - loss: 0.2487 - acc: 0.9002\n",
      "Epoch 83/100\n"
     ]
    },
    {
     "name": "stdout",
     "output_type": "stream",
     "text": [
      "1022/1022 [==============================] - 0s 67us/step - loss: 0.2467 - acc: 0.9022\n",
      "Epoch 84/100\n",
      "1022/1022 [==============================] - 0s 61us/step - loss: 0.2478 - acc: 0.9012\n",
      "Epoch 85/100\n",
      "1022/1022 [==============================] - 0s 63us/step - loss: 0.2474 - acc: 0.8982\n",
      "Epoch 86/100\n",
      "1022/1022 [==============================] - 0s 52us/step - loss: 0.2480 - acc: 0.8953\n",
      "Epoch 87/100\n",
      "1022/1022 [==============================] - 0s 58us/step - loss: 0.2477 - acc: 0.8982\n",
      "Epoch 88/100\n",
      "1022/1022 [==============================] - 0s 53us/step - loss: 0.2465 - acc: 0.9031\n",
      "Epoch 89/100\n",
      "1022/1022 [==============================] - 0s 52us/step - loss: 0.2471 - acc: 0.8982\n",
      "Epoch 90/100\n",
      "1022/1022 [==============================] - 0s 53us/step - loss: 0.2459 - acc: 0.9012\n",
      "Epoch 91/100\n",
      "1022/1022 [==============================] - 0s 60us/step - loss: 0.2469 - acc: 0.9012\n",
      "Epoch 92/100\n",
      "1022/1022 [==============================] - 0s 59us/step - loss: 0.2468 - acc: 0.9012\n",
      "Epoch 93/100\n",
      "1022/1022 [==============================] - 0s 47us/step - loss: 0.2469 - acc: 0.9012\n",
      "Epoch 94/100\n",
      "1022/1022 [==============================] - 0s 67us/step - loss: 0.2477 - acc: 0.8973\n",
      "Epoch 95/100\n",
      "1022/1022 [==============================] - 0s 43us/step - loss: 0.2464 - acc: 0.9061\n",
      "Epoch 96/100\n",
      "1022/1022 [==============================] - 0s 68us/step - loss: 0.2450 - acc: 0.9022\n",
      "Epoch 97/100\n",
      "1022/1022 [==============================] - 0s 45us/step - loss: 0.2464 - acc: 0.9041\n",
      "Epoch 98/100\n",
      "1022/1022 [==============================] - 0s 54us/step - loss: 0.2466 - acc: 0.8992\n",
      "Epoch 99/100\n",
      "1022/1022 [==============================] - 0s 50us/step - loss: 0.2468 - acc: 0.9022\n",
      "Epoch 100/100\n",
      "1022/1022 [==============================] - 0s 46us/step - loss: 0.2450 - acc: 0.9031\n"
     ]
    },
    {
     "data": {
      "text/plain": [
       "<keras.callbacks.History at 0x23be63fd1d0>"
      ]
     },
     "execution_count": 51,
     "metadata": {},
     "output_type": "execute_result"
    }
   ],
   "source": [
    "model.fit(X_train,Y_train,batch_size=32,epochs=100)"
   ]
  },
  {
   "cell_type": "code",
   "execution_count": 47,
   "metadata": {},
   "outputs": [
    {
     "data": {
      "text/plain": [
       "(219, 10)"
      ]
     },
     "execution_count": 47,
     "metadata": {},
     "output_type": "execute_result"
    }
   ],
   "source": [
    "X_val.shape"
   ]
  },
  {
   "cell_type": "code",
   "execution_count": 48,
   "metadata": {},
   "outputs": [
    {
     "data": {
      "text/plain": [
       "(219, 10)"
      ]
     },
     "execution_count": 48,
     "metadata": {},
     "output_type": "execute_result"
    }
   ],
   "source": [
    "X_test.shape"
   ]
  },
  {
   "cell_type": "code",
   "execution_count": 53,
   "metadata": {},
   "outputs": [],
   "source": [
    "predictions = model.predict(X_test,batch_size=32, verbose=2)"
   ]
  },
  {
   "cell_type": "code",
   "execution_count": 64,
   "metadata": {},
   "outputs": [],
   "source": [
    "Y_pred = []\n",
    "for i in predictions:\n",
    "    if i[0] > 0.5:\n",
    "        Y_pred.append(1)\n",
    "    else:\n",
    "        Y_pred.append(0)"
   ]
  },
  {
   "cell_type": "code",
   "execution_count": 65,
   "metadata": {},
   "outputs": [
    {
     "data": {
      "text/plain": [
       "219"
      ]
     },
     "execution_count": 65,
     "metadata": {},
     "output_type": "execute_result"
    }
   ],
   "source": [
    "len(Y_pred)"
   ]
  },
  {
   "cell_type": "code",
   "execution_count": 67,
   "metadata": {},
   "outputs": [
    {
     "name": "stdout",
     "output_type": "stream",
     "text": [
      "87.21461187214612\n"
     ]
    }
   ],
   "source": [
    "import numpy as np\n",
    "from sklearn.metrics import accuracy_score\n",
    "print(accuracy_score(Y_test,Y_pred)*100)"
   ]
  },
  {
   "cell_type": "code",
   "execution_count": 68,
   "metadata": {},
   "outputs": [],
   "source": [
    "df_pred = pd.DataFrame({'Actual_price':Y_test,'Predicted_Price':Y_pred})"
   ]
  },
  {
   "cell_type": "code",
   "execution_count": 69,
   "metadata": {},
   "outputs": [
    {
     "data": {
      "text/html": [
       "<div>\n",
       "<style scoped>\n",
       "    .dataframe tbody tr th:only-of-type {\n",
       "        vertical-align: middle;\n",
       "    }\n",
       "\n",
       "    .dataframe tbody tr th {\n",
       "        vertical-align: top;\n",
       "    }\n",
       "\n",
       "    .dataframe thead th {\n",
       "        text-align: right;\n",
       "    }\n",
       "</style>\n",
       "<table border=\"1\" class=\"dataframe\">\n",
       "  <thead>\n",
       "    <tr style=\"text-align: right;\">\n",
       "      <th></th>\n",
       "      <th>Actual_price</th>\n",
       "      <th>Predicted_Price</th>\n",
       "    </tr>\n",
       "  </thead>\n",
       "  <tbody>\n",
       "    <tr>\n",
       "      <th>0</th>\n",
       "      <td>0</td>\n",
       "      <td>0</td>\n",
       "    </tr>\n",
       "    <tr>\n",
       "      <th>1</th>\n",
       "      <td>0</td>\n",
       "      <td>0</td>\n",
       "    </tr>\n",
       "    <tr>\n",
       "      <th>2</th>\n",
       "      <td>0</td>\n",
       "      <td>0</td>\n",
       "    </tr>\n",
       "    <tr>\n",
       "      <th>3</th>\n",
       "      <td>1</td>\n",
       "      <td>1</td>\n",
       "    </tr>\n",
       "    <tr>\n",
       "      <th>4</th>\n",
       "      <td>1</td>\n",
       "      <td>1</td>\n",
       "    </tr>\n",
       "  </tbody>\n",
       "</table>\n",
       "</div>"
      ],
      "text/plain": [
       "   Actual_price  Predicted_Price\n",
       "0             0                0\n",
       "1             0                0\n",
       "2             0                0\n",
       "3             1                1\n",
       "4             1                1"
      ]
     },
     "execution_count": 69,
     "metadata": {},
     "output_type": "execute_result"
    }
   ],
   "source": [
    "df_pred.head()"
   ]
  },
  {
   "cell_type": "markdown",
   "metadata": {},
   "source": [
    "the loss is a lot higher at the start, and that’s because we’ve changed our loss function. To plot such that the window is zoomed in between 0 and 1.2 for the loss, we add an additional line of code (plt.ylim) when plotting"
   ]
  },
  {
   "cell_type": "code",
   "execution_count": 38,
   "metadata": {},
   "outputs": [
    {
     "data": {
      "image/png": "[encoded data removed]",
      "text/plain": [
       "<Figure size 432x288 with 1 Axes>"
      ]
     },
     "metadata": {
      "needs_background": "light"
     },
     "output_type": "display_data"
    }
   ],
   "source": [
    "plt.plot(hist_3.history['loss'])\n",
    "plt.plot(hist_3.history['val_loss'])\n",
    "plt.title('Model loss')\n",
    "plt.ylabel('Loss')\n",
    "plt.xlabel('Epoch')\n",
    "plt.legend(['Train', 'Val'], loc='upper right')\n",
    "plt.ylim(top=1.2, bottom=0)\n",
    "plt.show()"
   ]
  },
  {
   "cell_type": "markdown",
   "metadata": {},
   "source": [
    "#### The validation loss much more closely matches our training loss."
   ]
  },
  {
   "cell_type": "code",
   "execution_count": 39,
   "metadata": {},
   "outputs": [
    {
     "data": {
      "image/png": "[encoded data removed]",
      "text/plain": [
       "<Figure size 432x288 with 1 Axes>"
      ]
     },
     "metadata": {
      "needs_background": "light"
     },
     "output_type": "display_data"
    }
   ],
   "source": [
    "plt.plot(hist_3.history['acc'])\n",
    "plt.plot(hist_3.history['val_acc'])\n",
    "plt.title('Model accuracy')\n",
    "plt.ylabel('Accuracy')\n",
    "plt.xlabel('Epoch')\n",
    "plt.legend(['Train', 'Val'], loc='lower right')\n",
    "plt.show()"
   ]
  },
  {
   "cell_type": "markdown",
   "metadata": {},
   "source": [
    "####  The validation accuracy has increased and overfitting has been avoided"
   ]
  },
  {
   "cell_type": "markdown",
   "metadata": {},
   "source": [
    "# CONCLUSION\n",
    "\n",
    "To deal with overfitting, we can code in the following strategies into our model each with about one line of code:\n",
    "\n",
    "* L2 Regularization\n",
    "\n",
    "* Dropout\n",
    "\n",
    "If we visualize the training / validation loss and accuracy, we can see that these additions have helped deal with overfitting!"
   ]
  },
  {
   "cell_type": "code",
   "execution_count": null,
   "metadata": {},
   "outputs": [],
   "source": []
  }
 ],
 "metadata": {
  "kernelspec": {
   "display_name": "Python 3",
   "language": "python",
   "name": "python3"
  },
  "language_info": {
   "codemirror_mode": {
    "name": "ipython",
    "version": 3
   },
   "file_extension": ".py",
   "mimetype": "text/x-python",
   "name": "python",
   "nbconvert_exporter": "python",
   "pygments_lexer": "ipython3",
   "version": "3.7.1"
  }
 },
 "nbformat": 4,
 "nbformat_minor": 2
}
